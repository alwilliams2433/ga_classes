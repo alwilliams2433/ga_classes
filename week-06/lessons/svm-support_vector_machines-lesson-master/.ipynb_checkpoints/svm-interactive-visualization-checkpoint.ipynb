{
 "cells": [
  {
   "cell_type": "markdown",
   "metadata": {},
   "source": [
    "<img src=\"http://imgur.com/1ZcRyrc.png\" style=\"float: left; margin: 20px; height: 55px\">\n",
    "\n",
    "# Visualization of SVM Margins\n",
    "\n",
    "_Authors: Kiefer Katovich (SF)_\n",
    "\n",
    "---\n",
    "\n",
    "This visualization lets you explore how the SVM adjusts its margin to classify points. It is a toy example classifying male vs female using weight and height.\n",
    "\n",
    "There are multiple parameters you can set:\n",
    "\n",
    "    log C: strength of the penalty on misclassified points (widens the margin)\n",
    "    weight diff: mean difference in weight between males and females\n",
    "    height diff: mean difference in height between males and females\n",
    "    weight std: standard deviation of weight, which affects the dispersion across the x-axis\n",
    "    height std: standard deviation of height, which affects the dispersion across the y-axis\n",
    "\n",
    "\n",
    "The black line is the decision boundary. Yellow dashed lines are the margin. Red points are female, blue points are male. If an observation is encircled, it is a support vector that affects the decision boundary.\n"
   ]
  },
  {
   "cell_type": "code",
   "execution_count": 1,
   "metadata": {},
   "outputs": [],
   "source": [
    "import pandas as pd\n",
    "import numpy as np\n",
    "import matplotlib.pyplot as plt\n",
    "import seaborn as sns\n",
    "\n",
    "plt.style.use('fivethirtyeight')\n",
    "\n",
    "from ipywidgets import *\n",
    "from IPython.display import display\n",
    "\n",
    "from sklearn.svm import SVC\n",
    "\n",
    "%matplotlib inline\n",
    "%config InlineBackend.figure_format = 'retina'"
   ]
  },
  {
   "cell_type": "code",
   "execution_count": 2,
   "metadata": {},
   "outputs": [
    {
     "data": {
      "application/vnd.jupyter.widget-view+json": {
       "model_id": "bf34dced194846648d16f135eb5e5949",
       "version_major": 2,
       "version_minor": 0
      },
      "text/html": [
       "<p>Failed to display Jupyter Widget of type <code>interactive</code>.</p>\n",
       "<p>\n",
       "  If you're reading this message in the Jupyter Notebook or JupyterLab Notebook, it may mean\n",
       "  that the widgets JavaScript is still loading. If this message persists, it\n",
       "  likely means that the widgets JavaScript library is either not installed or\n",
       "  not enabled. See the <a href=\"https://ipywidgets.readthedocs.io/en/stable/user_install.html\">Jupyter\n",
       "  Widgets Documentation</a> for setup instructions.\n",
       "</p>\n",
       "<p>\n",
       "  If you're reading this message in another frontend (for example, a static\n",
       "  rendering on GitHub or <a href=\"https://nbviewer.jupyter.org/\">NBViewer</a>),\n",
       "  it may mean that your frontend doesn't currently support widgets.\n",
       "</p>\n"
      ],
      "text/plain": [
       "interactive(children=(FloatSlider(value=-1.5, continuous_update=False, description=u'log C:', max=6.0, min=-6.0), IntSlider(value=50, continuous_update=False, description=u'weight diff:', step=5), IntSlider(value=6, continuous_update=False, description=u'height diff:', max=24, step=2), IntSlider(value=16, continuous_update=False, description=u'weight std:', max=20, min=1), IntSlider(value=4, continuous_update=False, description=u'height std:', max=10, min=1), Output()), _dom_classes=('widget-interact',))"
      ]
     },
     "metadata": {},
     "output_type": "display_data"
    }
   ],
   "source": [
    "import imp\n",
    "plotter = imp.load_source('plotter', './code/svm_plotter.py')\n",
    "from plotter import SVMPlotter\n",
    "\n",
    "svm_plotter = SVMPlotter()\n",
    "svm_plotter.initialize_data(class_n=20)\n",
    "svm_plotter.svm_interact()"
   ]
  },
  {
   "cell_type": "code",
   "execution_count": null,
   "metadata": {},
   "outputs": [],
   "source": []
  }
 ],
 "metadata": {
  "kernelspec": {
   "display_name": "Python 2",
   "language": "python",
   "name": "python2"
  },
  "language_info": {
   "codemirror_mode": {
    "name": "ipython",
    "version": 2
   },
   "file_extension": ".py",
   "mimetype": "text/x-python",
   "name": "python",
   "nbconvert_exporter": "python",
   "pygments_lexer": "ipython2",
   "version": "2.7.14"
  },
  "widgets": {
   "state": {
    "39b46084416b483eab2fcf5903fc87fc": {
     "views": [
      {
       "cell_index": 2
      }
     ]
    }
   },
   "version": "1.2.0"
  }
 },
 "nbformat": 4,
 "nbformat_minor": 1
}
