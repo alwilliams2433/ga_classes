{
 "cells": [
  {
   "cell_type": "markdown",
   "metadata": {},
   "source": [
    "<img src=\"http://imgur.com/1ZcRyrc.png\" style=\"float: left; margin: 20px; height: 55px\">\n",
    "\n",
    "# Automated Data Collection: Lincoln Quotes\n",
    "\n",
    "_Authors: Joseph Nelson (DC)_\n",
    "\n",
    "---\n",
    "\n",
    "For this mini-lab, you are asked to produce a list of all of Lincoln's quotes available on this page: http://www.successories.com/iquote/author/291/abraham-lincoln-quotes/1 \n",
    "\n",
    "Use the `requests` and `BeautifulSoup` libraries in Python.\n",
    "\n",
    "For a bonus, collect all the quotes from each page available on Successories. For instance, you can start from https://www.successories.com/iquote/authors/most or https://www.successories.com/iquote/categories/most."
   ]
  },
  {
   "cell_type": "code",
   "execution_count": 1,
   "metadata": {},
   "outputs": [],
   "source": [
    "import requests\n",
    "from bs4 import BeautifulSoup"
   ]
  },
  {
   "cell_type": "code",
   "execution_count": 2,
   "metadata": {},
   "outputs": [
    {
     "name": "stdout",
     "output_type": "stream",
     "text": [
      "Status Code:  200\n",
      "\n",
      "First part of HTML document fetched as string:\n",
      "\n",
      "<!DOCTYPE html>\n",
      "<html xmlns=\"http://www.w3.org/1999/xhtml\" lang=\"en\">\n",
      "<head>\n",
      "<meta name=\"X-Yottaa-Metrics\" content=\"042134dc00e3/[3,-,1530518547541]\" />\n",
      "<meta name=\"X-Yottaa-Optimizations\" content=\"ob/1000000100001100 si/0411344d2892-1521450253-2517174054 tts/1530518403388 ti/5a0b800f312e587abc25222b ai/5a0b800f312e587abc2521c2\" />\n",
      "<meta name=\"profile.id\" content=\"5a0b800f312e587abc2521c2\" />\n",
      "<meta name=\"tod.id\" content=\"5a0b800f312e587abc25222b\" />\n",
      "<meta name=\"profile.name\" content=\"Default Pro\n"
     ]
    }
   ],
   "source": [
    "# Target web page:\n",
    "url = \"https://www.successories.com/iquote/author/291/abraham-lincoln-quotes/1\"\n",
    "# Establishing the connection to the web page:\n",
    "response = requests.get(url)\n",
    "\n",
    "# You can use status codes to understand how the target server responds to your request.\n",
    "# Ex., 200 = OK, 400 = Bad Request, 403 = Forbidden, 404 = Not Found.\n",
    "print 'Status Code: ',response.status_code\n",
    "\n",
    "# Pull the HTML string out of requests and convert it to a Python string.\n",
    "html = response.text\n",
    "\n",
    "# The first 500 characters of the content.\n",
    "print \"\\nFirst part of HTML document fetched as string:\\n\"\n",
    "print html[:500]"
   ]
  },
  {
   "cell_type": "code",
   "execution_count": 3,
   "metadata": {},
   "outputs": [],
   "source": [
    "soup = BeautifulSoup(html, 'lxml')"
   ]
  },
  {
   "cell_type": "code",
   "execution_count": 6,
   "metadata": {},
   "outputs": [],
   "source": [
    "divy = soup.findAll(\"div\", {\"class\": \"quote\"})"
   ]
  },
  {
   "cell_type": "code",
   "execution_count": 13,
   "metadata": {},
   "outputs": [
    {
     "name": "stdout",
     "output_type": "stream",
     "text": [
      "\"Having thus chosen our course, without guile and with pure purpose, let us renew our trust in God, and go forward without fear and with manly hearts.\"\n",
      "\"You have to do your own growing no matter how tall your grandfather was.\"\n",
      "\"I have been driven many times to my knees by the overwhelming conviction that I had nowhere to go. My own wisdom, and that of all about me, seemed insufficient for the day.\"\n",
      "\"I see a very dark cloud on America's horizon, and that cloud is coming from Rome\"\n",
      "\"Things may come to those who wait...but only the things left by those who hustle.\"\n",
      "\"Do not worry; eat three square meals a day; say your prayers; be courteous to your creditors; keep your digestion good; exercise; go slow and easy. Maybe there are other things your special case requires to make you happy, but my friend, these I reckon will give you a good lift. -\"\n",
      "\"He can compress the most words into the smallest ideas of any man I ever met.\"\n",
      "\"That some should be rich, shows that others may become rich, and, hence, is just encouragement to industry and enterprise.\"\n",
      "\"Among free men there can be no successful appeal from the ballot to the bullet.\"\n",
      "\"Nothing valuable can be lost by taking time.\"\n",
      "\"Truth is generally the best vindication against slander.\"\n",
      "\"The shadow is what we think of it; the tree is the real thing.\"\n",
      "\"It is better to remain quiet and be thought a fool...\"\n",
      "\"All that I am or hope to be I owe to my angel mother. I remember my mother's prayers and they have always followed me. They have clung to me all my life.\"\n",
      "\"We must ask where we are and whither we are tending.\"\n",
      "\"If you wish to win a man over to your ideas, first make him your friend.\"\n",
      "\"I am not concerned that you have fallen -- I am concerned that you arise.\"\n",
      "\"Force is all-conquering, but its victories are short-lived.\"\n",
      "\"No man has a good enough memory to make a successful liar.\"\n",
      "\"Fourscore and seven years ago our fathers brought forth upon this continent a new nation, conceived in liberty, and dedicated to the proposition that all men are created equal. We here highly resolve that the dead shall not have died in vain, that this nation, under God, shall have a new birth of freedom; and that government of the people, by the people, and for the people, shall not perish from the earth.\"\n"
     ]
    }
   ],
   "source": [
    "for div in divy:\n",
    "    for txt in div.findChildren('a'):\n",
    "        print txt.text"
   ]
  },
  {
   "cell_type": "code",
   "execution_count": 16,
   "metadata": {},
   "outputs": [
    {
     "data": {
      "text/plain": [
       "[u'\"Having thus chosen our course, without guile and with pure purpose, let us renew our trust in God, and go forward without fear and with manly hearts.\"',\n",
       " u'\"You have to do your own growing no matter how tall your grandfather was.\"',\n",
       " u'\"I have been driven many times to my knees by the overwhelming conviction that I had nowhere to go. My own wisdom, and that of all about me, seemed insufficient for the day.\"',\n",
       " u'\"I see a very dark cloud on America\\'s horizon, and that cloud is coming from Rome\"',\n",
       " u'\"Things may come to those who wait...but only the things left by those who hustle.\"']"
      ]
     },
     "execution_count": 16,
     "metadata": {},
     "output_type": "execute_result"
    }
   ],
   "source": [
    "out = []\n",
    "for div in divy: out.append(div.find('a').text)\n",
    "out[:5]"
   ]
  },
  {
   "cell_type": "code",
   "execution_count": 17,
   "metadata": {},
   "outputs": [],
   "source": [
    "links,quotes=[],[]\n",
    "elem=soup.find_all('div',{'class':'quotedb_navresults'})\n",
    "for a in elem:\n",
    "    for b in a.find_all('a'): links.append(b['href'][0:-1])\n",
    "links[:2]\n",
    "\n",
    "\n",
    "import time\n",
    "import random\n",
    "for a in links[:2]: #2 Categories limit\n",
    "    ctr=1\n",
    "    resp1=requests.get(a+str(ctr))\n",
    "    print a+str(ctr),'Status Code: ',resp1.status_code\n",
    "    sp1=BeautifulSoup(resp1.text,'lxml')\n",
    "    elem=sp1.find_all('div',{'class':'quote'})\n",
    "    for b in elem: quotes.append(b.find('a').text)\n",
    "\n",
    "    #MULTIPLE PAGE NAVIGATE\n",
    "    tmp=sp1.find_all('a',{'class':'pager-link'})\n",
    "    maxi=int(tmp[len(tmp)-2].text)+1\n",
    "    for b in range(2,maxi): #page 2\n",
    "        #time.sleep(random.randint(.3,1.3)) #Random Sleep Milliseconds ==> Second\n",
    "        resp2=requests.get(a+str(b))\n",
    "        sp2=BeautifulSoup(resp2.text,'lxml')\n",
    "        ele=sp2.find_all('div',{'class':'quote'})\n",
    "        for c in ele: quotes.append(c.find('a').text)"
   ]
  },
  {
   "cell_type": "code",
   "execution_count": 19,
   "metadata": {},
   "outputs": [],
   "source": [
    "quote_list = []\n",
    "\n",
    "for page in range(1,14):\n",
    "    \n",
    "    result = requests.get(\"https://www.successories.com/iquote/author/291/abraham-lincoln-quotes/%s\" % page)\n",
    "    c = result.content\n",
    "    soup = BeautifulSoup(c, 'html.parser')\n",
    "    #soup = BeautifulSoup(c, 'lxml')\n",
    "    samples = soup.find_all('div', {'class': 'quote'})\n",
    "    for link in samples:\n",
    "        quote_list.append(link.get_text())"
   ]
  },
  {
   "cell_type": "code",
   "execution_count": 21,
   "metadata": {},
   "outputs": [
    {
     "name": "stdout",
     "output_type": "stream",
     "text": [
      "[u'\"Having thus chosen our course, without guile and with pure purpose, let us renew our trust in God, and go forward without fear and with manly hearts.\"', u'\"You have to do your own growing no matter how tall your grandfather was.\"', u'\"I have been driven many times to my knees by the overwhelming conviction that I had nowhere to go. My own wisdom, and that of all about me, seemed insufficient for the day.\"', u'\"I see a very dark cloud on America\\'s horizon, and that cloud is coming from Rome\"', u'\"Things may come to those who wait...but only the things left by those who hustle.\"', u'\"Do not worry; eat three square meals a day; say your prayers; be courteous to your creditors; keep your digestion good; exercise; go slow and easy. Maybe there are other things your special case requires to make you happy, but my friend, these I reckon will give you a good lift. -\"', u'\"He can compress the most words into the smallest ideas of any man I ever met.\"', u'\"That some should be rich, shows that others may become rich, and, hence, is just encouragement to industry and enterprise.\"', u'\"Among free men there can be no successful appeal from the ballot to the bullet.\"', u'\"Nothing valuable can be lost by taking time.\"', u'\"Truth is generally the best vindication against slander.\"', u'\"The shadow is what we think of it; the tree is the real thing.\"', u'\"It is better to remain quiet and be thought a fool...\"', u'\"All that I am or hope to be I owe to my angel mother. I remember my mother\\'s prayers and they have always followed me. They have clung to me all my life.\"', u'\"We must ask where we are and whither we are tending.\"', u'\"If you wish to win a man over to your ideas, first make him your friend.\"', u'\"I am not concerned that you have fallen -- I am concerned that you arise.\"', u'\"Force is all-conquering, but its victories are short-lived.\"', u'\"No man has a good enough memory to make a successful liar.\"', u'\"Fourscore and seven years ago our fathers brought forth upon this continent a new nation, conceived in liberty, and dedicated to the proposition that all men are created equal. We here highly resolve that the dead shall not have died in vain, that this nation, under God, shall have a new birth of freedom; and that government of the people, by the people, and for the people, shall not perish from the earth.\"', u'\"In law it is good policy never to plead what you need not, lest you oblige yourself to prove what you cannot\"', u'\"Let me not be understood as saying that there are no bad laws, nor that grievances may not arise for the redress of which no legal provisions have been made. I mean to say no such thing. But I do mean to say that although bad laws, if they exist, should be repealed as soon as possible, still, while they continue in force, for the sake of example they should be religiously observed.\"', u'\"A jury too often has at least one member more ready to hang the panel than to hang the traitor.\"', u'\"I am glad to know that there is a system of labor where the laborer can strike if he wants to!  I would like to God that such a system prevailed all over the world\"', u'\"Kindness is the only service that will stand the storm of life and not wash out. It will wear well and will be remembered long after the prism of politeness or the complexion of courtesy has faded away.\"', u'\"In times like these men should utter nothing for which they would not be willingly responsible through time and in eternity.\"', u'\"Seriously, I do not think I fit for the presidency.\"', u'\"I can make a General in five minutes but a good horse is hard to replace.\"', u'\"We shall nobody save or meanly lose the last best hope\"', u'\"The fiery trials through which we pass will light us down in honor or dishonor to the latest generation.\"', u'\"Fellow citizens, we cannot escape history.\"', u'\"Most folks are about as happy as they make up their minds to be.\"', u'\"In all that people can individually do as well for themselves, government ought not to interfere.\"', u'\"The plainest print cannot be read through a gold eagle\"', u'\"It is difficult to make a man miserable while he feels worthy of himself and claims kindred to the great God who made him.\"', u'\"Tell us any lie you want to, In any kind of mixture, But we pray you, God we pray you, Don\\'t show us his picture.\"', u'\"Military glory --the attractive rainbow that rises in showers of blood.\"', u'\"Towering genius disdains a beaten path.\"', u'\"Few can be induced to labor exclusively for posterity; and none will do it enthusiastically. Posterity has done nothing for us; and theorize on it as we may, practically we shall do very little for it. . .\"', u'\"With high hope for the future, no prediction is ventured.\"', u'\"\\'\\'A drop of honey catches more flies than a gallon of gal.\\'\\' So with men. If you would win a man to your cause, first convince him that you are his sincere friend. Therein is a drop of honey which catches his heart, which, say what he will, is the highroad to his reason.\"', u'\"I desire to so conduct the affairs of this administration that if at the end, when I come to lay down the reins of power, I have lost every other friend on earth, I shall at least have one friend left, and that friend shall be down inside of me.\"', u'\"I believe this government cannot endure permanently half slave and half free.\"', u'\"Freedom is not the right to do what we want, but what we ought. Let us have faith that right makes might and in that faith let us; to the end, dare to do our duty as we understand it.\"', u'\"Do not destroy that immortal emblem of humanity, the Declaration of Independence.\"', u'\"The shepherd drives the wolf from the sheep\\'s throat, for which the sheep thanks the shepherd as his liberator, while the wolf denounces him for the same act as the destroyer of liberty.\"', u'\"There are few things wholly evil or wholly good. Almost everything, especially of government policy, is an inseparable compound of the two, so that our best judgment of the preponderance between them is continually demanded.\"', u'\"Only events and not a man\\'s exertions in his own behalf, can make a President\"', u'\"Resolve to be honest at all events: and if in your judgment you cannot be an honest lawyer, resolve to be honest without being a lawyer. Choose some other occupation.\"', u'\"We know nothing of what will happen in future, but by the analogy of experience\"', u'\"Four score and seven years ago, our father brought forth upon this continent a new nation, conceived in liberty and dedicated to the proposition that all men are created equal\"', u'\"People who like this sort of thing will find this the sort of thing they like.\"', u'\"Wanting to work is so rare a merit that it should be encouraged.\"', u'\"If elected I shall be thankful; if not, it will be all the same.\"', u'\"Freedom is the last, best hope of earth.\"', u'\"The sense of obligation to continue is present in all of us. A duty to strive is the duty of us all. I felt a call to that duty.\"', u'\"The power confided in me will be used to hold, occupy and possess the property and places belonging to the government, and to collect the duties and imposts.\"', u'\"If there is anything which it is the duty of the whole people to never entrust to any hands but their own \\xe2\\u20ac\\u201d that thing is the preservation of their own liberties and institutions.\"', u'\"The leading rule for the lawyer, as for the man of every other calling, is diligence. Leave nothing for to-morrow which can be done to-day.\"', u'\"Will springs from the two elements of moral sense and self interest\"', u'\"When you have got an elephant by the hind leg, and he is trying to run away, it\\'s best to let him run.\"', u'\"Determine that the thing can and shall be done, and then we shall find the way.\"', u'\"Public sentiment is everything. With public sentiment nothing can fail; without it nothing can succeed. He who molds public sentiment goes deeper than he who enacts statutes or decisions possible or impossible to execute.\"', u'\"If you once forfeit the confidence of your fellow citizens, you can never regain their respect and esteem. You may fool all of the people some of the time; you can even fool some of the people all the time; but you can\\'t fool all of the people all of the time.\"', u'\"You may deceive all the people part of the time, and part of the people all the time, but not all the people all the time.\"', u'\"I destroy my enemy when I make him my friend.\"', u'\"If I care to listen to every criticism, let alone act on them, then this shop may as well be closed for all other businesses. I have learned to do my best, and if the end result is good then I do not care for any criticism, but if the end result is not good, then even the praise of ten angels would not make the difference.\"', u'\"If the end brings me out all right, what is said against me won\\'t amount to anything. If the end brings me out wrong, then ten angels swearing I was right would make no difference.\"', u'\"I see in the near future a crisis approaching that unnerves me and causes me to tremble for the safety of my country. Corporations have been enthroned, an era of corruption in high places will follow, and the money-power of the country will endeavor to prolong it\\'s reign by working upon the prejudices of the people until the wealth is aggregated in a few hands and the Republic is destroyed.\"', u'\"He reminds me of the man who murdered both his parents, and then when the sentence was about to be pronounced, pleaded for mercy on the grounds that he was orphan.\"', u'\"A woman is the only thing I am afraid of that I know will not hurt me\"', u'\"The only faith that wears well and holds its color in all weathers, is that which is woven of conviction and set with the sharp mordant of experience\"', u'\"I claim not to have controlled events, but confess plainly that events have controlled me\"', u'\"If you once forfeit the confidence of your fellow citizens, you can never regain their respect and esteem. It is true that you may fool all of the people some of the time; you can even fool some of the people all of the time; but you can\\'t fool all of the people all of the time.\"', u'\"He can compress the most words into the smallest idea of any man I ever met.\"', u'\"A farce or comedy is best played; a tragedy is best read at home.\"', u'\"Fellow citizens, we cannot escape history\"', u'\"What has once happened, will invariably happen again, when the same circumstances which combined to produce it, shall again combine in the same way\"', u'\"With malice toward none, with charity for all, with firmness in the right as God gives us to see the right, let us finish the work we are in\"', u'\"charity toward all.\"', u'\"If I were to try to read, much less answer, all the attacks made on me, this shop might as well be closed for any other business. I do the very best I know how -- the very best I can. And I mean to keep on doing it to the end. If the end brings me out all right, what is said against me will not amount to anything. If the end brings me out all wrong, ten angels swearing I was right would make no difference.\"', u'\"Character is like a tree and reputation like its shadow. The shadow is what we think of it; the tree is the real thing: I desire so to conduct the affairs of this administration that if at the end, when I come to lay down the reins of power, I have l\"', u'\"You cannot build character and courage by taking away man\\'s initiative and independence.\"', u'\"Books serve to show a man that those original thoughts of his aren\\'t very new after all\"', u'\"That this nation, under God, shall have a new birth of freedom; and that government of the people, by the people, and for the people, shall not perish from the earth.\"', u'\"a new birth of freedom.\"', u'\"A universal feeling, whether well or ill founded, cannot be safely disregarded.\"', u'\"Friends, I agree with you in Providence; but I believe in the Providence of the most men, the largest purse, and the longest cannon\"', u'\"I believe, if we take habitual drunkards as a class, their heads and their hearts will bear an advantageous comparison with those of any other class\"', u'\"I hope it will not be irreverent in me to say, that if it be probable that God would reveal his will to others, on a point so connected with my duty, it might be supposed he would reveal it directly to me\"', u'\"I am a success today because I had a friend who believed in me and I didn\\'t have the heart to let him down...\"', u'\"I could as easily bail out the Potomac River with a teaspoon as attend to all the details of the army\"', u'\"Prohibition goes beyond the bounds of reason in that it attempts to control a man\\'s appetite by legislation and makes crimes out of things that are not crimes.\"', u'\"If you call a tail a leg, how many legs does a horse have?  Four, calling a tail a leg does not make it a leg\"', u'\"We live in the midst of alarms; anxiety beclouds the future; we expect some new disaster with each newspaper we read.\"', u'\"Most folks are as happy as they make up their minds to be.\"', u'\"To stand in silence when they should be protesting makes cowards out of men.\"', u'\"I do the very best I know how - the very best I can; and I mean to keep on doing so until the end.\"', u'\"You cannot help men permanently by doing for them what they could and should do for themselves.\"', u'\"I want it said of me by those who knew me best, that I always plucked a thistle and planted a flower where I thought a flower would grow.\"', u'\"If I had eight hours to chop down a tree, I\\'d spend six hours sharpening my ax.\"', u'\"You can fool all the people some of the time, and some of the people all the time, but you cannot fool all the people all the time.\"', u'\"Books serve to show a man that those original thoughts of his aren\\'t very new at all.\"', u'\"All I am, or can be, I owe to my angel mother.\"', u'\"I walk slowly, but I never walk backward.\"', u'\"You cannot build character and courage by taking away a man\\'s initiative and independence.\"', u'\"To give victory to the right, not bloody bullets, but peaceful ballots only, are necessary.\"', u'\"I hope to stand firm enough to not go backward, and yet not go forward fast enough to wreck the country\\'s cause.\"', u'\"With malice toward none, with charity for all, with firmness in the right as God gives us to see the right, let us finish the work ;we are in.\"', u'\"Character is like a tree and reputation like its shadow. The shadow is what we think of it; the tree is the real thing.\"', u'\"I don\\'t like that man. I must get to know him better.\"', u'\"As our case is new, we must think and act anew.\"', u'\"Some day I shall be President.\"', u'\"Knavery and flattery are blood relations.\"', u'\"With public sentiment, nothing can fail. Without it, nothing can succeed.\"', u'\"The best way to destroy an enemy is to make him a friend.\"', u'\"There is another old poet whose name I do not now remember who said, \"Truth is the daughter of Time.\"', u'\"He who molds the public sentiment... makes statutes and decisions possible or impossible to make.\"', u'\"Give me six hours to chop down a tree and I will spend the first four sharpening the axe.\"', u'\"We should be too big to take offense and too noble to give it.\"', u'\"If once you forfeit the confidence of your fellow-citizens, you can never regain their respect and esteem.\"', u'\"To sin by silence when they should protest makes cowards of men.\"', u'\"Ballots are the rightful and peaceful successors to bullets.\"', u'\"The things I want to know are in books; my best friend is the man who\\'ll get me a book I ain\\'t read.\"', u'\"Hold on with a bulldog grip, and chew and choke as much as possible.\"', u'\"I like to see a man proud of the place in which he lives. I like to see a man live so that his place will be proud of him.\"', u'\"How many legs does a dog have if you call the tail a leg? Four. Calling a tail a leg doesn\\'t make it a leg.\"', u'\"Never stir up litigation. A worse man can scarcely be found than one who does this.\"', u'\"The shepherd drives the wolf from the sheep\\'s for which the sheep thanks the shepherd as his liberator, while the wolf denounces him for the same act as the destroyer of liberty. Plainly, the sheep and the wolf are not agreed upon a definition of liberty.\"', u'\"The people themselves, and not their servants, can safely reverse their own deliberate decisions.\"', u'\"When you have got an elephant by the hind legs and he is trying to run away, it\\'s best to let him run.\"', u'\"Stand with anybody that stands right, stand with him while he is right and part with him when he goes wrong.\"', u'\"Every one desires to live long, but no one would be old.\"', u'\"I don\\'t know who my grandfather was; I am much more concerned to know what his grandson will be.\"', u'\"When I hear a man preach, I like to see him act as if he were fighting bees.\"', u'\"Lets have faith that right makes might; and in that faith let us, to the end, dare to do our duty as we understand it.\"', u'\"Die when I may, I want it said by those who knew me best that I always plucked a thistle and planted a flower where I thought a flower would grow.\"', u'\"I do not think much of a man who is not wiser today than he was yesterday.\"', u'\"With the fearful strain that is on me night and day, if I did not laugh I should die.\"', u'\"The people will save their government, if the government itself will allow them.\"', u'\"Sir, my concern is not whether God is on our side; my greatest concern is to be on God\\'s side, for God is always right.\"', u'\"People are just as happy as they make up their minds to be.\"', u'\"In the end, it\\'s not the years in your life that count. It\\'s the life in your years.\"', u'\"In great contests each party claims to act in accordance with the will of God. Both may be, and one must be wrong.\"', u'\"If we could first know where we are, and whither we are tending, we could then better judge what to do, and how to do it.\"', u'\"I can make more generals, but horses cost money.\"', u'\"Don\\'t interfere with anything in the Constitution. That must be maintained, for it is the only safeguard of our liberties.\"', u'\"These capitalists generally act harmoniously and in concert, to fleece the people.\"', u'\"Important principles may, and must, be inflexible.\"', u'\"It is better to remain silent and be thought a fool than to open one\\'s mouth and remove all doubt.\"', u'\"If this is coffee, please bring me some tea; but if this is tea, please bring me some coffee.\"', u'\"The ballot is stronger than the bullet.\"', u'\"Things may come to those who wait, but only the things left by those who hustle.\"', u'\"I will prepare and some day my chance will come.\"', u'\"Government of the people, by the people, for the people, shall not perish from the Earth.\"', u'\"If you look for the bad in people expecting to find it, you surely will.\"', u'\"No man has a good enough memory to be a successful liar.\"', u'\"Most folks are about as happy as they make their minds up to be.\"', u'\"Don\\'t worry when you are not recognized, but strive to be worthy of recognition.\"', u'\"I am a firm believer in the people. If given the truth, they can be depended upon to meet any national crisis. The great point is to bring them the real facts.\"', u'\"Everybody likes a compliment.\"', u'\"Every man is said to have his peculiar ambition. Whether it be true or not, I can say for one that I have no other so great as that of being truly esteemed of my fellow men, by rendering myself worthy of their esteem.\"', u'\"The probability that we may fail in the struggle ought not to deter us from the support of a cause we believe to be just.\"', u'\"Discourage litigation. Persuade your neighbors to compromise whenever you can. As a peacemaker the lawyer has superior opportunity of being a good man. There will still be business enough.\"', u'\"When I am getting ready to reason with a man, I spend one-third of my time thinking about myself and what I am going to say and two-thirds about him and what he is going to say.\"', u'\"I\\'m a slow walker, but I never walk back.\"', u'\"There is nothing true anywhere, The true is nowhere to be seen; If you say you see the true, This seeing is not the true one.\"', u'\"The best way to get a bad law repealed is to enforce it strictly.\"', u'\"As I would not be a slave, so I would not be a master. This expresses my idea of democracy.\"', u'\"I have always found that mercy bears richer fruits than strict justice.\"', u'\"Towering genius disdains a beaten path. It seeks regions hitherto unexplored.\"', u'\"Public opinion in this country is everything.\"', u'\"We the people are the rightful masters of both Congress and the courts, not to overthrow the Constitution but to overthrow the men who pervert the Constitution.\"', u'\"America will never be destroyed from the outside. If we falter and lose our freedoms, it will be because we destroyed ourselves.\"', u'\"The philosophy of the school room in one generation will be the philosophy of government in the next.\"', u'\"This country, with its institutions, belongs to the people who inhabit it. Whenever they shall grow weary of the existing government, they can exercise their constitutional right of amending it, or exercise their revolutionary right to overthrow it.\"', u'\"The time comes upon every public man when it is best for him to keep his lips closed.\"', u'\"Am I not destroying my enemies when I make friends of them?\"', u'\"Character is like a tree and reputation like a shadow. The shadow is what we think of it; the tree is the real thing.\"', u'\"Be sure you put your feet in the right place, then stand firm.\"', u'\"I am not bound to win, but I am bound to be true. I am not bound to succeed, but I am bound to live by the light that I have. I must stand with anybody that stands right, and stand with him while he is right, and part with him when he goes wrong.\"', u'\"The way for a young man to rise is to improve himself in every way he can, never suspecting that anybody wishes to hinder him.\"', u'\"If you call a tail a leg, how many legs has a dog? Five? No, calling a tail a leg don\\'t make it a leg.\"', u'\"Those who deny freedom to others deserve it not for themselves.\"', u'\"I destroy my enemies when I make them my friends.\"', u'\"Any people anywhere, being inclined and having the power, have the right to rise up, and shake off the existing government, and form a new one that suits them better. This is a most valuable - a most sacred right - a right, which we hope and believe, is to liberate the world.\"', u'\"My great concern is not whether you have failed, but whether you are content with your failure.\"', u'\"It\\'s a party of hope for America. Lincoln gave Americans hope through equal opportunities for all.\"', u'\"You cannot strengthen the weak by weakening the strong.\"', u'\"All the armies of Europe, Asia and Africa combined, with all the treasure of the earth (our own excepted) in their military chest; with a Bonaparte for a commander, could not by force take a drink from the Ohio or make a track on the Blue Ridge in a\"', u'\"I know something about aircraft carriers. And I can\\'t wait to tell this country that landing on an aircraft carrier doesn\\'t make up for the lack of an economic plan or a security plan for the United States of America.\"', u'\"If people see the Capitol going on, it is a sign we intend the Union shall go on\"', u'\"My dream is of a place and a time where America will once again be seen as the last best hope of earth.\"', u'\"Let us at all times remember that all American citizens are brothers of a common country, and should dwell together in bonds of fraternal feeling\"', u'\"Some single mind must be master, else there will be no agreement in anything.\"', u'\"Every man over forty is responsible for his face.\"', u'\"Every person is responsible for his own looks after 40.\"', u'\"And in the end, it\\'s not the years in your life that count.  It\\'s the life in your years.\"', u'\"We must not be enemies. Though passion may have strained, it must not break our bonds of affection. The mystic chords of memory, stretching from every battlefield and patriot grave, to every living heart and hearth-stone, all over this broad land, wi\"', u'\"We are not enemies, but friends. We must not be enemies. Though passion may have strained, it must not break our bonds of affection. The mystic cords of memory will swell when again touched as surely they will be by the better angels of our nature.\"', u'\"Let not him who is houseless pull down the house of another, but let him work diligently and build one for himself, thus by example assuring that his own shall be safe from violence when built.\"', u'\"As an individual who undertakes to live by borrowing, soon finds his original means devoured by interest, and next no one left to borrow from - so must it be with a new government\"', u'\"If you do not like him, let him alone. If God gave him little, that little let him enjoy.\"', u'\"A lawyer\\'s advice is his stock and trade.\"', u'\"Avoid popularity if you would have peace.\"', u'\"You may fool all the people some of the time, you can even fool some of the people all of the time, but you cannot fool all of the people all the time.\"', u'\"An old Dutch farmer, who remarked to a companion once that it was not best to swap horses when crossing a stream.\"', u'\"A lawyer\\'s time and advice are his stock in trade\"', u'\"You cannot escape the responsibility of tomorrow by evading it today.\"', u'\"Beware of rashness, but with energy, and sleepless vigilance, go forward and give us victories.\"', u'\"Whatever you are, be a good one.\"', u'\"I walk slowly, but I never walk backward\"', u'\"Be not deceived. Revolutions do not go backward.\"', u'\"If you would win a man to your cause, first convince him that you are his sincere friend. Therein is a drop of honey that catches his heart, which, say what you will, is the great high-road to his reason, and which, when once gained, you will find but little trouble in convincing his judgment of the justice of your cause.\"', u'\"Better to remain silent and be thought a fool than to speak out and remove all doubt.\"', u'\"If I had eight hours to chop down a tree, I\\'d spend six hours sharpening my ax\"', u'\"What kills a skunk is the publicity it gives itself.\"', u'\"I am for the people of the whole nation doing just as they please in all matter which concern the whole nation; for those of each part doing just as they choose in all matters which concern no other part; and for each individual doing just as he chooses in all matters which concern nobody else.\"', u'\"I do the very best I know how, the very best I can, and I mean to keep on doing so until the end\"', u'\"To stand in silence when they should be protesting makes cowards out of men\"', u'\"Human action can be modified to some extent, but human nature cannot be changed.\"', u'\"I like to see a man proud of the place in which he lives.  I like to see a man live so that his place will be proud of him.\"', u'\"[That was the speech -- delivered under a banner reading] Mission Accomplished ... Major combat operations in Iraq have ended.\"', u'\"With the catching ends the pleasure of the chase\"', u'\"We must not promise what we ought not, lest we be called on to perform what we cannot\"', u'\"Tact is the ability to describe others as they see themselves.\"', u'\"Surely God would not have created such a being as man, with an ability to grasp the infinite, to exist only for a day! No, no, man was made for immortality.\"', u'\"The best thing about the future is that it comes one day at a time.\"', u'\"Always bear in mind that your own resolution to succeed is more important than any other.\"', u'\"Nearly all men can stand adversity, but if you want to test a man\\'s character, give him power.\"', u'\"No matter how much cats fight, there always seem to be plenty of kittens.\"', u'\"All my life I have tried to pluck a thistle and plant a flower wherever the flower would grow in thought and mind.\"', u'\"I remember my mother\\'s prayers and they have always followed me. They have clung to me all my life.\"', u'\"The dogmas of the quiet past are inadequate to the stormy present. The occasion is piled high with difficulty, and we must rise with the occasion. As our case is new, so we must think anew and act anew.\"', u'\"No man is good enough to govern another man without that other\\'s consent.\"', u'\"It has been my experience that folks who have no vices have very few virtues.\"', u'\"These men ask for just the same thing, fairness, and fairness only. This, so far as in my power, they, and all others, shall have.\"', u'\"Fourscore and seven years ago our fathers brought forth on this continent, a new nation, conceived in Liberty, and dedicated to the proposition that all men are created equal.\"', u'\"If there is anything that a man can do well, I say let him do it. Give him a chance.\"', u'\"I have come to the conclusion never again to think of marrying, and for this reason, I can never be satisfied with anyone who would be blockhead enough to have me.\"', u'\"It is the eternal struggle between these two principles -- right and wrong. They are the two principles that have stood face to face from the beginning of time and will ever continue to struggle. It is the same spirit that says, \\'\\'You work and toil and earn bread, and I\\'ll eat it.\\'\\'\"', u'\"That some achieve great success, is proof to all that others can achieve it as well.\"']\n"
     ]
    }
   ],
   "source": [
    "print quote_list"
   ]
  },
  {
   "cell_type": "code",
   "execution_count": null,
   "metadata": {},
   "outputs": [],
   "source": []
  }
 ],
 "metadata": {
  "kernelspec": {
   "display_name": "Python 2",
   "language": "python",
   "name": "python2"
  },
  "language_info": {
   "codemirror_mode": {
    "name": "ipython",
    "version": 2
   },
   "file_extension": ".py",
   "mimetype": "text/x-python",
   "name": "python",
   "nbconvert_exporter": "python",
   "pygments_lexer": "ipython2",
   "version": "2.7.14"
  }
 },
 "nbformat": 4,
 "nbformat_minor": 2
}
