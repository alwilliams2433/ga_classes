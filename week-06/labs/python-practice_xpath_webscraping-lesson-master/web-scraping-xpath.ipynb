{
 "cells": [
  {
   "cell_type": "markdown",
   "metadata": {},
   "source": [
    "<img src=\"http://imgur.com/1ZcRyrc.png\" style=\"float: left; margin: 20px; height: 55px\">\n",
    "\n",
    "# Practicing Web Scraping With XPath\n",
    "\n",
    "_Authors: Dave Yerrington (SF)_\n",
    "\n",
    "---\n",
    "\n",
    "### Learning Objectives\n",
    "*After this lesson, you will be able to:*\n",
    "- Build a basic scraper\n",
    "- Understand HTML and XPath basics\n",
    "- Scrape a website for various data and putting your results into a DataFrame"
   ]
  },
  {
   "cell_type": "markdown",
   "metadata": {},
   "source": [
    "### Lesson Guide\n",
    "- [Review of HTML and Web Scraping](#review1)\n",
    "- [Review of XPath](#review2)\n",
    "- [Basic XPath Expressions](#basic-xpath)\n",
    "    - [Absolute References](#absolute)\n",
    "    - [Relative References](#relative-references)\n",
    "    - [Selecting Attributes](#attributes)\n",
    "- [Guided Practice: Where's Waldo? - XPath Edition](#practice1)\n",
    "- [1 vs. N Selections](#1vsn)\n",
    "    - [Selecting the First Element in a Series of Elements](#first-elem)\n",
    "    - [Selecting the Last Element in a Series of Elements](#last-elem)\n",
    "    - [Selecting all Elements Matching a Selection](#all-elem-match)\n",
    "    - [Selecting Elements Matching an Attribute](#elem-match-attr)\n",
    "- [Guided Practice: Selecting Elements](#practice2)\n",
    "- [A Quick Note: The Requests Module](#requests)\n",
    "- [Guided Practice: Scrape DataTau Headlines](#practice3)\n",
    "- [Independent Practice](#independent)"
   ]
  },
  {
   "cell_type": "markdown",
   "metadata": {},
   "source": [
    "<a id='review1'></a>\n",
    "## Review of HTML and Web Scraping\n",
    "\n",
    "---\n",
    "\n",
    "Web scraping is a technique of extracting information from websites. It's the downloading and transformation of unstructured web data into structured data that can be stored and analyzed.\n",
    "\n",
    "There are a variety of ways to \"scrape\" what we want from the web:\n",
    "- Using third-party services (import.io).\n",
    "- By writing our own Python apps that pull HTML documents and parse them.\n",
    "  - Mechanize\n",
    "  - Scrapy\n",
    "  - Requests\n",
    "  - Libxml/XPath\n",
    "  - Regular expressions\n",
    "  - Beautiful Soup"
   ]
  },
  {
   "cell_type": "markdown",
   "metadata": {},
   "source": [
    "> **Check:** What do you perceive to be the hardest aspect of scraping?\n",
    "\n",
    "_E.G.: If you were asked to scrape Craigslist property listings and put them in a DataFrame, what would hold you up?_"
   ]
  },
  {
   "cell_type": "markdown",
   "metadata": {},
   "source": [
    "### Review: HTML\n",
    "\n",
    "In the HTML document object model (DOM), everything is a node:\n",
    " * The document itself is a document node\n",
    " * All HTML elements are element nodes\n",
    " * All HTML attributes are attribute nodes\n",
    " * The text inside HTML elements are text nodes\n",
    " * The comments are comment nodes"
   ]
  },
  {
   "cell_type": "markdown",
   "metadata": {},
   "source": [
    "### Review: Elements\n",
    "Elements begin and end with **opening and closing tags** that are defined by namespaced, encapsulated strings. \n",
    "\n",
    "```html\n",
    "<title>I am a title.</title>\n",
    "<p>I am a paragraph.</p>\n",
    "<strong>I am bold.</strong>\n",
    "```\n",
    "\n",
    "_Note: The tags **title, p,** and **strong** are represented below._"
   ]
  },
  {
   "cell_type": "markdown",
   "metadata": {},
   "source": [
    "### Review: Element Parent/Child Relationships\n",
    "\n",
    "<img src=\"http://www.htmlgoodies.com/img/2007/06/flowChart2.gif\" width=\"250\">\n",
    "\n",
    "**Elements begin and end in the same namespace, like so:** `<p></p>`\n",
    "\n",
    "**Elements can have parents and children.** It's important to remember that an element can be both a parent and a child, and whether to refer to the element as a parent or a child depends on the specific element you are referencing.\n",
    "\n",
    "_Your parents are **parents** to you but **children** of your grandparents. The same logic applies with HTML elements._\n",
    "\n",
    "```html\n",
    "<body id = 'parent'>\n",
    "    <div id = 'child_1'>I am the child of 'parent.'\n",
    "        <div id = 'child_2'>I am the child of 'child_1.'\n",
    "            <div id = 'child_3'>I am the child of 'child_2.'\n",
    "                <div id = 'child_4'>I am the child of 'child_4.'</div>\n",
    "            </div>\n",
    "        </div>\n",
    "    </div>\n",
    "</body>\n",
    "```\n",
    "\n",
    "**or**\n",
    "\n",
    "```html\n",
    "<body id = 'parent'>\n",
    "    <div id = 'child_1'>I am the parent of 'child_2.'\n",
    "        <div id = 'child_2'>I am the parent of 'child_3.'\n",
    "            <div id = 'child_3'> I am the parent of 'child_4.'\n",
    "                <div id = 'child_4'>I am not a parent. </div>\n",
    "            </div>\n",
    "        </div>\n",
    "    </div>\n",
    "</body>\n",
    "```"
   ]
  },
  {
   "cell_type": "markdown",
   "metadata": {},
   "source": [
    "### Review: Element Attributes\n",
    "\n",
    "Elements can also have attributes. Attributes are defined inside **element tags** and can contain data that may be useful to scrape.\n",
    "\n",
    "```html\n",
    "<a href=\"http://lmgtfy.com/?q=html+element+attributes\" title=\"A title\" id=\"web-link\" name=\"hal\">A Simple Link</a>\n",
    "```\n",
    "\n",
    "The **element attributes** of this `<a>` tag element are:\n",
    "- `id`\n",
    "- `href`\n",
    "- `title`\n",
    "- `name`\n",
    "\n",
    "This `<a>` tag example will render in your browser like this:\n",
    "> <a href=\"https://www.youtube.com/watch?v=dQw4w9WgXcQ\">A Simple Link</a>\n"
   ]
  },
  {
   "cell_type": "markdown",
   "metadata": {},
   "source": [
    "**Check:** Can you identify an attribute, an element, a text item, and a child element in the code below?\n",
    "\n",
    "```HTML\n",
    "<html>\n",
    "   <title id=\"main-title\">All this scraping is making me itch!</title>\n",
    "   <body>\n",
    "       <h1>Welcome to my Homepage</h1>\n",
    "       <p id=\"welcome-paragraph\" class=\"strong-paragraph\">\n",
    "           <span>Hello friends, let me tell you about this cool hair product.</span>\n",
    "           <ul>\n",
    "              <li>It's cool.</li>\n",
    "              <li>It's fresh.</li>\n",
    "              <li>It can tell the future.</li>\n",
    "              <li>Always be closing.</li>\n",
    "           </ul>\n",
    "       </p>\n",
    "   </body>\n",
    "```\n",
    "\n",
    "**Bonus:** What's missing?"
   ]
  },
  {
   "cell_type": "markdown",
   "metadata": {},
   "source": [
    "<a id='review2'></a>\n",
    "## Review of XPath\n",
    "\n",
    "---\n",
    "\n",
    "XPath uses path expressions to select nodes or node sets in an HTML/XML document. These path expressions look similar to the expressions you see when you work with a traditional computer file system."
   ]
  },
  {
   "cell_type": "markdown",
   "metadata": {},
   "source": [
    "### XPath Features\n",
    "\n",
    "XPath includes more than 100 built-in functions to help us select and manipulate HTML (or XML) documents. XPath has functions for:\n",
    "\n",
    "- String values\n",
    "- Numeric values\n",
    "- Date and time comparison\n",
    "- Sequence manipulation\n",
    "- Boolean values\n",
    "- And more"
   ]
  },
  {
   "cell_type": "markdown",
   "metadata": {},
   "source": [
    "<a id='basic-xpath'></a>\n",
    "## Basic XPath Expressions\n",
    "\n",
    "---\n",
    "\n",
    "XPath comes with a wide array of features, but the basics of selecting data are the most common problems that XPath can help you solve.\n",
    "\n",
    "Most often, you'll use **XPath** for selecting data from HTML documents. There are two ways you can **select elements** within HTML using **XPath**:\n",
    "\n",
    "- Absolute references\n",
    "- Relative references"
   ]
  },
  {
   "cell_type": "markdown",
   "metadata": {},
   "source": [
    "<a id='absolute'></a>\n",
    "### Absolute References\n",
    "\n",
    "> _For our XPath demonstration, we'll use Scrapy, which is using [Libxml](http://xmlsoft.org) under the hood. Libxml provides the basic functionality for XPath expressions._"
   ]
  },
  {
   "cell_type": "code",
   "execution_count": 1,
   "metadata": {},
   "outputs": [
    {
     "name": "stderr",
     "output_type": "stream",
     "text": [
      "Invalid requirement: 'zope2.'\n",
      "Traceback (most recent call last):\n",
      "  File \"C:\\Users\\Samson\\AppData\\Local\\Continuum\\anaconda2\\lib\\site-packages\\pip\\req\\req_install.py\", line 82, in __init__\n",
      "    req = Requirement(req)\n",
      "  File \"C:\\Users\\Samson\\AppData\\Local\\Continuum\\anaconda2\\lib\\site-packages\\pip\\_vendor\\packaging\\requirements.py\", line 94, in __init__\n",
      "    requirement_string[e.loc:e.loc + 8]))\n",
      "InvalidRequirement: Invalid requirement, parse error at \"'.'\"\n",
      "\n",
      "You are using pip version 9.0.1, however version 10.0.1 is available.\n",
      "You should consider upgrading via the 'python -m pip install --upgrade pip' command.\n"
     ]
    },
    {
     "data": {
      "text/plain": [
       "[u'good']"
      ]
     },
     "execution_count": 1,
     "metadata": {},
     "output_type": "execute_result"
    }
   ],
   "source": [
    "#!pip install Scrapy.\n",
    "#!pip install --upgrade zope2.\n",
    "from scrapy.selector import Selector\n",
    "from scrapy.http import HtmlResponse\n",
    "\n",
    "HTML = \"\"\"\n",
    "<html>\n",
    "    <body>\n",
    "        <span id=\"only-span\">good</span>\n",
    "    </body>\n",
    "</html>\n",
    "\"\"\"\n",
    "# The same thing, but an absolute reference:\n",
    "Selector(text=HTML).xpath('/html/body/span/text()').extract()\n"
   ]
  },
  {
   "cell_type": "markdown",
   "metadata": {},
   "source": [
    "<a id='relative-references'></a>\n",
    "### Relative References\n",
    "\n",
    "Relative references in XPath match the \"ends\" of structures. As there is only a single `span` element, `//span/text()` matches **one element**."
   ]
  },
  {
   "cell_type": "code",
   "execution_count": 2,
   "metadata": {},
   "outputs": [
    {
     "data": {
      "text/plain": [
       "[u'good']"
      ]
     },
     "execution_count": 2,
     "metadata": {},
     "output_type": "execute_result"
    }
   ],
   "source": [
    "Selector(text=HTML).xpath('//span/text()').extract()"
   ]
  },
  {
   "cell_type": "markdown",
   "metadata": {},
   "source": [
    "<a id='attributes'></a>\n",
    "### Selecting Attributes\n",
    "\n",
    "Attributes are **within a tag**, such as `id=\"only-span\"` within our `span` attribute. We can get the attribute by using the `@` symbol **after** the **element reference**.\n"
   ]
  },
  {
   "cell_type": "code",
   "execution_count": 3,
   "metadata": {},
   "outputs": [
    {
     "data": {
      "text/plain": [
       "[u'only-span']"
      ]
     },
     "execution_count": 3,
     "metadata": {},
     "output_type": "execute_result"
    }
   ],
   "source": [
    "Selector(text=HTML).xpath('//span/@id').extract()"
   ]
  },
  {
   "cell_type": "markdown",
   "metadata": {},
   "source": [
    "<a id='practice1'></a>\n",
    "## Guided Practice: Where's Waldo? — XPath Edition\n",
    "\n",
    "---\n",
    "\n",
    "**In this example, we'll find Waldo together. Find Waldo as:**\n",
    "\n",
    "- An element\n",
    "- An attribute\n",
    "- A text element\n",
    "\n",
    "The practice HTML string is provided below."
   ]
  },
  {
   "cell_type": "code",
   "execution_count": 5,
   "metadata": {},
   "outputs": [],
   "source": [
    "HTML = \"\"\"\n",
    "<html>\n",
    "    <body>\n",
    "        \n",
    "        <ul id=\"waldo\">\n",
    "            <li class=\"waldo\">\n",
    "                <span> yo I'm not here</span>\n",
    "            </li>\n",
    "            <li class=\"waldo\">Height:  ???</li>\n",
    "            <li class=\"waldo\">Weight:  ???</li>\n",
    "            <li class=\"waldo\">Last Location:  ???</li>\n",
    "            <li class=\"nerds\">\n",
    "                <div class=\"alpha\">Bill Gates</div>\n",
    "                <div class=\"alpha\">Zuckerberg</div>\n",
    "                <div class=\"beta\">Theil</div>\n",
    "                <div class=\"animal\">Parker</div>\n",
    "            </li>\n",
    "        </ul>\n",
    "        \n",
    "        <ul id=\"tim\">\n",
    "            <li class=\"tdawg\">\n",
    "                <span>yo im here</span>\n",
    "            </li>\n",
    "        </ul>\n",
    "        <li>stuff</li>\n",
    "        <li>stuff2</li>\n",
    "        \n",
    "        <div id=\"cooldiv\">\n",
    "            <span class=\"dsi-rocks\">\n",
    "               YO!\n",
    "            </span>\n",
    "        </div>\n",
    "        \n",
    "        \n",
    "        <waldo>Waldo</waldo>\n",
    "    </body>\n",
    "</html>\n",
    "\"\"\""
   ]
  },
  {
   "cell_type": "code",
   "execution_count": 8,
   "metadata": {},
   "outputs": [
    {
     "data": {
      "text/plain": [
       "[u'Waldo']"
      ]
     },
     "execution_count": 8,
     "metadata": {},
     "output_type": "execute_result"
    }
   ],
   "source": [
    "#as an element\n",
    "Selector(text=HTML).xpath('/html/body/waldo/text()').extract()"
   ]
  },
  {
   "cell_type": "code",
   "execution_count": 14,
   "metadata": {},
   "outputs": [
    {
     "name": "stdout",
     "output_type": "stream",
     "text": [
      "<ul id=\"waldo\">\n",
      "            <li class=\"waldo\">\n",
      "                <span> yo I'm not here</span>\n",
      "            </li>\n",
      "            <li class=\"waldo\">Height:  ???</li>\n",
      "            <li class=\"waldo\">Weight:  ???</li>\n",
      "            <li class=\"waldo\">Last Location:  ???</li>\n",
      "            <li class=\"nerds\">\n",
      "                <div class=\"alpha\">Bill Gates</div>\n",
      "                <div class=\"alpha\">Zuckerberg</div>\n",
      "                <div class=\"beta\">Theil</div>\n",
      "                <div class=\"animal\">Parker</div>\n",
      "            </li>\n",
      "        </ul>\n",
      "--------------------\n",
      "<li class=\"waldo\">\n",
      "                <span> yo I'm not here</span>\n",
      "            </li>\n",
      "--------------------\n",
      "<li class=\"waldo\">Height:  ???</li>\n",
      "--------------------\n",
      "<li class=\"waldo\">Weight:  ???</li>\n",
      "--------------------\n",
      "<li class=\"waldo\">Last Location:  ???</li>\n",
      "--------------------\n"
     ]
    }
   ],
   "source": [
    "#as an attribute\n",
    "for e in Selector(text=HTML).xpath('//*[@*=\"waldo\"]').extract():\n",
    "    print e\n",
    "    print(\"-\"*20)"
   ]
  },
  {
   "cell_type": "code",
   "execution_count": 19,
   "metadata": {},
   "outputs": [
    {
     "data": {
      "text/plain": [
       "[u'<waldo>Waldo</waldo>']"
      ]
     },
     "execution_count": 19,
     "metadata": {},
     "output_type": "execute_result"
    }
   ],
   "source": [
    "#as a text element\n",
    "Selector(text=HTML).xpath('//*[text()=\"Waldo\"]').extract()"
   ]
  },
  {
   "cell_type": "markdown",
   "metadata": {},
   "source": [
    "<a id='1vsn'></a>\n",
    "## 1 vs N Selections\n",
    "\n",
    "---\n",
    "\n",
    "When selecting elements via relative reference, it's possible that you'll select multiple items. It's still possible to select single items if you're specific enough.\n",
    "\n",
    "**Singular Reference**\n",
    "- **Index** starts at **1**\n",
    "- Selections by offset\n",
    "- Selections by \"first\" or \"last\"\n",
    "- Selections by **unique attribute value**\n"
   ]
  },
  {
   "cell_type": "code",
   "execution_count": 20,
   "metadata": {},
   "outputs": [
    {
     "data": {
      "text/plain": [
       "[u'5,233.42']"
      ]
     },
     "execution_count": 20,
     "metadata": {},
     "output_type": "execute_result"
    }
   ],
   "source": [
    "HTML = \"\"\"\n",
    "<html>\n",
    "    <body>\n",
    "    \n",
    "        <!-- Search Results -->\n",
    "        <div class=\"search-result\">\n",
    "           <a href=\"https://www.youtube.com/watch?v=751hUX_q0Do\" title=\"Rappin with Gas\">Rapping with gas</a>\n",
    "           <span class=\"link-details\">This is a great video about gas.</span>\n",
    "        </div>\n",
    "        <div class=\"search-result\">\n",
    "           <a href=\"https://www.youtube.com/watch?v=97byWqi-zsI\" title=\"Casio Rapmap\">The Rapmaster</a>\n",
    "           <span class=\"link-details\">My first synth ever.</span>\n",
    "        </div>\n",
    "        <div class=\"search-result\">\n",
    "           <a href=\"https://www.youtube.com/watch?v=TSwqnR327fk\" title=\"Cinco Products\">Cinco Midi Organizer</a>\n",
    "           <span class=\"link-details\">Midi files at the speed of light.</span>\n",
    "        </div>\n",
    "        <div class=\"search-result\">\n",
    "           <a href=\"https://www.youtube.com/watch?v=8TCxE0bWQeQ\" title=\"Baddest Gates\">BBG Baddest Moments</a>\n",
    "           <span class=\"link-details\">It's tough to be a gangster.</span>\n",
    "        </div>\n",
    "        \n",
    "        <!-- Page stats -->\n",
    "        <div class=\"page-stats-container\">\n",
    "            <li class=\"item\" id=\"pageviews\">1,333,443</li>\n",
    "            <li class=\"item\" id=\"somethingelse\">bla</li>\n",
    "            <li class=\"item\" id=\"last-viewed\">01-22-2016</li>\n",
    "            <li class=\"item\" id=\"views-per-hour\">1,532</li>\n",
    "            <li class=\"item\" id=\"kiefer-views-per-hour\">5,233.42</li>\n",
    "        </div>\n",
    "        \n",
    "    </body>\n",
    "</html>\n",
    "\"\"\"\n",
    "\n",
    "span = Selector(text=HTML).xpath('/html/body/div/li[@id=\"kiefer-views-per-hour\"]/text()').extract()\n",
    "span"
   ]
  },
  {
   "cell_type": "markdown",
   "metadata": {},
   "source": [
    "<a id='first-elem'></a>\n",
    "### Selecting the First Element in a Series of Elements"
   ]
  },
  {
   "cell_type": "code",
   "execution_count": 30,
   "metadata": {},
   "outputs": [
    {
     "data": {
      "text/plain": [
       "u'1,333,443'"
      ]
     },
     "execution_count": 30,
     "metadata": {},
     "output_type": "execute_result"
    }
   ],
   "source": [
    "a = Selector(text=HTML).xpath('//li[@class = \"item\"]/text()').extract()\n",
    "a[0]"
   ]
  },
  {
   "cell_type": "markdown",
   "metadata": {},
   "source": [
    "<a id='last-elem'></a>\n",
    "### Selecting the Last Element in a Series of Elements"
   ]
  },
  {
   "cell_type": "code",
   "execution_count": 25,
   "metadata": {},
   "outputs": [
    {
     "data": {
      "text/plain": [
       "u\"It's tough to be a gangster.\""
      ]
     },
     "execution_count": 25,
     "metadata": {},
     "output_type": "execute_result"
    }
   ],
   "source": [
    "span = Selector(text=HTML).xpath('//span/text()').extract()\n",
    "span[-1]"
   ]
  },
  {
   "cell_type": "markdown",
   "metadata": {},
   "source": [
    "<a id='all-elem-match'></a>\n",
    "### Selecting All Elements Matching a Selection"
   ]
  },
  {
   "cell_type": "code",
   "execution_count": 26,
   "metadata": {
    "scrolled": true
   },
   "outputs": [
    {
     "data": {
      "text/plain": [
       "[u'This is a great video about gas.',\n",
       " u'My first synth ever.',\n",
       " u'Midi files at the speed of light.',\n",
       " u\"It's tough to be a gangster.\"]"
      ]
     },
     "execution_count": 26,
     "metadata": {},
     "output_type": "execute_result"
    }
   ],
   "source": [
    "Selector(text=HTML).xpath('//li/text()').extract()"
   ]
  },
  {
   "cell_type": "markdown",
   "metadata": {},
   "source": [
    "<a id='elem-match-attr'></a>\n",
    "### Selecting Elements Matching An _Attribute_\n",
    "\n",
    "This will be one of the most common ways you'll select items. HTML DOM elements will be more differentiated based on their class and ID variables. Mainly, these types of attributes are used by web developers to refer to specific elements or a broad set of elements to apply visual characteristics to using CSS.\n",
    "\n",
    "```HTML \n",
    "//element[@attribute=\"value\"]\n",
    "```\n",
    "\n",
    "**Generally:**\n",
    "\n",
    "- \"Class\" attributes within elements usually refer to multiple items\n",
    "- \"ID\" attributes are supposed to be unique but aren't always\n",
    "\n",
    "_CSS stands for cascading style sheets. These are used to abstract the definition of visual elements on a micro and macro scale for the web. They are also our best friend as data miners. They give us strong hints and cues as to how a web document is structured._"
   ]
  },
  {
   "cell_type": "markdown",
   "metadata": {},
   "source": [
    "<a id='practice2'></a>\n",
    "## Guided Practice: Selecting Elements\n",
    "\n",
    "---\n",
    "\n",
    "1) How can we get a series of only text items for the page statistics section of our page?<br>\n",
    "2) We want to know only how many times Kiefer views the YouTube videos page per hour."
   ]
  },
  {
   "cell_type": "code",
   "execution_count": 31,
   "metadata": {},
   "outputs": [
    {
     "data": {
      "text/plain": [
       "[u'1,333,443', u'bla', u'01-22-2016', u'1,532', u'5,233.42']"
      ]
     },
     "execution_count": 31,
     "metadata": {},
     "output_type": "execute_result"
    }
   ],
   "source": [
    "Selector(text=HTML).xpath('//li[@class = \"item\"]/text()').extract()"
   ]
  },
  {
   "cell_type": "code",
   "execution_count": 34,
   "metadata": {},
   "outputs": [
    {
     "data": {
      "text/plain": [
       "[u'1,333,443', u'bla', u'01-22-2016', u'1,532', u'5,233.42']"
      ]
     },
     "execution_count": 34,
     "metadata": {},
     "output_type": "execute_result"
    }
   ],
   "source": [
    "Selector(text=HTML).xpath('//div[@class=\"page-stats-container\"]/li/text()').extract()"
   ]
  },
  {
   "cell_type": "code",
   "execution_count": 33,
   "metadata": {},
   "outputs": [
    {
     "data": {
      "text/plain": [
       "[u'5,233.42']"
      ]
     },
     "execution_count": 33,
     "metadata": {},
     "output_type": "execute_result"
    }
   ],
   "source": [
    "Selector(text=HTML).xpath('//li[@id=\"kiefer-views-per-hour\"]/text()').extract()"
   ]
  },
  {
   "cell_type": "markdown",
   "metadata": {},
   "source": [
    "<a id='requests'></a>\n",
    "## A Quick Note on the Requests Module\n",
    "\n",
    "---\n",
    "\n",
    "The requests module is the gateway to interacting with the web using Python. We can:\n",
    "\n",
    " - Fetch web documents as strings\n",
    " - Decode JSON\n",
    " - Complete basic data munging with web documents\n",
    " - Download static files that aren't text, including:\n",
    "  - Images\n",
    "  - Videos\n",
    "  - Binary data\n",
    "\n",
    "\n",
    "Take some time and read up on requests:\n",
    "\n",
    "http://docs.python-requests.org/en/master/user/quickstart/"
   ]
  },
  {
   "cell_type": "markdown",
   "metadata": {},
   "source": [
    "<a id='practice3'></a>\n",
    "## Guided Practice: Scrape DataTau Headlines\n",
    "\n",
    "DataTau is a great site for data science news. Let's take its headlines using Python **`requests`** and practice selecting various elements.\n",
    "\n",
    "Using the <a href=\"https://chrome.google.com/webstore/detail/xpath-helper/hgimnogjllphhhkhlmebbmlgjoejdpjl?hl=en\">XPath Helper Chrome plugin</a> _(cmd-shift-x)_ and the Chrome Inspect feature, let's explore the structure of the page.\n",
    "\n",
    "_Here's a <a href=\"https://www.youtube.com/watch?v=i2Li1vnv09U\">concise video</a> that demonstrates the basic Inspect feature in Chrome._"
   ]
  },
  {
   "cell_type": "code",
   "execution_count": 36,
   "metadata": {},
   "outputs": [
    {
     "data": {
      "text/plain": [
       "u'<html><head><link rel=\"stylesheet\" type=\"text/css\" href=\"news.css\">\\n<link rel=\"shortcut icon\" href=\"http://www.iconj.com/ico/d/x/dxo02ap56v.ico\">\\n<scr'"
      ]
     },
     "execution_count": 36,
     "metadata": {},
     "output_type": "execute_result"
    }
   ],
   "source": [
    "import requests\n",
    "\n",
    "response = requests.get(\"http://www.datatau.com\")\n",
    "HTML = response.text  \n",
    "HTML[0:150]           # View the first 150 characters of the HTML index document for DataTau."
   ]
  },
  {
   "cell_type": "markdown",
   "metadata": {},
   "source": [
    "### Selecting Only the Headlines\n",
    "\n",
    "We'll use the XPath Helper tool to inspect the markup that comprises the **title** to find a pattern. Because there is more than one **title**, we expect to find a series of elements representing the **title** data we're interested in.\n",
    "\n",
    "In this example, we are referencing the **first center**, **third table row (`tr[3]`)** within the second **td having a class of \"title\" (`td[@class=\"title\"][2]`)** and the anchor tag within a **(`a/text()`)**.\n"
   ]
  },
  {
   "cell_type": "code",
   "execution_count": 40,
   "metadata": {},
   "outputs": [
    {
     "data": {
      "text/plain": [
       "[u'1.1 Billion Taxi Rides with SQLite, Parquet & HDFS',\n",
       " u'Introducing the IRONdb Prometheus Adapter',\n",
       " u'Spatiotemporal modeling with R',\n",
       " u'Python libraries and packages for Data Scientists (the 5 most important ones)',\n",
       " u'Scaling Pandas to the Billions with Ibis and MapD']"
      ]
     },
     "execution_count": 40,
     "metadata": {},
     "output_type": "execute_result"
    }
   ],
   "source": [
    "import pandas as pd\n",
    "\n",
    "titles = Selector(text=HTML).xpath('//*[@class=\"title\"]/a/text()').extract()\n",
    "titles[:5]"
   ]
  },
  {
   "cell_type": "markdown",
   "metadata": {},
   "source": [
    "### How Can We Get the URLs From the Titles?"
   ]
  },
  {
   "cell_type": "code",
   "execution_count": 42,
   "metadata": {},
   "outputs": [
    {
     "data": {
      "text/plain": [
       "[u'http://tech.marksblogg.com/billion-nyc-taxi-rides-sqlite-parquet-hdfs.html',\n",
       " u'https://www.circonus.com/2018/06/prometheus-adapter/',\n",
       " u'https://github.com/Italosayan/P-P-P',\n",
       " u'https://data36.com/python-libraries-packages-data-scientists/',\n",
       " u'https://www.mapd.com/blog/scaling-pandas-to-the-billions-with-ibis-and-mapd']"
      ]
     },
     "execution_count": 42,
     "metadata": {},
     "output_type": "execute_result"
    }
   ],
   "source": [
    "urls = Selector(text=HTML).xpath('//td[@class=\"title\"]/a/@href').extract()\n",
    "urls[:5]"
   ]
  },
  {
   "cell_type": "markdown",
   "metadata": {},
   "source": [
    "### How Can We Get the Site Domain After the Title Within the Parentheses (i.e., stitchfix.com)?"
   ]
  },
  {
   "cell_type": "code",
   "execution_count": 45,
   "metadata": {},
   "outputs": [
    {
     "data": {
      "text/plain": [
       "[u' (marksblogg.com) ',\n",
       " u' (circonus.com) ',\n",
       " u' (github.com) ',\n",
       " u' (data36.com) ',\n",
       " u' (mapd.com) ']"
      ]
     },
     "execution_count": 45,
     "metadata": {},
     "output_type": "execute_result"
    }
   ],
   "source": [
    "domains = Selector(text=HTML).xpath('//td[@class=\"title\"]/span/text()').extract()\n",
    "domains[:5]"
   ]
  },
  {
   "cell_type": "markdown",
   "metadata": {},
   "source": [
    "### How About the Points?"
   ]
  },
  {
   "cell_type": "code",
   "execution_count": 46,
   "metadata": {},
   "outputs": [
    {
     "data": {
      "text/plain": [
       "[u'2 points', u'2 points', u'3 points', u'5 points', u'2 points']"
      ]
     },
     "execution_count": 46,
     "metadata": {},
     "output_type": "execute_result"
    }
   ],
   "source": [
    "points = Selector(text=HTML).xpath('//td[@class=\"subtext\"]/span/text()').extract()\n",
    "points[:5]"
   ]
  },
  {
   "cell_type": "markdown",
   "metadata": {},
   "source": [
    "### How About the \"More\" Link?\n",
    "\n",
    "> *Hint: You can use `element[text()='exact text']` to find text elements matching specific text.*"
   ]
  },
  {
   "cell_type": "code",
   "execution_count": 50,
   "metadata": {},
   "outputs": [
    {
     "data": {
      "text/plain": [
       "[u'/x?fnid=FnSQv9RB44']"
      ]
     },
     "execution_count": 50,
     "metadata": {},
     "output_type": "execute_result"
    }
   ],
   "source": [
    "Selector(text=HTML).xpath('//a[text()=\"More\"]/@href').extract()"
   ]
  },
  {
   "cell_type": "markdown",
   "metadata": {},
   "source": [
    "<a id='independent'></a>\n",
    "## Independent Practice\n",
    "\n",
    "---\n",
    "\n",
    "**For the next 30 minutes, try to grab the following from DataTau:**\n",
    "\n",
    "- Story titles\n",
    "- Story URL (href)\n",
    "- Domain\n",
    "- Points\n",
    "\n",
    "**Stretch goals:**\n",
    "- Author\n",
    "- Comment count\n",
    "\n",
    "**Put your results into a DataFrame.**\n",
    "\n",
    "- Perform a basic analysis of domains and point distributions\n",
    "\n",
    "**Bonus**\n",
    "\n",
    "Automatically find the next \"more\" link and mine the next page(s) until none exist. Logically, you can parse each page with this pseudocode:\n",
    "\n",
    "- Does the next link exist (a tag with `text == \"More\"`)?\n",
    "- Fetch the URL, prepended with domain (`datatau.com/(extracted link here)`)\n",
    "- Parse the page with `Selector(text=HTML).xpath('').extract()` to find the elements\n",
    "- Add to DataFrame\n",
    "\n",
    "> _Note: You might want to set a limit — something like 2–3 total requests per attempt — to avoid unnecessary transfer._\n"
   ]
  },
  {
   "cell_type": "code",
   "execution_count": 57,
   "metadata": {},
   "outputs": [],
   "source": [
    "titles = pd.DataFrame(titles)\n",
    "urls = pd.DataFrame(urls)\n",
    "domains = pd.DataFrame(domains)\n",
    "points = pd.DataFrame(points)"
   ]
  },
  {
   "cell_type": "code",
   "execution_count": 60,
   "metadata": {},
   "outputs": [
    {
     "data": {
      "text/html": [
       "<div>\n",
       "<style scoped>\n",
       "    .dataframe tbody tr th:only-of-type {\n",
       "        vertical-align: middle;\n",
       "    }\n",
       "\n",
       "    .dataframe tbody tr th {\n",
       "        vertical-align: top;\n",
       "    }\n",
       "\n",
       "    .dataframe thead th {\n",
       "        text-align: right;\n",
       "    }\n",
       "</style>\n",
       "<table border=\"1\" class=\"dataframe\">\n",
       "  <thead>\n",
       "    <tr style=\"text-align: right;\">\n",
       "      <th></th>\n",
       "      <th>titles</th>\n",
       "      <th>urls</th>\n",
       "      <th>domains</th>\n",
       "      <th>points</th>\n",
       "    </tr>\n",
       "  </thead>\n",
       "  <tbody>\n",
       "    <tr>\n",
       "      <th>0</th>\n",
       "      <td>1.1 Billion Taxi Rides with SQLite, Parquet &amp; ...</td>\n",
       "      <td>http://tech.marksblogg.com/billion-nyc-taxi-ri...</td>\n",
       "      <td>(marksblogg.com)</td>\n",
       "      <td>2 points</td>\n",
       "    </tr>\n",
       "    <tr>\n",
       "      <th>1</th>\n",
       "      <td>Introducing the IRONdb Prometheus Adapter</td>\n",
       "      <td>https://www.circonus.com/2018/06/prometheus-ad...</td>\n",
       "      <td>(circonus.com)</td>\n",
       "      <td>2 points</td>\n",
       "    </tr>\n",
       "    <tr>\n",
       "      <th>2</th>\n",
       "      <td>Spatiotemporal modeling with R</td>\n",
       "      <td>https://github.com/Italosayan/P-P-P</td>\n",
       "      <td>(github.com)</td>\n",
       "      <td>3 points</td>\n",
       "    </tr>\n",
       "    <tr>\n",
       "      <th>3</th>\n",
       "      <td>Python libraries and packages for Data Scienti...</td>\n",
       "      <td>https://data36.com/python-libraries-packages-d...</td>\n",
       "      <td>(data36.com)</td>\n",
       "      <td>5 points</td>\n",
       "    </tr>\n",
       "    <tr>\n",
       "      <th>4</th>\n",
       "      <td>Scaling Pandas to the Billions with Ibis and MapD</td>\n",
       "      <td>https://www.mapd.com/blog/scaling-pandas-to-th...</td>\n",
       "      <td>(mapd.com)</td>\n",
       "      <td>2 points</td>\n",
       "    </tr>\n",
       "    <tr>\n",
       "      <th>5</th>\n",
       "      <td>Introducing plotly.py 3.0.0</td>\n",
       "      <td>https://medium.com/@plotlygraphs/introducing-p...</td>\n",
       "      <td>(medium.com)</td>\n",
       "      <td>2 points</td>\n",
       "    </tr>\n",
       "    <tr>\n",
       "      <th>6</th>\n",
       "      <td>Tutorial: Setting up an IPFS peer, part IV</td>\n",
       "      <td>https://medium.com/textileio/tutorial-setting-...</td>\n",
       "      <td>(medium.com)</td>\n",
       "      <td>2 points</td>\n",
       "    </tr>\n",
       "    <tr>\n",
       "      <th>7</th>\n",
       "      <td>Announcing MapD 4.0: Geospatial, Role-Based Pe...</td>\n",
       "      <td>https://www.mapd.com/blog/announcing-mapd-4.0/</td>\n",
       "      <td>(mapd.com)</td>\n",
       "      <td>3 points</td>\n",
       "    </tr>\n",
       "    <tr>\n",
       "      <th>8</th>\n",
       "      <td>The Good, Bad and Ugly: Apache Spark for Data ...</td>\n",
       "      <td>https://thenewstack.io/the-good-bad-and-ugly-a...</td>\n",
       "      <td>(thenewstack.io)</td>\n",
       "      <td>2 points</td>\n",
       "    </tr>\n",
       "    <tr>\n",
       "      <th>9</th>\n",
       "      <td>How to balance the load on a data team</td>\n",
       "      <td>https://statsbot.co/blog/data-team</td>\n",
       "      <td>(statsbot.co)</td>\n",
       "      <td>6 points</td>\n",
       "    </tr>\n",
       "    <tr>\n",
       "      <th>10</th>\n",
       "      <td>Artificial Intelligence is the Bicycle for our...</td>\n",
       "      <td>https://medium.com/acing-ai/artificial-intelli...</td>\n",
       "      <td>(medium.com)</td>\n",
       "      <td>2 points</td>\n",
       "    </tr>\n",
       "    <tr>\n",
       "      <th>11</th>\n",
       "      <td>Let R/Python send messages when the algorithms...</td>\n",
       "      <td>http://www.theanalyticslab.nl/2018/06/24/teleg...</td>\n",
       "      <td>(theanalyticslab.nl)</td>\n",
       "      <td>3 points</td>\n",
       "    </tr>\n",
       "    <tr>\n",
       "      <th>12</th>\n",
       "      <td>Automated Feature Engineering in Python</td>\n",
       "      <td>https://towardsdatascience.com/automated-featu...</td>\n",
       "      <td>(towardsdatascience.com)</td>\n",
       "      <td>5 points</td>\n",
       "    </tr>\n",
       "    <tr>\n",
       "      <th>13</th>\n",
       "      <td>Walmart Data Science Interview Questions</td>\n",
       "      <td>https://medium.com/acing-ai/walmart-data-scien...</td>\n",
       "      <td>(medium.com)</td>\n",
       "      <td>6 points</td>\n",
       "    </tr>\n",
       "    <tr>\n",
       "      <th>14</th>\n",
       "      <td>The Junior Data Scientist's First Month (Class...</td>\n",
       "      <td>https://courses.data36.com/p/the-junior-data-s...</td>\n",
       "      <td>(data36.com)</td>\n",
       "      <td>2 points</td>\n",
       "    </tr>\n",
       "    <tr>\n",
       "      <th>15</th>\n",
       "      <td>Practice DS interview questions through email ...</td>\n",
       "      <td>https://www.interviewqs.com/</td>\n",
       "      <td>(interviewqs.com)</td>\n",
       "      <td>9 points</td>\n",
       "    </tr>\n",
       "    <tr>\n",
       "      <th>16</th>\n",
       "      <td>Tensor Networks and the Nature of Non-Linearity</td>\n",
       "      <td>http://outlace.com/TensorNets1.html</td>\n",
       "      <td>(outlace.com)</td>\n",
       "      <td>4 points</td>\n",
       "    </tr>\n",
       "    <tr>\n",
       "      <th>17</th>\n",
       "      <td>Simple topic modeling using tensorflow</td>\n",
       "      <td>https://github.com/nateraw/Lda2vec-Tensorflow</td>\n",
       "      <td>(github.com)</td>\n",
       "      <td>5 points</td>\n",
       "    </tr>\n",
       "    <tr>\n",
       "      <th>18</th>\n",
       "      <td>Decentralized code distribution for the future...</td>\n",
       "      <td>https://medium.com/textileio/decentralized-cod...</td>\n",
       "      <td>(medium.com)</td>\n",
       "      <td>3 points</td>\n",
       "    </tr>\n",
       "    <tr>\n",
       "      <th>19</th>\n",
       "      <td>DataScience Digest - Issue #13</td>\n",
       "      <td>http://datasciencedigest.flyelephant.net/issue...</td>\n",
       "      <td>(flyelephant.net)</td>\n",
       "      <td>9 points</td>\n",
       "    </tr>\n",
       "    <tr>\n",
       "      <th>20</th>\n",
       "      <td>How to easily automate Drone-based monitoring ...</td>\n",
       "      <td>https://medium.com/nanonets/how-we-flew-a-dron...</td>\n",
       "      <td>(medium.com)</td>\n",
       "      <td>12 points</td>\n",
       "    </tr>\n",
       "    <tr>\n",
       "      <th>21</th>\n",
       "      <td>A key for mastering data science</td>\n",
       "      <td>http://www.sharpsightlabs.com/blog/key-for-mas...</td>\n",
       "      <td>(sharpsightlabs.com)</td>\n",
       "      <td>3 points</td>\n",
       "    </tr>\n",
       "    <tr>\n",
       "      <th>22</th>\n",
       "      <td>Practical Apache Spark in 10 minutes. Part 2</td>\n",
       "      <td>https://www.medium.com/data-science-school/pra...</td>\n",
       "      <td>(medium.com)</td>\n",
       "      <td>26 points</td>\n",
       "    </tr>\n",
       "    <tr>\n",
       "      <th>23</th>\n",
       "      <td>How to easily do Topic Modeling with LSA, PSLA...</td>\n",
       "      <td>https://medium.com/nanonets/topic-modeling-wit...</td>\n",
       "      <td>(medium.com)</td>\n",
       "      <td>19 points</td>\n",
       "    </tr>\n",
       "    <tr>\n",
       "      <th>24</th>\n",
       "      <td>Reinforcement Learning from scratch</td>\n",
       "      <td>https://blog.insightdatascience.com/reinforcem...</td>\n",
       "      <td>(insightdatascience.com)</td>\n",
       "      <td>8 points</td>\n",
       "    </tr>\n",
       "    <tr>\n",
       "      <th>25</th>\n",
       "      <td>Top 7 Data Science Use Cases in Finance</td>\n",
       "      <td>https://www.medium.com/activewizards-machine-l...</td>\n",
       "      <td>(medium.com)</td>\n",
       "      <td>30 points</td>\n",
       "    </tr>\n",
       "    <tr>\n",
       "      <th>26</th>\n",
       "      <td>Top 20 R Libraries for Data Science in 2018 [I...</td>\n",
       "      <td>https://www.medium.com/activewizards-machine-l...</td>\n",
       "      <td>(medium.com)</td>\n",
       "      <td>21 points</td>\n",
       "    </tr>\n",
       "    <tr>\n",
       "      <th>27</th>\n",
       "      <td>Geolocated nearest neighbors in product campai...</td>\n",
       "      <td>https://blog.alookanalytics.com/2018/06/11/geo...</td>\n",
       "      <td>(alookanalytics.com)</td>\n",
       "      <td>5 points</td>\n",
       "    </tr>\n",
       "    <tr>\n",
       "      <th>28</th>\n",
       "      <td>SQL queries to optimize BigQuery costs</td>\n",
       "      <td>https://statsbot.co/blog/bigquery-vs-redshift-...</td>\n",
       "      <td>(statsbot.co)</td>\n",
       "      <td>4 points</td>\n",
       "    </tr>\n",
       "    <tr>\n",
       "      <th>29</th>\n",
       "      <td>The Complex Analytical Process to Define Busin...</td>\n",
       "      <td>https://statsbot.co/blog/business-metrics-for-...</td>\n",
       "      <td>(statsbot.co)</td>\n",
       "      <td>6 points</td>\n",
       "    </tr>\n",
       "    <tr>\n",
       "      <th>30</th>\n",
       "      <td>More</td>\n",
       "      <td>/x?fnid=FnSQv9RB44</td>\n",
       "      <td>NaN</td>\n",
       "      <td>NaN</td>\n",
       "    </tr>\n",
       "  </tbody>\n",
       "</table>\n",
       "</div>"
      ],
      "text/plain": [
       "                                               titles  \\\n",
       "0   1.1 Billion Taxi Rides with SQLite, Parquet & ...   \n",
       "1           Introducing the IRONdb Prometheus Adapter   \n",
       "2                      Spatiotemporal modeling with R   \n",
       "3   Python libraries and packages for Data Scienti...   \n",
       "4   Scaling Pandas to the Billions with Ibis and MapD   \n",
       "5                         Introducing plotly.py 3.0.0   \n",
       "6          Tutorial: Setting up an IPFS peer, part IV   \n",
       "7   Announcing MapD 4.0: Geospatial, Role-Based Pe...   \n",
       "8   The Good, Bad and Ugly: Apache Spark for Data ...   \n",
       "9              How to balance the load on a data team   \n",
       "10  Artificial Intelligence is the Bicycle for our...   \n",
       "11  Let R/Python send messages when the algorithms...   \n",
       "12            Automated Feature Engineering in Python   \n",
       "13           Walmart Data Science Interview Questions   \n",
       "14  The Junior Data Scientist's First Month (Class...   \n",
       "15  Practice DS interview questions through email ...   \n",
       "16    Tensor Networks and the Nature of Non-Linearity   \n",
       "17             Simple topic modeling using tensorflow   \n",
       "18  Decentralized code distribution for the future...   \n",
       "19                     DataScience Digest - Issue #13   \n",
       "20  How to easily automate Drone-based monitoring ...   \n",
       "21                   A key for mastering data science   \n",
       "22       Practical Apache Spark in 10 minutes. Part 2   \n",
       "23  How to easily do Topic Modeling with LSA, PSLA...   \n",
       "24                Reinforcement Learning from scratch   \n",
       "25            Top 7 Data Science Use Cases in Finance   \n",
       "26  Top 20 R Libraries for Data Science in 2018 [I...   \n",
       "27  Geolocated nearest neighbors in product campai...   \n",
       "28             SQL queries to optimize BigQuery costs   \n",
       "29  The Complex Analytical Process to Define Busin...   \n",
       "30                                               More   \n",
       "\n",
       "                                                 urls  \\\n",
       "0   http://tech.marksblogg.com/billion-nyc-taxi-ri...   \n",
       "1   https://www.circonus.com/2018/06/prometheus-ad...   \n",
       "2                 https://github.com/Italosayan/P-P-P   \n",
       "3   https://data36.com/python-libraries-packages-d...   \n",
       "4   https://www.mapd.com/blog/scaling-pandas-to-th...   \n",
       "5   https://medium.com/@plotlygraphs/introducing-p...   \n",
       "6   https://medium.com/textileio/tutorial-setting-...   \n",
       "7      https://www.mapd.com/blog/announcing-mapd-4.0/   \n",
       "8   https://thenewstack.io/the-good-bad-and-ugly-a...   \n",
       "9                  https://statsbot.co/blog/data-team   \n",
       "10  https://medium.com/acing-ai/artificial-intelli...   \n",
       "11  http://www.theanalyticslab.nl/2018/06/24/teleg...   \n",
       "12  https://towardsdatascience.com/automated-featu...   \n",
       "13  https://medium.com/acing-ai/walmart-data-scien...   \n",
       "14  https://courses.data36.com/p/the-junior-data-s...   \n",
       "15                       https://www.interviewqs.com/   \n",
       "16                http://outlace.com/TensorNets1.html   \n",
       "17      https://github.com/nateraw/Lda2vec-Tensorflow   \n",
       "18  https://medium.com/textileio/decentralized-cod...   \n",
       "19  http://datasciencedigest.flyelephant.net/issue...   \n",
       "20  https://medium.com/nanonets/how-we-flew-a-dron...   \n",
       "21  http://www.sharpsightlabs.com/blog/key-for-mas...   \n",
       "22  https://www.medium.com/data-science-school/pra...   \n",
       "23  https://medium.com/nanonets/topic-modeling-wit...   \n",
       "24  https://blog.insightdatascience.com/reinforcem...   \n",
       "25  https://www.medium.com/activewizards-machine-l...   \n",
       "26  https://www.medium.com/activewizards-machine-l...   \n",
       "27  https://blog.alookanalytics.com/2018/06/11/geo...   \n",
       "28  https://statsbot.co/blog/bigquery-vs-redshift-...   \n",
       "29  https://statsbot.co/blog/business-metrics-for-...   \n",
       "30                                 /x?fnid=FnSQv9RB44   \n",
       "\n",
       "                       domains     points  \n",
       "0            (marksblogg.com)    2 points  \n",
       "1              (circonus.com)    2 points  \n",
       "2                (github.com)    3 points  \n",
       "3                (data36.com)    5 points  \n",
       "4                  (mapd.com)    2 points  \n",
       "5                (medium.com)    2 points  \n",
       "6                (medium.com)    2 points  \n",
       "7                  (mapd.com)    3 points  \n",
       "8            (thenewstack.io)    2 points  \n",
       "9               (statsbot.co)    6 points  \n",
       "10               (medium.com)    2 points  \n",
       "11       (theanalyticslab.nl)    3 points  \n",
       "12   (towardsdatascience.com)    5 points  \n",
       "13               (medium.com)    6 points  \n",
       "14               (data36.com)    2 points  \n",
       "15          (interviewqs.com)    9 points  \n",
       "16              (outlace.com)    4 points  \n",
       "17               (github.com)    5 points  \n",
       "18               (medium.com)    3 points  \n",
       "19          (flyelephant.net)    9 points  \n",
       "20               (medium.com)   12 points  \n",
       "21       (sharpsightlabs.com)    3 points  \n",
       "22               (medium.com)   26 points  \n",
       "23               (medium.com)   19 points  \n",
       "24   (insightdatascience.com)    8 points  \n",
       "25               (medium.com)   30 points  \n",
       "26               (medium.com)   21 points  \n",
       "27       (alookanalytics.com)    5 points  \n",
       "28              (statsbot.co)    4 points  \n",
       "29              (statsbot.co)    6 points  \n",
       "30                         NaN        NaN  "
      ]
     },
     "execution_count": 60,
     "metadata": {},
     "output_type": "execute_result"
    }
   ],
   "source": [
    "df = pd.concat([titles,urls,domains,points],axis=1)\n",
    "df.columns = ['titles','urls','domains','points']\n",
    "df"
   ]
  }
 ],
 "metadata": {
  "anaconda-cloud": {},
  "kernelspec": {
   "display_name": "Python 2",
   "language": "python",
   "name": "python2"
  },
  "language_info": {
   "codemirror_mode": {
    "name": "ipython",
    "version": 2
   },
   "file_extension": ".py",
   "mimetype": "text/x-python",
   "name": "python",
   "nbconvert_exporter": "python",
   "pygments_lexer": "ipython2",
   "version": "2.7.14"
  }
 },
 "nbformat": 4,
 "nbformat_minor": 1
}
