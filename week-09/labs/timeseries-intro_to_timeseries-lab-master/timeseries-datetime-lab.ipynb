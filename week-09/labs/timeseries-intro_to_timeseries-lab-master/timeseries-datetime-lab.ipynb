{
 "cells": [
  {
   "cell_type": "markdown",
   "metadata": {},
   "source": [
    "<img src=\"http://imgur.com/1ZcRyrc.png\" style=\"float: left; margin: 20px; height: 55px\">\n",
    "\n",
    "# Practice Using Time Series Data and Datetime\n",
    "\n",
    "_Authors: Samuel Stack (DC)_\n",
    "\n",
    "---\n",
    "\n",
    "This lab covers the basics of manipulating datetime objects and using datetimes in Pandas."
   ]
  },
  {
   "cell_type": "markdown",
   "metadata": {},
   "source": [
    "### 1) Create a datetime object representing today's date."
   ]
  },
  {
   "cell_type": "code",
   "execution_count": 1,
   "metadata": {},
   "outputs": [],
   "source": [
    "from datetime import datetime\n",
    "from datetime import timedelta"
   ]
  },
  {
   "cell_type": "code",
   "execution_count": 48,
   "metadata": {},
   "outputs": [
    {
     "data": {
      "text/plain": [
       "datetime.datetime(2018, 7, 23, 10, 46, 27, 622000)"
      ]
     },
     "execution_count": 48,
     "metadata": {},
     "output_type": "execute_result"
    }
   ],
   "source": [
    "date_now = datetime.today()\n",
    "date_now"
   ]
  },
  {
   "cell_type": "markdown",
   "metadata": {},
   "source": [
    "### 2) Write a function to print the day of the week for a datetime object."
   ]
  },
  {
   "cell_type": "code",
   "execution_count": 34,
   "metadata": {},
   "outputs": [
    {
     "name": "stdout",
     "output_type": "stream",
     "text": [
      "1\n",
      "0\n"
     ]
    }
   ],
   "source": [
    "print date_now.isoweekday()\n",
    "print date_now.weekday()"
   ]
  },
  {
   "cell_type": "markdown",
   "metadata": {},
   "source": [
    "### 3) What is the Gregorian ordinal representation of today's date? What is the difference in days between the ordinal representation of today's date and the ordinal representation of your birthday?\n",
    "\n",
    "> *Hint: Use `.toordinal()` to get the ordinal representation. This calculates the number of days between your birthday and today's date."
   ]
  },
  {
   "cell_type": "code",
   "execution_count": 33,
   "metadata": {},
   "outputs": [
    {
     "data": {
      "text/plain": [
       "736898"
      ]
     },
     "execution_count": 33,
     "metadata": {},
     "output_type": "execute_result"
    }
   ],
   "source": [
    "date_now.toordinal()"
   ]
  },
  {
   "cell_type": "code",
   "execution_count": 42,
   "metadata": {},
   "outputs": [
    {
     "data": {
      "text/plain": [
       "9945"
      ]
     },
     "execution_count": 42,
     "metadata": {},
     "output_type": "execute_result"
    }
   ],
   "source": [
    "bday = datetime(1991, 5, 1).toordinal() \n",
    "date_now.toordinal() - bday"
   ]
  },
  {
   "cell_type": "markdown",
   "metadata": {},
   "source": [
    "### 4) Try using `timedelta()` to shift our datetime object by the following intervals.\n",
    "- One hour ahead.\n",
    "- Three days ago.\n",
    "- One year, three days, two seconds ahead."
   ]
  },
  {
   "cell_type": "code",
   "execution_count": 52,
   "metadata": {},
   "outputs": [
    {
     "name": "stdout",
     "output_type": "stream",
     "text": [
      "1 hr ahead: 2018-07-23 11:46:27.622000\n",
      "1 hr ahead: 2018-07-20 10:46:27.622000\n",
      "1 hr ahead: 2019-07-26 10:46:29.622000\n"
     ]
    }
   ],
   "source": [
    "# print \"microseconds:\", datetime.timedelta(microseconds=1)\n",
    "# print \"milliseconds:\", datetime.timedelta(milliseconds=1)\n",
    "# print \"seconds     :\", datetime.timedelta(seconds=1)\n",
    "# print \"minutes     :\", datetime.timedelta(minutes=1)\n",
    "# print \"hours       :\", datetime.timedelta(hours=1)\n",
    "# print \"days        :\", datetime.timedelta(days=1)\n",
    "# print \"weeks       :\", datetime.timedelta(weeks=1)\n",
    "\n",
    "print '1 hr ahead:', date_now + timedelta(hours=1)\n",
    "print '1 hr ahead:', date_now - timedelta(days=3)\n",
    "\n",
    "from dateutil.relativedelta import relativedelta\n",
    "\n",
    "print '1 hr ahead:', date_now + relativedelta(years=1) + timedelta(days=3, seconds=2)"
   ]
  },
  {
   "cell_type": "markdown",
   "metadata": {},
   "source": [
    "### 5) Load one of the stock CSVs in the `datasets` folder.\n",
    "\n",
    "Which you choose is up to you!"
   ]
  },
  {
   "cell_type": "code",
   "execution_count": 111,
   "metadata": {},
   "outputs": [],
   "source": [
    "import pandas as pd\n",
    "from datetime import timedelta\n",
    "%matplotlib inline\n",
    "\n",
    "df = pd.read_csv('datasets/vow.csv')"
   ]
  },
  {
   "cell_type": "code",
   "execution_count": 112,
   "metadata": {},
   "outputs": [
    {
     "data": {
      "text/html": [
       "<div>\n",
       "<style scoped>\n",
       "    .dataframe tbody tr th:only-of-type {\n",
       "        vertical-align: middle;\n",
       "    }\n",
       "\n",
       "    .dataframe tbody tr th {\n",
       "        vertical-align: top;\n",
       "    }\n",
       "\n",
       "    .dataframe thead th {\n",
       "        text-align: right;\n",
       "    }\n",
       "</style>\n",
       "<table border=\"1\" class=\"dataframe\">\n",
       "  <thead>\n",
       "    <tr style=\"text-align: right;\">\n",
       "      <th></th>\n",
       "      <th>Date</th>\n",
       "      <th>Open</th>\n",
       "      <th>High</th>\n",
       "      <th>Low</th>\n",
       "      <th>Close</th>\n",
       "      <th>Volume</th>\n",
       "    </tr>\n",
       "  </thead>\n",
       "  <tbody>\n",
       "    <tr>\n",
       "      <th>0</th>\n",
       "      <td>16-Jan-17</td>\n",
       "      <td>150.05</td>\n",
       "      <td>150.70</td>\n",
       "      <td>147.75</td>\n",
       "      <td>148.40</td>\n",
       "      <td>79341</td>\n",
       "    </tr>\n",
       "    <tr>\n",
       "      <th>1</th>\n",
       "      <td>13-Jan-17</td>\n",
       "      <td>151.85</td>\n",
       "      <td>154.00</td>\n",
       "      <td>149.95</td>\n",
       "      <td>151.75</td>\n",
       "      <td>112464</td>\n",
       "    </tr>\n",
       "    <tr>\n",
       "      <th>2</th>\n",
       "      <td>12-Jan-17</td>\n",
       "      <td>154.05</td>\n",
       "      <td>154.30</td>\n",
       "      <td>148.85</td>\n",
       "      <td>150.70</td>\n",
       "      <td>173155</td>\n",
       "    </tr>\n",
       "    <tr>\n",
       "      <th>3</th>\n",
       "      <td>11-Jan-17</td>\n",
       "      <td>149.05</td>\n",
       "      <td>153.65</td>\n",
       "      <td>148.80</td>\n",
       "      <td>153.15</td>\n",
       "      <td>181285</td>\n",
       "    </tr>\n",
       "    <tr>\n",
       "      <th>4</th>\n",
       "      <td>10-Jan-17</td>\n",
       "      <td>148.05</td>\n",
       "      <td>149.85</td>\n",
       "      <td>146.60</td>\n",
       "      <td>148.10</td>\n",
       "      <td>137786</td>\n",
       "    </tr>\n",
       "  </tbody>\n",
       "</table>\n",
       "</div>"
      ],
      "text/plain": [
       "        Date    Open    High     Low   Close  Volume\n",
       "0  16-Jan-17  150.05  150.70  147.75  148.40   79341\n",
       "1  13-Jan-17  151.85  154.00  149.95  151.75  112464\n",
       "2  12-Jan-17  154.05  154.30  148.85  150.70  173155\n",
       "3  11-Jan-17  149.05  153.65  148.80  153.15  181285\n",
       "4  10-Jan-17  148.05  149.85  146.60  148.10  137786"
      ]
     },
     "execution_count": 112,
     "metadata": {},
     "output_type": "execute_result"
    }
   ],
   "source": [
    "df.head()"
   ]
  },
  {
   "cell_type": "code",
   "execution_count": 116,
   "metadata": {},
   "outputs": [
    {
     "data": {
      "text/plain": [
       "0      16\n",
       "1      13\n",
       "2      12\n",
       "3      11\n",
       "4      10\n",
       "5       9\n",
       "6       6\n",
       "7       5\n",
       "8       4\n",
       "9       3\n",
       "10      2\n",
       "11     30\n",
       "12     29\n",
       "13     28\n",
       "14     27\n",
       "15     23\n",
       "16     22\n",
       "17     21\n",
       "18     20\n",
       "19     19\n",
       "20     16\n",
       "21     15\n",
       "22     14\n",
       "23     13\n",
       "24     12\n",
       "25      9\n",
       "26      8\n",
       "27      7\n",
       "28      6\n",
       "29      5\n",
       "       ..\n",
       "225    29\n",
       "226    26\n",
       "227    25\n",
       "228    24\n",
       "229    23\n",
       "230    22\n",
       "231    19\n",
       "232    18\n",
       "233    17\n",
       "234    16\n",
       "235    15\n",
       "236    12\n",
       "237    11\n",
       "238    10\n",
       "239     9\n",
       "240     8\n",
       "241     5\n",
       "242     4\n",
       "243     3\n",
       "244     2\n",
       "245     1\n",
       "246    29\n",
       "247    28\n",
       "248    27\n",
       "249    26\n",
       "250    25\n",
       "251    22\n",
       "252    21\n",
       "253    20\n",
       "254    19\n",
       "Name: Date, Length: 255, dtype: int64"
      ]
     },
     "execution_count": 116,
     "metadata": {},
     "output_type": "execute_result"
    }
   ],
   "source": [
    "pd.to_datetime(df['Date']).dt.day"
   ]
  },
  {
   "cell_type": "markdown",
   "metadata": {},
   "source": [
    "### 6) Take a high-level look at the data. Describe it. What are we looking at? \n",
    "\n",
    "Use a plotting function to provide a good visual."
   ]
  },
  {
   "cell_type": "code",
   "execution_count": 120,
   "metadata": {},
   "outputs": [],
   "source": [
    "df['Date'] = pd.to_datetime(df['Date'])\n",
    "df.set_index('Date', inplace=True)"
   ]
  },
  {
   "cell_type": "code",
   "execution_count": 121,
   "metadata": {},
   "outputs": [
    {
     "data": {
      "text/plain": [
       "<matplotlib.axes._subplots.AxesSubplot at 0xb9cbe48>"
      ]
     },
     "execution_count": 121,
     "metadata": {},
     "output_type": "execute_result"
    },
    {
     "data": {
      "image/png": "[encoded data removed]",
      "text/plain": [
       "<matplotlib.figure.Figure at 0xb61ab70>"
      ]
     },
     "metadata": {},
     "output_type": "display_data"
    }
   ],
   "source": [
    "import matplotlib.pyplot as plt\n",
    "\n",
    "df.drop('Volume', axis=1).plot(figsize=(10,7))"
   ]
  },
  {
   "cell_type": "code",
   "execution_count": 122,
   "metadata": {},
   "outputs": [
    {
     "data": {
      "text/html": [
       "<div>\n",
       "<style scoped>\n",
       "    .dataframe tbody tr th:only-of-type {\n",
       "        vertical-align: middle;\n",
       "    }\n",
       "\n",
       "    .dataframe tbody tr th {\n",
       "        vertical-align: top;\n",
       "    }\n",
       "\n",
       "    .dataframe thead th {\n",
       "        text-align: right;\n",
       "    }\n",
       "</style>\n",
       "<table border=\"1\" class=\"dataframe\">\n",
       "  <thead>\n",
       "    <tr style=\"text-align: right;\">\n",
       "      <th></th>\n",
       "      <th>Open</th>\n",
       "      <th>High</th>\n",
       "      <th>Low</th>\n",
       "      <th>Close</th>\n",
       "      <th>Volume</th>\n",
       "    </tr>\n",
       "    <tr>\n",
       "      <th>Date</th>\n",
       "      <th></th>\n",
       "      <th></th>\n",
       "      <th></th>\n",
       "      <th></th>\n",
       "      <th></th>\n",
       "    </tr>\n",
       "  </thead>\n",
       "  <tbody>\n",
       "    <tr>\n",
       "      <th>2017-01-16</th>\n",
       "      <td>150.05</td>\n",
       "      <td>150.70</td>\n",
       "      <td>147.75</td>\n",
       "      <td>148.40</td>\n",
       "      <td>79341</td>\n",
       "    </tr>\n",
       "    <tr>\n",
       "      <th>2017-01-13</th>\n",
       "      <td>151.85</td>\n",
       "      <td>154.00</td>\n",
       "      <td>149.95</td>\n",
       "      <td>151.75</td>\n",
       "      <td>112464</td>\n",
       "    </tr>\n",
       "    <tr>\n",
       "      <th>2017-01-12</th>\n",
       "      <td>154.05</td>\n",
       "      <td>154.30</td>\n",
       "      <td>148.85</td>\n",
       "      <td>150.70</td>\n",
       "      <td>173155</td>\n",
       "    </tr>\n",
       "    <tr>\n",
       "      <th>2017-01-11</th>\n",
       "      <td>149.05</td>\n",
       "      <td>153.65</td>\n",
       "      <td>148.80</td>\n",
       "      <td>153.15</td>\n",
       "      <td>181285</td>\n",
       "    </tr>\n",
       "    <tr>\n",
       "      <th>2017-01-10</th>\n",
       "      <td>148.05</td>\n",
       "      <td>149.85</td>\n",
       "      <td>146.60</td>\n",
       "      <td>148.10</td>\n",
       "      <td>137786</td>\n",
       "    </tr>\n",
       "  </tbody>\n",
       "</table>\n",
       "</div>"
      ],
      "text/plain": [
       "              Open    High     Low   Close  Volume\n",
       "Date                                              \n",
       "2017-01-16  150.05  150.70  147.75  148.40   79341\n",
       "2017-01-13  151.85  154.00  149.95  151.75  112464\n",
       "2017-01-12  154.05  154.30  148.85  150.70  173155\n",
       "2017-01-11  149.05  153.65  148.80  153.15  181285\n",
       "2017-01-10  148.05  149.85  146.60  148.10  137786"
      ]
     },
     "execution_count": 122,
     "metadata": {},
     "output_type": "execute_result"
    }
   ],
   "source": [
    "df.head()"
   ]
  },
  {
   "cell_type": "markdown",
   "metadata": {},
   "source": [
    "### 7) Examine the Date column. Make it the index of the DataFrame.\n",
    "\n",
    "Making the index a datetime allows us to easily order the data by time. Doing this will result in six Series objects indexed by DateTime — a literal time series!"
   ]
  },
  {
   "cell_type": "code",
   "execution_count": 123,
   "metadata": {},
   "outputs": [],
   "source": [
    "# A:"
   ]
  },
  {
   "cell_type": "code",
   "execution_count": 124,
   "metadata": {},
   "outputs": [],
   "source": [
    "# A:"
   ]
  },
  {
   "cell_type": "markdown",
   "metadata": {},
   "source": [
    "### 8) Add columns with useful data extracted from the DateTime index.\n",
    "\n",
    "Create at least three columns; one for day, month, and year.\n"
   ]
  },
  {
   "cell_type": "code",
   "execution_count": 125,
   "metadata": {},
   "outputs": [
    {
     "data": {
      "text/html": [
       "<div>\n",
       "<style scoped>\n",
       "    .dataframe tbody tr th:only-of-type {\n",
       "        vertical-align: middle;\n",
       "    }\n",
       "\n",
       "    .dataframe tbody tr th {\n",
       "        vertical-align: top;\n",
       "    }\n",
       "\n",
       "    .dataframe thead th {\n",
       "        text-align: right;\n",
       "    }\n",
       "</style>\n",
       "<table border=\"1\" class=\"dataframe\">\n",
       "  <thead>\n",
       "    <tr style=\"text-align: right;\">\n",
       "      <th></th>\n",
       "      <th>Open</th>\n",
       "      <th>High</th>\n",
       "      <th>Low</th>\n",
       "      <th>Close</th>\n",
       "      <th>Volume</th>\n",
       "      <th>day</th>\n",
       "      <th>month</th>\n",
       "      <th>year</th>\n",
       "    </tr>\n",
       "    <tr>\n",
       "      <th>Date</th>\n",
       "      <th></th>\n",
       "      <th></th>\n",
       "      <th></th>\n",
       "      <th></th>\n",
       "      <th></th>\n",
       "      <th></th>\n",
       "      <th></th>\n",
       "      <th></th>\n",
       "    </tr>\n",
       "  </thead>\n",
       "  <tbody>\n",
       "    <tr>\n",
       "      <th>2017-01-16</th>\n",
       "      <td>150.05</td>\n",
       "      <td>150.70</td>\n",
       "      <td>147.75</td>\n",
       "      <td>148.40</td>\n",
       "      <td>79341</td>\n",
       "      <td>16</td>\n",
       "      <td>1</td>\n",
       "      <td>2017</td>\n",
       "    </tr>\n",
       "    <tr>\n",
       "      <th>2017-01-13</th>\n",
       "      <td>151.85</td>\n",
       "      <td>154.00</td>\n",
       "      <td>149.95</td>\n",
       "      <td>151.75</td>\n",
       "      <td>112464</td>\n",
       "      <td>13</td>\n",
       "      <td>1</td>\n",
       "      <td>2017</td>\n",
       "    </tr>\n",
       "    <tr>\n",
       "      <th>2017-01-12</th>\n",
       "      <td>154.05</td>\n",
       "      <td>154.30</td>\n",
       "      <td>148.85</td>\n",
       "      <td>150.70</td>\n",
       "      <td>173155</td>\n",
       "      <td>12</td>\n",
       "      <td>1</td>\n",
       "      <td>2017</td>\n",
       "    </tr>\n",
       "    <tr>\n",
       "      <th>2017-01-11</th>\n",
       "      <td>149.05</td>\n",
       "      <td>153.65</td>\n",
       "      <td>148.80</td>\n",
       "      <td>153.15</td>\n",
       "      <td>181285</td>\n",
       "      <td>11</td>\n",
       "      <td>1</td>\n",
       "      <td>2017</td>\n",
       "    </tr>\n",
       "    <tr>\n",
       "      <th>2017-01-10</th>\n",
       "      <td>148.05</td>\n",
       "      <td>149.85</td>\n",
       "      <td>146.60</td>\n",
       "      <td>148.10</td>\n",
       "      <td>137786</td>\n",
       "      <td>10</td>\n",
       "      <td>1</td>\n",
       "      <td>2017</td>\n",
       "    </tr>\n",
       "  </tbody>\n",
       "</table>\n",
       "</div>"
      ],
      "text/plain": [
       "              Open    High     Low   Close  Volume  day  month  year\n",
       "Date                                                                \n",
       "2017-01-16  150.05  150.70  147.75  148.40   79341   16      1  2017\n",
       "2017-01-13  151.85  154.00  149.95  151.75  112464   13      1  2017\n",
       "2017-01-12  154.05  154.30  148.85  150.70  173155   12      1  2017\n",
       "2017-01-11  149.05  153.65  148.80  153.15  181285   11      1  2017\n",
       "2017-01-10  148.05  149.85  146.60  148.10  137786   10      1  2017"
      ]
     },
     "execution_count": 125,
     "metadata": {},
     "output_type": "execute_result"
    }
   ],
   "source": [
    "df['day'] = df.index.day\n",
    "df['month'] = df.index.month\n",
    "df['year'] = df.index.year\n",
    "df.head()"
   ]
  },
  {
   "cell_type": "code",
   "execution_count": 128,
   "metadata": {},
   "outputs": [
    {
     "data": {
      "text/plain": [
       "array([2017, 2016], dtype=int64)"
      ]
     },
     "execution_count": 128,
     "metadata": {},
     "output_type": "execute_result"
    }
   ],
   "source": [
    "df.year.unique()"
   ]
  },
  {
   "cell_type": "markdown",
   "metadata": {},
   "source": [
    "### 9) Create a subset of the data containing only 2017 dates."
   ]
  },
  {
   "cell_type": "code",
   "execution_count": 127,
   "metadata": {},
   "outputs": [
    {
     "data": {
      "text/html": [
       "<div>\n",
       "<style scoped>\n",
       "    .dataframe tbody tr th:only-of-type {\n",
       "        vertical-align: middle;\n",
       "    }\n",
       "\n",
       "    .dataframe tbody tr th {\n",
       "        vertical-align: top;\n",
       "    }\n",
       "\n",
       "    .dataframe thead th {\n",
       "        text-align: right;\n",
       "    }\n",
       "</style>\n",
       "<table border=\"1\" class=\"dataframe\">\n",
       "  <thead>\n",
       "    <tr style=\"text-align: right;\">\n",
       "      <th></th>\n",
       "      <th>Open</th>\n",
       "      <th>High</th>\n",
       "      <th>Low</th>\n",
       "      <th>Close</th>\n",
       "      <th>Volume</th>\n",
       "      <th>day</th>\n",
       "      <th>month</th>\n",
       "      <th>year</th>\n",
       "    </tr>\n",
       "    <tr>\n",
       "      <th>Date</th>\n",
       "      <th></th>\n",
       "      <th></th>\n",
       "      <th></th>\n",
       "      <th></th>\n",
       "      <th></th>\n",
       "      <th></th>\n",
       "      <th></th>\n",
       "      <th></th>\n",
       "    </tr>\n",
       "  </thead>\n",
       "  <tbody>\n",
       "    <tr>\n",
       "      <th>2017-01-16</th>\n",
       "      <td>150.05</td>\n",
       "      <td>150.70</td>\n",
       "      <td>147.75</td>\n",
       "      <td>148.40</td>\n",
       "      <td>79341</td>\n",
       "      <td>16</td>\n",
       "      <td>1</td>\n",
       "      <td>2017</td>\n",
       "    </tr>\n",
       "    <tr>\n",
       "      <th>2017-01-13</th>\n",
       "      <td>151.85</td>\n",
       "      <td>154.00</td>\n",
       "      <td>149.95</td>\n",
       "      <td>151.75</td>\n",
       "      <td>112464</td>\n",
       "      <td>13</td>\n",
       "      <td>1</td>\n",
       "      <td>2017</td>\n",
       "    </tr>\n",
       "    <tr>\n",
       "      <th>2017-01-12</th>\n",
       "      <td>154.05</td>\n",
       "      <td>154.30</td>\n",
       "      <td>148.85</td>\n",
       "      <td>150.70</td>\n",
       "      <td>173155</td>\n",
       "      <td>12</td>\n",
       "      <td>1</td>\n",
       "      <td>2017</td>\n",
       "    </tr>\n",
       "    <tr>\n",
       "      <th>2017-01-11</th>\n",
       "      <td>149.05</td>\n",
       "      <td>153.65</td>\n",
       "      <td>148.80</td>\n",
       "      <td>153.15</td>\n",
       "      <td>181285</td>\n",
       "      <td>11</td>\n",
       "      <td>1</td>\n",
       "      <td>2017</td>\n",
       "    </tr>\n",
       "    <tr>\n",
       "      <th>2017-01-10</th>\n",
       "      <td>148.05</td>\n",
       "      <td>149.85</td>\n",
       "      <td>146.60</td>\n",
       "      <td>148.10</td>\n",
       "      <td>137786</td>\n",
       "      <td>10</td>\n",
       "      <td>1</td>\n",
       "      <td>2017</td>\n",
       "    </tr>\n",
       "  </tbody>\n",
       "</table>\n",
       "</div>"
      ],
      "text/plain": [
       "              Open    High     Low   Close  Volume  day  month  year\n",
       "Date                                                                \n",
       "2017-01-16  150.05  150.70  147.75  148.40   79341   16      1  2017\n",
       "2017-01-13  151.85  154.00  149.95  151.75  112464   13      1  2017\n",
       "2017-01-12  154.05  154.30  148.85  150.70  173155   12      1  2017\n",
       "2017-01-11  149.05  153.65  148.80  153.15  181285   11      1  2017\n",
       "2017-01-10  148.05  149.85  146.60  148.10  137786   10      1  2017"
      ]
     },
     "execution_count": 127,
     "metadata": {},
     "output_type": "execute_result"
    }
   ],
   "source": [
    "df2 = df[df['year']==2017]\n",
    "df2.head()"
   ]
  },
  {
   "cell_type": "markdown",
   "metadata": {},
   "source": [
    "### 10) [Example] Date ranges and frequencies.\n",
    "\n",
    "Explore the following built-in methods.\n",
    "- What does `asfreq` do?\n",
    "> - _Converts time series to specified frequency._\n",
    "\n",
    "- What does `resample` do?\n",
    "> - _This is a convenience method for frequency conversion and the resampling of time series. Object must have a datetime-like index (DatetimeIndex, PeriodIndex, or TimedeltaIndex) or pass datetime-like values to the `on` or `level` keyword._\n",
    "\n",
    "We can also create our own date ranges using a built-in function, `date_range()`. The `periods` and `freq` keyword arguments grant the user fine-grained control over the resulting values. To reset the time data, use the `normalize=True` directive.\n"
   ]
  },
  {
   "cell_type": "code",
   "execution_count": 132,
   "metadata": {},
   "outputs": [
    {
     "data": {
      "text/plain": [
       "DatetimeIndex(['2016-03-01', '2016-03-02', '2016-03-03', '2016-03-04',\n",
       "               '2016-03-05', '2016-03-06', '2016-03-07', '2016-03-08',\n",
       "               '2016-03-09', '2016-03-10', '2016-03-11', '2016-03-12',\n",
       "               '2016-03-13', '2016-03-14', '2016-03-15', '2016-03-16',\n",
       "               '2016-03-17', '2016-03-18', '2016-03-19', '2016-03-20'],\n",
       "              dtype='datetime64[ns]', freq='D')"
      ]
     },
     "execution_count": 132,
     "metadata": {},
     "output_type": "execute_result"
    }
   ],
   "source": [
    "pd.date_range(start='3/1/2016', periods=20)"
   ]
  },
  {
   "cell_type": "code",
   "execution_count": 133,
   "metadata": {},
   "outputs": [
    {
     "data": {
      "text/plain": [
       "DatetimeIndex(['2016-05-13', '2016-05-14', '2016-05-15', '2016-05-16',\n",
       "               '2016-05-17', '2016-05-18', '2016-05-19', '2016-05-20',\n",
       "               '2016-05-21', '2016-05-22', '2016-05-23', '2016-05-24',\n",
       "               '2016-05-25', '2016-05-26', '2016-05-27', '2016-05-28',\n",
       "               '2016-05-29', '2016-05-30', '2016-05-31', '2016-06-01'],\n",
       "              dtype='datetime64[ns]', freq='D')"
      ]
     },
     "execution_count": 133,
     "metadata": {},
     "output_type": "execute_result"
    }
   ],
   "source": [
    "pd.date_range(end='6/1/2016', periods=20)"
   ]
  },
  {
   "cell_type": "code",
   "execution_count": 134,
   "metadata": {},
   "outputs": [
    {
     "data": {
      "text/plain": [
       "DatetimeIndex(['2016-01-29', '2016-02-29', '2016-03-31', '2016-04-29',\n",
       "               '2016-05-31', '2016-06-30', '2016-07-29', '2016-08-31',\n",
       "               '2016-09-30', '2016-10-31', '2016-11-30'],\n",
       "              dtype='datetime64[ns]', freq='BM')"
      ]
     },
     "execution_count": 134,
     "metadata": {},
     "output_type": "execute_result"
    }
   ],
   "source": [
    "pd.date_range('1/1/2016', '12/1/2016', freq='BM')"
   ]
  },
  {
   "cell_type": "code",
   "execution_count": 135,
   "metadata": {},
   "outputs": [
    {
     "data": {
      "text/plain": [
       "DatetimeIndex(['2016-03-07 12:56:31', '2016-03-08 12:56:31',\n",
       "               '2016-03-09 12:56:31', '2016-03-10 12:56:31',\n",
       "               '2016-03-11 12:56:31', '2016-03-12 12:56:31'],\n",
       "              dtype='datetime64[ns]', freq='D')"
      ]
     },
     "execution_count": 135,
     "metadata": {},
     "output_type": "execute_result"
    }
   ],
   "source": [
    "pd.date_range('3/7/2016 12:56:31', periods=6)"
   ]
  },
  {
   "cell_type": "code",
   "execution_count": 136,
   "metadata": {},
   "outputs": [
    {
     "data": {
      "text/plain": [
       "DatetimeIndex(['2012-03-07', '2012-03-08', '2012-03-09', '2012-03-10',\n",
       "               '2012-03-11', '2012-03-12'],\n",
       "              dtype='datetime64[ns]', freq='D')"
      ]
     },
     "execution_count": 136,
     "metadata": {},
     "output_type": "execute_result"
    }
   ],
   "source": [
    "pd.date_range('3/7/2012 12:56:31', periods=6, normalize=True)"
   ]
  },
  {
   "cell_type": "code",
   "execution_count": 129,
   "metadata": {},
   "outputs": [
    {
     "data": {
      "text/plain": [
       "DatetimeIndex(['2012-03-07', '2012-03-08', '2012-03-09', '2012-03-10',\n",
       "               '2012-03-11', '2012-03-12'],\n",
       "              dtype='datetime64[ns]', freq='D')"
      ]
     },
     "execution_count": 129,
     "metadata": {},
     "output_type": "execute_result"
    }
   ],
   "source": [
    "index = pd.date_range('3/1/2016', '6/1/2016')\n",
    "\n",
    "# Specify a start point and how many periods should come after.\n",
    "pd.date_range(start='3/1/2016', periods=20)\n",
    "\n",
    "# Specify an end point and how many periods should come before.\n",
    "pd.date_range(end='6/1/2016', periods=20)\n",
    "\n",
    "# Frequency specifies the length of the periods — the default, \"D,\" being daily. We understand that BM is bimonthly.\n",
    "pd.date_range('1/1/2016', '12/1/2016', freq='BM')\n",
    "\n",
    "pd.date_range('3/7/2016 12:56:31', periods=6)\n",
    "# Normalize creates normal daily times and will set the default time for each day as midnight.\n",
    "pd.date_range('3/7/2012 12:56:31', periods=6, normalize=True)"
   ]
  },
  {
   "cell_type": "markdown",
   "metadata": {},
   "source": [
    "We are also given a `Period` object, which can be used to represent a time interval. The `Period` object consists of a start time and an end time and can be created by providing a start time and a given frequency."
   ]
  },
  {
   "cell_type": "code",
   "execution_count": 137,
   "metadata": {},
   "outputs": [
    {
     "name": "stdout",
     "output_type": "stream",
     "text": [
      "2016-03-01 00:00:00\n",
      "2016-03-31 23:59:59.999999999\n"
     ]
    }
   ],
   "source": [
    "# Our start period was March 2016 and our period frequency is months.\n",
    "march_2016 = pd.Period('2016-03', freq='M')\n",
    "\n",
    "print march_2016.start_time\n",
    "print march_2016.end_time"
   ]
  },
  {
   "cell_type": "code",
   "execution_count": 146,
   "metadata": {},
   "outputs": [
    {
     "data": {
      "text/plain": [
       "DatetimeIndex(['2016-01-29', '2016-02-29', '2016-03-31', '2016-04-29',\n",
       "               '2016-05-31', '2016-06-30', '2016-07-29', '2016-08-31',\n",
       "               '2016-09-30', '2016-10-31', '2016-11-30'],\n",
       "              dtype='datetime64[ns]', freq='BM')"
      ]
     },
     "execution_count": 146,
     "metadata": {},
     "output_type": "execute_result"
    }
   ],
   "source": [
    "pd.date_range('1/1/2016', '12/1/2016', freq='bm')"
   ]
  }
 ],
 "metadata": {
  "kernelspec": {
   "display_name": "Python 2",
   "language": "python",
   "name": "python2"
  },
  "language_info": {
   "codemirror_mode": {
    "name": "ipython",
    "version": 2
   },
   "file_extension": ".py",
   "mimetype": "text/x-python",
   "name": "python",
   "nbconvert_exporter": "python",
   "pygments_lexer": "ipython2",
   "version": "2.7.14"
  }
 },
 "nbformat": 4,
 "nbformat_minor": 2
}
