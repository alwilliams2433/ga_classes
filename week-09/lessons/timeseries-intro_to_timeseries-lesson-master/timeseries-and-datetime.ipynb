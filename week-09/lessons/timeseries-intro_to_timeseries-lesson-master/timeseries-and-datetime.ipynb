{
 "cells": [
  {
   "cell_type": "markdown",
   "metadata": {},
   "source": [
    "<img src=\"http://imgur.com/1ZcRyrc.png\" style=\"float: left; margin: 20px; height: 55px\">\n",
    "\n",
    "# Time Series and Datetime\n",
    "\n",
    "_Authors: Samuel Stack (DC)_\n",
    "\n",
    "---\n",
    "\n",
    "### Learning Objectives\n",
    "- Use the datetime library to represent dates as objects.\n",
    "- Learn how to calculate time differences with `timedelta()`.\n",
    "- Use datetime objects in Pandas on the UFO reports data set."
   ]
  },
  {
   "cell_type": "markdown",
   "metadata": {},
   "source": [
    "### Lesson Guide\n",
    "- [The Datetime Library](#the-datetime-library)\n",
    "- [Datetime Objects](#datetime-object)\n",
    "- [`timedelta()`](#timedelta)\n",
    "- [Load the UFO Reports Data](#load-the-ufo-reports-data)\n",
    "- [Pandas' `pd.datetime`](#pandas-pddatetime)\n",
    "\t- [The `.dt` Attribute](#the-dt-attribute)\n",
    "- [Timestamps](#timestamps)\n",
    "- [Additional Resources](#additional-resources)\n"
   ]
  },
  {
   "cell_type": "markdown",
   "metadata": {},
   "source": [
    "<a id=\"the-datetime-library\"></a>\n",
    "## The Datetime Library\n",
    "---\n",
    "\n",
    "Python's `datetime` library is great for dealing with time-related data, and Pandas has incorporated this library into its own datetime series and objects.\n",
    "\n",
    "In this lesson, we'll review these data types and learn a little more about each of them:\n",
    "\n",
    "- Datetime objects.\n",
    "- Datetime series.\n",
    "- Timestamps.\n",
    "- `timedelta()`.\n"
   ]
  },
  {
   "cell_type": "markdown",
   "metadata": {},
   "source": [
    "<a id=\"datetime-object\"></a>\n",
    "## Datetime Objects\n",
    "---\n",
    "\n",
    "Below, we load in the datetime library, which we can use to create a datetime object by entering in the different components of the date as arguments."
   ]
  },
  {
   "cell_type": "code",
   "execution_count": 1,
   "metadata": {},
   "outputs": [],
   "source": [
    "# The datetime library is something you should already have from Anaconda.\n",
    "from datetime import datetime"
   ]
  },
  {
   "cell_type": "markdown",
   "metadata": {},
   "source": [
    "The components of the date are accessible via the object's attributes."
   ]
  },
  {
   "cell_type": "code",
   "execution_count": 13,
   "metadata": {},
   "outputs": [
    {
     "data": {
      "text/plain": [
       "dict_proxy({'__add__': <slot wrapper '__add__' of 'datetime.datetime' objects>,\n",
       "            '__doc__': 'datetime(year, month, day[, hour[, minute[, second[, microsecond[,tzinfo]]]]])\\n\\nThe year, month and day arguments are required. tzinfo may be None, or an\\ninstance of a tzinfo subclass. The remaining arguments may be ints or longs.\\n',\n",
       "            '__eq__': <slot wrapper '__eq__' of 'datetime.datetime' objects>,\n",
       "            '__ge__': <slot wrapper '__ge__' of 'datetime.datetime' objects>,\n",
       "            '__getattribute__': <slot wrapper '__getattribute__' of 'datetime.datetime' objects>,\n",
       "            '__gt__': <slot wrapper '__gt__' of 'datetime.datetime' objects>,\n",
       "            '__hash__': <slot wrapper '__hash__' of 'datetime.datetime' objects>,\n",
       "            '__le__': <slot wrapper '__le__' of 'datetime.datetime' objects>,\n",
       "            '__lt__': <slot wrapper '__lt__' of 'datetime.datetime' objects>,\n",
       "            '__ne__': <slot wrapper '__ne__' of 'datetime.datetime' objects>,\n",
       "            '__new__': <function __new__>,\n",
       "            '__radd__': <slot wrapper '__radd__' of 'datetime.datetime' objects>,\n",
       "            '__reduce__': <method '__reduce__' of 'datetime.datetime' objects>,\n",
       "            '__repr__': <slot wrapper '__repr__' of 'datetime.datetime' objects>,\n",
       "            '__rsub__': <slot wrapper '__rsub__' of 'datetime.datetime' objects>,\n",
       "            '__str__': <slot wrapper '__str__' of 'datetime.datetime' objects>,\n",
       "            '__sub__': <slot wrapper '__sub__' of 'datetime.datetime' objects>,\n",
       "            'astimezone': <method 'astimezone' of 'datetime.datetime' objects>,\n",
       "            'combine': <method 'combine' of 'datetime.datetime' objects>,\n",
       "            'ctime': <method 'ctime' of 'datetime.datetime' objects>,\n",
       "            'date': <method 'date' of 'datetime.datetime' objects>,\n",
       "            'dst': <method 'dst' of 'datetime.datetime' objects>,\n",
       "            'fromtimestamp': <method 'fromtimestamp' of 'datetime.datetime' objects>,\n",
       "            'hour': <attribute 'hour' of 'datetime.datetime' objects>,\n",
       "            'isoformat': <method 'isoformat' of 'datetime.datetime' objects>,\n",
       "            'max': datetime.datetime(9999, 12, 31, 23, 59, 59, 999999),\n",
       "            'microsecond': <attribute 'microsecond' of 'datetime.datetime' objects>,\n",
       "            'min': datetime.datetime(1, 1, 1, 0, 0),\n",
       "            'minute': <attribute 'minute' of 'datetime.datetime' objects>,\n",
       "            'now': <method 'now' of 'datetime.datetime' objects>,\n",
       "            'replace': <method 'replace' of 'datetime.datetime' objects>,\n",
       "            'resolution': datetime.timedelta(0, 0, 1),\n",
       "            'second': <attribute 'second' of 'datetime.datetime' objects>,\n",
       "            'strptime': <method 'strptime' of 'datetime.datetime' objects>,\n",
       "            'time': <method 'time' of 'datetime.datetime' objects>,\n",
       "            'timetuple': <method 'timetuple' of 'datetime.datetime' objects>,\n",
       "            'timetz': <method 'timetz' of 'datetime.datetime' objects>,\n",
       "            'tzinfo': <attribute 'tzinfo' of 'datetime.datetime' objects>,\n",
       "            'tzname': <method 'tzname' of 'datetime.datetime' objects>,\n",
       "            'utcfromtimestamp': <method 'utcfromtimestamp' of 'datetime.datetime' objects>,\n",
       "            'utcnow': <method 'utcnow' of 'datetime.datetime' objects>,\n",
       "            'utcoffset': <method 'utcoffset' of 'datetime.datetime' objects>,\n",
       "            'utctimetuple': <method 'utctimetuple' of 'datetime.datetime' objects>})"
      ]
     },
     "execution_count": 13,
     "metadata": {},
     "output_type": "execute_result"
    }
   ],
   "source": [
    "datetime.__dict__"
   ]
  },
  {
   "cell_type": "markdown",
   "metadata": {},
   "source": [
    "<a id=\"timedelta\"></a>\n",
    "## `timedelta()`\n",
    "---\n",
    "\n",
    "Suppose we want to add time to a date or subtract time from it. Maybe we are using time as an index and want to get everything that happened a week before a specific observation.\n",
    "\n",
    "We can use a `timedelta` object to shift a datetime object. Here's an example:\n"
   ]
  },
  {
   "cell_type": "code",
   "execution_count": 29,
   "metadata": {},
   "outputs": [],
   "source": [
    "# Import timedelta() from datetime library.\n",
    "from datetime import timedelta\n"
   ]
  },
  {
   "cell_type": "markdown",
   "metadata": {},
   "source": [
    "Datetime's `.now()` function will give you the datetime object of this very moment."
   ]
  },
  {
   "cell_type": "code",
   "execution_count": 15,
   "metadata": {},
   "outputs": [
    {
     "data": {
      "text/plain": [
       "datetime.datetime(2018, 7, 23, 10, 22, 22, 867000)"
      ]
     },
     "execution_count": 15,
     "metadata": {},
     "output_type": "execute_result"
    }
   ],
   "source": [
    "datetime.now()"
   ]
  },
  {
   "cell_type": "markdown",
   "metadata": {},
   "source": [
    "The current time is particularly useful when using `timedelta()`."
   ]
  },
  {
   "cell_type": "code",
   "execution_count": 23,
   "metadata": {},
   "outputs": [
    {
     "data": {
      "text/plain": [
       "datetime.timedelta(9, 3000)"
      ]
     },
     "execution_count": 23,
     "metadata": {},
     "output_type": "execute_result"
    }
   ],
   "source": [
    "timedelta(-1, 867000)"
   ]
  },
  {
   "cell_type": "markdown",
   "metadata": {},
   "source": [
    "> _Note: The largest value a `timedelta()` can hold is `days`. For instance, you can't say you want your offset to be two years, 44 days, and 12 hours; you have to convert those years to days._\n",
    "\n",
    "You can read more in the `timedelta()` category [here](https://docs.python.org/2/library/datetime.html).\n"
   ]
  },
  {
   "cell_type": "markdown",
   "metadata": {},
   "source": [
    "<a id=\"load-the-ufo-reports-data\"></a>\n",
    "## Load the UFO Reports Data\n",
    "---\n",
    "\n",
    "We can practice using datetime functions and objects with the UFO reports data."
   ]
  },
  {
   "cell_type": "code",
   "execution_count": 24,
   "metadata": {},
   "outputs": [],
   "source": [
    "# Get a data set from the internet.\n",
    "import pandas as pd\n",
    "ufo = pd.read_csv('http://bit.ly/uforeports')"
   ]
  },
  {
   "cell_type": "code",
   "execution_count": 26,
   "metadata": {},
   "outputs": [
    {
     "name": "stdout",
     "output_type": "stream",
     "text": [
      "<class 'pandas.core.frame.DataFrame'>\n",
      "RangeIndex: 18241 entries, 0 to 18240\n",
      "Data columns (total 5 columns):\n",
      "City               18216 non-null object\n",
      "Colors Reported    2882 non-null object\n",
      "Shape Reported     15597 non-null object\n",
      "State              18241 non-null object\n",
      "Time               18241 non-null object\n",
      "dtypes: object(5)\n",
      "memory usage: 712.6+ KB\n"
     ]
    }
   ],
   "source": [
    "ufo.info()"
   ]
  },
  {
   "cell_type": "markdown",
   "metadata": {},
   "source": [
    "The `Time` column starts off as an object."
   ]
  },
  {
   "cell_type": "code",
   "execution_count": 8,
   "metadata": {
    "collapsed": true
   },
   "outputs": [],
   "source": [
    "# A:"
   ]
  },
  {
   "cell_type": "markdown",
   "metadata": {},
   "source": [
    "<a id=\"pandas-pddatetime\"></a>\n",
    "## Pandas' `pd.datetime`\n",
    "---\n",
    "\n",
    "Using Pandas, we can convert columns of data from string objects into date objects with the `pd.to_datetime()` function.\n",
    "\n",
    "> **Note**: Dates can be tricky to parse, as they come in many formats. The `to_datetime()` function comes with a keyword argument, `infer_datetime_format`, that can be particularly useful for parsing dates."
   ]
  },
  {
   "cell_type": "code",
   "execution_count": 35,
   "metadata": {},
   "outputs": [
    {
     "data": {
      "text/plain": [
       "0       1930-06-01 22:00:00\n",
       "1       1930-06-30 20:00:00\n",
       "2       1931-02-15 14:00:00\n",
       "3       1931-06-01 13:00:00\n",
       "4       1933-04-18 19:00:00\n",
       "5       1934-09-15 15:30:00\n",
       "6       1935-06-15 00:00:00\n",
       "7       1936-07-15 00:00:00\n",
       "8       1936-10-15 17:00:00\n",
       "9       1937-06-15 00:00:00\n",
       "10      1937-08-15 21:00:00\n",
       "11      1939-06-01 20:00:00\n",
       "12      1939-06-30 20:00:00\n",
       "13      1939-07-07 02:00:00\n",
       "14      1941-06-01 13:00:00\n",
       "15      1941-07-02 11:30:00\n",
       "16      1942-02-25 00:00:00\n",
       "17      1942-06-01 22:30:00\n",
       "18      1942-07-15 01:00:00\n",
       "19      1943-04-30 23:00:00\n",
       "20      1943-06-01 15:00:00\n",
       "21      1943-08-15 00:00:00\n",
       "22      1943-08-15 00:00:00\n",
       "23      1943-10-15 11:00:00\n",
       "24      1944-01-01 10:00:00\n",
       "25      1944-01-01 12:00:00\n",
       "26      1944-01-01 12:00:00\n",
       "27      1944-04-02 11:00:00\n",
       "28      1944-06-01 12:00:00\n",
       "29      1944-06-30 10:00:00\n",
       "                ...        \n",
       "18211   2000-12-28 18:00:00\n",
       "18212   2000-12-28 18:20:00\n",
       "18213   2000-12-28 19:10:00\n",
       "18214   2000-12-29 00:00:00\n",
       "18215   2000-12-29 09:00:00\n",
       "18216   2000-12-29 16:10:00\n",
       "18217   2000-12-29 19:30:00\n",
       "18218   2000-12-29 20:00:00\n",
       "18219   2000-12-29 20:30:00\n",
       "18220   2000-12-29 20:30:00\n",
       "18221   2000-12-29 20:50:00\n",
       "18222   2000-12-29 21:00:00\n",
       "18223   2000-12-29 22:00:00\n",
       "18224   2000-12-29 23:30:00\n",
       "18225   2000-12-30 10:00:00\n",
       "18226   2000-12-30 22:00:00\n",
       "18227   2000-12-30 22:00:00\n",
       "18228   2000-12-31 04:00:00\n",
       "18229   2000-12-31 11:45:00\n",
       "18230   2000-12-31 20:00:00\n",
       "18231   2000-12-31 20:00:00\n",
       "18232   2000-12-31 20:30:00\n",
       "18233   2000-12-31 21:00:00\n",
       "18234   2000-12-31 22:00:00\n",
       "18235   2000-12-31 23:00:00\n",
       "18236   2000-12-31 23:00:00\n",
       "18237   2000-12-31 23:00:00\n",
       "18238   2000-12-31 23:45:00\n",
       "18239   2000-12-31 23:45:00\n",
       "18240   2000-12-31 23:59:00\n",
       "Name: Time, Length: 18241, dtype: datetime64[ns]"
      ]
     },
     "execution_count": 35,
     "metadata": {},
     "output_type": "execute_result"
    }
   ],
   "source": [
    "ufo['Time'] = pd.to_datetime(ufo['Time'], infer_datetime_format=True)\n",
    "ufo['Time']"
   ]
  },
  {
   "cell_type": "markdown",
   "metadata": {},
   "source": [
    "<a id=\"the-dt-attribute\"></a>\n",
    "### The `.dt` Attribute\n",
    "\n",
    "Pandas' datetime columns have a `.dt` attribute that allows you to access attributes specific to dates. For example:\n",
    "\n",
    "```python\n",
    "ufo.Time.dt.day\n",
    "ufo.Time.dt.month\n",
    "ufo.Time.dt.year\n",
    "ufo.Time.dt.weekday_name\n",
    "```\n",
    "\n",
    "And there are many more!"
   ]
  },
  {
   "cell_type": "code",
   "execution_count": 37,
   "metadata": {},
   "outputs": [
    {
     "data": {
      "text/plain": [
       "0           Sunday\n",
       "1           Monday\n",
       "2           Sunday\n",
       "3           Monday\n",
       "4          Tuesday\n",
       "5         Saturday\n",
       "6         Saturday\n",
       "7        Wednesday\n",
       "8         Thursday\n",
       "9          Tuesday\n",
       "10          Sunday\n",
       "11        Thursday\n",
       "12          Friday\n",
       "13          Friday\n",
       "14          Sunday\n",
       "15       Wednesday\n",
       "16       Wednesday\n",
       "17          Monday\n",
       "18       Wednesday\n",
       "19          Friday\n",
       "20         Tuesday\n",
       "21          Sunday\n",
       "22          Sunday\n",
       "23          Friday\n",
       "24        Saturday\n",
       "25        Saturday\n",
       "26        Saturday\n",
       "27          Sunday\n",
       "28        Thursday\n",
       "29          Friday\n",
       "           ...    \n",
       "18211     Thursday\n",
       "18212     Thursday\n",
       "18213     Thursday\n",
       "18214       Friday\n",
       "18215       Friday\n",
       "18216       Friday\n",
       "18217       Friday\n",
       "18218       Friday\n",
       "18219       Friday\n",
       "18220       Friday\n",
       "18221       Friday\n",
       "18222       Friday\n",
       "18223       Friday\n",
       "18224       Friday\n",
       "18225     Saturday\n",
       "18226     Saturday\n",
       "18227     Saturday\n",
       "18228       Sunday\n",
       "18229       Sunday\n",
       "18230       Sunday\n",
       "18231       Sunday\n",
       "18232       Sunday\n",
       "18233       Sunday\n",
       "18234       Sunday\n",
       "18235       Sunday\n",
       "18236       Sunday\n",
       "18237       Sunday\n",
       "18238       Sunday\n",
       "18239       Sunday\n",
       "18240       Sunday\n",
       "Name: Time, Length: 18241, dtype: object"
      ]
     },
     "execution_count": 37,
     "metadata": {},
     "output_type": "execute_result"
    }
   ],
   "source": [
    "ufo.Time.dt.weekday_name"
   ]
  },
  {
   "cell_type": "markdown",
   "metadata": {},
   "source": [
    "<a id=\"timestamps\"></a>\n",
    "## Timestamps\n",
    "---\n",
    "\n",
    "Timestamps are useful objects for comparisons. You can create a timestamp object with the `pd.to_datetime()` function and a string specifying the date. These objects are especially helpful when you need to perform logical filtering with dates."
   ]
  },
  {
   "cell_type": "code",
   "execution_count": 42,
   "metadata": {},
   "outputs": [],
   "source": [
    "def timestamps(x):\n",
    "    print pd.to_datetime(x, infer_datetime_format=True)"
   ]
  },
  {
   "cell_type": "code",
   "execution_count": 45,
   "metadata": {},
   "outputs": [
    {
     "name": "stdout",
     "output_type": "stream",
     "text": [
      "2018-07-23 00:00:00\n"
     ]
    }
   ],
   "source": [
    "timestamps('23/jul/2018')"
   ]
  },
  {
   "cell_type": "code",
   "execution_count": 12,
   "metadata": {
    "collapsed": true
   },
   "outputs": [],
   "source": [
    "# Use that timestamp for a comparison."
   ]
  },
  {
   "cell_type": "markdown",
   "metadata": {},
   "source": [
    "<a id=\"additional-resources\"></a>\n",
    "## Additional Resources\n",
    "---\n",
    "- For more information about Pandas' datetime library, search for `.dt` [here](http://pandas.pydata.org/pandas-docs/stable/api.html).\n",
    "- Here is [an example](https://github.com/samuel-stack/Portfolio/blob/master/Moving_Violations_VS_Speed_Traps/Granger%20Causality%20test%20.ipynb) of a GCT executed on deconstructed data from Sam Stack's capstone project."
   ]
  },
  {
   "cell_type": "code",
   "execution_count": null,
   "metadata": {},
   "outputs": [],
   "source": []
  }
 ],
 "metadata": {
  "anaconda-cloud": {},
  "kernelspec": {
   "display_name": "Python 2",
   "language": "python",
   "name": "python2"
  },
  "language_info": {
   "codemirror_mode": {
    "name": "ipython",
    "version": 2
   },
   "file_extension": ".py",
   "mimetype": "text/x-python",
   "name": "python",
   "nbconvert_exporter": "python",
   "pygments_lexer": "ipython2",
   "version": "2.7.14"
  }
 },
 "nbformat": 4,
 "nbformat_minor": 1
}
