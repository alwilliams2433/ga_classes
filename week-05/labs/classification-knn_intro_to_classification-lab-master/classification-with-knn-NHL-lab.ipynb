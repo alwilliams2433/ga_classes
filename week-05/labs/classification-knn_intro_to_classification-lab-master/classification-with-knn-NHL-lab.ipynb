{
 "cells": [
  {
   "cell_type": "markdown",
   "metadata": {},
   "source": [
    "<img src=\"http://imgur.com/1ZcRyrc.png\" style=\"float: left; margin: 20px; height: 55px\">\n",
    "\n",
    "# Classification and KNN With NHL Data\n",
    "\n",
    "_Authors: Joseph Nelson (DC)_\n",
    "\n",
    "---\n",
    "\n",
    "Below you'll practice KNN classification on a data set of National Hockey League statistics.\n",
    "\n",
    "You'll be predicting the `Rank` of a team using predictor variables of your choice."
   ]
  },
  {
   "cell_type": "code",
   "execution_count": 1,
   "metadata": {},
   "outputs": [],
   "source": [
    "import matplotlib.pyplot as plt\n",
    "import numpy as np\n",
    "import pandas as pd\n",
    "import seaborn as sns\n",
    "\n",
    "%matplotlib inline\n",
    "%config InlineBackend.figure_format = 'retina'"
   ]
  },
  {
   "cell_type": "code",
   "execution_count": 2,
   "metadata": {},
   "outputs": [],
   "source": [
    "# Web location:\n",
    "web_csv = 'https://raw.githubusercontent.com/josephofiowa/GA-DSI/master/NHL_Data_GA.csv'\n",
    "local_csv = './datasets/NHL_Data_GA.csv'"
   ]
  },
  {
   "cell_type": "markdown",
   "metadata": {},
   "source": [
    "### 1) Load the NHL data."
   ]
  },
  {
   "cell_type": "code",
   "execution_count": 3,
   "metadata": {},
   "outputs": [
    {
     "data": {
      "text/html": [
       "<div>\n",
       "<style scoped>\n",
       "    .dataframe tbody tr th:only-of-type {\n",
       "        vertical-align: middle;\n",
       "    }\n",
       "\n",
       "    .dataframe tbody tr th {\n",
       "        vertical-align: top;\n",
       "    }\n",
       "\n",
       "    .dataframe thead th {\n",
       "        text-align: right;\n",
       "    }\n",
       "</style>\n",
       "<table border=\"1\" class=\"dataframe\">\n",
       "  <thead>\n",
       "    <tr style=\"text-align: right;\">\n",
       "      <th></th>\n",
       "      <th>Team</th>\n",
       "      <th>PTS</th>\n",
       "      <th>Rank</th>\n",
       "      <th>TOI</th>\n",
       "      <th>GF</th>\n",
       "      <th>GA</th>\n",
       "      <th>GF60</th>\n",
       "      <th>GA60</th>\n",
       "      <th>GF%</th>\n",
       "      <th>SF</th>\n",
       "      <th>...</th>\n",
       "      <th>FF%</th>\n",
       "      <th>CF</th>\n",
       "      <th>CA</th>\n",
       "      <th>CF60</th>\n",
       "      <th>CA60</th>\n",
       "      <th>CF%</th>\n",
       "      <th>Sh%</th>\n",
       "      <th>Sv%</th>\n",
       "      <th>PDO</th>\n",
       "      <th>PIM</th>\n",
       "    </tr>\n",
       "  </thead>\n",
       "  <tbody>\n",
       "    <tr>\n",
       "      <th>0</th>\n",
       "      <td>Washington10</td>\n",
       "      <td>121</td>\n",
       "      <td>1</td>\n",
       "      <td>2001:52:00</td>\n",
       "      <td>115</td>\n",
       "      <td>73</td>\n",
       "      <td>3.45</td>\n",
       "      <td>2.19</td>\n",
       "      <td>61.2</td>\n",
       "      <td>1112</td>\n",
       "      <td>...</td>\n",
       "      <td>51.3</td>\n",
       "      <td>2138</td>\n",
       "      <td>1935</td>\n",
       "      <td>64.1</td>\n",
       "      <td>58.0</td>\n",
       "      <td>52.5</td>\n",
       "      <td>10.34</td>\n",
       "      <td>93.03</td>\n",
       "      <td>1034</td>\n",
       "      <td>1269</td>\n",
       "    </tr>\n",
       "    <tr>\n",
       "      <th>1</th>\n",
       "      <td>Vancouver11</td>\n",
       "      <td>117</td>\n",
       "      <td>1</td>\n",
       "      <td>2056:14:00</td>\n",
       "      <td>94</td>\n",
       "      <td>72</td>\n",
       "      <td>2.74</td>\n",
       "      <td>2.10</td>\n",
       "      <td>56.6</td>\n",
       "      <td>1143</td>\n",
       "      <td>...</td>\n",
       "      <td>53.1</td>\n",
       "      <td>2144</td>\n",
       "      <td>1870</td>\n",
       "      <td>62.6</td>\n",
       "      <td>54.6</td>\n",
       "      <td>53.4</td>\n",
       "      <td>8.22</td>\n",
       "      <td>93.16</td>\n",
       "      <td>1014</td>\n",
       "      <td>985</td>\n",
       "    </tr>\n",
       "    <tr>\n",
       "      <th>2</th>\n",
       "      <td>San Jose10</td>\n",
       "      <td>113</td>\n",
       "      <td>1</td>\n",
       "      <td>1929:54:00</td>\n",
       "      <td>90</td>\n",
       "      <td>68</td>\n",
       "      <td>2.80</td>\n",
       "      <td>2.11</td>\n",
       "      <td>57.0</td>\n",
       "      <td>1065</td>\n",
       "      <td>...</td>\n",
       "      <td>50.9</td>\n",
       "      <td>1985</td>\n",
       "      <td>1876</td>\n",
       "      <td>61.7</td>\n",
       "      <td>58.3</td>\n",
       "      <td>51.4</td>\n",
       "      <td>8.45</td>\n",
       "      <td>93.46</td>\n",
       "      <td>1019</td>\n",
       "      <td>1195</td>\n",
       "    </tr>\n",
       "    <tr>\n",
       "      <th>3</th>\n",
       "      <td>Chicago10</td>\n",
       "      <td>112</td>\n",
       "      <td>1</td>\n",
       "      <td>2020:23:00</td>\n",
       "      <td>104</td>\n",
       "      <td>83</td>\n",
       "      <td>3.09</td>\n",
       "      <td>2.46</td>\n",
       "      <td>55.6</td>\n",
       "      <td>1186</td>\n",
       "      <td>...</td>\n",
       "      <td>58.1</td>\n",
       "      <td>2093</td>\n",
       "      <td>1572</td>\n",
       "      <td>62.2</td>\n",
       "      <td>46.7</td>\n",
       "      <td>57.1</td>\n",
       "      <td>8.77</td>\n",
       "      <td>90.44</td>\n",
       "      <td>992</td>\n",
       "      <td>966</td>\n",
       "    </tr>\n",
       "    <tr>\n",
       "      <th>4</th>\n",
       "      <td>Vancouver12</td>\n",
       "      <td>111</td>\n",
       "      <td>1</td>\n",
       "      <td>2052:02:00</td>\n",
       "      <td>86</td>\n",
       "      <td>74</td>\n",
       "      <td>2.51</td>\n",
       "      <td>2.16</td>\n",
       "      <td>53.8</td>\n",
       "      <td>1078</td>\n",
       "      <td>...</td>\n",
       "      <td>51.0</td>\n",
       "      <td>2085</td>\n",
       "      <td>1880</td>\n",
       "      <td>61.0</td>\n",
       "      <td>55.0</td>\n",
       "      <td>52.6</td>\n",
       "      <td>7.98</td>\n",
       "      <td>93.36</td>\n",
       "      <td>1013</td>\n",
       "      <td>1049</td>\n",
       "    </tr>\n",
       "  </tbody>\n",
       "</table>\n",
       "<p>5 rows × 28 columns</p>\n",
       "</div>"
      ],
      "text/plain": [
       "           Team  PTS  Rank         TOI   GF  GA  GF60  GA60   GF%    SF  ...   \\\n",
       "0  Washington10  121     1  2001:52:00  115  73  3.45  2.19  61.2  1112  ...    \n",
       "1   Vancouver11  117     1  2056:14:00   94  72  2.74  2.10  56.6  1143  ...    \n",
       "2    San Jose10  113     1  1929:54:00   90  68  2.80  2.11  57.0  1065  ...    \n",
       "3     Chicago10  112     1  2020:23:00  104  83  3.09  2.46  55.6  1186  ...    \n",
       "4   Vancouver12  111     1  2052:02:00   86  74  2.51  2.16  53.8  1078  ...    \n",
       "\n",
       "    FF%    CF    CA  CF60  CA60   CF%    Sh%    Sv%   PDO   PIM  \n",
       "0  51.3  2138  1935  64.1  58.0  52.5  10.34  93.03  1034  1269  \n",
       "1  53.1  2144  1870  62.6  54.6  53.4   8.22  93.16  1014   985  \n",
       "2  50.9  1985  1876  61.7  58.3  51.4   8.45  93.46  1019  1195  \n",
       "3  58.1  2093  1572  62.2  46.7  57.1   8.77  90.44   992   966  \n",
       "4  51.0  2085  1880  61.0  55.0  52.6   7.98  93.36  1013  1049  \n",
       "\n",
       "[5 rows x 28 columns]"
      ]
     },
     "execution_count": 3,
     "metadata": {},
     "output_type": "execute_result"
    }
   ],
   "source": [
    "df = pd.read_csv(local_csv)\n",
    "df.head()"
   ]
  },
  {
   "cell_type": "markdown",
   "metadata": {},
   "source": [
    "You can use the Legend on [www.nhl.com](http://www.nhl.com/stats/team?aggregate=0&gameType=3&report=teamsummary&reportType=season&seasonFrom=20162017&seasonTo=20162017&filter=gamesPlayed,gte,1&sort=points,wins) as a data dictionary reference.\n",
    "\n",
    "Features that have a '60' in them are features that have been adjusted to represent averages over 60 minutes of game time.  \n",
    "> A GF60 of 3.45 would indicate that the team averaged 3.45 goals per sixty minutes of Time on Ice (one regulation game)."
   ]
  },
  {
   "cell_type": "markdown",
   "metadata": {},
   "source": [
    "### 2. Perform any required data cleaning. Do some EDA."
   ]
  },
  {
   "cell_type": "code",
   "execution_count": 4,
   "metadata": {},
   "outputs": [
    {
     "data": {
      "text/plain": [
       "Index([u'Team', u'PTS', u'Rank', u'TOI', u'GF', u'GA', u'GF60', u'GA60',\n",
       "       u'GF%', u'SF', u'SA', u'SF60', u'SA60', u'SF%', u'FF', u'FA', u'FF60',\n",
       "       u'FA60', u'FF%', u'CF', u'CA', u'CF60', u'CA60', u'CF%', u'Sh%', u'Sv%',\n",
       "       u'PDO', u'PIM'],\n",
       "      dtype='object')"
      ]
     },
     "execution_count": 4,
     "metadata": {},
     "output_type": "execute_result"
    }
   ],
   "source": [
    "df.columns"
   ]
  },
  {
   "cell_type": "code",
   "execution_count": 5,
   "metadata": {},
   "outputs": [
    {
     "data": {
      "text/html": [
       "<div>\n",
       "<style scoped>\n",
       "    .dataframe tbody tr th:only-of-type {\n",
       "        vertical-align: middle;\n",
       "    }\n",
       "\n",
       "    .dataframe tbody tr th {\n",
       "        vertical-align: top;\n",
       "    }\n",
       "\n",
       "    .dataframe thead th {\n",
       "        text-align: right;\n",
       "    }\n",
       "</style>\n",
       "<table border=\"1\" class=\"dataframe\">\n",
       "  <thead>\n",
       "    <tr style=\"text-align: right;\">\n",
       "      <th></th>\n",
       "      <th>PTS</th>\n",
       "      <th>Rank</th>\n",
       "      <th>GF</th>\n",
       "      <th>GA</th>\n",
       "      <th>GF60</th>\n",
       "      <th>GA60</th>\n",
       "      <th>GF%</th>\n",
       "      <th>SF</th>\n",
       "      <th>SA</th>\n",
       "      <th>SF60</th>\n",
       "      <th>...</th>\n",
       "      <th>FF%</th>\n",
       "      <th>CF</th>\n",
       "      <th>CA</th>\n",
       "      <th>CF60</th>\n",
       "      <th>CA60</th>\n",
       "      <th>CF%</th>\n",
       "      <th>Sh%</th>\n",
       "      <th>Sv%</th>\n",
       "      <th>PDO</th>\n",
       "      <th>PIM</th>\n",
       "    </tr>\n",
       "  </thead>\n",
       "  <tbody>\n",
       "    <tr>\n",
       "      <th>count</th>\n",
       "      <td>90.000000</td>\n",
       "      <td>90.000000</td>\n",
       "      <td>90.000000</td>\n",
       "      <td>90.000000</td>\n",
       "      <td>90.000000</td>\n",
       "      <td>90.000000</td>\n",
       "      <td>90.000000</td>\n",
       "      <td>90.000000</td>\n",
       "      <td>90.000000</td>\n",
       "      <td>90.000000</td>\n",
       "      <td>...</td>\n",
       "      <td>90.000000</td>\n",
       "      <td>90.000000</td>\n",
       "      <td>90.000000</td>\n",
       "      <td>90.000000</td>\n",
       "      <td>90.000000</td>\n",
       "      <td>90.000000</td>\n",
       "      <td>90.000000</td>\n",
       "      <td>90.000000</td>\n",
       "      <td>90.000000</td>\n",
       "      <td>90.000000</td>\n",
       "    </tr>\n",
       "    <tr>\n",
       "      <th>mean</th>\n",
       "      <td>91.977778</td>\n",
       "      <td>2.022222</td>\n",
       "      <td>83.288889</td>\n",
       "      <td>83.288889</td>\n",
       "      <td>2.442222</td>\n",
       "      <td>2.444000</td>\n",
       "      <td>49.981111</td>\n",
       "      <td>1068.333333</td>\n",
       "      <td>1068.333333</td>\n",
       "      <td>31.252222</td>\n",
       "      <td>...</td>\n",
       "      <td>49.966667</td>\n",
       "      <td>1973.466667</td>\n",
       "      <td>1973.466667</td>\n",
       "      <td>57.735556</td>\n",
       "      <td>57.798889</td>\n",
       "      <td>49.972222</td>\n",
       "      <td>7.814556</td>\n",
       "      <td>92.182556</td>\n",
       "      <td>999.988889</td>\n",
       "      <td>990.966667</td>\n",
       "    </tr>\n",
       "    <tr>\n",
       "      <th>std</th>\n",
       "      <td>12.524114</td>\n",
       "      <td>0.820767</td>\n",
       "      <td>10.376339</td>\n",
       "      <td>9.694484</td>\n",
       "      <td>0.325331</td>\n",
       "      <td>0.313522</td>\n",
       "      <td>4.644554</td>\n",
       "      <td>95.929047</td>\n",
       "      <td>75.514118</td>\n",
       "      <td>2.237637</td>\n",
       "      <td>...</td>\n",
       "      <td>2.797913</td>\n",
       "      <td>176.468299</td>\n",
       "      <td>154.148928</td>\n",
       "      <td>4.124476</td>\n",
       "      <td>4.291106</td>\n",
       "      <td>2.844313</td>\n",
       "      <td>0.866942</td>\n",
       "      <td>0.928621</td>\n",
       "      <td>12.292772</td>\n",
       "      <td>178.049321</td>\n",
       "    </tr>\n",
       "    <tr>\n",
       "      <th>min</th>\n",
       "      <td>62.000000</td>\n",
       "      <td>1.000000</td>\n",
       "      <td>57.000000</td>\n",
       "      <td>64.000000</td>\n",
       "      <td>1.700000</td>\n",
       "      <td>1.730000</td>\n",
       "      <td>38.000000</td>\n",
       "      <td>815.000000</td>\n",
       "      <td>868.000000</td>\n",
       "      <td>25.800000</td>\n",
       "      <td>...</td>\n",
       "      <td>43.100000</td>\n",
       "      <td>1565.000000</td>\n",
       "      <td>1572.000000</td>\n",
       "      <td>49.500000</td>\n",
       "      <td>46.700000</td>\n",
       "      <td>43.700000</td>\n",
       "      <td>5.900000</td>\n",
       "      <td>89.830000</td>\n",
       "      <td>978.000000</td>\n",
       "      <td>689.000000</td>\n",
       "    </tr>\n",
       "    <tr>\n",
       "      <th>25%</th>\n",
       "      <td>82.250000</td>\n",
       "      <td>1.000000</td>\n",
       "      <td>76.000000</td>\n",
       "      <td>75.500000</td>\n",
       "      <td>2.232500</td>\n",
       "      <td>2.202500</td>\n",
       "      <td>46.825000</td>\n",
       "      <td>1011.500000</td>\n",
       "      <td>1022.250000</td>\n",
       "      <td>29.550000</td>\n",
       "      <td>...</td>\n",
       "      <td>47.775000</td>\n",
       "      <td>1855.250000</td>\n",
       "      <td>1877.000000</td>\n",
       "      <td>54.275000</td>\n",
       "      <td>54.600000</td>\n",
       "      <td>47.925000</td>\n",
       "      <td>7.235000</td>\n",
       "      <td>91.555000</td>\n",
       "      <td>992.000000</td>\n",
       "      <td>881.250000</td>\n",
       "    </tr>\n",
       "    <tr>\n",
       "      <th>50%</th>\n",
       "      <td>92.500000</td>\n",
       "      <td>2.000000</td>\n",
       "      <td>84.000000</td>\n",
       "      <td>84.000000</td>\n",
       "      <td>2.400000</td>\n",
       "      <td>2.495000</td>\n",
       "      <td>49.700000</td>\n",
       "      <td>1072.000000</td>\n",
       "      <td>1072.000000</td>\n",
       "      <td>31.400000</td>\n",
       "      <td>...</td>\n",
       "      <td>50.050000</td>\n",
       "      <td>1981.500000</td>\n",
       "      <td>1961.000000</td>\n",
       "      <td>58.050000</td>\n",
       "      <td>58.350000</td>\n",
       "      <td>50.400000</td>\n",
       "      <td>7.730000</td>\n",
       "      <td>92.250000</td>\n",
       "      <td>1000.500000</td>\n",
       "      <td>960.000000</td>\n",
       "    </tr>\n",
       "    <tr>\n",
       "      <th>75%</th>\n",
       "      <td>102.000000</td>\n",
       "      <td>3.000000</td>\n",
       "      <td>90.000000</td>\n",
       "      <td>89.000000</td>\n",
       "      <td>2.600000</td>\n",
       "      <td>2.670000</td>\n",
       "      <td>53.625000</td>\n",
       "      <td>1143.000000</td>\n",
       "      <td>1125.750000</td>\n",
       "      <td>32.775000</td>\n",
       "      <td>...</td>\n",
       "      <td>51.775000</td>\n",
       "      <td>2112.750000</td>\n",
       "      <td>2077.250000</td>\n",
       "      <td>60.850000</td>\n",
       "      <td>60.400000</td>\n",
       "      <td>52.000000</td>\n",
       "      <td>8.270000</td>\n",
       "      <td>92.870000</td>\n",
       "      <td>1007.750000</td>\n",
       "      <td>1101.500000</td>\n",
       "    </tr>\n",
       "    <tr>\n",
       "      <th>max</th>\n",
       "      <td>121.000000</td>\n",
       "      <td>3.000000</td>\n",
       "      <td>115.000000</td>\n",
       "      <td>107.000000</td>\n",
       "      <td>3.450000</td>\n",
       "      <td>3.240000</td>\n",
       "      <td>61.200000</td>\n",
       "      <td>1311.000000</td>\n",
       "      <td>1245.000000</td>\n",
       "      <td>35.600000</td>\n",
       "      <td>...</td>\n",
       "      <td>58.100000</td>\n",
       "      <td>2341.000000</td>\n",
       "      <td>2332.000000</td>\n",
       "      <td>64.900000</td>\n",
       "      <td>67.500000</td>\n",
       "      <td>57.100000</td>\n",
       "      <td>10.340000</td>\n",
       "      <td>93.940000</td>\n",
       "      <td>1034.000000</td>\n",
       "      <td>1515.000000</td>\n",
       "    </tr>\n",
       "  </tbody>\n",
       "</table>\n",
       "<p>8 rows × 26 columns</p>\n",
       "</div>"
      ],
      "text/plain": [
       "              PTS       Rank          GF          GA       GF60       GA60  \\\n",
       "count   90.000000  90.000000   90.000000   90.000000  90.000000  90.000000   \n",
       "mean    91.977778   2.022222   83.288889   83.288889   2.442222   2.444000   \n",
       "std     12.524114   0.820767   10.376339    9.694484   0.325331   0.313522   \n",
       "min     62.000000   1.000000   57.000000   64.000000   1.700000   1.730000   \n",
       "25%     82.250000   1.000000   76.000000   75.500000   2.232500   2.202500   \n",
       "50%     92.500000   2.000000   84.000000   84.000000   2.400000   2.495000   \n",
       "75%    102.000000   3.000000   90.000000   89.000000   2.600000   2.670000   \n",
       "max    121.000000   3.000000  115.000000  107.000000   3.450000   3.240000   \n",
       "\n",
       "             GF%           SF           SA       SF60     ...             FF%  \\\n",
       "count  90.000000    90.000000    90.000000  90.000000     ...       90.000000   \n",
       "mean   49.981111  1068.333333  1068.333333  31.252222     ...       49.966667   \n",
       "std     4.644554    95.929047    75.514118   2.237637     ...        2.797913   \n",
       "min    38.000000   815.000000   868.000000  25.800000     ...       43.100000   \n",
       "25%    46.825000  1011.500000  1022.250000  29.550000     ...       47.775000   \n",
       "50%    49.700000  1072.000000  1072.000000  31.400000     ...       50.050000   \n",
       "75%    53.625000  1143.000000  1125.750000  32.775000     ...       51.775000   \n",
       "max    61.200000  1311.000000  1245.000000  35.600000     ...       58.100000   \n",
       "\n",
       "                CF           CA       CF60       CA60        CF%        Sh%  \\\n",
       "count    90.000000    90.000000  90.000000  90.000000  90.000000  90.000000   \n",
       "mean   1973.466667  1973.466667  57.735556  57.798889  49.972222   7.814556   \n",
       "std     176.468299   154.148928   4.124476   4.291106   2.844313   0.866942   \n",
       "min    1565.000000  1572.000000  49.500000  46.700000  43.700000   5.900000   \n",
       "25%    1855.250000  1877.000000  54.275000  54.600000  47.925000   7.235000   \n",
       "50%    1981.500000  1961.000000  58.050000  58.350000  50.400000   7.730000   \n",
       "75%    2112.750000  2077.250000  60.850000  60.400000  52.000000   8.270000   \n",
       "max    2341.000000  2332.000000  64.900000  67.500000  57.100000  10.340000   \n",
       "\n",
       "             Sv%          PDO          PIM  \n",
       "count  90.000000    90.000000    90.000000  \n",
       "mean   92.182556   999.988889   990.966667  \n",
       "std     0.928621    12.292772   178.049321  \n",
       "min    89.830000   978.000000   689.000000  \n",
       "25%    91.555000   992.000000   881.250000  \n",
       "50%    92.250000  1000.500000   960.000000  \n",
       "75%    92.870000  1007.750000  1101.500000  \n",
       "max    93.940000  1034.000000  1515.000000  \n",
       "\n",
       "[8 rows x 26 columns]"
      ]
     },
     "execution_count": 5,
     "metadata": {},
     "output_type": "execute_result"
    }
   ],
   "source": [
    "df.describe()"
   ]
  },
  {
   "cell_type": "markdown",
   "metadata": {},
   "source": [
    "### 3) Set up the `Rank` variable as your target. How many classes are there?"
   ]
  },
  {
   "cell_type": "code",
   "execution_count": 6,
   "metadata": {},
   "outputs": [
    {
     "data": {
      "text/plain": [
       "array([1, 2, 3], dtype=int64)"
      ]
     },
     "execution_count": 6,
     "metadata": {},
     "output_type": "execute_result"
    }
   ],
   "source": [
    "df['Rank'].unique()"
   ]
  },
  {
   "cell_type": "markdown",
   "metadata": {},
   "source": [
    "### 4) What's the baseline accuracy?"
   ]
  },
  {
   "cell_type": "code",
   "execution_count": 7,
   "metadata": {},
   "outputs": [
    {
     "name": "stdout",
     "output_type": "stream",
     "text": [
      "0.322222222222\n",
      "0.333333333333\n",
      "0.344444444444\n"
     ]
    }
   ],
   "source": [
    "print float(len(df[df['Rank'] == 1]))/len(df)\n",
    "print float(len(df[df['Rank'] == 2]))/len(df)\n",
    "print float(len(df[df['Rank'] == 3]))/len(df)\n",
    "#baseline is 34%"
   ]
  },
  {
   "cell_type": "code",
   "execution_count": 25,
   "metadata": {},
   "outputs": [
    {
     "data": {
      "text/plain": [
       "3    0.344444\n",
       "2    0.333333\n",
       "1    0.322222\n",
       "Name: Rank, dtype: float64"
      ]
     },
     "execution_count": 25,
     "metadata": {},
     "output_type": "execute_result"
    }
   ],
   "source": [
    "df['Rank'].value_counts()/len(df)"
   ]
  },
  {
   "cell_type": "markdown",
   "metadata": {},
   "source": [
    "### 5) Choose four features as your predictor variables and set up your design matrix."
   ]
  },
  {
   "cell_type": "code",
   "execution_count": 38,
   "metadata": {},
   "outputs": [],
   "source": [
    "c = df.corr().abs()\n",
    "s = c.unstack()\n",
    "so = s.sort_values(kind=\"quicksort\", ascending=False)\n",
    "so2 = pd.DataFrame(so).reset_index()\n",
    "so2[so2[0] != 1.0]\n",
    "sel = so2[(so2[0] != 1.0) & (so2['level_0'] == 'Rank')].head(10)"
   ]
  },
  {
   "cell_type": "code",
   "execution_count": 48,
   "metadata": {},
   "outputs": [
    {
     "data": {
      "text/html": [
       "<div>\n",
       "<style scoped>\n",
       "    .dataframe tbody tr th:only-of-type {\n",
       "        vertical-align: middle;\n",
       "    }\n",
       "\n",
       "    .dataframe tbody tr th {\n",
       "        vertical-align: top;\n",
       "    }\n",
       "\n",
       "    .dataframe thead th {\n",
       "        text-align: right;\n",
       "    }\n",
       "</style>\n",
       "<table border=\"1\" class=\"dataframe\">\n",
       "  <thead>\n",
       "    <tr style=\"text-align: right;\">\n",
       "      <th></th>\n",
       "      <th>PTS</th>\n",
       "      <th>GF%</th>\n",
       "      <th>CF%</th>\n",
       "      <th>FF%</th>\n",
       "      <th>SF%</th>\n",
       "      <th>CA60</th>\n",
       "      <th>GA60</th>\n",
       "      <th>GA</th>\n",
       "      <th>SF60</th>\n",
       "      <th>FA60</th>\n",
       "      <th>Rank</th>\n",
       "    </tr>\n",
       "  </thead>\n",
       "  <tbody>\n",
       "    <tr>\n",
       "      <th>PTS</th>\n",
       "      <td>1.000000</td>\n",
       "      <td>0.737442</td>\n",
       "      <td>0.594891</td>\n",
       "      <td>0.581731</td>\n",
       "      <td>0.569284</td>\n",
       "      <td>-0.512371</td>\n",
       "      <td>-0.587673</td>\n",
       "      <td>-0.578796</td>\n",
       "      <td>0.468253</td>\n",
       "      <td>-0.466330</td>\n",
       "      <td>-0.905004</td>\n",
       "    </tr>\n",
       "    <tr>\n",
       "      <th>GF%</th>\n",
       "      <td>0.737442</td>\n",
       "      <td>1.000000</td>\n",
       "      <td>0.564523</td>\n",
       "      <td>0.539240</td>\n",
       "      <td>0.554774</td>\n",
       "      <td>-0.381984</td>\n",
       "      <td>-0.716356</td>\n",
       "      <td>-0.747626</td>\n",
       "      <td>0.522118</td>\n",
       "      <td>-0.349842</td>\n",
       "      <td>-0.653633</td>\n",
       "    </tr>\n",
       "    <tr>\n",
       "      <th>CF%</th>\n",
       "      <td>0.594891</td>\n",
       "      <td>0.564523</td>\n",
       "      <td>1.000000</td>\n",
       "      <td>0.963224</td>\n",
       "      <td>0.925612</td>\n",
       "      <td>-0.785850</td>\n",
       "      <td>-0.410968</td>\n",
       "      <td>-0.361101</td>\n",
       "      <td>0.778101</td>\n",
       "      <td>-0.746783</td>\n",
       "      <td>-0.598466</td>\n",
       "    </tr>\n",
       "    <tr>\n",
       "      <th>FF%</th>\n",
       "      <td>0.581731</td>\n",
       "      <td>0.539240</td>\n",
       "      <td>0.963224</td>\n",
       "      <td>1.000000</td>\n",
       "      <td>0.971019</td>\n",
       "      <td>-0.780381</td>\n",
       "      <td>-0.391974</td>\n",
       "      <td>-0.327387</td>\n",
       "      <td>0.788091</td>\n",
       "      <td>-0.808367</td>\n",
       "      <td>-0.585340</td>\n",
       "    </tr>\n",
       "    <tr>\n",
       "      <th>SF%</th>\n",
       "      <td>0.569284</td>\n",
       "      <td>0.554774</td>\n",
       "      <td>0.925612</td>\n",
       "      <td>0.971019</td>\n",
       "      <td>1.000000</td>\n",
       "      <td>-0.748632</td>\n",
       "      <td>-0.382054</td>\n",
       "      <td>-0.320370</td>\n",
       "      <td>0.809392</td>\n",
       "      <td>-0.778591</td>\n",
       "      <td>-0.577347</td>\n",
       "    </tr>\n",
       "    <tr>\n",
       "      <th>CA60</th>\n",
       "      <td>-0.512371</td>\n",
       "      <td>-0.381984</td>\n",
       "      <td>-0.785850</td>\n",
       "      <td>-0.780381</td>\n",
       "      <td>-0.748632</td>\n",
       "      <td>1.000000</td>\n",
       "      <td>0.441831</td>\n",
       "      <td>0.364852</td>\n",
       "      <td>-0.352053</td>\n",
       "      <td>0.934904</td>\n",
       "      <td>0.537879</td>\n",
       "    </tr>\n",
       "    <tr>\n",
       "      <th>GA60</th>\n",
       "      <td>-0.587673</td>\n",
       "      <td>-0.716356</td>\n",
       "      <td>-0.410968</td>\n",
       "      <td>-0.391974</td>\n",
       "      <td>-0.382054</td>\n",
       "      <td>0.441831</td>\n",
       "      <td>1.000000</td>\n",
       "      <td>0.913963</td>\n",
       "      <td>-0.187607</td>\n",
       "      <td>0.421249</td>\n",
       "      <td>0.536279</td>\n",
       "    </tr>\n",
       "    <tr>\n",
       "      <th>GA</th>\n",
       "      <td>-0.578796</td>\n",
       "      <td>-0.747626</td>\n",
       "      <td>-0.361101</td>\n",
       "      <td>-0.327387</td>\n",
       "      <td>-0.320370</td>\n",
       "      <td>0.364852</td>\n",
       "      <td>0.913963</td>\n",
       "      <td>1.000000</td>\n",
       "      <td>-0.183025</td>\n",
       "      <td>0.331653</td>\n",
       "      <td>0.535782</td>\n",
       "    </tr>\n",
       "    <tr>\n",
       "      <th>SF60</th>\n",
       "      <td>0.468253</td>\n",
       "      <td>0.522118</td>\n",
       "      <td>0.778101</td>\n",
       "      <td>0.788091</td>\n",
       "      <td>0.809392</td>\n",
       "      <td>-0.352053</td>\n",
       "      <td>-0.187607</td>\n",
       "      <td>-0.183025</td>\n",
       "      <td>1.000000</td>\n",
       "      <td>-0.329785</td>\n",
       "      <td>-0.484563</td>\n",
       "    </tr>\n",
       "    <tr>\n",
       "      <th>FA60</th>\n",
       "      <td>-0.466330</td>\n",
       "      <td>-0.349842</td>\n",
       "      <td>-0.746783</td>\n",
       "      <td>-0.808367</td>\n",
       "      <td>-0.778591</td>\n",
       "      <td>0.934904</td>\n",
       "      <td>0.421249</td>\n",
       "      <td>0.331653</td>\n",
       "      <td>-0.329785</td>\n",
       "      <td>1.000000</td>\n",
       "      <td>0.477409</td>\n",
       "    </tr>\n",
       "    <tr>\n",
       "      <th>Rank</th>\n",
       "      <td>-0.905004</td>\n",
       "      <td>-0.653633</td>\n",
       "      <td>-0.598466</td>\n",
       "      <td>-0.585340</td>\n",
       "      <td>-0.577347</td>\n",
       "      <td>0.537879</td>\n",
       "      <td>0.536279</td>\n",
       "      <td>0.535782</td>\n",
       "      <td>-0.484563</td>\n",
       "      <td>0.477409</td>\n",
       "      <td>1.000000</td>\n",
       "    </tr>\n",
       "  </tbody>\n",
       "</table>\n",
       "</div>"
      ],
      "text/plain": [
       "           PTS       GF%       CF%       FF%       SF%      CA60      GA60  \\\n",
       "PTS   1.000000  0.737442  0.594891  0.581731  0.569284 -0.512371 -0.587673   \n",
       "GF%   0.737442  1.000000  0.564523  0.539240  0.554774 -0.381984 -0.716356   \n",
       "CF%   0.594891  0.564523  1.000000  0.963224  0.925612 -0.785850 -0.410968   \n",
       "FF%   0.581731  0.539240  0.963224  1.000000  0.971019 -0.780381 -0.391974   \n",
       "SF%   0.569284  0.554774  0.925612  0.971019  1.000000 -0.748632 -0.382054   \n",
       "CA60 -0.512371 -0.381984 -0.785850 -0.780381 -0.748632  1.000000  0.441831   \n",
       "GA60 -0.587673 -0.716356 -0.410968 -0.391974 -0.382054  0.441831  1.000000   \n",
       "GA   -0.578796 -0.747626 -0.361101 -0.327387 -0.320370  0.364852  0.913963   \n",
       "SF60  0.468253  0.522118  0.778101  0.788091  0.809392 -0.352053 -0.187607   \n",
       "FA60 -0.466330 -0.349842 -0.746783 -0.808367 -0.778591  0.934904  0.421249   \n",
       "Rank -0.905004 -0.653633 -0.598466 -0.585340 -0.577347  0.537879  0.536279   \n",
       "\n",
       "            GA      SF60      FA60      Rank  \n",
       "PTS  -0.578796  0.468253 -0.466330 -0.905004  \n",
       "GF%  -0.747626  0.522118 -0.349842 -0.653633  \n",
       "CF%  -0.361101  0.778101 -0.746783 -0.598466  \n",
       "FF%  -0.327387  0.788091 -0.808367 -0.585340  \n",
       "SF%  -0.320370  0.809392 -0.778591 -0.577347  \n",
       "CA60  0.364852 -0.352053  0.934904  0.537879  \n",
       "GA60  0.913963 -0.187607  0.421249  0.536279  \n",
       "GA    1.000000 -0.183025  0.331653  0.535782  \n",
       "SF60 -0.183025  1.000000 -0.329785 -0.484563  \n",
       "FA60  0.331653 -0.329785  1.000000  0.477409  \n",
       "Rank  0.535782 -0.484563  0.477409  1.000000  "
      ]
     },
     "execution_count": 48,
     "metadata": {},
     "output_type": "execute_result"
    }
   ],
   "source": [
    "sel2 = sel['level_1'].values\n",
    "sel2 = np.append(sel2, 'Rank')\n",
    "df[sel2].corr()"
   ]
  },
  {
   "cell_type": "code",
   "execution_count": 52,
   "metadata": {},
   "outputs": [
    {
     "data": {
      "image/png": "[encoded data removed]",
      "text/plain": [
       "<matplotlib.figure.Figure at 0xd7020f0>"
      ]
     },
     "metadata": {
      "image/png": {
       "height": 413,
       "width": 508
      }
     },
     "output_type": "display_data"
    }
   ],
   "source": [
    "corr = df[sel2].corr()\n",
    "# Set the default matplotlib figure size:\n",
    "fig, ax = plt.subplots(figsize=(9,7))\n",
    "# Generate a mask for the upper triangle (taken from seaborn example gallery)\n",
    "mask = np.zeros_like(corr, dtype=np.bool)\n",
    "mask[np.triu_indices_from(mask)] = True\n",
    "# Plot the heatmap with seaborn.\n",
    "# Assign the matplotlib axis the function returns. This will let us resize the labels.\n",
    "ax = sns.heatmap(corr, mask=mask, ax=ax, annot=True)\n",
    "# Resize the labels.\n",
    "ax.set_xticklabels(ax.xaxis.get_ticklabels(), fontsize=10)\n",
    "ax.set_yticklabels(ax.yaxis.get_ticklabels(), fontsize=10)\n",
    "# If you put plt.show() at the bottom, it prevents those useless printouts from matplotlib.\n",
    "plt.show()\n"
   ]
  },
  {
   "cell_type": "code",
   "execution_count": 53,
   "metadata": {},
   "outputs": [],
   "source": [
    "selected = ['CF%', 'GF', 'Sh%', 'PDO']"
   ]
  },
  {
   "cell_type": "code",
   "execution_count": 55,
   "metadata": {},
   "outputs": [],
   "source": [
    "y = df['Rank']\n",
    "X = df[selected]\n",
    "\n",
    "from sklearn.preprocessing import StandardScaler\n",
    "Xs = StandardScaler().fit_transform(X)"
   ]
  },
  {
   "cell_type": "code",
   "execution_count": 56,
   "metadata": {},
   "outputs": [],
   "source": [
    "from sklearn.model_selection import StratifiedKFold\n",
    "#create stratified fold\n",
    "skf = StratifiedKFold(n_splits=3)\n",
    "indices = skf.split(X, y)\n",
    "indices = [[tr,te] for tr, te in indices]"
   ]
  },
  {
   "cell_type": "markdown",
   "metadata": {},
   "source": [
    "### 6) Fit a `KNeighborsClassifier` with one neighbor using the target and predictors."
   ]
  },
  {
   "cell_type": "code",
   "execution_count": 57,
   "metadata": {},
   "outputs": [],
   "source": [
    "y = df['Rank']\n",
    "X = df[selected]"
   ]
  },
  {
   "cell_type": "code",
   "execution_count": 58,
   "metadata": {},
   "outputs": [
    {
     "data": {
      "text/plain": [
       "1.0"
      ]
     },
     "execution_count": 58,
     "metadata": {},
     "output_type": "execute_result"
    }
   ],
   "source": [
    "model = KNeighborsClassifier(n_neighbors=1).fit(X, y)\n",
    "model.score(X, y)"
   ]
  },
  {
   "cell_type": "code",
   "execution_count": 11,
   "metadata": {},
   "outputs": [
    {
     "name": "stdout",
     "output_type": "stream",
     "text": [
      "[0.4838709677419355, 0.4666666666666667, 0.41379310344827586]\n",
      "0.45477691261895936\n"
     ]
    }
   ],
   "source": [
    "from sklearn.neighbors import KNeighborsClassifier\n",
    "scores = []\n",
    "for i in range(len(indices)):\n",
    "    model = KNeighborsClassifier(n_neighbors=1).fit(Xs[indices[i][0]], y[indices[i][0]])\n",
    "    scores.append(model.score(Xs[indices[i][1]], y[indices[i][1]]))\n",
    "print scores\n",
    "print np.mean(scores)"
   ]
  },
  {
   "cell_type": "markdown",
   "metadata": {},
   "source": [
    "### 7) Evaluate the accuracy of your model.\n",
    "- Is it better than the baseline?\n",
    "- Is it legitimate?"
   ]
  },
  {
   "cell_type": "code",
   "execution_count": 12,
   "metadata": {},
   "outputs": [],
   "source": [
    "#it is better, not legitimate"
   ]
  },
  {
   "cell_type": "markdown",
   "metadata": {},
   "source": [
    "### 8) Create a 50-50 train/test split of your target and predictors. Refit the KNN and assess the accuracy."
   ]
  },
  {
   "cell_type": "code",
   "execution_count": 59,
   "metadata": {},
   "outputs": [],
   "source": [
    "from sklearn.model_selection import train_test_split\n",
    "X_train, X_test, y_train, y_test = train_test_split(X, y, test_size=0.5, random_state=99)"
   ]
  },
  {
   "cell_type": "code",
   "execution_count": 60,
   "metadata": {},
   "outputs": [],
   "source": [
    "model = KNeighborsClassifier(n_neighbors=1).fit(X_train, y_train)"
   ]
  },
  {
   "cell_type": "code",
   "execution_count": 64,
   "metadata": {},
   "outputs": [
    {
     "name": "stdout",
     "output_type": "stream",
     "text": [
      "0.5111111111111111\n"
     ]
    }
   ],
   "source": [
    "print model.score(X_test, y_test)"
   ]
  },
  {
   "cell_type": "code",
   "execution_count": 66,
   "metadata": {},
   "outputs": [
    {
     "name": "stdout",
     "output_type": "stream",
     "text": [
      "[3 2 3 3 3 2 3 2 2 2 2 1 3 3 1 3 3 2 2 3 2 1 1 1 1 1 2 1 2 2 3 1 3 1 2 3 3\n",
      " 1 2 1 1 1 3 1 2]\n"
     ]
    }
   ],
   "source": [
    "y_pred_class = model.predict(X_test)\n",
    "print y_pred_class"
   ]
  },
  {
   "cell_type": "markdown",
   "metadata": {},
   "source": [
    "### 9) Evaluate the test accuracy of a KNN where K == number of rows in the training data."
   ]
  },
  {
   "cell_type": "code",
   "execution_count": 67,
   "metadata": {},
   "outputs": [],
   "source": [
    "scores = []\n",
    "for k in range(1,len(X_train)+1):\n",
    "    model = KNeighborsClassifier(n_neighbors=k).fit(X_train, y_train)\n",
    "    scores.append(model.score(X_test, y_test))"
   ]
  },
  {
   "cell_type": "code",
   "execution_count": 68,
   "metadata": {},
   "outputs": [
    {
     "data": {
      "text/plain": [
       "<matplotlib.axes._subplots.AxesSubplot at 0xd7e0588>"
      ]
     },
     "execution_count": 68,
     "metadata": {},
     "output_type": "execute_result"
    },
    {
     "data": {
      "image/png": "[encoded data removed]",
      "text/plain": [
       "<matplotlib.figure.Figure at 0xd70fc18>"
      ]
     },
     "metadata": {
      "image/png": {
       "height": 263,
       "width": 380
      }
     },
     "output_type": "display_data"
    }
   ],
   "source": [
    "k = np.arange(1,60)\n",
    "cv = pd.DataFrame(zip(k, scores))\n",
    "cv.plot(x=0,y=1)"
   ]
  },
  {
   "cell_type": "code",
   "execution_count": 18,
   "metadata": {},
   "outputs": [
    {
     "name": "stdout",
     "output_type": "stream",
     "text": [
      "[0.3225806451612903, 0.3333333333333333, 0.3448275862068966]\n",
      "0.33358052156717344\n"
     ]
    }
   ],
   "source": [
    "from sklearn.neighbors import KNeighborsClassifier\n",
    "scores = []\n",
    "for i in range(len(indices)):\n",
    "    model = KNeighborsClassifier(n_neighbors=len(Xs[indices[i][0]])).fit(Xs[indices[i][0]], y[indices[i][0]])\n",
    "    scores.append(model.score(Xs[indices[i][1]], y[indices[i][1]]))\n",
    "print scores\n",
    "print np.mean(scores)"
   ]
  },
  {
   "cell_type": "markdown",
   "metadata": {},
   "source": [
    "### 10) Fit the KNN at values of K from one to the number of rows in the training data.\n",
    "- Store the test accuracy in a list.\n",
    "- Plot the test accuracy versus the number of neighbors."
   ]
  },
  {
   "cell_type": "code",
   "execution_count": 69,
   "metadata": {},
   "outputs": [],
   "source": [
    "from sklearn.model_selection import StratifiedKFold\n",
    "#create stratified fold\n",
    "skf = StratifiedKFold(n_splits=3)\n",
    "indices = skf.split(X, y)\n",
    "indices = [[tr,te] for tr, te in indices]"
   ]
  },
  {
   "cell_type": "code",
   "execution_count": 82,
   "metadata": {},
   "outputs": [],
   "source": [
    "cv_scores = []\n",
    "for k in range(1,len(indices[i][0])-1):\n",
    "    model = KNeighborsClassifier(n_neighbors=k)\n",
    "    scores = []\n",
    "    for i in range(3):\n",
    "        model.fit(X.iloc[indices[i][0]], y[indices[i][0]])\n",
    "        scores.append(model.score(X.iloc[indices[i][1]], y[indices[i][1]]))\n",
    "    cv_scores.append(scores)"
   ]
  },
  {
   "cell_type": "code",
   "execution_count": 72,
   "metadata": {},
   "outputs": [],
   "source": [
    "for i in range(3):\n",
    "        model.fit(Xs[indices[i][0]], y[indices[i][0]])\n",
    "        scores.append(model.score(Xs[indices[i][1]], y[indices[i][1]]))"
   ]
  },
  {
   "cell_type": "code",
   "execution_count": 83,
   "metadata": {},
   "outputs": [],
   "source": [
    "avg_k_score = [np.mean(scores) for scores in cv_scores]"
   ]
  },
  {
   "cell_type": "code",
   "execution_count": 84,
   "metadata": {},
   "outputs": [
    {
     "data": {
      "text/plain": [
       "<matplotlib.axes._subplots.AxesSubplot at 0xd62b048>"
      ]
     },
     "execution_count": 84,
     "metadata": {},
     "output_type": "execute_result"
    },
    {
     "data": {
      "image/png": "[encoded data removed]",
      "text/plain": [
       "<matplotlib.figure.Figure at 0xd08e198>"
      ]
     },
     "metadata": {
      "image/png": {
       "height": 263,
       "width": 380
      }
     },
     "output_type": "display_data"
    }
   ],
   "source": [
    "k = np.arange(1,60)\n",
    "cv = pd.DataFrame(zip(k, avg_k_score))\n",
    "cv.plot(x=0,y=1)"
   ]
  },
  {
   "cell_type": "markdown",
   "metadata": {},
   "source": [
    "### 11) Fit KNN across different values of K and plot the mean cross-validated accuracy with five folds."
   ]
  },
  {
   "cell_type": "code",
   "execution_count": 23,
   "metadata": {},
   "outputs": [],
   "source": [
    "cv_scores = []\n",
    "for i in range(3):\n",
    "    k_scores = []\n",
    "    for k in range(1,len(indices[i][0])):\n",
    "        model = KNeighborsClassifier(n_neighbors=k)\n",
    "        model.fit(Xs[indices[i][0]], y[indices[i][0]])\n",
    "        k_scores.append(model.score(Xs[indices[i][1]], y[indices[i][1]]))\n",
    "    cv_scores.append(k_scores)"
   ]
  },
  {
   "cell_type": "code",
   "execution_count": 24,
   "metadata": {},
   "outputs": [
    {
     "ename": "IndexError",
     "evalue": "list index out of range",
     "output_type": "error",
     "traceback": [
      "\u001b[1;31m---------------------------------------------------------------------------\u001b[0m",
      "\u001b[1;31mIndexError\u001b[0m                                Traceback (most recent call last)",
      "\u001b[1;32m<ipython-input-24-a2a5bdca7556>\u001b[0m in \u001b[0;36m<module>\u001b[1;34m()\u001b[0m\n\u001b[0;32m      3\u001b[0m     \u001b[0mlist\u001b[0m \u001b[1;33m=\u001b[0m \u001b[1;33m[\u001b[0m\u001b[1;33m]\u001b[0m\u001b[1;33m\u001b[0m\u001b[0m\n\u001b[0;32m      4\u001b[0m     \u001b[1;32mfor\u001b[0m \u001b[0mi\u001b[0m \u001b[1;32min\u001b[0m \u001b[0mrange\u001b[0m\u001b[1;33m(\u001b[0m\u001b[1;36m3\u001b[0m\u001b[1;33m)\u001b[0m\u001b[1;33m:\u001b[0m\u001b[1;33m\u001b[0m\u001b[0m\n\u001b[1;32m----> 5\u001b[1;33m         \u001b[0mlist\u001b[0m\u001b[1;33m.\u001b[0m\u001b[0mappend\u001b[0m\u001b[1;33m(\u001b[0m\u001b[0mcv_scores\u001b[0m\u001b[1;33m[\u001b[0m\u001b[0mi\u001b[0m\u001b[1;33m]\u001b[0m\u001b[1;33m[\u001b[0m\u001b[0mj\u001b[0m\u001b[1;33m]\u001b[0m\u001b[1;33m)\u001b[0m\u001b[1;33m\u001b[0m\u001b[0m\n\u001b[0m\u001b[0;32m      6\u001b[0m \u001b[0mcvlist\u001b[0m\u001b[1;33m.\u001b[0m\u001b[0mappend\u001b[0m\u001b[1;33m(\u001b[0m\u001b[0mnp\u001b[0m\u001b[1;33m.\u001b[0m\u001b[0mmean\u001b[0m\u001b[1;33m(\u001b[0m\u001b[0mlist\u001b[0m\u001b[1;33m)\u001b[0m\u001b[1;33m)\u001b[0m\u001b[1;33m\u001b[0m\u001b[0m\n",
      "\u001b[1;31mIndexError\u001b[0m: list index out of range"
     ]
    }
   ],
   "source": [
    "cvlist = []\n",
    "for j in range(60):\n",
    "    list = []\n",
    "    for i in range(3):\n",
    "        list.append(cv_scores[i][j])\n",
    "cvlist.append(np.mean(list))"
   ]
  },
  {
   "cell_type": "code",
   "execution_count": null,
   "metadata": {},
   "outputs": [],
   "source": [
    "cvlist"
   ]
  },
  {
   "cell_type": "markdown",
   "metadata": {},
   "source": [
    "### 12) Standardize the predictor matrix and cross-validate across the different K values.\n",
    "- Plot the standardized mean cross-validated accuracy against the unstandardized. Which is better?\n",
    "- Why?"
   ]
  },
  {
   "cell_type": "code",
   "execution_count": null,
   "metadata": {},
   "outputs": [],
   "source": [
    "# A:"
   ]
  }
 ],
 "metadata": {
  "kernelspec": {
   "display_name": "Python 2",
   "language": "python",
   "name": "python2"
  },
  "language_info": {
   "codemirror_mode": {
    "name": "ipython",
    "version": 2
   },
   "file_extension": ".py",
   "mimetype": "text/x-python",
   "name": "python",
   "nbconvert_exporter": "python",
   "pygments_lexer": "ipython2",
   "version": "2.7.14"
  }
 },
 "nbformat": 4,
 "nbformat_minor": 2
}
