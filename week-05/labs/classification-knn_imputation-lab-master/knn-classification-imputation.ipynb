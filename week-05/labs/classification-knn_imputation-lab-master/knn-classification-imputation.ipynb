{
 "cells": [
  {
   "cell_type": "markdown",
   "metadata": {},
   "source": [
    "<img src=\"http://imgur.com/1ZcRyrc.png\" style=\"float: left; margin: 20px; height: 55px\">\n",
    "\n",
    "# KNN Classification and Imputation: Cell Phone Churn Data\n",
    "\n",
    "_Authors: Kiefer Katovich (SF)_\n",
    "\n",
    "---\n",
    "\n",
    "In this lab, you'll practice using KNN for classification (and a little bit of regression as well).\n",
    "\n",
    "This data set focuses on churn in cell phone plans. It has information on the usage of the phones by different account holders and whether or not they churned.\n",
    "\n",
    "Our goal is to predict whether or not a user will churn based on the other features.\n",
    "\n",
    "We'll also be using the KNN model to **impute** missing data. There are a couple of columns in the data set with missing values, and we can build KNN models to predict what those missing values will most likely be. This is a more advanced imputation method than just filling in the mean or median."
   ]
  },
  {
   "cell_type": "code",
   "execution_count": 4,
   "metadata": {},
   "outputs": [],
   "source": [
    "import matplotlib.pyplot as plt\n",
    "import numpy as np\n",
    "import pandas as pd\n",
    "import seaborn as sns\n",
    "\n",
    "%matplotlib inline\n",
    "%config InlineBackend.figure_format = 'retina'\n",
    "\n",
    "from sklearn.neighbors import KNeighborsClassifier"
   ]
  },
  {
   "cell_type": "markdown",
   "metadata": {},
   "source": [
    "### 1) Load the cell phone churn data, which contains some missing values."
   ]
  },
  {
   "cell_type": "code",
   "execution_count": 66,
   "metadata": {},
   "outputs": [],
   "source": [
    "churn = pd.read_csv('./datasets/churn_missing.csv')"
   ]
  },
  {
   "cell_type": "markdown",
   "metadata": {},
   "source": [
    "### 2) Examine the data. What columns have missing values?"
   ]
  },
  {
   "cell_type": "code",
   "execution_count": 67,
   "metadata": {},
   "outputs": [
    {
     "data": {
      "text/plain": [
       "state               0\n",
       "account_length      0\n",
       "area_code           0\n",
       "intl_plan           0\n",
       "vmail_plan        400\n",
       "vmail_message     400\n",
       "day_mins            0\n",
       "day_calls           0\n",
       "day_charge          0\n",
       "eve_mins            0\n",
       "eve_calls           0\n",
       "eve_charge          0\n",
       "night_mins          0\n",
       "night_calls         0\n",
       "night_charge        0\n",
       "intl_mins           0\n",
       "intl_calls          0\n",
       "intl_charge         0\n",
       "custserv_calls      0\n",
       "churn               0\n",
       "dtype: int64"
      ]
     },
     "execution_count": 67,
     "metadata": {},
     "output_type": "execute_result"
    }
   ],
   "source": [
    "churn.isnull().sum()\n",
    "#vmail_plan, vmail_message missing 400"
   ]
  },
  {
   "cell_type": "code",
   "execution_count": 68,
   "metadata": {},
   "outputs": [
    {
     "data": {
      "text/plain": [
       "no     2130\n",
       "yes     803\n",
       "Name: vmail_plan, dtype: int64"
      ]
     },
     "execution_count": 68,
     "metadata": {},
     "output_type": "execute_result"
    }
   ],
   "source": [
    "churn['vmail_plan'].value_counts()"
   ]
  },
  {
   "cell_type": "code",
   "execution_count": 69,
   "metadata": {},
   "outputs": [
    {
     "data": {
      "text/plain": [
       "no     3010\n",
       "yes     323\n",
       "Name: intl_plan, dtype: int64"
      ]
     },
     "execution_count": 69,
     "metadata": {},
     "output_type": "execute_result"
    }
   ],
   "source": [
    "churn['intl_plan'].value_counts()"
   ]
  },
  {
   "cell_type": "markdown",
   "metadata": {},
   "source": [
    "### 3) Convert the `vmail_plan` and `intl_plan` columns to binary integer columns.\n",
    "\n",
    "Make sure that if a value is missing you don't fill it in with a new value. Preserve the missing values."
   ]
  },
  {
   "cell_type": "code",
   "execution_count": 70,
   "metadata": {},
   "outputs": [],
   "source": [
    "churn['vmail_plan'] = churn['vmail_plan'].apply(lambda x: 1 if x == 'yes' else 0 if x == 'no' else x)\n",
    "churn['intl_plan'] = churn['intl_plan'].apply(lambda x: 1 if x == 'yes' else 0 if x == 'no' else x)"
   ]
  },
  {
   "cell_type": "markdown",
   "metadata": {},
   "source": [
    "### 4) Create dummy-coded columns for the states and concatenate them to the churn data set.\n",
    "\n",
    "> **Remember:** You'll need to leave out one of the state dummy-coded columns to serve as the \"reference\" column, as we'll be using these for modeling."
   ]
  },
  {
   "cell_type": "code",
   "execution_count": 71,
   "metadata": {},
   "outputs": [],
   "source": [
    "churn = pd.get_dummies(churn, columns=['state'])"
   ]
  },
  {
   "cell_type": "markdown",
   "metadata": {},
   "source": [
    "### 5) Create a version of the churn data that has no missing values.\n",
    "\n",
    "Calculate the shape."
   ]
  },
  {
   "cell_type": "code",
   "execution_count": 72,
   "metadata": {},
   "outputs": [
    {
     "data": {
      "text/plain": [
       "(3333, 70)"
      ]
     },
     "execution_count": 72,
     "metadata": {},
     "output_type": "execute_result"
    }
   ],
   "source": [
    "churn.shape"
   ]
  },
  {
   "cell_type": "code",
   "execution_count": 76,
   "metadata": {},
   "outputs": [
    {
     "data": {
      "text/plain": [
       "(2933, 70)"
      ]
     },
     "execution_count": 76,
     "metadata": {},
     "output_type": "execute_result"
    }
   ],
   "source": [
    "churn2 = churn.dropna()\n",
    "churn2.shape"
   ]
  },
  {
   "cell_type": "markdown",
   "metadata": {},
   "source": [
    "### 6) Create a target vector and predictor matrix.\n",
    "\n",
    "- The target should be the `churn` column.\n",
    "- The predictor matrix should be all columns except `area_code`, `state`, and `churn`."
   ]
  },
  {
   "cell_type": "code",
   "execution_count": 78,
   "metadata": {},
   "outputs": [],
   "source": [
    "y = churn2['churn']\n",
    "X = churn2.drop(['area_code','churn'], axis=1)"
   ]
  },
  {
   "cell_type": "markdown",
   "metadata": {},
   "source": [
    "### 7) Calculate the baseline accuracy for `churn`."
   ]
  },
  {
   "cell_type": "code",
   "execution_count": 98,
   "metadata": {},
   "outputs": [
    {
     "data": {
      "text/plain": [
       "0.8564609614728946"
      ]
     },
     "execution_count": 98,
     "metadata": {},
     "output_type": "execute_result"
    }
   ],
   "source": [
    "1 - np.mean(y)"
   ]
  },
  {
   "cell_type": "code",
   "execution_count": 80,
   "metadata": {},
   "outputs": [
    {
     "data": {
      "text/plain": [
       "False    0.856461\n",
       "True     0.143539\n",
       "Name: churn, dtype: float64"
      ]
     },
     "execution_count": 80,
     "metadata": {},
     "output_type": "execute_result"
    }
   ],
   "source": [
    "y.value_counts()/len(y)"
   ]
  },
  {
   "cell_type": "markdown",
   "metadata": {},
   "source": [
    "### 8) Cross-validate a KNN model predicting `churn`. \n",
    "\n",
    "- The number of neighbors should be five.\n",
    "- Make sure to standardize the predictor matrix.\n",
    "- Set cross-validation folds to 10.\n",
    "\n",
    "Report the mean cross-validated accuracy."
   ]
  },
  {
   "cell_type": "code",
   "execution_count": 85,
   "metadata": {},
   "outputs": [
    {
     "name": "stdout",
     "output_type": "stream",
     "text": [
      "[0.84745763 0.86054422 0.86006826 0.85665529 0.87030717 0.85665529\n",
      " 0.85665529 0.85324232 0.85665529 0.85665529]\n",
      "0.8574896042757937\n"
     ]
    }
   ],
   "source": [
    "from sklearn.preprocessing import StandardScaler\n",
    "from sklearn.neighbors import KNeighborsClassifier\n",
    "from sklearn.model_selection import cross_val_score\n",
    "\n",
    "Xs = StandardScaler().fit_transform(X)\n",
    "knn = KNeighborsClassifier(n_neighbors=5)\n",
    "accs = cross_val_score(knn, Xs, y, cv=10)\n",
    "print accs\n",
    "print np.mean(accs)"
   ]
  },
  {
   "cell_type": "markdown",
   "metadata": {},
   "source": [
    "### 9) Iterate from `k=1` to `k=49` (only odd `k`s) and cross-validate the accuracy of the model for each.\n",
    "\n",
    "Plot the cross-validated mean accuracy for each score. What's the best accuracy?"
   ]
  },
  {
   "cell_type": "code",
   "execution_count": 90,
   "metadata": {},
   "outputs": [],
   "source": [
    "max_neighbors = 49\n",
    "\n",
    "# plot test accuracy by number of neighbors:\n",
    "test_acc = []\n",
    "for i in range(1, int(max_neighbors), 2):\n",
    "    knn = KNeighborsClassifier(n_neighbors=i)\n",
    "    test_acc.append(np.mean(cross_val_score(knn, Xs, y, cv=10)))"
   ]
  },
  {
   "cell_type": "code",
   "execution_count": 91,
   "metadata": {},
   "outputs": [
    {
     "data": {
      "text/plain": [
       "[0.83532037955461,\n",
       " 0.8571529665837527,\n",
       " 0.8574896042757937,\n",
       " 0.8581698921253003,\n",
       " 0.8574849765208332,\n",
       " 0.856463407483662,\n",
       " 0.8568035435380839,\n",
       " 0.8568035435380839,\n",
       " 0.8564622466097562,\n",
       " 0.8564622466097562,\n",
       " 0.8564622466097562,\n",
       " 0.8564622466097562,\n",
       " 0.8564622466097562,\n",
       " 0.8564622466097562,\n",
       " 0.8564622466097562,\n",
       " 0.8564622466097562,\n",
       " 0.8564622466097562,\n",
       " 0.8564622466097562,\n",
       " 0.8564622466097562,\n",
       " 0.8564622466097562,\n",
       " 0.8564622466097562,\n",
       " 0.8564622466097562,\n",
       " 0.8564622466097562,\n",
       " 0.8564622466097562]"
      ]
     },
     "execution_count": 91,
     "metadata": {},
     "output_type": "execute_result"
    }
   ],
   "source": [
    "test_acc"
   ]
  },
  {
   "cell_type": "code",
   "execution_count": 92,
   "metadata": {},
   "outputs": [
    {
     "data": {
      "image/png": "[encoded data removed]",
      "text/plain": [
       "<matplotlib.figure.Figure at 0xd602da0>"
      ]
     },
     "metadata": {
      "image/png": {
       "height": 386,
       "width": 511
      }
     },
     "output_type": "display_data"
    }
   ],
   "source": [
    "# plot mean acc. graph of CV\n",
    "fig, ax = plt.subplots(figsize=(8,6))\n",
    "ax.plot(range(1, int(max_neighbors), 2), test_acc, lw=3., marker='o')\n",
    "plt.xlabel('k = number of neighbors')\n",
    "plt.ylabel('accuracy')\n",
    "plt.title('K vs. (Cross-validated) Mean Accuracy')\n",
    "plt.show()"
   ]
  },
  {
   "cell_type": "markdown",
   "metadata": {},
   "source": [
    "### 10) Imputing with KNN.\n",
    "\n",
    "K-nearest neighbors can be used to impute missing values in data sets. What we'll do is estimate the most likely value for the missing data based on a KNN model.\n",
    "\n",
    "We have two columns with missing data:\n",
    "- `vmail_plan`\n",
    "- `vmail_message`\n",
    "\n",
    "**10.A) Create two subsets of the churn data set: one without the missing values for `vmail_plan` and `vmail_message` and one with the missing values.**"
   ]
  },
  {
   "cell_type": "code",
   "execution_count": 113,
   "metadata": {},
   "outputs": [],
   "source": [
    "df = churn.drop(['area_code','churn'], axis=1)\n",
    "ms_d = df[df['vmail_plan'].isnull()]\n",
    "nms_d = df.dropna()"
   ]
  },
  {
   "cell_type": "code",
   "execution_count": 114,
   "metadata": {},
   "outputs": [
    {
     "name": "stdout",
     "output_type": "stream",
     "text": [
      "(400, 68)\n",
      "(2933, 68)\n"
     ]
    }
   ],
   "source": [
    "print ms_d.shape\n",
    "print nms_d.shape"
   ]
  },
  {
   "cell_type": "markdown",
   "metadata": {},
   "source": [
    "First we'll impute values for `vmail_plan`. This is a categorical column, so we'll impute using classification — predicting whether the plan is yes or no (1 vs. 0).\n",
    "\n",
    "**10.B) Create a target for `vmail_plan` and a predictor matrix that contains all columns except `state`, `area_code`, `churn`, `vmail_plan`, and `vmail_message`.**\n",
    "\n",
    "> **Note:** We don't include the `churn` variable in the model to impute. Why? We're imputing these missing values so that we can use the rows to predict churn with more data afterward. If we imputed with `churn` as a predictor, we'd be cheating!"
   ]
  },
  {
   "cell_type": "code",
   "execution_count": 141,
   "metadata": {},
   "outputs": [],
   "source": [
    "X_vp_ms = ms_d.drop(['vmail_plan','vmail_message'], axis=1) #ms data set\n",
    "X_vp_nms = nms_d.drop(['vmail_plan','vmail_message'], axis=1) #no ms data set"
   ]
  },
  {
   "cell_type": "code",
   "execution_count": 142,
   "metadata": {},
   "outputs": [],
   "source": [
    "y_vp_ms = ms_d['vmail_plan']\n",
    "y_vp_nms = nms_d['vmail_plan']"
   ]
  },
  {
   "cell_type": "code",
   "execution_count": 143,
   "metadata": {},
   "outputs": [],
   "source": [
    "y_vm_ms = ms_d['vmail_message']\n",
    "y_vm_nms = nms_d['vmail_message']"
   ]
  },
  {
   "cell_type": "markdown",
   "metadata": {},
   "source": [
    "**10.C) Standardize the predictor matrix.**"
   ]
  },
  {
   "cell_type": "code",
   "execution_count": 144,
   "metadata": {},
   "outputs": [],
   "source": [
    "Xs = StandardScaler().fit_transform(X_vp_nms)"
   ]
  },
  {
   "cell_type": "markdown",
   "metadata": {},
   "source": [
    "**10.D) Find the best `k` for predicting `vmail_plan`.**\n",
    "\n",
    "You may want to write a function for this. What is the accuracy for predicting `vmail_plan` at the best `k`? What is the baseline accuracy for `vmail_plan`?"
   ]
  },
  {
   "cell_type": "code",
   "execution_count": 145,
   "metadata": {},
   "outputs": [
    {
     "data": {
      "text/plain": [
       "0.0    0.726219\n",
       "1.0    0.273781\n",
       "Name: vmail_plan, dtype: float64"
      ]
     },
     "execution_count": 145,
     "metadata": {},
     "output_type": "execute_result"
    }
   ],
   "source": [
    "y_vp_nms.value_counts()/len(y_vp_nms)"
   ]
  },
  {
   "cell_type": "code",
   "execution_count": 146,
   "metadata": {},
   "outputs": [],
   "source": [
    "max_neighbors = 49\n",
    "\n",
    "# plot test accuracy by number of neighbors:\n",
    "test_acc = []\n",
    "for i in range(1, int(max_neighbors), 2):\n",
    "    knn = KNeighborsClassifier(n_neighbors=i)\n",
    "    test_acc.append(np.mean(cross_val_score(knn, Xs, y_vp_nms, cv=10)))"
   ]
  },
  {
   "cell_type": "code",
   "execution_count": 147,
   "metadata": {},
   "outputs": [
    {
     "data": {
      "image/png": "[encoded data removed]",
      "text/plain": [
       "<matplotlib.figure.Figure at 0xeda5518>"
      ]
     },
     "metadata": {
      "image/png": {
       "height": 386,
       "width": 505
      }
     },
     "output_type": "display_data"
    }
   ],
   "source": [
    "# plot mean acc. graph of CV\n",
    "fig, ax = plt.subplots(figsize=(8,6))\n",
    "ax.plot(range(1, int(max_neighbors), 2), test_acc, lw=3., marker='o')\n",
    "plt.xlabel('k = number of neighbors')\n",
    "plt.ylabel('accuracy')\n",
    "plt.title('K vs. (Cross-validated) Mean Accuracy')\n",
    "plt.show()"
   ]
  },
  {
   "cell_type": "markdown",
   "metadata": {},
   "source": [
    "**10.E) Fit a `KNeighborsClassifier` with the best number of neighbors.**"
   ]
  },
  {
   "cell_type": "code",
   "execution_count": 148,
   "metadata": {},
   "outputs": [],
   "source": [
    "knn = KNeighborsClassifier(n_neighbors=49).fit(Xs, y_vp_nms)"
   ]
  },
  {
   "cell_type": "markdown",
   "metadata": {},
   "source": [
    "**10.F) Predict the missing `vmail_plan` values using the subset of the data where they are missing.**\n",
    "\n",
    "You'll need to:\n",
    "\n",
    "    - Create a new predictor matrix using the same predictors (but from the missing subset of data).\n",
    "    - Standardize this predictor matrix *using the StandardScaler object fit on the non-missing data.* This means you'll just use the `.transform()` function. It's important to standardize the new predictors the same way we standardized the original predictors if we want the predictions to make sense. Calling `.fit_transform()` will reset the standardized scale.\n",
    "    - Predict what the missing `vmail_plan` values should be.\n",
    "    - Replace the missing values in the original with the predicted values.\n",
    "\n",
    "> **Note:** It may predict all 0s. This is OK. If you want to see the predicted probabilities of `vmail_plan` for each row, you can use the `.predict_proba()` function instead of `.predict()`. You can use these probabilities to manually set the criteria threshold."
   ]
  },
  {
   "cell_type": "code",
   "execution_count": 149,
   "metadata": {},
   "outputs": [],
   "source": [
    "X_pred = StandardScaler().fit_transform(X_vp_ms)"
   ]
  },
  {
   "cell_type": "code",
   "execution_count": 150,
   "metadata": {},
   "outputs": [
    {
     "data": {
      "text/plain": [
       "array([[0.7755102 , 0.2244898 ],\n",
       "       [0.71428571, 0.28571429],\n",
       "       [0.81632653, 0.18367347],\n",
       "       [0.69387755, 0.30612245],\n",
       "       [0.73469388, 0.26530612],\n",
       "       [0.71428571, 0.28571429],\n",
       "       [0.67346939, 0.32653061],\n",
       "       [0.79591837, 0.20408163],\n",
       "       [0.79591837, 0.20408163],\n",
       "       [0.75510204, 0.24489796],\n",
       "       [0.71428571, 0.28571429],\n",
       "       [0.69387755, 0.30612245],\n",
       "       [0.73469388, 0.26530612],\n",
       "       [0.83673469, 0.16326531],\n",
       "       [0.79591837, 0.20408163],\n",
       "       [0.67346939, 0.32653061],\n",
       "       [0.65306122, 0.34693878],\n",
       "       [0.71428571, 0.28571429],\n",
       "       [0.69387755, 0.30612245],\n",
       "       [0.69387755, 0.30612245],\n",
       "       [0.67346939, 0.32653061],\n",
       "       [0.7755102 , 0.2244898 ],\n",
       "       [0.71428571, 0.28571429],\n",
       "       [0.65306122, 0.34693878],\n",
       "       [0.81632653, 0.18367347],\n",
       "       [0.7755102 , 0.2244898 ],\n",
       "       [0.71428571, 0.28571429],\n",
       "       [0.67346939, 0.32653061],\n",
       "       [0.81632653, 0.18367347],\n",
       "       [0.79591837, 0.20408163],\n",
       "       [0.79591837, 0.20408163],\n",
       "       [0.75510204, 0.24489796],\n",
       "       [0.75510204, 0.24489796],\n",
       "       [0.71428571, 0.28571429],\n",
       "       [0.71428571, 0.28571429],\n",
       "       [0.69387755, 0.30612245],\n",
       "       [0.67346939, 0.32653061],\n",
       "       [0.73469388, 0.26530612],\n",
       "       [0.65306122, 0.34693878],\n",
       "       [0.71428571, 0.28571429],\n",
       "       [0.65306122, 0.34693878],\n",
       "       [0.69387755, 0.30612245],\n",
       "       [0.81632653, 0.18367347],\n",
       "       [0.67346939, 0.32653061],\n",
       "       [0.65306122, 0.34693878],\n",
       "       [0.69387755, 0.30612245],\n",
       "       [0.67346939, 0.32653061],\n",
       "       [0.65306122, 0.34693878],\n",
       "       [0.67346939, 0.32653061],\n",
       "       [0.7755102 , 0.2244898 ],\n",
       "       [0.71428571, 0.28571429],\n",
       "       [0.6122449 , 0.3877551 ],\n",
       "       [0.69387755, 0.30612245],\n",
       "       [0.71428571, 0.28571429],\n",
       "       [0.83673469, 0.16326531],\n",
       "       [0.67346939, 0.32653061],\n",
       "       [0.71428571, 0.28571429],\n",
       "       [0.85714286, 0.14285714],\n",
       "       [0.71428571, 0.28571429],\n",
       "       [0.73469388, 0.26530612],\n",
       "       [0.7755102 , 0.2244898 ],\n",
       "       [0.73469388, 0.26530612],\n",
       "       [0.71428571, 0.28571429],\n",
       "       [0.65306122, 0.34693878],\n",
       "       [0.73469388, 0.26530612],\n",
       "       [0.71428571, 0.28571429],\n",
       "       [0.75510204, 0.24489796],\n",
       "       [0.81632653, 0.18367347],\n",
       "       [0.7755102 , 0.2244898 ],\n",
       "       [0.69387755, 0.30612245],\n",
       "       [0.73469388, 0.26530612],\n",
       "       [0.7755102 , 0.2244898 ],\n",
       "       [0.75510204, 0.24489796],\n",
       "       [0.81632653, 0.18367347],\n",
       "       [0.69387755, 0.30612245],\n",
       "       [0.69387755, 0.30612245],\n",
       "       [0.71428571, 0.28571429],\n",
       "       [0.75510204, 0.24489796],\n",
       "       [0.71428571, 0.28571429],\n",
       "       [0.67346939, 0.32653061],\n",
       "       [0.75510204, 0.24489796],\n",
       "       [0.75510204, 0.24489796],\n",
       "       [0.71428571, 0.28571429],\n",
       "       [0.85714286, 0.14285714],\n",
       "       [0.73469388, 0.26530612],\n",
       "       [0.75510204, 0.24489796],\n",
       "       [0.89795918, 0.10204082],\n",
       "       [0.71428571, 0.28571429],\n",
       "       [0.67346939, 0.32653061],\n",
       "       [0.69387755, 0.30612245],\n",
       "       [0.65306122, 0.34693878],\n",
       "       [0.73469388, 0.26530612],\n",
       "       [0.69387755, 0.30612245],\n",
       "       [0.65306122, 0.34693878],\n",
       "       [0.71428571, 0.28571429],\n",
       "       [0.7755102 , 0.2244898 ],\n",
       "       [0.75510204, 0.24489796],\n",
       "       [0.71428571, 0.28571429],\n",
       "       [0.79591837, 0.20408163],\n",
       "       [0.71428571, 0.28571429],\n",
       "       [0.73469388, 0.26530612],\n",
       "       [0.73469388, 0.26530612],\n",
       "       [0.79591837, 0.20408163],\n",
       "       [0.69387755, 0.30612245],\n",
       "       [0.75510204, 0.24489796],\n",
       "       [0.79591837, 0.20408163],\n",
       "       [0.83673469, 0.16326531],\n",
       "       [0.81632653, 0.18367347],\n",
       "       [0.85714286, 0.14285714],\n",
       "       [0.75510204, 0.24489796],\n",
       "       [0.87755102, 0.12244898],\n",
       "       [0.69387755, 0.30612245],\n",
       "       [0.69387755, 0.30612245],\n",
       "       [0.75510204, 0.24489796],\n",
       "       [0.75510204, 0.24489796],\n",
       "       [0.71428571, 0.28571429],\n",
       "       [0.75510204, 0.24489796],\n",
       "       [0.69387755, 0.30612245],\n",
       "       [0.87755102, 0.12244898],\n",
       "       [0.67346939, 0.32653061],\n",
       "       [0.73469388, 0.26530612],\n",
       "       [0.69387755, 0.30612245],\n",
       "       [0.83673469, 0.16326531],\n",
       "       [0.71428571, 0.28571429],\n",
       "       [0.71428571, 0.28571429],\n",
       "       [0.71428571, 0.28571429],\n",
       "       [0.75510204, 0.24489796],\n",
       "       [0.69387755, 0.30612245],\n",
       "       [0.63265306, 0.36734694],\n",
       "       [0.73469388, 0.26530612],\n",
       "       [0.73469388, 0.26530612],\n",
       "       [0.69387755, 0.30612245],\n",
       "       [0.79591837, 0.20408163],\n",
       "       [0.7755102 , 0.2244898 ],\n",
       "       [0.69387755, 0.30612245],\n",
       "       [0.79591837, 0.20408163],\n",
       "       [0.75510204, 0.24489796],\n",
       "       [0.79591837, 0.20408163],\n",
       "       [0.73469388, 0.26530612],\n",
       "       [0.75510204, 0.24489796],\n",
       "       [0.75510204, 0.24489796],\n",
       "       [0.75510204, 0.24489796],\n",
       "       [0.75510204, 0.24489796],\n",
       "       [0.67346939, 0.32653061],\n",
       "       [0.67346939, 0.32653061],\n",
       "       [0.63265306, 0.36734694],\n",
       "       [0.7755102 , 0.2244898 ],\n",
       "       [0.71428571, 0.28571429],\n",
       "       [0.67346939, 0.32653061],\n",
       "       [0.7755102 , 0.2244898 ],\n",
       "       [0.71428571, 0.28571429],\n",
       "       [0.69387755, 0.30612245],\n",
       "       [0.71428571, 0.28571429],\n",
       "       [0.71428571, 0.28571429],\n",
       "       [0.67346939, 0.32653061],\n",
       "       [0.73469388, 0.26530612],\n",
       "       [0.71428571, 0.28571429],\n",
       "       [0.73469388, 0.26530612],\n",
       "       [0.69387755, 0.30612245],\n",
       "       [0.83673469, 0.16326531],\n",
       "       [0.69387755, 0.30612245],\n",
       "       [0.7755102 , 0.2244898 ],\n",
       "       [0.71428571, 0.28571429],\n",
       "       [0.7755102 , 0.2244898 ],\n",
       "       [0.69387755, 0.30612245],\n",
       "       [0.69387755, 0.30612245],\n",
       "       [0.67346939, 0.32653061],\n",
       "       [0.71428571, 0.28571429],\n",
       "       [0.71428571, 0.28571429],\n",
       "       [0.69387755, 0.30612245],\n",
       "       [0.71428571, 0.28571429],\n",
       "       [0.63265306, 0.36734694],\n",
       "       [0.65306122, 0.34693878],\n",
       "       [0.67346939, 0.32653061],\n",
       "       [0.71428571, 0.28571429],\n",
       "       [0.69387755, 0.30612245],\n",
       "       [0.73469388, 0.26530612],\n",
       "       [0.79591837, 0.20408163],\n",
       "       [0.75510204, 0.24489796],\n",
       "       [0.69387755, 0.30612245],\n",
       "       [0.71428571, 0.28571429],\n",
       "       [0.79591837, 0.20408163],\n",
       "       [0.71428571, 0.28571429],\n",
       "       [0.75510204, 0.24489796],\n",
       "       [0.67346939, 0.32653061],\n",
       "       [0.69387755, 0.30612245],\n",
       "       [0.79591837, 0.20408163],\n",
       "       [0.71428571, 0.28571429],\n",
       "       [0.69387755, 0.30612245],\n",
       "       [0.69387755, 0.30612245],\n",
       "       [0.69387755, 0.30612245],\n",
       "       [0.69387755, 0.30612245],\n",
       "       [0.75510204, 0.24489796],\n",
       "       [0.67346939, 0.32653061],\n",
       "       [0.71428571, 0.28571429],\n",
       "       [0.73469388, 0.26530612],\n",
       "       [0.75510204, 0.24489796],\n",
       "       [0.75510204, 0.24489796],\n",
       "       [0.75510204, 0.24489796],\n",
       "       [0.63265306, 0.36734694],\n",
       "       [0.73469388, 0.26530612],\n",
       "       [0.73469388, 0.26530612],\n",
       "       [0.73469388, 0.26530612],\n",
       "       [0.67346939, 0.32653061],\n",
       "       [0.91836735, 0.08163265],\n",
       "       [0.67346939, 0.32653061],\n",
       "       [0.7755102 , 0.2244898 ],\n",
       "       [0.83673469, 0.16326531],\n",
       "       [0.69387755, 0.30612245],\n",
       "       [0.67346939, 0.32653061],\n",
       "       [0.67346939, 0.32653061],\n",
       "       [0.7755102 , 0.2244898 ],\n",
       "       [0.73469388, 0.26530612],\n",
       "       [0.79591837, 0.20408163],\n",
       "       [0.71428571, 0.28571429],\n",
       "       [0.65306122, 0.34693878],\n",
       "       [0.75510204, 0.24489796],\n",
       "       [0.91836735, 0.08163265],\n",
       "       [0.69387755, 0.30612245],\n",
       "       [0.73469388, 0.26530612],\n",
       "       [0.6122449 , 0.3877551 ],\n",
       "       [0.7755102 , 0.2244898 ],\n",
       "       [0.7755102 , 0.2244898 ],\n",
       "       [0.71428571, 0.28571429],\n",
       "       [0.71428571, 0.28571429],\n",
       "       [0.73469388, 0.26530612],\n",
       "       [0.75510204, 0.24489796],\n",
       "       [0.73469388, 0.26530612],\n",
       "       [0.73469388, 0.26530612],\n",
       "       [0.73469388, 0.26530612],\n",
       "       [0.7755102 , 0.2244898 ],\n",
       "       [0.87755102, 0.12244898],\n",
       "       [0.73469388, 0.26530612],\n",
       "       [0.79591837, 0.20408163],\n",
       "       [0.69387755, 0.30612245],\n",
       "       [0.67346939, 0.32653061],\n",
       "       [0.67346939, 0.32653061],\n",
       "       [0.71428571, 0.28571429],\n",
       "       [0.73469388, 0.26530612],\n",
       "       [0.73469388, 0.26530612],\n",
       "       [0.75510204, 0.24489796],\n",
       "       [0.67346939, 0.32653061],\n",
       "       [0.65306122, 0.34693878],\n",
       "       [0.71428571, 0.28571429],\n",
       "       [0.75510204, 0.24489796],\n",
       "       [0.69387755, 0.30612245],\n",
       "       [0.71428571, 0.28571429],\n",
       "       [0.7755102 , 0.2244898 ],\n",
       "       [0.71428571, 0.28571429],\n",
       "       [0.65306122, 0.34693878],\n",
       "       [0.7755102 , 0.2244898 ],\n",
       "       [0.7755102 , 0.2244898 ],\n",
       "       [0.65306122, 0.34693878],\n",
       "       [0.7755102 , 0.2244898 ],\n",
       "       [0.73469388, 0.26530612],\n",
       "       [0.71428571, 0.28571429],\n",
       "       [0.7755102 , 0.2244898 ],\n",
       "       [0.69387755, 0.30612245],\n",
       "       [0.75510204, 0.24489796],\n",
       "       [0.79591837, 0.20408163],\n",
       "       [0.71428571, 0.28571429],\n",
       "       [0.63265306, 0.36734694],\n",
       "       [0.69387755, 0.30612245],\n",
       "       [0.69387755, 0.30612245],\n",
       "       [0.7755102 , 0.2244898 ],\n",
       "       [0.69387755, 0.30612245],\n",
       "       [0.63265306, 0.36734694],\n",
       "       [0.91836735, 0.08163265],\n",
       "       [0.79591837, 0.20408163],\n",
       "       [0.7755102 , 0.2244898 ],\n",
       "       [0.73469388, 0.26530612],\n",
       "       [0.65306122, 0.34693878],\n",
       "       [0.75510204, 0.24489796],\n",
       "       [0.67346939, 0.32653061],\n",
       "       [0.71428571, 0.28571429],\n",
       "       [0.73469388, 0.26530612],\n",
       "       [0.79591837, 0.20408163],\n",
       "       [0.69387755, 0.30612245],\n",
       "       [0.73469388, 0.26530612],\n",
       "       [0.75510204, 0.24489796],\n",
       "       [0.73469388, 0.26530612],\n",
       "       [0.75510204, 0.24489796],\n",
       "       [0.73469388, 0.26530612],\n",
       "       [0.73469388, 0.26530612],\n",
       "       [0.79591837, 0.20408163],\n",
       "       [0.79591837, 0.20408163],\n",
       "       [0.71428571, 0.28571429],\n",
       "       [0.71428571, 0.28571429],\n",
       "       [0.7755102 , 0.2244898 ],\n",
       "       [0.71428571, 0.28571429],\n",
       "       [0.75510204, 0.24489796],\n",
       "       [0.73469388, 0.26530612],\n",
       "       [0.67346939, 0.32653061],\n",
       "       [0.69387755, 0.30612245],\n",
       "       [0.69387755, 0.30612245],\n",
       "       [0.83673469, 0.16326531],\n",
       "       [0.67346939, 0.32653061],\n",
       "       [0.67346939, 0.32653061],\n",
       "       [0.65306122, 0.34693878],\n",
       "       [0.73469388, 0.26530612],\n",
       "       [0.71428571, 0.28571429],\n",
       "       [0.71428571, 0.28571429],\n",
       "       [0.67346939, 0.32653061],\n",
       "       [0.73469388, 0.26530612],\n",
       "       [0.69387755, 0.30612245],\n",
       "       [0.71428571, 0.28571429],\n",
       "       [0.69387755, 0.30612245],\n",
       "       [0.93877551, 0.06122449],\n",
       "       [0.73469388, 0.26530612],\n",
       "       [0.73469388, 0.26530612],\n",
       "       [0.69387755, 0.30612245],\n",
       "       [0.73469388, 0.26530612],\n",
       "       [0.67346939, 0.32653061],\n",
       "       [0.73469388, 0.26530612],\n",
       "       [0.59183673, 0.40816327],\n",
       "       [0.67346939, 0.32653061],\n",
       "       [0.73469388, 0.26530612],\n",
       "       [0.71428571, 0.28571429],\n",
       "       [0.75510204, 0.24489796],\n",
       "       [0.73469388, 0.26530612],\n",
       "       [0.67346939, 0.32653061],\n",
       "       [0.73469388, 0.26530612],\n",
       "       [0.7755102 , 0.2244898 ],\n",
       "       [0.71428571, 0.28571429],\n",
       "       [0.75510204, 0.24489796],\n",
       "       [0.75510204, 0.24489796],\n",
       "       [0.73469388, 0.26530612],\n",
       "       [0.73469388, 0.26530612],\n",
       "       [0.71428571, 0.28571429],\n",
       "       [0.75510204, 0.24489796],\n",
       "       [0.71428571, 0.28571429],\n",
       "       [0.75510204, 0.24489796],\n",
       "       [0.65306122, 0.34693878],\n",
       "       [0.71428571, 0.28571429],\n",
       "       [0.65306122, 0.34693878],\n",
       "       [0.7755102 , 0.2244898 ],\n",
       "       [0.71428571, 0.28571429],\n",
       "       [0.71428571, 0.28571429],\n",
       "       [0.7755102 , 0.2244898 ],\n",
       "       [0.83673469, 0.16326531],\n",
       "       [0.73469388, 0.26530612],\n",
       "       [0.7755102 , 0.2244898 ],\n",
       "       [0.75510204, 0.24489796],\n",
       "       [0.71428571, 0.28571429],\n",
       "       [0.63265306, 0.36734694],\n",
       "       [0.75510204, 0.24489796],\n",
       "       [0.7755102 , 0.2244898 ],\n",
       "       [0.75510204, 0.24489796],\n",
       "       [0.73469388, 0.26530612],\n",
       "       [0.69387755, 0.30612245],\n",
       "       [0.7755102 , 0.2244898 ],\n",
       "       [0.7755102 , 0.2244898 ],\n",
       "       [0.73469388, 0.26530612],\n",
       "       [0.71428571, 0.28571429],\n",
       "       [0.69387755, 0.30612245],\n",
       "       [0.69387755, 0.30612245],\n",
       "       [0.71428571, 0.28571429],\n",
       "       [0.67346939, 0.32653061],\n",
       "       [0.73469388, 0.26530612],\n",
       "       [0.7755102 , 0.2244898 ],\n",
       "       [0.79591837, 0.20408163],\n",
       "       [0.65306122, 0.34693878],\n",
       "       [0.73469388, 0.26530612],\n",
       "       [0.73469388, 0.26530612],\n",
       "       [0.71428571, 0.28571429],\n",
       "       [0.85714286, 0.14285714],\n",
       "       [0.71428571, 0.28571429],\n",
       "       [0.73469388, 0.26530612],\n",
       "       [0.7755102 , 0.2244898 ],\n",
       "       [0.75510204, 0.24489796],\n",
       "       [0.7755102 , 0.2244898 ],\n",
       "       [0.7755102 , 0.2244898 ],\n",
       "       [0.75510204, 0.24489796],\n",
       "       [0.69387755, 0.30612245],\n",
       "       [0.79591837, 0.20408163],\n",
       "       [0.7755102 , 0.2244898 ],\n",
       "       [0.69387755, 0.30612245],\n",
       "       [0.85714286, 0.14285714],\n",
       "       [0.71428571, 0.28571429],\n",
       "       [0.69387755, 0.30612245],\n",
       "       [0.73469388, 0.26530612],\n",
       "       [0.71428571, 0.28571429],\n",
       "       [0.69387755, 0.30612245],\n",
       "       [0.7755102 , 0.2244898 ],\n",
       "       [0.75510204, 0.24489796],\n",
       "       [0.69387755, 0.30612245],\n",
       "       [0.79591837, 0.20408163],\n",
       "       [0.67346939, 0.32653061],\n",
       "       [0.85714286, 0.14285714],\n",
       "       [0.73469388, 0.26530612],\n",
       "       [0.75510204, 0.24489796],\n",
       "       [0.71428571, 0.28571429],\n",
       "       [0.73469388, 0.26530612],\n",
       "       [0.75510204, 0.24489796],\n",
       "       [0.71428571, 0.28571429],\n",
       "       [0.65306122, 0.34693878],\n",
       "       [0.73469388, 0.26530612],\n",
       "       [0.79591837, 0.20408163],\n",
       "       [0.73469388, 0.26530612],\n",
       "       [0.63265306, 0.36734694]])"
      ]
     },
     "execution_count": 150,
     "metadata": {},
     "output_type": "execute_result"
    }
   ],
   "source": [
    "knn.predict_proba(X_pred)"
   ]
  },
  {
   "cell_type": "markdown",
   "metadata": {},
   "source": [
    "### 11) Impute the missing values for `vmail_message` using the same process.\n",
    "\n",
    "Because `vmail_message` is essentially a continuous measure, you'll need to use `KNeighborsRegressor` instead of the `KNeighborsClassifier`.\n",
    "\n",
    "KNN can do both regression and classification. Instead of \"voting\" on the class like in classifications, the neighbors will average their value for the target in regression.\n"
   ]
  },
  {
   "cell_type": "code",
   "execution_count": 151,
   "metadata": {},
   "outputs": [],
   "source": [
    "from sklearn.neighbors import KNeighborsRegressor"
   ]
  },
  {
   "cell_type": "code",
   "execution_count": 152,
   "metadata": {},
   "outputs": [],
   "source": [
    "max_neighbors = 49\n",
    "\n",
    "# plot test accuracy by number of neighbors:\n",
    "test_acc = []\n",
    "for i in range(1, int(max_neighbors), 2):\n",
    "    knn = KNeighborsRegressor(n_neighbors=i)\n",
    "    test_acc.append(np.mean(cross_val_score(knn, Xs, y_vm_nms, cv=10)))"
   ]
  },
  {
   "cell_type": "code",
   "execution_count": 153,
   "metadata": {},
   "outputs": [
    {
     "data": {
      "image/png": "[encoded data removed]",
      "text/plain": [
       "<matplotlib.figure.Figure at 0xf08eeb8>"
      ]
     },
     "metadata": {
      "image/png": {
       "height": 386,
       "width": 507
      }
     },
     "output_type": "display_data"
    }
   ],
   "source": [
    "# plot mean acc. graph of CV\n",
    "fig, ax = plt.subplots(figsize=(8,6))\n",
    "ax.plot(range(1, int(max_neighbors), 2), test_acc, lw=3., marker='o')\n",
    "plt.xlabel('k = number of neighbors')\n",
    "plt.ylabel('R_2')\n",
    "plt.title('K vs. (Cross-validated) Mean Accuracy')\n",
    "plt.show()"
   ]
  },
  {
   "cell_type": "code",
   "execution_count": 154,
   "metadata": {},
   "outputs": [],
   "source": [
    "knn = KNeighborsRegressor(n_neighbors=40).fit(Xs, y_vm_nms)"
   ]
  },
  {
   "cell_type": "code",
   "execution_count": 162,
   "metadata": {},
   "outputs": [
    {
     "data": {
      "text/plain": [
       "(array([10., 17., 32., 38., 70., 86., 68., 49., 26.,  4.]),\n",
       " array([ 4.225,  4.99 ,  5.755,  6.52 ,  7.285,  8.05 ,  8.815,  9.58 ,\n",
       "        10.345, 11.11 , 11.875]),\n",
       " <a list of 10 Patch objects>)"
      ]
     },
     "execution_count": 162,
     "metadata": {},
     "output_type": "execute_result"
    },
    {
     "data": {
      "image/png": "[encoded data removed]",
      "text/plain": [
       "<matplotlib.figure.Figure at 0xf1635c0>"
      ]
     },
     "metadata": {
      "image/png": {
       "height": 250,
       "width": 370
      }
     },
     "output_type": "display_data"
    }
   ],
   "source": [
    "plt.hist(knn.predict(X_vp_ms))"
   ]
  },
  {
   "cell_type": "markdown",
   "metadata": {},
   "source": [
    "### 12) Given the accuracy (and $R^2$) of your best imputation models when finding the best K neighbors, do you think imputing is a good idea?"
   ]
  },
  {
   "cell_type": "code",
   "execution_count": 164,
   "metadata": {
    "collapsed": true
   },
   "outputs": [],
   "source": [
    "# A:"
   ]
  },
  {
   "cell_type": "markdown",
   "metadata": {},
   "source": [
    "### 13) With the imputed data set, cross-validate the accuracy predicting churn. Is it better? Worse? The same?"
   ]
  },
  {
   "cell_type": "code",
   "execution_count": null,
   "metadata": {
    "collapsed": true
   },
   "outputs": [],
   "source": [
    "# A:"
   ]
  }
 ],
 "metadata": {
  "kernelspec": {
   "display_name": "Python 2",
   "language": "python",
   "name": "python2"
  },
  "language_info": {
   "codemirror_mode": {
    "name": "ipython",
    "version": 2
   },
   "file_extension": ".py",
   "mimetype": "text/x-python",
   "name": "python",
   "nbconvert_exporter": "python",
   "pygments_lexer": "ipython2",
   "version": "2.7.14"
  }
 },
 "nbformat": 4,
 "nbformat_minor": 2
}
