{
 "cells": [
  {
   "cell_type": "markdown",
   "metadata": {},
   "source": [
    "### Define a class Person"
   ]
  },
  {
   "cell_type": "code",
   "execution_count": 188,
   "metadata": {},
   "outputs": [],
   "source": [
    "class Person:\n",
    "    def __init__(self, name, hello_sentence, description_sentence, lost_sentence):\n",
    "        self.name = name\n",
    "        self.hello_sentence = hello_sentence\n",
    "        self.description_sentence = description_sentence\n",
    "        self.lost_sentence = lost_sentence\n",
    "        \n",
    "    def say_hello(self, another_person):\n",
    "        print(self.hello_sentence.format(another_person.name))\n",
    "        \n",
    "    def __str__(self):\n",
    "        return self.description_sentence.format(self.name)"
   ]
  },
  {
   "cell_type": "markdown",
   "metadata": {},
   "source": [
    "### Create two instances of Person"
   ]
  },
  {
   "cell_type": "code",
   "execution_count": 484,
   "metadata": {},
   "outputs": [],
   "source": [
    "person_edo = Person(name='edo', \n",
    "                    hello_sentence='Ciaoo {}, come va?', \n",
    "                    description_sentence='Mi chiamo {}',\n",
    "                    lost_sentence = 'OMG I ruckk')\n",
    "\n",
    "person_angela = Person(name='angela', \n",
    "                       hello_sentence='Hello {}!', \n",
    "                       description_sentence='My name is {}',\n",
    "                       lost_sentence = 'OMG I losttt')\n",
    "\n",
    "person_sam = Person(name='sam',\n",
    "                    hello_sentence='wassup {}',\n",
    "                    description_sentence='im cool {}',\n",
    "                    lost_sentence = 'OMG I farttt')"
   ]
  },
  {
   "cell_type": "markdown",
   "metadata": {},
   "source": [
    "### Use the two instances"
   ]
  },
  {
   "cell_type": "code",
   "execution_count": 12,
   "metadata": {},
   "outputs": [
    {
     "name": "stdout",
     "output_type": "stream",
     "text": [
      "Ciaoo angela, come va?\n"
     ]
    }
   ],
   "source": [
    "person_edo.say_hello(person_angela)"
   ]
  },
  {
   "cell_type": "code",
   "execution_count": 13,
   "metadata": {},
   "outputs": [
    {
     "name": "stdout",
     "output_type": "stream",
     "text": [
      "Hello edo!\n"
     ]
    }
   ],
   "source": [
    "person_angela.say_hello(person_edo)"
   ]
  },
  {
   "cell_type": "code",
   "execution_count": 14,
   "metadata": {},
   "outputs": [
    {
     "name": "stdout",
     "output_type": "stream",
     "text": [
      "Ciaoo sam, come va?\n"
     ]
    }
   ],
   "source": [
    "person_edo.say_hello(person_sam)"
   ]
  },
  {
   "cell_type": "code",
   "execution_count": 15,
   "metadata": {},
   "outputs": [
    {
     "name": "stdout",
     "output_type": "stream",
     "text": [
      "Mi chiamo edo\n"
     ]
    }
   ],
   "source": [
    "# def __str__(self):\n",
    "#         # this is used when the instance is printed, \n",
    "#         # like for print(person1)\n",
    "#         return self.description_sentence.format(self.name)\n",
    "print(person_edo)"
   ]
  },
  {
   "cell_type": "code",
   "execution_count": 16,
   "metadata": {},
   "outputs": [
    {
     "name": "stdout",
     "output_type": "stream",
     "text": [
      "My name is angela\n"
     ]
    }
   ],
   "source": [
    "print(person_angela)"
   ]
  },
  {
   "cell_type": "markdown",
   "metadata": {},
   "source": [
    "### Create a class Ball"
   ]
  },
  {
   "cell_type": "code",
   "execution_count": 17,
   "metadata": {},
   "outputs": [],
   "source": [
    "class Ball:\n",
    "    def __init__(self,timer,color):\n",
    "        self.timer = timer\n",
    "        self.color = color"
   ]
  },
  {
   "cell_type": "markdown",
   "metadata": {},
   "source": [
    "Add a description"
   ]
  },
  {
   "cell_type": "code",
   "execution_count": 250,
   "metadata": {},
   "outputs": [],
   "source": [
    "class Ball:\n",
    "    def __init__(self,timer,color):\n",
    "        self.timer = timer\n",
    "        self.color = color\n",
    "    \n",
    "    def __str__(self):\n",
    "        return 'A {} ball, that explodes in {} turns'.format(self.color,self.timer)"
   ]
  },
  {
   "cell_type": "markdown",
   "metadata": {},
   "source": [
    "### Create an instance of a Ball"
   ]
  },
  {
   "cell_type": "code",
   "execution_count": 253,
   "metadata": {},
   "outputs": [
    {
     "name": "stdout",
     "output_type": "stream",
     "text": [
      "A red ball, that explodes in 16 turns\n"
     ]
    }
   ],
   "source": [
    "red_ball = Ball(timer=np.random.randint(10,20), color='red')\n",
    "print(red_ball)"
   ]
  },
  {
   "cell_type": "markdown",
   "metadata": {},
   "source": [
    "### Create a Ball Game"
   ]
  },
  {
   "cell_type": "code",
   "execution_count": 21,
   "metadata": {},
   "outputs": [],
   "source": [
    "class SupidBallGame:\n",
    "    def __init__(self,playersList, ball):\n",
    "        self.players = playersList\n",
    "        self.ball = ball"
   ]
  },
  {
   "cell_type": "markdown",
   "metadata": {},
   "source": [
    "### Create an instance of the game"
   ]
  },
  {
   "cell_type": "code",
   "execution_count": 23,
   "metadata": {},
   "outputs": [
    {
     "name": "stdout",
     "output_type": "stream",
     "text": [
      "<__main__.SupidBallGame instance at 0x000000000707C288>\n"
     ]
    }
   ],
   "source": [
    "game1 = SupidBallGame([person_edo, person_angela, person_sam],red_ball)\n",
    "print(game1) # We haven't defined the __str__ method, python is using the default one"
   ]
  },
  {
   "cell_type": "code",
   "execution_count": 32,
   "metadata": {},
   "outputs": [
    {
     "data": {
      "text/plain": [
       "[<__main__.Person instance at 0x000000000707C348>,\n",
       " <__main__.Person instance at 0x0000000006F40BC8>,\n",
       " <__main__.Person instance at 0x0000000006F40188>]"
      ]
     },
     "execution_count": 32,
     "metadata": {},
     "output_type": "execute_result"
    }
   ],
   "source": [
    "game1.players"
   ]
  },
  {
   "cell_type": "markdown",
   "metadata": {},
   "source": [
    "### Add a run() method for the Ball Game"
   ]
  },
  {
   "cell_type": "code",
   "execution_count": 74,
   "metadata": {},
   "outputs": [],
   "source": [
    "class ballgame:\n",
    "    \n",
    "    def __init__(self, players, ball):\n",
    "        self.players = players\n",
    "        self.ball = ball\n",
    "        self.player_with_ball = 0\n",
    "    \n",
    "    def run(self):\n",
    "        while self.ball.timer>0:\n",
    "            current_player = self.player_with_ball\n",
    "            \n",
    "            self.player_with_ball = (current_player + 1) % len(self.players)\n",
    "            \n",
    "            self.ball.timer = self.ball.timer - 1\n",
    "        \n",
    "        print self.players[self.player_with-ball].name  "
   ]
  },
  {
   "cell_type": "code",
   "execution_count": 69,
   "metadata": {},
   "outputs": [],
   "source": [
    "class SupidBallGame:\n",
    "    \n",
    "    def __init__(self,players, ball):\n",
    "        self.players = players\n",
    "        self.ball = ball\n",
    "        self.player_with_ball = 0 # this is an index\n",
    "        \n",
    "    def run(self):\n",
    "        while self.ball.timer>0:\n",
    "            current_player = self.player_with_ball\n",
    "            #pass the ball to the next player\n",
    "            self.player_with_ball = (current_player + 1) % len(self.players)\n",
    "            # decrement the timer\n",
    "            self.ball.timer = self.ball.timer - 1\n",
    "        # let's print the name of the player with the ball\n",
    "        print(self.players[self.player_with_ball].name)"
   ]
  },
  {
   "cell_type": "markdown",
   "metadata": {},
   "source": [
    "### Run the game!"
   ]
  },
  {
   "cell_type": "code",
   "execution_count": 77,
   "metadata": {},
   "outputs": [
    {
     "name": "stdout",
     "output_type": "stream",
     "text": [
      "angela\n"
     ]
    }
   ],
   "source": [
    "ball = Ball(10,\"red\")\n",
    "\n",
    "game1 = SupidBallGame([person_edo, person_angela, person_sam], ball)\n",
    "game1.run()"
   ]
  },
  {
   "cell_type": "markdown",
   "metadata": {},
   "source": [
    "### The ball now has a random timer!"
   ]
  },
  {
   "cell_type": "code",
   "execution_count": 86,
   "metadata": {},
   "outputs": [
    {
     "name": "stdout",
     "output_type": "stream",
     "text": [
      "angela\n"
     ]
    }
   ],
   "source": [
    "import numpy as np\n",
    "\n",
    "ball = Ball(np.random.randint(10,20),\"red\") # a random number between 10 and 20\n",
    "\n",
    "game1 = SupidBallGame([person_edo, person_angela, person_sam], ball)\n",
    "game1.run()"
   ]
  },
  {
   "cell_type": "markdown",
   "metadata": {},
   "source": [
    "### Let's add a nice output for the game"
   ]
  },
  {
   "cell_type": "code",
   "execution_count": 197,
   "metadata": {},
   "outputs": [],
   "source": [
    "class SupidBallGame:\n",
    "    \n",
    "    def __init__(self,playersList, ball):\n",
    "        self.players = playersList\n",
    "        self.ball = ball\n",
    "        self.player_with_ball = 0\n",
    "        \n",
    "    def run(self):\n",
    "        while self.ball.timer>0:\n",
    "            current_player = self.player_with_ball\n",
    "            self.player_with_ball = (current_player + 1) % len(self.players)\n",
    "            self.ball.timer = self.ball.timer - 1\n",
    "            print('{} passes the ball to {}'.format(self.players[current_player].name, \n",
    "                                                    self.players[self.player_with_ball].name))\n",
    "        print('BOOM')\n",
    "        print(self.players[self.player_with_ball].name \n",
    "              + \" \" \n",
    "              + self.players[self.player_with_ball].lost_sentence\n",
    "              + \" \" \n",
    "              + ball.color)"
   ]
  },
  {
   "cell_type": "code",
   "execution_count": 201,
   "metadata": {},
   "outputs": [
    {
     "name": "stdout",
     "output_type": "stream",
     "text": [
      "edo passes the ball to angela\n",
      "angela passes the ball to sam\n",
      "sam passes the ball to edo\n",
      "edo passes the ball to angela\n",
      "angela passes the ball to sam\n",
      "sam passes the ball to edo\n",
      "edo passes the ball to angela\n",
      "angela passes the ball to sam\n",
      "sam passes the ball to edo\n",
      "BOOM\n",
      "edo i low red\n"
     ]
    }
   ],
   "source": [
    "#ball = Ball(np.random.randint(10,20),\"red\")\n",
    "ball = Ball(9,\"red\")\n",
    "\n",
    "game1 = SupidBallGame([person_edo, person_angela, person_sam], ball)\n",
    "game1.run()"
   ]
  },
  {
   "cell_type": "markdown",
   "metadata": {},
   "source": [
    "### Possible exercises"
   ]
  },
  {
   "cell_type": "markdown",
   "metadata": {},
   "source": [
    "Every 5 turns, print a summary of the game:  \n",
    "-who has the ball  \n",
    "-how many rounds (keep track with a variable)  "
   ]
  },
  {
   "cell_type": "markdown",
   "metadata": {},
   "source": [
    "Shuffle the players before starting"
   ]
  },
  {
   "cell_type": "markdown",
   "metadata": {},
   "source": [
    "Add an \"OMG I lost\"-like sentence for every player (the sentence can be different from player to player). The sentence should be printed at the end of the game, for the player who lost."
   ]
  },
  {
   "cell_type": "markdown",
   "metadata": {},
   "source": [
    "Customise the ball: every ball has a unique message inside when it explodes"
   ]
  },
  {
   "cell_type": "markdown",
   "metadata": {},
   "source": [
    "Create a class Dice, every player has an assigned dice. A dice can randomly have 4,5 or 6 faces. When the ball explodes, the player rolls her dice, if the number is 1, the game is draw."
   ]
  },
  {
   "cell_type": "markdown",
   "metadata": {},
   "source": [
    "Create a class Tournament that contains and keep track of multiple matches (i.e. a tournament is composed by 5 matches of the same game). Run a tournament and print the results of every game."
   ]
  },
  {
   "cell_type": "code",
   "execution_count": 490,
   "metadata": {},
   "outputs": [],
   "source": [
    "class Dice:\n",
    "    def __init__(self):\n",
    "        import numpy as np\n",
    "        self.faces = np.random.randint(4,7)\n",
    "    def roll(self):\n",
    "        rdn_no = np.random.randint(1,self.faces+1)\n",
    "        return rdn_no\n",
    "    def __str__(self):\n",
    "        return 'no. of faces {}'.format(self.faces)"
   ]
  },
  {
   "cell_type": "code",
   "execution_count": 489,
   "metadata": {},
   "outputs": [],
   "source": [
    "Dice2 = Dice()"
   ]
  },
  {
   "cell_type": "code",
   "execution_count": 541,
   "metadata": {},
   "outputs": [
    {
     "data": {
      "text/plain": [
       "6"
      ]
     },
     "execution_count": 541,
     "metadata": {},
     "output_type": "execute_result"
    }
   ],
   "source": [
    "Dice().faces"
   ]
  },
  {
   "cell_type": "code",
   "execution_count": 470,
   "metadata": {},
   "outputs": [
    {
     "name": "stdout",
     "output_type": "stream",
     "text": [
      "no. of faces 5\n"
     ]
    }
   ],
   "source": [
    "print(Dice2)"
   ]
  },
  {
   "cell_type": "code",
   "execution_count": 542,
   "metadata": {},
   "outputs": [
    {
     "data": {
      "text/plain": [
       "3"
      ]
     },
     "execution_count": 542,
     "metadata": {},
     "output_type": "execute_result"
    }
   ],
   "source": [
    "Dice2.roll()"
   ]
  },
  {
   "cell_type": "code",
   "execution_count": 576,
   "metadata": {},
   "outputs": [],
   "source": [
    "import random\n",
    "\n",
    "class ballgame:\n",
    "    \n",
    "    def __init__(self, playerlist, ball, Dice):\n",
    "        #random shuffle\n",
    "        random.shuffle(playerlist)\n",
    "        self.players = playerlist\n",
    "        self.ball = ball\n",
    "        self.player_with_ball = 0\n",
    "        self.dice = Dice\n",
    "    \n",
    "    def run(self):\n",
    "        counter = 0\n",
    "        \n",
    "        while self.ball.timer>0:\n",
    "            current_player = self.player_with_ball\n",
    "            self.player_with_ball = (current_player + 1) % len(self.players)\n",
    "            self.ball.timer = self.ball.timer - 1\n",
    "            #count no. of rounds and print player whenever multiple of 5\n",
    "            counter += 1\n",
    "            if counter%5 == 0:\n",
    "                print 'round {} {} has the ball'.format(counter, self.players[current_player].name)\n",
    "        \n",
    "        \n",
    "        print(\"{} {} a {} ball\".format(self.players[self.player_with_ball].name, self.players[self.player_with_ball].lost_sentence, self.ball.color)) \n",
    "        \n",
    "        #add dice in for random roll\n",
    "        if self.dice.roll() == 1:\n",
    "            print 'fair game'\n",
    "        else:\n",
    "            print self.players[self.player_with_ball].name + 'lost'\n",
    "        \n",
    "        "
   ]
  },
  {
   "cell_type": "code",
   "execution_count": 577,
   "metadata": {},
   "outputs": [],
   "source": [
    "ball = Ball(np.random.randint(10,20),\"red\")\n",
    "dice = Dice()\n",
    "newgame1 = ballgame([person_edo, person_angela, person_sam], ball, dice)"
   ]
  },
  {
   "cell_type": "code",
   "execution_count": 578,
   "metadata": {},
   "outputs": [
    {
     "name": "stdout",
     "output_type": "stream",
     "text": [
      "round 5 sam has the ball\n",
      "round 10 edo has the ball\n",
      "round 15 angela has the ball\n",
      "angela OMG I losttt a red ball\n",
      "angelalost\n"
     ]
    }
   ],
   "source": [
    "newgame1.run()"
   ]
  },
  {
   "cell_type": "code",
   "execution_count": 579,
   "metadata": {},
   "outputs": [],
   "source": [
    "class Tournament:\n",
    "    def __init__(self, matches, ballgame, ball, dice):\n",
    "        self.matches = matches\n",
    "        self.ballgame = ballgame\n",
    "        self.ball = ball\n",
    "        self.dice = dice\n",
    "    \n",
    "    def results(self):\n",
    "        for i in range(self.matches):\n",
    "            self.ball = Ball(np.random.randint(10,20),\"red\")\n",
    "            self.dice = Dice()\n",
    "            newgame = self.ballgame([person_edo, person_angela, person_sam], self.ball, self.dice)\n",
    "            newgame.run()"
   ]
  },
  {
   "cell_type": "code",
   "execution_count": 580,
   "metadata": {},
   "outputs": [
    {
     "name": "stdout",
     "output_type": "stream",
     "text": [
      "round 5 sam has the ball\n",
      "round 10 angela has the ball\n",
      "round 15 edo has the ball\n",
      "angela OMG I losttt a red ball\n",
      "angelalost\n",
      "round 5 angela has the ball\n",
      "round 10 sam has the ball\n",
      "edo OMG I ruckk a red ball\n",
      "edolost\n",
      "round 5 edo has the ball\n",
      "round 10 angela has the ball\n",
      "sam OMG I farttt a red ball\n",
      "samlost\n",
      "round 5 edo has the ball\n",
      "round 10 sam has the ball\n",
      "angela OMG I losttt a red ball\n",
      "fair game\n",
      "round 5 angela has the ball\n",
      "round 10 edo has the ball\n",
      "round 15 sam has the ball\n",
      "angela OMG I losttt a red ball\n",
      "angelalost\n"
     ]
    }
   ],
   "source": [
    "Tournament(5, ballgame, ball, dice).results()"
   ]
  },
  {
   "cell_type": "code",
   "execution_count": null,
   "metadata": {},
   "outputs": [],
   "source": []
  }
 ],
 "metadata": {
  "kernelspec": {
   "display_name": "Python 2",
   "language": "python",
   "name": "python2"
  },
  "language_info": {
   "codemirror_mode": {
    "name": "ipython",
    "version": 2
   },
   "file_extension": ".py",
   "mimetype": "text/x-python",
   "name": "python",
   "nbconvert_exporter": "python",
   "pygments_lexer": "ipython2",
   "version": "2.7.14"
  }
 },
 "nbformat": 4,
 "nbformat_minor": 1
}
