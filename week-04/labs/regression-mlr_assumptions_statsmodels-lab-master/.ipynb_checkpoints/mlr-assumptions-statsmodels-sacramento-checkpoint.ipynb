{
 "cells": [
  {
   "cell_type": "markdown",
   "metadata": {},
   "source": [
    "<img src=\"http://imgur.com/1ZcRyrc.png\" style=\"float: left; margin: 20px; height: 55px\">\n",
    "\n",
    "# Practice MLR Using the Sacramento Real Estate Data\n",
    "\n",
    "_Authors: Matt Brems (DC), Marc Harper (LA), Sam Stack (DC)_\n",
    "\n",
    "---\n",
    "\n",
    "We return to the Sacramento real estate data, but this time around we will be constructing multiple linear regression models. \n",
    "\n",
    "You will review the assumptions of multiple linear regression and practice building a model using the statsmodels package."
   ]
  },
  {
   "cell_type": "markdown",
   "metadata": {},
   "source": [
    "### 1) Load the data. "
   ]
  },
  {
   "cell_type": "code",
   "execution_count": 1,
   "metadata": {},
   "outputs": [],
   "source": [
    "import pandas as pd\n",
    "\n",
    "shd_csv = './datasets/sacramento_real_estate_transactions_Clean.csv'\n"
   ]
  },
  {
   "cell_type": "markdown",
   "metadata": {},
   "source": [
    "## Dummy Variables\n",
    "\n",
    "---\n",
    "\n",
    "When building a regression, it's important to be cautious with categorical variables, which represent distinct groups or categories. If they're put in a regression \"as is,\" categorical variables represented as integers will be treated like *continuous* variables.\n",
    "\n",
    "For example, if occupation category \"1\" represents \"analyst\" and occupation category \"3\" represents \"barista\" (with our target variable being salary) and we leave this as a column of integers, then \"barista\" will always have `beta*3` the effect of \"analyst.\" \n",
    "\n",
    "In simpler terms, instead of category \"3\" having a different effect on the estimation than category \"1,\" it will estimate literally three times more than category \"1.\"\n",
    "\n",
    "This will almost certainly produce an incorrect beta coefficient. Instead, we can re-represent the categories as multiple \"dummy-coded\" columns.\n",
    "\n",
    "### 2) Use the `pd.get_dummies` function to convert the `type` column into dummy-coded variables.\n",
    "\n",
    "Print out the header of the dummy-coded variable output."
   ]
  },
  {
   "cell_type": "code",
   "execution_count": 35,
   "metadata": {},
   "outputs": [],
   "source": [
    "df = pd.read_csv(shd_csv)"
   ]
  },
  {
   "cell_type": "code",
   "execution_count": 20,
   "metadata": {},
   "outputs": [
    {
     "data": {
      "text/plain": [
       "array(['Residential', 'Condo', 'Multi-Family', 'Unkown'], dtype=object)"
      ]
     },
     "execution_count": 20,
     "metadata": {},
     "output_type": "execute_result"
    }
   ],
   "source": [
    "df['type'].unique()"
   ]
  },
  {
   "cell_type": "code",
   "execution_count": 36,
   "metadata": {},
   "outputs": [
    {
     "data": {
      "text/html": [
       "<div>\n",
       "<style scoped>\n",
       "    .dataframe tbody tr th:only-of-type {\n",
       "        vertical-align: middle;\n",
       "    }\n",
       "\n",
       "    .dataframe tbody tr th {\n",
       "        vertical-align: top;\n",
       "    }\n",
       "\n",
       "    .dataframe thead th {\n",
       "        text-align: right;\n",
       "    }\n",
       "</style>\n",
       "<table border=\"1\" class=\"dataframe\">\n",
       "  <thead>\n",
       "    <tr style=\"text-align: right;\">\n",
       "      <th></th>\n",
       "      <th>Condo</th>\n",
       "      <th>Multi-Family</th>\n",
       "      <th>Residential</th>\n",
       "      <th>Unkown</th>\n",
       "    </tr>\n",
       "  </thead>\n",
       "  <tbody>\n",
       "    <tr>\n",
       "      <th>0</th>\n",
       "      <td>0</td>\n",
       "      <td>0</td>\n",
       "      <td>1</td>\n",
       "      <td>0</td>\n",
       "    </tr>\n",
       "    <tr>\n",
       "      <th>1</th>\n",
       "      <td>0</td>\n",
       "      <td>0</td>\n",
       "      <td>1</td>\n",
       "      <td>0</td>\n",
       "    </tr>\n",
       "    <tr>\n",
       "      <th>2</th>\n",
       "      <td>0</td>\n",
       "      <td>0</td>\n",
       "      <td>1</td>\n",
       "      <td>0</td>\n",
       "    </tr>\n",
       "    <tr>\n",
       "      <th>3</th>\n",
       "      <td>0</td>\n",
       "      <td>0</td>\n",
       "      <td>1</td>\n",
       "      <td>0</td>\n",
       "    </tr>\n",
       "    <tr>\n",
       "      <th>4</th>\n",
       "      <td>0</td>\n",
       "      <td>0</td>\n",
       "      <td>1</td>\n",
       "      <td>0</td>\n",
       "    </tr>\n",
       "  </tbody>\n",
       "</table>\n",
       "</div>"
      ],
      "text/plain": [
       "   Condo  Multi-Family  Residential  Unkown\n",
       "0      0             0            1       0\n",
       "1      0             0            1       0\n",
       "2      0             0            1       0\n",
       "3      0             0            1       0\n",
       "4      0             0            1       0"
      ]
     },
     "execution_count": 36,
     "metadata": {},
     "output_type": "execute_result"
    }
   ],
   "source": [
    "pd.get_dummies(df['type']).head()"
   ]
  },
  {
   "cell_type": "code",
   "execution_count": 37,
   "metadata": {},
   "outputs": [
    {
     "name": "stdout",
     "output_type": "stream",
     "text": [
      "<class 'pandas.core.frame.DataFrame'>\n",
      "RangeIndex: 984 entries, 0 to 983\n",
      "Data columns (total 13 columns):\n",
      "Unnamed: 0    984 non-null int64\n",
      "street        984 non-null object\n",
      "city          984 non-null object\n",
      "zip           984 non-null int64\n",
      "state         984 non-null object\n",
      "beds          984 non-null int64\n",
      "baths         984 non-null int64\n",
      "sq__ft        984 non-null int64\n",
      "type          984 non-null object\n",
      "sale_date     984 non-null object\n",
      "price         984 non-null int64\n",
      "latitude      984 non-null float64\n",
      "longitude     984 non-null float64\n",
      "dtypes: float64(2), int64(6), object(5)\n",
      "memory usage: 100.0+ KB\n"
     ]
    }
   ],
   "source": [
    "df.info()"
   ]
  },
  {
   "cell_type": "code",
   "execution_count": 14,
   "metadata": {},
   "outputs": [],
   "source": [
    "for i in range(len(df.columns)):\n",
    "    if df.iloc[:,i].dtype == 'O':\n",
    "        pd.get_dummies(df.iloc[:,i])"
   ]
  },
  {
   "cell_type": "code",
   "execution_count": 13,
   "metadata": {},
   "outputs": [
    {
     "data": {
      "text/plain": [
       "13"
      ]
     },
     "execution_count": 13,
     "metadata": {},
     "output_type": "execute_result"
    }
   ],
   "source": [
    "len(df.columns)"
   ]
  },
  {
   "cell_type": "markdown",
   "metadata": {},
   "source": [
    "---\n",
    "\n",
    "### A Word of Caution When Dummy Coding\n",
    "\n",
    "Let's touch on precautions we should take when dummy coding.\n",
    "\n",
    "**If you convert qualitative variables to dummy variables, you want to turn a variable with N categories into N-1 variables.**\n",
    "\n",
    "> Scenario 1: Suppose we're working with the variable \"sex\" or \"gender\" with values \"M\" and \"F.\" \n",
    "\n",
    "Your model should only include one variable for \"sex = F,\" which becomes 1 if sex is female and 0 if sex is not female. Rather than saying \"a one-unit change in X,\" the coefficient associated with \"sex = F\" is interpreted as the average change in Y when sex = F, relative to when sex = M.\n",
    "\n",
    "> Scenario 2: Suppose we're modeling revenue at a bar for each day of the week. We have a column with strings identifying the day of the week the observation occurred.\n",
    "\n",
    "We might include six of the days as their own variables — \"Monday,\" \"Tuesday,\" \"Wednesday,\" \"Thursday,\" \"Friday,\" and \"Saturday\"— **but not all seven days.**\n",
    "\n",
    "The coefficient for Monday is then interpreted as the average change in revenue when \"day = Monday,\" relative to \"day = Sunday.\" The coefficient for Tuesday is interpreted in the average change in revenue when \"day = Tuesday,\" relative to \"day = Sunday,\" and so on.\n",
    "\n",
    "The category you leave out, which the other columns are *relative to,* is often referred to as the **reference category**.\n",
    "\n",
    "### 3) Remove \"Unknown\" from your dummy-coded variable DataFrame and append the rest to the original data."
   ]
  },
  {
   "cell_type": "code",
   "execution_count": 43,
   "metadata": {},
   "outputs": [
    {
     "data": {
      "text/html": [
       "<div>\n",
       "<style scoped>\n",
       "    .dataframe tbody tr th:only-of-type {\n",
       "        vertical-align: middle;\n",
       "    }\n",
       "\n",
       "    .dataframe tbody tr th {\n",
       "        vertical-align: top;\n",
       "    }\n",
       "\n",
       "    .dataframe thead th {\n",
       "        text-align: right;\n",
       "    }\n",
       "</style>\n",
       "<table border=\"1\" class=\"dataframe\">\n",
       "  <thead>\n",
       "    <tr style=\"text-align: right;\">\n",
       "      <th></th>\n",
       "      <th>Condo</th>\n",
       "      <th>Multi-Family</th>\n",
       "      <th>Residential</th>\n",
       "    </tr>\n",
       "  </thead>\n",
       "  <tbody>\n",
       "    <tr>\n",
       "      <th>0</th>\n",
       "      <td>0</td>\n",
       "      <td>0</td>\n",
       "      <td>1</td>\n",
       "    </tr>\n",
       "    <tr>\n",
       "      <th>1</th>\n",
       "      <td>0</td>\n",
       "      <td>0</td>\n",
       "      <td>1</td>\n",
       "    </tr>\n",
       "    <tr>\n",
       "      <th>2</th>\n",
       "      <td>0</td>\n",
       "      <td>0</td>\n",
       "      <td>1</td>\n",
       "    </tr>\n",
       "    <tr>\n",
       "      <th>3</th>\n",
       "      <td>0</td>\n",
       "      <td>0</td>\n",
       "      <td>1</td>\n",
       "    </tr>\n",
       "    <tr>\n",
       "      <th>4</th>\n",
       "      <td>0</td>\n",
       "      <td>0</td>\n",
       "      <td>1</td>\n",
       "    </tr>\n",
       "  </tbody>\n",
       "</table>\n",
       "</div>"
      ],
      "text/plain": [
       "   Condo  Multi-Family  Residential\n",
       "0      0             0            1\n",
       "1      0             0            1\n",
       "2      0             0            1\n",
       "3      0             0            1\n",
       "4      0             0            1"
      ]
     },
     "execution_count": 43,
     "metadata": {},
     "output_type": "execute_result"
    }
   ],
   "source": [
    "dum = pd.get_dummies(df['type'])\n",
    "dum.drop(columns = 'Unkown', inplace=True)\n",
    "dum.head()"
   ]
  },
  {
   "cell_type": "code",
   "execution_count": 39,
   "metadata": {},
   "outputs": [
    {
     "data": {
      "text/html": [
       "<div>\n",
       "<style scoped>\n",
       "    .dataframe tbody tr th:only-of-type {\n",
       "        vertical-align: middle;\n",
       "    }\n",
       "\n",
       "    .dataframe tbody tr th {\n",
       "        vertical-align: top;\n",
       "    }\n",
       "\n",
       "    .dataframe thead th {\n",
       "        text-align: right;\n",
       "    }\n",
       "</style>\n",
       "<table border=\"1\" class=\"dataframe\">\n",
       "  <thead>\n",
       "    <tr style=\"text-align: right;\">\n",
       "      <th></th>\n",
       "      <th>Unnamed: 0</th>\n",
       "      <th>street</th>\n",
       "      <th>city</th>\n",
       "      <th>zip</th>\n",
       "      <th>state</th>\n",
       "      <th>beds</th>\n",
       "      <th>baths</th>\n",
       "      <th>sq__ft</th>\n",
       "      <th>type</th>\n",
       "      <th>sale_date</th>\n",
       "      <th>price</th>\n",
       "      <th>latitude</th>\n",
       "      <th>longitude</th>\n",
       "      <th>Condo</th>\n",
       "      <th>Multi-Family</th>\n",
       "      <th>Residential</th>\n",
       "    </tr>\n",
       "  </thead>\n",
       "  <tbody>\n",
       "    <tr>\n",
       "      <th>0</th>\n",
       "      <td>0</td>\n",
       "      <td>3526 HIGH ST</td>\n",
       "      <td>SACRAMENTO</td>\n",
       "      <td>95838</td>\n",
       "      <td>CA</td>\n",
       "      <td>2</td>\n",
       "      <td>1</td>\n",
       "      <td>836</td>\n",
       "      <td>Residential</td>\n",
       "      <td>Wed May 21 00:00:00 EDT 2008</td>\n",
       "      <td>59222</td>\n",
       "      <td>38.631913</td>\n",
       "      <td>-121.434879</td>\n",
       "      <td>0</td>\n",
       "      <td>0</td>\n",
       "      <td>1</td>\n",
       "    </tr>\n",
       "    <tr>\n",
       "      <th>1</th>\n",
       "      <td>1</td>\n",
       "      <td>51 OMAHA CT</td>\n",
       "      <td>SACRAMENTO</td>\n",
       "      <td>95823</td>\n",
       "      <td>CA</td>\n",
       "      <td>3</td>\n",
       "      <td>1</td>\n",
       "      <td>1167</td>\n",
       "      <td>Residential</td>\n",
       "      <td>Wed May 21 00:00:00 EDT 2008</td>\n",
       "      <td>68212</td>\n",
       "      <td>38.478902</td>\n",
       "      <td>-121.431028</td>\n",
       "      <td>0</td>\n",
       "      <td>0</td>\n",
       "      <td>1</td>\n",
       "    </tr>\n",
       "    <tr>\n",
       "      <th>2</th>\n",
       "      <td>2</td>\n",
       "      <td>2796 BRANCH ST</td>\n",
       "      <td>SACRAMENTO</td>\n",
       "      <td>95815</td>\n",
       "      <td>CA</td>\n",
       "      <td>2</td>\n",
       "      <td>1</td>\n",
       "      <td>796</td>\n",
       "      <td>Residential</td>\n",
       "      <td>Wed May 21 00:00:00 EDT 2008</td>\n",
       "      <td>68880</td>\n",
       "      <td>38.618305</td>\n",
       "      <td>-121.443839</td>\n",
       "      <td>0</td>\n",
       "      <td>0</td>\n",
       "      <td>1</td>\n",
       "    </tr>\n",
       "    <tr>\n",
       "      <th>3</th>\n",
       "      <td>3</td>\n",
       "      <td>2805 JANETTE WAY</td>\n",
       "      <td>SACRAMENTO</td>\n",
       "      <td>95815</td>\n",
       "      <td>CA</td>\n",
       "      <td>2</td>\n",
       "      <td>1</td>\n",
       "      <td>852</td>\n",
       "      <td>Residential</td>\n",
       "      <td>Wed May 21 00:00:00 EDT 2008</td>\n",
       "      <td>69307</td>\n",
       "      <td>38.616835</td>\n",
       "      <td>-121.439146</td>\n",
       "      <td>0</td>\n",
       "      <td>0</td>\n",
       "      <td>1</td>\n",
       "    </tr>\n",
       "    <tr>\n",
       "      <th>4</th>\n",
       "      <td>4</td>\n",
       "      <td>6001 MCMAHON DR</td>\n",
       "      <td>SACRAMENTO</td>\n",
       "      <td>95824</td>\n",
       "      <td>CA</td>\n",
       "      <td>2</td>\n",
       "      <td>1</td>\n",
       "      <td>797</td>\n",
       "      <td>Residential</td>\n",
       "      <td>Wed May 21 00:00:00 EDT 2008</td>\n",
       "      <td>81900</td>\n",
       "      <td>38.519470</td>\n",
       "      <td>-121.435768</td>\n",
       "      <td>0</td>\n",
       "      <td>0</td>\n",
       "      <td>1</td>\n",
       "    </tr>\n",
       "  </tbody>\n",
       "</table>\n",
       "</div>"
      ],
      "text/plain": [
       "   Unnamed: 0            street        city    zip state  beds  baths  sq__ft  \\\n",
       "0           0      3526 HIGH ST  SACRAMENTO  95838    CA     2      1     836   \n",
       "1           1       51 OMAHA CT  SACRAMENTO  95823    CA     3      1    1167   \n",
       "2           2    2796 BRANCH ST  SACRAMENTO  95815    CA     2      1     796   \n",
       "3           3  2805 JANETTE WAY  SACRAMENTO  95815    CA     2      1     852   \n",
       "4           4   6001 MCMAHON DR  SACRAMENTO  95824    CA     2      1     797   \n",
       "\n",
       "          type                     sale_date  price   latitude   longitude  \\\n",
       "0  Residential  Wed May 21 00:00:00 EDT 2008  59222  38.631913 -121.434879   \n",
       "1  Residential  Wed May 21 00:00:00 EDT 2008  68212  38.478902 -121.431028   \n",
       "2  Residential  Wed May 21 00:00:00 EDT 2008  68880  38.618305 -121.443839   \n",
       "3  Residential  Wed May 21 00:00:00 EDT 2008  69307  38.616835 -121.439146   \n",
       "4  Residential  Wed May 21 00:00:00 EDT 2008  81900  38.519470 -121.435768   \n",
       "\n",
       "   Condo  Multi-Family  Residential  \n",
       "0      0             0            1  \n",
       "1      0             0            1  \n",
       "2      0             0            1  \n",
       "3      0             0            1  \n",
       "4      0             0            1  "
      ]
     },
     "execution_count": 39,
     "metadata": {},
     "output_type": "execute_result"
    }
   ],
   "source": [
    "df = pd.concat([df,dum], axis=1)\n",
    "df.head()"
   ]
  },
  {
   "cell_type": "markdown",
   "metadata": {},
   "source": [
    "### 4) Build what you think may be the best MLR model predicting `price`. \n",
    "\n",
    "The independent variables are your choice, but *include at least three.* At least one of your variables should be  dummy coded (either one we created previously or a new one).\n",
    "\n",
    "When constructing your model, don't forget to load in the statsmodels API:\n",
    "\n",
    "```python\n",
    "import statsmodels.api as sm\n",
    "\n",
    "model = sm.OLS(y, X).fit()\n",
    "```"
   ]
  },
  {
   "cell_type": "code",
   "execution_count": 46,
   "metadata": {},
   "outputs": [
    {
     "data": {
      "text/plain": [
       "array(['Condo', 'Multi-Family', 'Residential'], dtype=object)"
      ]
     },
     "execution_count": 46,
     "metadata": {},
     "output_type": "execute_result"
    }
   ],
   "source": [
    "dum.columns.values"
   ]
  },
  {
   "cell_type": "code",
   "execution_count": 119,
   "metadata": {},
   "outputs": [
    {
     "data": {
      "text/html": [
       "<div>\n",
       "<style scoped>\n",
       "    .dataframe tbody tr th:only-of-type {\n",
       "        vertical-align: middle;\n",
       "    }\n",
       "\n",
       "    .dataframe tbody tr th {\n",
       "        vertical-align: top;\n",
       "    }\n",
       "\n",
       "    .dataframe thead th {\n",
       "        text-align: right;\n",
       "    }\n",
       "</style>\n",
       "<table border=\"1\" class=\"dataframe\">\n",
       "  <thead>\n",
       "    <tr style=\"text-align: right;\">\n",
       "      <th></th>\n",
       "      <th>Condo</th>\n",
       "      <th>Multi-Family</th>\n",
       "      <th>Residential</th>\n",
       "    </tr>\n",
       "  </thead>\n",
       "  <tbody>\n",
       "    <tr>\n",
       "      <th>0</th>\n",
       "      <td>0</td>\n",
       "      <td>0</td>\n",
       "      <td>1</td>\n",
       "    </tr>\n",
       "    <tr>\n",
       "      <th>1</th>\n",
       "      <td>0</td>\n",
       "      <td>0</td>\n",
       "      <td>1</td>\n",
       "    </tr>\n",
       "    <tr>\n",
       "      <th>2</th>\n",
       "      <td>0</td>\n",
       "      <td>0</td>\n",
       "      <td>1</td>\n",
       "    </tr>\n",
       "    <tr>\n",
       "      <th>3</th>\n",
       "      <td>0</td>\n",
       "      <td>0</td>\n",
       "      <td>1</td>\n",
       "    </tr>\n",
       "    <tr>\n",
       "      <th>4</th>\n",
       "      <td>0</td>\n",
       "      <td>0</td>\n",
       "      <td>1</td>\n",
       "    </tr>\n",
       "  </tbody>\n",
       "</table>\n",
       "</div>"
      ],
      "text/plain": [
       "   Condo  Multi-Family  Residential\n",
       "0      0             0            1\n",
       "1      0             0            1\n",
       "2      0             0            1\n",
       "3      0             0            1\n",
       "4      0             0            1"
      ]
     },
     "execution_count": 119,
     "metadata": {},
     "output_type": "execute_result"
    }
   ],
   "source": [
    "typedum = ['Condo', 'Multi-Family', 'Residential']\n",
    "df[typedum].head()"
   ]
  },
  {
   "cell_type": "code",
   "execution_count": 120,
   "metadata": {},
   "outputs": [
    {
     "data": {
      "text/html": [
       "<div>\n",
       "<style scoped>\n",
       "    .dataframe tbody tr th:only-of-type {\n",
       "        vertical-align: middle;\n",
       "    }\n",
       "\n",
       "    .dataframe tbody tr th {\n",
       "        vertical-align: top;\n",
       "    }\n",
       "\n",
       "    .dataframe thead th {\n",
       "        text-align: right;\n",
       "    }\n",
       "</style>\n",
       "<table border=\"1\" class=\"dataframe\">\n",
       "  <thead>\n",
       "    <tr style=\"text-align: right;\">\n",
       "      <th></th>\n",
       "      <th>Unnamed: 0</th>\n",
       "      <th>zip</th>\n",
       "      <th>beds</th>\n",
       "      <th>baths</th>\n",
       "      <th>sq__ft</th>\n",
       "      <th>price</th>\n",
       "      <th>latitude</th>\n",
       "      <th>longitude</th>\n",
       "      <th>Condo</th>\n",
       "      <th>Multi-Family</th>\n",
       "      <th>Residential</th>\n",
       "    </tr>\n",
       "  </thead>\n",
       "  <tbody>\n",
       "    <tr>\n",
       "      <th>count</th>\n",
       "      <td>813.000000</td>\n",
       "      <td>813.000000</td>\n",
       "      <td>813.000000</td>\n",
       "      <td>813.000000</td>\n",
       "      <td>813.000000</td>\n",
       "      <td>813.000000</td>\n",
       "      <td>813.000000</td>\n",
       "      <td>813.000000</td>\n",
       "      <td>813.000000</td>\n",
       "      <td>813.000000</td>\n",
       "      <td>813.000000</td>\n",
       "    </tr>\n",
       "    <tr>\n",
       "      <th>mean</th>\n",
       "      <td>476.667897</td>\n",
       "      <td>95761.400984</td>\n",
       "      <td>3.247232</td>\n",
       "      <td>1.961870</td>\n",
       "      <td>1591.892989</td>\n",
       "      <td>229471.130381</td>\n",
       "      <td>38.576931</td>\n",
       "      <td>-121.378533</td>\n",
       "      <td>0.050431</td>\n",
       "      <td>0.015990</td>\n",
       "      <td>0.933579</td>\n",
       "    </tr>\n",
       "    <tr>\n",
       "      <th>std</th>\n",
       "      <td>292.375224</td>\n",
       "      <td>85.357516</td>\n",
       "      <td>0.849012</td>\n",
       "      <td>0.669367</td>\n",
       "      <td>663.908347</td>\n",
       "      <td>119897.576889</td>\n",
       "      <td>0.126352</td>\n",
       "      <td>0.119730</td>\n",
       "      <td>0.218966</td>\n",
       "      <td>0.125514</td>\n",
       "      <td>0.249169</td>\n",
       "    </tr>\n",
       "    <tr>\n",
       "      <th>min</th>\n",
       "      <td>0.000000</td>\n",
       "      <td>95603.000000</td>\n",
       "      <td>1.000000</td>\n",
       "      <td>1.000000</td>\n",
       "      <td>484.000000</td>\n",
       "      <td>2000.000000</td>\n",
       "      <td>38.241514</td>\n",
       "      <td>-121.550527</td>\n",
       "      <td>0.000000</td>\n",
       "      <td>0.000000</td>\n",
       "      <td>0.000000</td>\n",
       "    </tr>\n",
       "    <tr>\n",
       "      <th>25%</th>\n",
       "      <td>217.000000</td>\n",
       "      <td>95670.000000</td>\n",
       "      <td>3.000000</td>\n",
       "      <td>2.000000</td>\n",
       "      <td>1144.000000</td>\n",
       "      <td>148750.000000</td>\n",
       "      <td>38.473814</td>\n",
       "      <td>-121.451444</td>\n",
       "      <td>0.000000</td>\n",
       "      <td>0.000000</td>\n",
       "      <td>1.000000</td>\n",
       "    </tr>\n",
       "    <tr>\n",
       "      <th>50%</th>\n",
       "      <td>450.000000</td>\n",
       "      <td>95820.000000</td>\n",
       "      <td>3.000000</td>\n",
       "      <td>2.000000</td>\n",
       "      <td>1419.000000</td>\n",
       "      <td>207973.000000</td>\n",
       "      <td>38.591618</td>\n",
       "      <td>-121.404999</td>\n",
       "      <td>0.000000</td>\n",
       "      <td>0.000000</td>\n",
       "      <td>1.000000</td>\n",
       "    </tr>\n",
       "    <tr>\n",
       "      <th>75%</th>\n",
       "      <td>730.000000</td>\n",
       "      <td>95828.000000</td>\n",
       "      <td>4.000000</td>\n",
       "      <td>2.000000</td>\n",
       "      <td>1851.000000</td>\n",
       "      <td>285000.000000</td>\n",
       "      <td>38.674864</td>\n",
       "      <td>-121.325730</td>\n",
       "      <td>0.000000</td>\n",
       "      <td>0.000000</td>\n",
       "      <td>1.000000</td>\n",
       "    </tr>\n",
       "    <tr>\n",
       "      <th>max</th>\n",
       "      <td>984.000000</td>\n",
       "      <td>95864.000000</td>\n",
       "      <td>8.000000</td>\n",
       "      <td>5.000000</td>\n",
       "      <td>5822.000000</td>\n",
       "      <td>884790.000000</td>\n",
       "      <td>39.008159</td>\n",
       "      <td>-120.597599</td>\n",
       "      <td>1.000000</td>\n",
       "      <td>1.000000</td>\n",
       "      <td>1.000000</td>\n",
       "    </tr>\n",
       "  </tbody>\n",
       "</table>\n",
       "</div>"
      ],
      "text/plain": [
       "       Unnamed: 0           zip        beds       baths       sq__ft  \\\n",
       "count  813.000000    813.000000  813.000000  813.000000   813.000000   \n",
       "mean   476.667897  95761.400984    3.247232    1.961870  1591.892989   \n",
       "std    292.375224     85.357516    0.849012    0.669367   663.908347   \n",
       "min      0.000000  95603.000000    1.000000    1.000000   484.000000   \n",
       "25%    217.000000  95670.000000    3.000000    2.000000  1144.000000   \n",
       "50%    450.000000  95820.000000    3.000000    2.000000  1419.000000   \n",
       "75%    730.000000  95828.000000    4.000000    2.000000  1851.000000   \n",
       "max    984.000000  95864.000000    8.000000    5.000000  5822.000000   \n",
       "\n",
       "               price    latitude   longitude       Condo  Multi-Family  \\\n",
       "count     813.000000  813.000000  813.000000  813.000000    813.000000   \n",
       "mean   229471.130381   38.576931 -121.378533    0.050431      0.015990   \n",
       "std    119897.576889    0.126352    0.119730    0.218966      0.125514   \n",
       "min      2000.000000   38.241514 -121.550527    0.000000      0.000000   \n",
       "25%    148750.000000   38.473814 -121.451444    0.000000      0.000000   \n",
       "50%    207973.000000   38.591618 -121.404999    0.000000      0.000000   \n",
       "75%    285000.000000   38.674864 -121.325730    0.000000      0.000000   \n",
       "max    884790.000000   39.008159 -120.597599    1.000000      1.000000   \n",
       "\n",
       "       Residential  \n",
       "count   813.000000  \n",
       "mean      0.933579  \n",
       "std       0.249169  \n",
       "min       0.000000  \n",
       "25%       1.000000  \n",
       "50%       1.000000  \n",
       "75%       1.000000  \n",
       "max       1.000000  "
      ]
     },
     "execution_count": 120,
     "metadata": {},
     "output_type": "execute_result"
    }
   ],
   "source": [
    "#clean data\n",
    "df = df[df['sq__ft'] !=0]\n",
    "df.describe()"
   ]
  },
  {
   "cell_type": "code",
   "execution_count": 141,
   "metadata": {},
   "outputs": [],
   "source": [
    "df_train = df.sample(400).copy()\n",
    "df_test = df[~df.index.isin(df_train.index)].copy()"
   ]
  },
  {
   "cell_type": "code",
   "execution_count": 142,
   "metadata": {},
   "outputs": [],
   "source": [
    "X_train = df_train[['sq__ft','baths','Condo', 'Multi-Family', 'Residential']]\n",
    "y_train = df_train['price']\n",
    "X_test = df_test[['sq__ft','baths','Condo', 'Multi-Family', 'Residential']]\n",
    "y_test = df_test['price']"
   ]
  },
  {
   "cell_type": "code",
   "execution_count": 143,
   "metadata": {},
   "outputs": [
    {
     "name": "stdout",
     "output_type": "stream",
     "text": [
      "('sq__ft', 148.51649047831805)\n",
      "('baths', -8802.514385705945)\n",
      "('Condo', 8224.798658531661)\n",
      "('Multi-Family', -31053.807750257198)\n",
      "('Residential', 22829.00909172564)\n",
      "-8813.28581829922\n"
     ]
    }
   ],
   "source": [
    "import sklearn.linear_model as linear_model\n",
    "\n",
    "lm = linear_model.LinearRegression()\n",
    "#fit model\n",
    "model = lm.fit(X_train, y_train)\n",
    "#print coefficients\n",
    "for var, coef in zip(X_train.columns.values, model.coef_):\n",
    "    print (var, coef)\n",
    "print model.intercept_"
   ]
  },
  {
   "cell_type": "code",
   "execution_count": 150,
   "metadata": {},
   "outputs": [],
   "source": [
    "import statsmodels.api as sm\n",
    "import numpy as np\n",
    "\n",
    "X = X_train.values\n",
    "X = np.concatenate([X, np.ones((X.shape[0], 1))], axis=1)\n",
    "y = y_train.values"
   ]
  },
  {
   "cell_type": "code",
   "execution_count": 151,
   "metadata": {},
   "outputs": [
    {
     "data": {
      "text/html": [
       "<table class=\"simpletable\">\n",
       "<caption>OLS Regression Results</caption>\n",
       "<tr>\n",
       "  <th>Dep. Variable:</th>            <td>y</td>        <th>  R-squared:         </th> <td>   0.570</td> \n",
       "</tr>\n",
       "<tr>\n",
       "  <th>Model:</th>                   <td>OLS</td>       <th>  Adj. R-squared:    </th> <td>   0.565</td> \n",
       "</tr>\n",
       "<tr>\n",
       "  <th>Method:</th>             <td>Least Squares</td>  <th>  F-statistic:       </th> <td>   130.8</td> \n",
       "</tr>\n",
       "<tr>\n",
       "  <th>Date:</th>             <td>Wed, 20 Jun 2018</td> <th>  Prob (F-statistic):</th> <td>4.97e-71</td> \n",
       "</tr>\n",
       "<tr>\n",
       "  <th>Time:</th>                 <td>16:56:43</td>     <th>  Log-Likelihood:    </th> <td> -5075.6</td> \n",
       "</tr>\n",
       "<tr>\n",
       "  <th>No. Observations:</th>      <td>   400</td>      <th>  AIC:               </th> <td>1.016e+04</td>\n",
       "</tr>\n",
       "<tr>\n",
       "  <th>Df Residuals:</th>          <td>   395</td>      <th>  BIC:               </th> <td>1.018e+04</td>\n",
       "</tr>\n",
       "<tr>\n",
       "  <th>Df Model:</th>              <td>     4</td>      <th>                     </th>     <td> </td>    \n",
       "</tr>\n",
       "<tr>\n",
       "  <th>Covariance Type:</th>      <td>nonrobust</td>    <th>                     </th>     <td> </td>    \n",
       "</tr>\n",
       "</table>\n",
       "<table class=\"simpletable\">\n",
       "<tr>\n",
       "        <td></td>          <th>coef</th>     <th>std err</th>      <th>t</th>      <th>P>|t|</th>  <th>[0.025</th>    <th>0.975]</th>  \n",
       "</tr>\n",
       "<tr>\n",
       "  <th>sq__ft</th>       <td>  148.5165</td> <td>    8.762</td> <td>   16.950</td> <td> 0.000</td> <td>  131.291</td> <td>  165.742</td>\n",
       "</tr>\n",
       "<tr>\n",
       "  <th>baths</th>        <td>-8802.5144</td> <td> 8517.028</td> <td>   -1.034</td> <td> 0.302</td> <td>-2.55e+04</td> <td> 7941.859</td>\n",
       "</tr>\n",
       "<tr>\n",
       "  <th>Condo</th>        <td> 6021.4772</td> <td> 1.51e+04</td> <td>    0.398</td> <td> 0.691</td> <td>-2.38e+04</td> <td> 3.58e+04</td>\n",
       "</tr>\n",
       "<tr>\n",
       "  <th>Multi-Family</th> <td>-3.326e+04</td> <td> 2.19e+04</td> <td>   -1.519</td> <td> 0.130</td> <td>-7.63e+04</td> <td> 9780.481</td>\n",
       "</tr>\n",
       "<tr>\n",
       "  <th>Residential</th>  <td> 2.063e+04</td> <td> 9079.760</td> <td>    2.272</td> <td> 0.024</td> <td> 2774.990</td> <td> 3.85e+04</td>\n",
       "</tr>\n",
       "<tr>\n",
       "  <th>connst</th>       <td>-6609.9644</td> <td> 1.27e+04</td> <td>   -0.521</td> <td> 0.603</td> <td>-3.16e+04</td> <td> 1.83e+04</td>\n",
       "</tr>\n",
       "</table>\n",
       "<table class=\"simpletable\">\n",
       "<tr>\n",
       "  <th>Omnibus:</th>       <td>92.776</td> <th>  Durbin-Watson:     </th> <td>   1.755</td>\n",
       "</tr>\n",
       "<tr>\n",
       "  <th>Prob(Omnibus):</th> <td> 0.000</td> <th>  Jarque-Bera (JB):  </th> <td> 200.660</td>\n",
       "</tr>\n",
       "<tr>\n",
       "  <th>Skew:</th>          <td> 1.198</td> <th>  Prob(JB):          </th> <td>2.67e-44</td>\n",
       "</tr>\n",
       "<tr>\n",
       "  <th>Kurtosis:</th>      <td> 5.509</td> <th>  Cond. No.          </th> <td>2.10e+19</td>\n",
       "</tr>\n",
       "</table>"
      ],
      "text/plain": [
       "<class 'statsmodels.iolib.summary.Summary'>\n",
       "\"\"\"\n",
       "                            OLS Regression Results                            \n",
       "==============================================================================\n",
       "Dep. Variable:                      y   R-squared:                       0.570\n",
       "Model:                            OLS   Adj. R-squared:                  0.565\n",
       "Method:                 Least Squares   F-statistic:                     130.8\n",
       "Date:                Wed, 20 Jun 2018   Prob (F-statistic):           4.97e-71\n",
       "Time:                        16:56:43   Log-Likelihood:                -5075.6\n",
       "No. Observations:                 400   AIC:                         1.016e+04\n",
       "Df Residuals:                     395   BIC:                         1.018e+04\n",
       "Df Model:                           4                                         \n",
       "Covariance Type:            nonrobust                                         \n",
       "================================================================================\n",
       "                   coef    std err          t      P>|t|      [0.025      0.975]\n",
       "--------------------------------------------------------------------------------\n",
       "sq__ft         148.5165      8.762     16.950      0.000     131.291     165.742\n",
       "baths        -8802.5144   8517.028     -1.034      0.302   -2.55e+04    7941.859\n",
       "Condo         6021.4772   1.51e+04      0.398      0.691   -2.38e+04    3.58e+04\n",
       "Multi-Family -3.326e+04   2.19e+04     -1.519      0.130   -7.63e+04    9780.481\n",
       "Residential   2.063e+04   9079.760      2.272      0.024    2774.990    3.85e+04\n",
       "connst       -6609.9644   1.27e+04     -0.521      0.603   -3.16e+04    1.83e+04\n",
       "==============================================================================\n",
       "Omnibus:                       92.776   Durbin-Watson:                   1.755\n",
       "Prob(Omnibus):                  0.000   Jarque-Bera (JB):              200.660\n",
       "Skew:                           1.198   Prob(JB):                     2.67e-44\n",
       "Kurtosis:                       5.509   Cond. No.                     2.10e+19\n",
       "==============================================================================\n",
       "\n",
       "Warnings:\n",
       "[1] Standard Errors assume that the covariance matrix of the errors is correctly specified.\n",
       "[2] The smallest eigenvalue is 2.58e-30. This might indicate that there are\n",
       "strong multicollinearity problems or that the design matrix is singular.\n",
       "\"\"\""
      ]
     },
     "execution_count": 151,
     "metadata": {},
     "output_type": "execute_result"
    }
   ],
   "source": [
    "model = sm.OLS(y, X)\n",
    "model = model.fit()\n",
    "model.summary(xname = X_train.columns.values.tolist() + ['connst'])"
   ]
  },
  {
   "cell_type": "code",
   "execution_count": 158,
   "metadata": {},
   "outputs": [],
   "source": [
    "X2 = X_test.values\n",
    "X2 = np.concatenate([X2, np.ones((X2.shape[0], 1))], axis=1)\n",
    "y2 = y_test.values"
   ]
  },
  {
   "cell_type": "code",
   "execution_count": 159,
   "metadata": {},
   "outputs": [],
   "source": [
    "predictions = model.predict(X2)"
   ]
  },
  {
   "cell_type": "markdown",
   "metadata": {},
   "source": [
    "### 5) Plot the residuals ( y-true vs. y-pred) to evaluate your MLR visually.\n",
    "\n",
    "> **Tip:** With Seaborn's `sns.lmplot`, you can set `x`, `y`, and even a `hue` (which will plot regression lines by category in different colors) to easily plot a regression line."
   ]
  },
  {
   "cell_type": "code",
   "execution_count": 140,
   "metadata": {},
   "outputs": [],
   "source": [
    "import seaborn as sns"
   ]
  },
  {
   "cell_type": "code",
   "execution_count": 157,
   "metadata": {},
   "outputs": [
    {
     "data": {
      "text/plain": [
       "[<matplotlib.lines.Line2D at 0xfde7f28>]"
      ]
     },
     "execution_count": 157,
     "metadata": {},
     "output_type": "execute_result"
    },
    {
     "data": {
      "image/png": "[encoded data removed]",
      "text/plain": [
       "<matplotlib.figure.Figure at 0xfde79e8>"
      ]
     },
     "metadata": {},
     "output_type": "display_data"
    }
   ],
   "source": [
    "#plot predictions\n",
    "import matplotlib.pyplot as plt\n",
    "plt.figure(figsize=(15,8))\n",
    "plt.scatter(y2, predictions)\n",
    "plt.xlabel('y_test')\n",
    "plt.ylabel('predictions')\n",
    "plt.plot(y_test, y_test, c='r')"
   ]
  },
  {
   "cell_type": "markdown",
   "metadata": {},
   "source": [
    "### 6) List the five assumptions for an MLR model. \n",
    "\n",
    "Indicate which ones are the same as the assumptions for an SLR model. "
   ]
  },
  {
   "cell_type": "code",
   "execution_count": 6,
   "metadata": {
    "collapsed": true
   },
   "outputs": [],
   "source": [
    "# A:\n"
   ]
  },
  {
   "cell_type": "markdown",
   "metadata": {},
   "source": [
    "### 7) Pick at least two assumptions and articulate whether or not you believe they were met for your model and why."
   ]
  },
  {
   "cell_type": "code",
   "execution_count": 7,
   "metadata": {
    "collapsed": true
   },
   "outputs": [],
   "source": [
    "# A:"
   ]
  },
  {
   "cell_type": "markdown",
   "metadata": {},
   "source": [
    "### 8) Explain what the intercept in your model means in the context of your predictor variables."
   ]
  },
  {
   "cell_type": "code",
   "execution_count": 8,
   "metadata": {
    "collapsed": true
   },
   "outputs": [],
   "source": [
    "# A:"
   ]
  },
  {
   "cell_type": "markdown",
   "metadata": {},
   "source": [
    "### 9) Generate a table showing the point estimates, standard errors, t-scores, p values, and 95 percent confidence intervals for the model you built. \n",
    "\n",
    "**Write a few sentences interpreting some of the output.**\n",
    "\n",
    "> **Hint:** Scikit-learn does not have this functionality built in, but  you can find it in the `summary` function in statsmodels."
   ]
  },
  {
   "cell_type": "code",
   "execution_count": 9,
   "metadata": {
    "collapsed": true
   },
   "outputs": [],
   "source": [
    "# A:"
   ]
  },
  {
   "cell_type": "markdown",
   "metadata": {},
   "source": [
    "### 10) [Bonus] Summarize your findings.\n",
    "\n",
    "Picture this: You work for a real estate agency. You're asked to prepare an executive summary for your very busy boss highlighting the most important findings from your MLR model. Convey these findings in no more than two paragraphs. Be sure to briefly address any potential shortcomings of your model.\n"
   ]
  },
  {
   "cell_type": "code",
   "execution_count": 10,
   "metadata": {
    "collapsed": true
   },
   "outputs": [],
   "source": [
    "# A: "
   ]
  }
 ],
 "metadata": {
  "anaconda-cloud": {},
  "kernelspec": {
   "display_name": "Python 2",
   "language": "python",
   "name": "python2"
  },
  "language_info": {
   "codemirror_mode": {
    "name": "ipython",
    "version": 2
   },
   "file_extension": ".py",
   "mimetype": "text/x-python",
   "name": "python",
   "nbconvert_exporter": "python",
   "pygments_lexer": "ipython2",
   "version": "2.7.14"
  }
 },
 "nbformat": 4,
 "nbformat_minor": 1
}
