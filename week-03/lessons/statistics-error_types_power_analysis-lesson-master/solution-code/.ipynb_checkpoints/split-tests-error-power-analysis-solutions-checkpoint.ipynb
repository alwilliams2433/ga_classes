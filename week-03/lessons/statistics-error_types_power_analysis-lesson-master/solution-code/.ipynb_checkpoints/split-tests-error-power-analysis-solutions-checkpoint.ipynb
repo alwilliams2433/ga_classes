{
 "cells": [
  {
   "cell_type": "markdown",
   "metadata": {},
   "source": [
    "<img src=\"http://imgur.com/1ZcRyrc.png\" style=\"float: left; margin: 20px; height: 55px\">\n",
    "\n",
    "## Type I Error, Type II Error, and Power Analysis\n",
    "\n",
    "_Authors: Kiefer Katovich (SF)_\n",
    "\n",
    "---\n",
    "\n",
    "### Learning Objectives\n",
    "- Apply an understanding of statistical hypothesis testing within the context of split testing.\n",
    "- Apply the chi-squared test of independence to \"winner\" a split test.\n",
    "- Understand the relationship between p-values, $\\alpha$ thresholds, and statistical significance.\n",
    "- Understand the difference between a type I error, statistical power, and a type II error.\n",
    "- Visualize the interaction of $\\alpha$ and `power`.\n",
    "- Understand how the components of experimental design interact.\n",
    "- Learn how to calculate the statistical power of a test.\n",
    "- Learn how to calculate the required sample size of a test.\n",
    "- Visualize the required sample size of a test, given its other requirements.\n"
   ]
  },
  {
   "cell_type": "markdown",
   "metadata": {},
   "source": [
    "### Lesson Guide\n",
    "- [Introduction to A/B Testing](#ab-testing)\n",
    "- [Split Tests are Hypothesis Tests](#ab-hypothesis)\n",
    "- [Chi-Squared Test of Independence](#chisq)\n",
    "- [Statistical Significance, P-Values, The Alpha Threshold, and Type I Errors](#significance)\n",
    "- [Type II Errors and Statistical Power](#type2-power)\n",
    "- [Visualizing the Interaction Between `alpha` and `power`](#power-visual)\n",
    "- [Power Analysis and Sample Size Calculation](#power-analysis)\n",
    "- [Calculating the Required Sample Size Visually](#visual-equation)"
   ]
  },
  {
   "cell_type": "code",
   "execution_count": 1,
   "metadata": {},
   "outputs": [],
   "source": [
    "import matplotlib.pyplot as plt\n",
    "import numpy as np\n",
    "import pandas as pd\n",
    "import seaborn as sns\n",
    "import scipy.stats as stats\n",
    "\n",
    "plt.style.use('fivethirtyeight')\n",
    "\n",
    "%matplotlib inline\n",
    "%config InlineBackend.figure_format = 'retina'"
   ]
  },
  {
   "cell_type": "markdown",
   "metadata": {},
   "source": [
    "<a id='ab-testing'></a>\n",
    "\n",
    "### Introduction to A/B testing\n",
    "\n",
    "---\n",
    "\n",
    "You may have heard the term \"A/B testing,\" or \"split testing,\" before. Simply put, a split test is an experiment that tests different versions of your product with your users. Using these results, you as the data scientist will statistically analyze the experiment and determine a \"winner\" according to a pre-defined metric. \n",
    "\n",
    "**Example: Selling dog collars**\n",
    "\n",
    "Picture this: You work for a startup that sells dog collars. Your web development team has constructed a prototype for a new \"landing page\" on the website (a landing page is the first page users reach when visiting a site). The designers are not sure whether a picture of a black lab wearing the collar or a golden retriever wearing the collar will have more of an impact on the click-through rate (the proportion of users who continue on to the the rest of the website). \n",
    "\n",
    "The team decides to run an A/B test to quantitatively evaluate which picture to choose.\n",
    "- **Arm A** is the version of the landing page with the black lab.\n",
    "- **Arm B** is the version of the landing page with the golden retriever.\n",
    "\n",
    "For two weeks, users will be directed at random to one of the two landing pages with equal probability. At the end of this period, the click-through rates of each arm will be compared and one of the two will be \"winnered.\"\n",
    "\n",
    "Desiging and evaluating A/B tests like this one is one of the most common tasks a data scientist will be asked to perform.\n",
    "\n",
    "**Below are the click-through rates per arm, measured at the end of two weeks.**"
   ]
  },
  {
   "cell_type": "code",
   "execution_count": 2,
   "metadata": {},
   "outputs": [],
   "source": [
    "A_wins = 113\n",
    "A_loss = 87\n",
    "B_wins = 87\n",
    "B_loss = 103"
   ]
  },
  {
   "cell_type": "markdown",
   "metadata": {},
   "source": [
    "<a id='ab-hypothesis'></a>\n",
    "\n",
    "### Split Tests Are Hypothesis Tests\n",
    "\n",
    "---\n",
    "\n",
    "Despite the business jargon, **split tests are just experiments to test hypotheses.** Using the scenario above, we can frame the null hypothesis like so:\n",
    "\n",
    "> **H0:** The difference in click-through rates between arms is 0.\n",
    "\n",
    "The alternative hypothesis would be:\n",
    "\n",
    "> **H1:** The difference in click-through rates between arms is not 0.\n",
    "\n",
    "It's important that the users sent to each arm are selected at random. If user assignments are affected by external factors — such as whether they are viewing the site on web or mobile browsers — then the arms have **selection bias**.\n",
    "\n",
    "**What is the problem with choosing a picture if users were not randomly assigned?**"
   ]
  },
  {
   "cell_type": "markdown",
   "metadata": {},
   "source": [
    "<a id='chisq'></a>\n",
    "\n",
    "### The $\\chi^2$ (Chi-Squared) Test of Independence\n",
    "\n",
    "---\n",
    "\n",
    "A popular Frequentist method for evaluating A/B tests is the $\\chi^2$ test of independence. The $\\chi^2$ test of independence is appropriate when you have categorical data and want to evaluate whether or not two groups are significantly different. \n",
    "\n",
    "Click-through rate can be thought of as binary categorical data: A user either clicked through (1) or did not (0). \n",
    "\n",
    "\"Independence\" refers to whether or not the outcome for the groups (the click-through rate) is independent of group assignment. Independence would mean that there is no relationship between the dog picture and the click-through rate. \n",
    "\n",
    "You can conduct the $\\chi^2$ test manually using what is known as a contingency table. For a detailed overview of the procedure, [this site](https://onlinecourses.science.psu.edu/stat500/node/56) is a good resource. In this course, we will use Python instead of manual calculation. That being said, it is important to address the formula for the $\\chi^2$ statistic:\n",
    "\n",
    "### $$ \\chi^2 = \\sum_{i=1}^{cells} \\frac{(O_i - E_i)^2}{E_i} $$\n",
    "\n",
    "Where: \n",
    "\n",
    "- $cells$ refers to the number of cells in the contingency table.\n",
    "- $O$ are the observed values (frequencies).\n",
    "- $E$ are the *expected* frequencies under perfect independence. \n",
    "\n",
    "**Using `stats.chi2_contingency`, calculate the $\\chi^2$ statistic and the associated p-value for our split test.**"
   ]
  },
  {
   "cell_type": "code",
   "execution_count": 3,
   "metadata": {},
   "outputs": [
    {
     "name": "stdout",
     "output_type": "stream",
     "text": [
      "4.055466585872573 0.044028550039511775\n"
     ]
    }
   ],
   "source": [
    "table = np.array([[A_wins, A_loss],\n",
    "                  [B_wins, B_loss]])\n",
    "\n",
    "results = stats.chi2_contingency(table)\n",
    "chi2 = results[0]\n",
    "pvalue = results[1]\n",
    "print chi2, pvalue"
   ]
  },
  {
   "cell_type": "markdown",
   "metadata": {},
   "source": [
    "**Explain what the p-value means in the context of our split test.**"
   ]
  },
  {
   "cell_type": "markdown",
   "metadata": {
    "collapsed": true
   },
   "source": [
    "_We have a p-value of about 0.044. This means that there is a 4.4% chance that we observed the difference in click-through rates between arms because of randomness in our sample when, in fact, there is no difference in the overall population. (That is, if everyone in the world were to visit our site)._"
   ]
  },
  {
   "cell_type": "markdown",
   "metadata": {},
   "source": [
    "**Which arm is the \"winner\"? Should you choose to accept it as such? By how much?**"
   ]
  },
  {
   "cell_type": "code",
   "execution_count": 4,
   "metadata": {},
   "outputs": [
    {
     "name": "stdout",
     "output_type": "stream",
     "text": [
      "0.565 0.457894736842\n",
      "0.107105263158\n",
      "1.23390804598\n"
     ]
    }
   ],
   "source": [
    "# Arm A has the higher click-through rate and would be the winner if this level\n",
    "# of significance were sufficient.\n",
    "\n",
    "A_rate = float(A_wins)/(A_wins+A_loss)\n",
    "B_rate = float(B_wins)/(B_wins+B_loss)\n",
    "A_vs_B = A_rate - B_rate\n",
    "print A_rate, B_rate\n",
    "print A_vs_B\n",
    "print A_rate/B_rate"
   ]
  },
  {
   "cell_type": "markdown",
   "metadata": {},
   "source": [
    "<a id='significance'></a>\n",
    "\n",
    "### Statistical Significance, P-Values, The Alpha Threshold, and Type I Errors\n",
    "\n",
    "---\n",
    "\n",
    "The split test has concluded and you have performed your statistical analysis of the results.\n",
    "- **Arm A (the black lab picture) has a 23% higher click-through rate than Arm B (the golden retriever picture)**.\n",
    "- **The p-value of our test was 0.044**.\n",
    "\n",
    "Should we accept that the black lab picture is in fact more effective? Do we believe that the difference is real?\n",
    "\n",
    "**Statistical Significance**\n",
    "\n",
    "It's common to see Frequentist tests reported as \"statistically significant with p < 0.05\" or \"with p < 0.01.\" So, what does it mean for a test to be statistically significant? On the surface, these statements are simply saying that the calculated p-value is less than a specific value. The values of 0.05 and 0.01 are common in academic research but also arbitrary. \n",
    "\n",
    "What does having \"p < 0.05\" specifically mean?\n",
    "\n",
    "> **p < 0.05**: In hypothetical repetitions of this experiment with the same sample size, fewer than 5% of the experiments would have measured a difference between arms at least this extreme _by chance_.\n",
    "\n",
    "The same goes for \"p < 0.01.\" Here, however, it's framed in the context of null and alternative hypotheses:\n",
    "\n",
    "> **p < 0.01**: There is less than a 1% chance of accepting the alternative hypothesis when the null hypothesis is in fact true. \n",
    "\n",
    "---\n",
    "\n",
    "**Type I Errors and the Alpha ($\\alpha$) Threshold**\n",
    "\n",
    "As rigorous researchers, we would set a threshold for how likely we are to falsely accept the alternative hypothesis prior to running our experiment. This chance is known as a **type I error**.\n",
    "\n",
    "Type I errors are directly related to the p-value. \n",
    "\n",
    "> **The p-value represents the risk of encountering a type I error, given the sample size and measured effect.**\n",
    "\n",
    "It is important to set thresholds for type I errors before experiments begin. This prevents us from arbitrarily deciding whether or not we will accept an alternative hypothesis after we see a p-value.\n",
    "\n",
    "The threshold we set for the type I error rate is denoted with $\\alpha$. For example:\n",
    "\n",
    "- $\\alpha$ = 0.05 corresponds to a \"p < 0.05\" significance level.\n",
    "- $\\alpha$ = 0.01 corresponds to a \"p < 0.01\" significance level.\n",
    "\n",
    "Furthermore, $\\alpha$ is equivalent to `1.0 - confidence`. A 95% confidence interval, for example, is associated with a type I error threshold of \"$\\alpha$ = 0.05.\"\n",
    "\n",
    "**A Side Note on P-Value Thresholds:** \n",
    "\n",
    "\"p < 0.01\" is historically considered a \"conservative\" significance threshold. But it's actually not very conservative at all. \n",
    "\n",
    "This is, at worst, a 1/100 chance that an alternative hypothesis will be accepted when the result is in fact null. Now, think about all of the papers written and experiments run that have used a threshold of \"p < 0.01\" to validate their findings.\n"
   ]
  },
  {
   "cell_type": "markdown",
   "metadata": {},
   "source": [
    "<a id='type2-power'></a>\n",
    "\n",
    "### Type II Errors ($\\beta$)  and Statistical Power ($1 - \\beta$)\n",
    "\n",
    "---\n",
    "\n",
    "We tend to focus a lot on type I errors, or the probability of false positives. But its counterpart — the type II error — is no less important. Type II errors measure the risk of false negatives, or, accepting the null hypothesis when in fact the alternative hypothesis is true.\n",
    "\n",
    "**$\\alpha$ and $\\beta$**\n",
    "\n",
    "Whereas $\\alpha$ is the probability that we could have achieved our results by chance because of sampling error, its type II counterpart, $\\beta$, is the probability that we accepted the null hypothesis by chance when in fact the alternative hypothesis is true.\n",
    "\n",
    "**Statistical Power**\n",
    "\n",
    "It is rare to see $\\beta$. More commonly, you will see $1 - \\beta$, which is known as the power of the test. Think of the power of a test as the probability of correctly accepting the alternative hypothesis when it is true."
   ]
  },
  {
   "cell_type": "markdown",
   "metadata": {},
   "source": [
    "<a id='power-visual'></a>\n",
    "\n",
    "### Visualizing the Interaction of $\\alpha$ and `power`\n",
    "\n",
    "---\n",
    "\n",
    "Below is an interactive plot that helps visualize the relationship between the alpha threshold and the power of the experiment. \n",
    "\n",
    "- Decreasing $\\alpha$ (making the threshold more strict) necessarily reduces `power`. \n",
    "- Alternatively, the more lenient we are about type I error rates, the more we reduce type II error rates."
   ]
  },
  {
   "cell_type": "code",
   "execution_count": 5,
   "metadata": {},
   "outputs": [],
   "source": [
    "from ipywidgets import *\n",
    "from IPython.display import display"
   ]
  },
  {
   "cell_type": "code",
   "execution_count": 6,
   "metadata": {},
   "outputs": [],
   "source": [
    "def power_plotter(std, alpha, effect):\n",
    "    unit_norm = stats.norm(0,1)\n",
    "    z_alpha = unit_norm.ppf(1-alpha/2.)\n",
    "    z_power = (effect/std) - z_alpha \n",
    "    \n",
    "    null_dist = stats.norm(0, std)\n",
    "    alt_dist = stats.norm(effect, std)\n",
    "    \n",
    "    power = unit_norm.cdf(z_power)\n",
    "    \n",
    "    z_type1 = null_dist.ppf(1-alpha/2)\n",
    "    \n",
    "    xvals = np.linspace(-5*std, effect+(5*std), 300)\n",
    "\n",
    "    fig, axarr = plt.subplots(2, 1, figsize=(14,6))\n",
    "\n",
    "    axarr[0].plot(xvals, null_dist.pdf(xvals), color='grey', lw=4, label='Null')\n",
    "    axarr[1].plot(xvals, alt_dist.pdf(xvals), color='black', lw=4, label='Alternative')\n",
    "\n",
    "    type1_x = np.linspace(z_type1, effect+(5*std))\n",
    "\n",
    "    axarr[0].axvline(z_type1, lw=3, ls='dashed', color='darkred')\n",
    "    axarr[0].fill_between(type1_x, 0, null_dist.pdf(type1_x), color='darkred', \n",
    "                          alpha=0.5, hatch = '///', label='alpha = {:.2f}'.format(alpha))\n",
    "    \n",
    "    axarr[1].axvline(z_type1, lw=3, ls='dashed', color='steelblue')\n",
    "    axarr[1].fill_between(type1_x, 0, alt_dist.pdf(type1_x), color='steelblue', \n",
    "                          alpha=0.5, hatch = '///', label='power = {:.2f}'.format(power))\n",
    "\n",
    "\n",
    "    axarr[0].set_ylim([0, 0.50])\n",
    "    axarr[1].set_ylim([0, 0.50])\n",
    "    \n",
    "    axarr[0].set_xlim([-5,10])\n",
    "    axarr[1].set_xlim([-5,10])\n",
    "    \n",
    "    axarr[0].legend(loc='upper left', fontsize=14)\n",
    "    axarr[1].legend(loc='upper left', fontsize=14)\n",
    "\n",
    "    plt.show()\n",
    "    "
   ]
  },
  {
   "cell_type": "code",
   "execution_count": 7,
   "metadata": {},
   "outputs": [
    {
     "data": {
      "application/vnd.jupyter.widget-view+json": {
       "model_id": "bcdd55205e4b4216bf4186bcb4b6ae9f",
       "version_major": 2,
       "version_minor": 0
      },
      "text/html": [
       "<p>Failed to display Jupyter Widget of type <code>interactive</code>.</p>\n",
       "<p>\n",
       "  If you're reading this message in the Jupyter Notebook or JupyterLab Notebook, it may mean\n",
       "  that the widgets JavaScript is still loading. If this message persists, it\n",
       "  likely means that the widgets JavaScript library is either not installed or\n",
       "  not enabled. See the <a href=\"https://ipywidgets.readthedocs.io/en/stable/user_install.html\">Jupyter\n",
       "  Widgets Documentation</a> for setup instructions.\n",
       "</p>\n",
       "<p>\n",
       "  If you're reading this message in another frontend (for example, a static\n",
       "  rendering on GitHub or <a href=\"https://nbviewer.jupyter.org/\">NBViewer</a>),\n",
       "  it may mean that your frontend doesn't currently support widgets.\n",
       "</p>\n"
      ],
      "text/plain": [
       "interactive(children=(FloatSlider(value=1.0, description=u'std_effect', max=3.0, min=0.5), FloatSlider(value=0.05, description=u'alpha', max=0.5, min=0.01, step=0.01), FloatSlider(value=1.0, description=u'effect', max=5.0, min=0.1), Output()), _dom_classes=('widget-interact',))"
      ]
     },
     "metadata": {},
     "output_type": "display_data"
    },
    {
     "data": {
      "text/plain": [
       "<function __main__.power_calcplotter>"
      ]
     },
     "execution_count": 7,
     "metadata": {},
     "output_type": "execute_result"
    }
   ],
   "source": [
    "def power_calcplotter(std_effect=1.0, alpha=0.05, effect=1.0):\n",
    "    power_plotter(std_effect, alpha, effect)\n",
    "    \n",
    "\n",
    "interact(power_calcplotter, \n",
    "         std_effect=FloatSlider(min=0.5, max=3.0, value=1.0, step=0.1),\n",
    "         alpha=FloatSlider(min=0.01, max=0.50, value=0.05, step=0.01),\n",
    "         effect=FloatSlider(min=0.1, max=5.0, value=1.0, step=0.1))"
   ]
  },
  {
   "cell_type": "markdown",
   "metadata": {},
   "source": [
    "<a id='power-analysis'></a>\n",
    "\n",
    "### `power` Analysis and Sample Size Calculation\n",
    "\n",
    "---\n",
    "\n",
    "We are now ready to formalize the relationship between the components of our experimental design and the data we measure in the experiment.\n",
    "\n",
    "In this context, we are not analyzing the data we've already gathered but instead planning an experiment to test a hypothesis. \n",
    "\n",
    "There are five components we consider when setting up our experiment: \n",
    "1. Our desired type I error rate ($\\alpha$).\n",
    "2. Our desired type II error rate ($\\beta$ or, more commonly, `power`: $1 - \\beta$).\n",
    "3. The expected size of the effect, or the mean difference between groups.\n",
    "4. The expected standard deviation of measurement.\n",
    "5. The sample size.\n",
    "\n",
    "Oftentimes, the expected effect size and the standard deviation of measurement will need to be estimated from prior work or other information.\n",
    "\n",
    "---\n",
    "\n",
    "Given the others, we can formulate an equation to solve for any one of these components. Below are the calculations for the power of a test and the required sample size of a test.\n",
    "\n",
    "Given variables include:\n",
    "\n",
    "- $\\theta$: A test statistic measuring the difference between groups.\n",
    "- $SE_{\\theta}$: The standard error of measurement of the test statistic.\n",
    "- $\\alpha$: The pre-specified type I error threshold value.\n",
    "- $Z_{\\alpha/2}$: The two-tailed z-statistic for the specified $\\alpha$ threshold on the normal distribution.\n",
    "- $n_1$: The sample size of group one.\n",
    "- $n_2$: The sample size of group two.\n",
    "\n",
    "**Calculation for the Statistical Power of a Test:**\n",
    "\n",
    "The z-statistic for `power`, $1 - \\beta$, is calculated like so:\n",
    "\n",
    "### $$ Z_{power} = \\frac{\\theta}{SE_{\\theta}} - Z_{\\alpha/2} $$\n",
    "\n",
    "**Calculation for the Required Sample Size of a Test:**\n",
    "\n",
    "The formula above can be rewritten with $\\sigma^2$, the (assumed) equal standard deviation of measurements in the two groups.\n",
    "\n",
    "Let $r$ be the ratio of group one's sample size to group two's sample size:\n",
    "\n",
    "### $$ Z_{power} = \\frac{\\theta}{ \\sqrt{ \\frac{\\sigma^2}{n_1} + \\frac{\\sigma^2}{rn_1} } } - Z_{\\alpha/2} $$\n",
    "\n",
    "Solve for $n_1$ in the previous equation:\n",
    "\n",
    "### $$ n_1 = \\frac{r+1}{r} \\frac{\\sigma^2 (Z_{power} + Z_{\\alpha/2})^2}{\\theta^2} $$\n",
    "\n",
    "If you assume that the two groups are of equal size (which is most often the case when *preparing* a test; the best statistical power for the fewest number of subjects is achieved with equal groups), $r = 1$ and the formula reduces to:\n",
    "\n",
    "### $$ n = \\frac{2 \\sigma^2 (Z_{power} + Z_{\\alpha/2})^2}{\\theta^2} $$\n",
    "\n",
    "Here, $n$ is the number of subjects required in each group.\n",
    "\n",
    "**Note: Sample size calculations are hypothetical.**\n",
    "\n",
    "These equations are guidelines for the optimal set up of an experiment and should therefore be fairly conservative. That being said, there is good reason to not exceed the required number of subjects by too much — there are marginal returns when using more subjects and tests are often costly to run."
   ]
  },
  {
   "cell_type": "markdown",
   "metadata": {},
   "source": [
    "<a id='visual-equation'></a>\n",
    "\n",
    "### Calculating the Required Sample Size Visually\n",
    "\n",
    "---\n",
    "\n",
    "The following function will plot the interacting components in the equations above to give you a visual sense of how different parts interact.\n",
    "\n",
    "As the user, you will need to supply the `required_sample_plotter` function with:\n",
    "- `std`: The expected standard deviation of measurements.\n",
    "- `desired_power`: The statistical power threshold for the test.\n",
    "- `alpha`: The type I error rate threshold for the test.\n",
    "- `effect`: The expected effect between groups (standardized to the measurement's units of standard deviation).\n",
    "\n",
    "The function will plot the distribution of measurements from the hypothetical groups, coloring in the parts of the distribution corresponding to `alpha` and `power`. The estimated number of subjects required is displayed in the plot's legend."
   ]
  },
  {
   "cell_type": "code",
   "execution_count": 8,
   "metadata": {},
   "outputs": [],
   "source": [
    "def n_calculator(std, desired_power, alpha, effect):\n",
    "    unit_norm = stats.norm(0,1)\n",
    "    z_power = unit_norm.ppf(desired_power)\n",
    "    z_alpha = unit_norm.ppf(1-alpha/2.)\n",
    "    n = np.ceil((2. * std * (z_power + z_alpha)**2) / (effect**2))\n",
    "    return int(n)\n"
   ]
  },
  {
   "cell_type": "code",
   "execution_count": 9,
   "metadata": {},
   "outputs": [],
   "source": [
    "def required_sample_plotter(std=1, desired_power=0.8, alpha=0.05, effect=0.5):\n",
    "    n = n_calculator(std, desired_power, alpha, effect)\n",
    "    \n",
    "    fig, ax = plt.subplots(figsize=(12,5))\n",
    "    \n",
    "    null_dist = stats.norm(0, std)\n",
    "    alt_dist = stats.norm(effect, std)\n",
    "        \n",
    "    null_means = np.array([np.mean(null_dist.rvs(n)) - np.mean(null_dist.rvs(n)) for i in range(1000)])\n",
    "    alt_means = np.array([np.mean(alt_dist.rvs(n)) - np.mean(null_dist.rvs(n)) for i in range(1000)])\n",
    "    \n",
    "    alpha_null_val = stats.scoreatpercentile(null_means, (1. - (alpha/2))*100)\n",
    "    \n",
    "    pct_alt_above = np.sum(alt_means > alpha_null_val)/1000.\n",
    "    pct_null_above = np.sum(null_means > alpha_null_val)/1000.\n",
    "        \n",
    "    ax = sns.distplot(null_means[null_means < alpha_null_val],\n",
    "                      ax=ax, color='#333333', kde=False, hist_kws=dict(alpha=0.5, lw=2, \n",
    "                                                                       histtype='step'))\n",
    "    ax = sns.distplot(null_means[null_means >= alpha_null_val],\n",
    "                      ax=ax, color='darkred', kde=False, hist_kws=dict(alpha=0.6),\n",
    "                      label='alpha')\n",
    "    \n",
    "    ax = sns.distplot(alt_means[alt_means >= alpha_null_val], ax=ax,\n",
    "                      color='steelblue', kde=False, hist_kws=dict(alpha=0.2),\n",
    "                      label='power (1 - beta)')\n",
    "    ax = sns.distplot(alt_means[alt_means < alpha_null_val], \n",
    "                      ax=ax, color='#333333', kde=False, hist_kws=dict(alpha=0.5, lw=2,\n",
    "                                                                       histtype='step'))\n",
    "    \n",
    "    ax.axvline(alpha_null_val, lw=3, ls='dashed', color='black')\n",
    "    \n",
    "    n_str = 'N = '+str(int(n))\n",
    "    effect_str = 'effect size = {:.2f}'.format(float(effect)/std)\n",
    "    power_str = 'power = {:.3f}'.format(pct_alt_above)\n",
    "    alpha_str = 'alpha = {:.3f}'.format(pct_null_above)\n",
    "    \n",
    "    ax.annotate('\\n'.join([n_str, effect_str, alpha_str, power_str]),\n",
    "                xy=(0.95, 0.6),\n",
    "                xycoords='axes fraction', horizontalalignment='right', \n",
    "                fontsize=14, weight='bold', color='black')\n",
    "    \n",
    "    ax.legend(loc='upper left')\n",
    "    "
   ]
  },
  {
   "cell_type": "code",
   "execution_count": 10,
   "metadata": {},
   "outputs": [
    {
     "data": {
      "image/png": "[encoded data removed]",
      "text/plain": [
       "<matplotlib.figure.Figure at 0x10d134610>"
      ]
     },
     "metadata": {
      "image/png": {
       "height": 299,
       "width": 788
      }
     },
     "output_type": "display_data"
    }
   ],
   "source": [
    "deltas = required_sample_plotter(std=1, desired_power=0.5, alpha=0.05, effect=0.2)"
   ]
  },
  {
   "cell_type": "code",
   "execution_count": null,
   "metadata": {
    "collapsed": true
   },
   "outputs": [],
   "source": []
  }
 ],
 "metadata": {
  "anaconda-cloud": {},
  "kernelspec": {
   "display_name": "Python 2",
   "language": "python",
   "name": "python2"
  },
  "language_info": {
   "codemirror_mode": {
    "name": "ipython",
    "version": 2
   },
   "file_extension": ".py",
   "mimetype": "text/x-python",
   "name": "python",
   "nbconvert_exporter": "python",
   "pygments_lexer": "ipython2",
   "version": "2.7.14"
  }
 },
 "nbformat": 4,
 "nbformat_minor": 2
}
