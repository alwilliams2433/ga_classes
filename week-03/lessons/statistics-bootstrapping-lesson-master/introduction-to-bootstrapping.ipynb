{
 "cells": [
  {
   "cell_type": "markdown",
   "metadata": {},
   "source": [
    "<img src=\"http://imgur.com/1ZcRyrc.png\" style=\"float: left; margin: 20px; height: 55px\">\n",
    "\n",
    "## Introduction to Bootstrapping\n",
    "\n",
    "_Authors: Kiefer Katovich (SF)_\n",
    "\n",
    "---\n",
    "\n",
    "### Learning Objectives\n",
    "\n",
    "- Understand the concept of the parametric bootstrap.\n",
    "- Code the parametric bootstrap by hand.\n",
    "- Apply the parametric bootstrap to calculate confidence intervals for statistics.\n",
    "- Understand when bootstrapping is useful.\n",
    "- Practice bootstrapping."
   ]
  },
  {
   "cell_type": "markdown",
   "metadata": {},
   "source": [
    "### Lesson Guide\n",
    "- [The Bootstrapping Procedure](#bootstrapping)\n",
    "- [Coding the Nonparametric Bootstrap: Starcraft Data](#code-bootstrap)\n",
    "- [Comparing Bootstrapped to Standard Confidence Intervals](#compare-to-classic)\n",
    "- [Bootstrapping the Median](#bootstrap-median)\n",
    "- [The Theory Behind the Bootstrap](#theory)\n",
    "- [Independent Practice: Confidence Intervals of Correlations](#independent-practice)\n"
   ]
  },
  {
   "cell_type": "code",
   "execution_count": 1,
   "metadata": {},
   "outputs": [],
   "source": [
    "import matplotlib.pyplot as plt\n",
    "import numpy as np\n",
    "import pandas as pd\n",
    "import seaborn as sns\n",
    "import scipy.stats as stats\n",
    "\n",
    "plt.style.use('fivethirtyeight')\n",
    "\n",
    "%matplotlib inline\n",
    "%config InlineBackend.figure_format = 'retina'"
   ]
  },
  {
   "cell_type": "markdown",
   "metadata": {},
   "source": [
    "<a id='bootstrapping'></a>\n",
    "\n",
    "## The Bootstrapping Procedure\n",
    "\n",
    "---\n",
    "\n",
    "Bootstrapping is a powerful resampling method that allows us to estimate our degree of uncertainty about practically any statistic. The beauty of bootstrapping is that it's done directly from the data without needing any assumptions about the distribution of our statistic!\n",
    "\n",
    "There are many variations on the bootstrap. In this lesson, we'll only cover the classic **nonparametric bootstrap**. \n",
    "\n",
    "#### Bootstrapping the Confidence Interval of a Statistic\n",
    "\n",
    "Say we wanted to calculate the 95% confidence interval around a statistic such as our sample mean. We could do this using the formula derived based on the central limit theorm (CLT), selecting z-scores along the normal distribution that correspond to our confidence level and multiplying them by our standard error.\n",
    "\n",
    "The nonparametric bootstrap procedure, on the other hand, does not rely on distributional assumputions of the parameter. Below is pseudocode describing the process:\n",
    "\n",
    "---\n",
    "\n",
    "```\n",
    "for specified number of bootstrap iterations\n",
    "    create a bootstrap sample by randomly selecting observations with replacement from your sample \n",
    "        (same size as sample)\n",
    "    calculate the statistic of interest on bootstrap sample\n",
    "\n",
    "calculate lower and upper percentile bounds of bootstrap statistics according to threshold\n",
    "```\n",
    "\n",
    "---\n",
    "\n",
    "In our case, the 95% confidence threshold would mean we'd calculate the 2.5th and 97.5th percentiles of the bootstrapped sample means."
   ]
  },
  {
   "cell_type": "markdown",
   "metadata": {},
   "source": [
    "<a id='code-bootstrap'></a>\n",
    "\n",
    "### Coding the Nonparametric Bootstrap: Starcraft Data\n",
    "\n",
    "---\n",
    "\n",
    "Next, we will code the nonparametric bootstrap function and calculate the confidence interval for the mean `APM` (actions per minute) from a sample of Starcraft data. \n",
    "\n",
    "**Load the Starcraft data.**"
   ]
  },
  {
   "cell_type": "code",
   "execution_count": 5,
   "metadata": {},
   "outputs": [],
   "source": [
    "starcraft = './datasets/Starcraft_sample.csv'"
   ]
  },
  {
   "cell_type": "code",
   "execution_count": 7,
   "metadata": {},
   "outputs": [
    {
     "data": {
      "text/html": [
       "<div>\n",
       "<style scoped>\n",
       "    .dataframe tbody tr th:only-of-type {\n",
       "        vertical-align: middle;\n",
       "    }\n",
       "\n",
       "    .dataframe tbody tr th {\n",
       "        vertical-align: top;\n",
       "    }\n",
       "\n",
       "    .dataframe thead th {\n",
       "        text-align: right;\n",
       "    }\n",
       "</style>\n",
       "<table border=\"1\" class=\"dataframe\">\n",
       "  <thead>\n",
       "    <tr style=\"text-align: right;\">\n",
       "      <th></th>\n",
       "      <th>GameID</th>\n",
       "      <th>LeagueIndex</th>\n",
       "      <th>Age</th>\n",
       "      <th>HoursPerWeek</th>\n",
       "      <th>TotalHours</th>\n",
       "      <th>APM</th>\n",
       "      <th>SelectByHotkeys</th>\n",
       "      <th>AssignToHotkeys</th>\n",
       "      <th>UniqueHotkeys</th>\n",
       "      <th>MinimapAttacks</th>\n",
       "      <th>MinimapRightClicks</th>\n",
       "      <th>NumberOfPACs</th>\n",
       "      <th>GapBetweenPACs</th>\n",
       "      <th>ActionLatency</th>\n",
       "      <th>ActionsInPAC</th>\n",
       "      <th>TotalMapExplored</th>\n",
       "      <th>WorkersMade</th>\n",
       "      <th>UniqueUnitsMade</th>\n",
       "      <th>ComplexUnitsMade</th>\n",
       "      <th>ComplexAbilitiesUsed</th>\n",
       "    </tr>\n",
       "  </thead>\n",
       "  <tbody>\n",
       "    <tr>\n",
       "      <th>0</th>\n",
       "      <td>2307</td>\n",
       "      <td>5</td>\n",
       "      <td>22.0</td>\n",
       "      <td>42</td>\n",
       "      <td>2800</td>\n",
       "      <td>190.7448</td>\n",
       "      <td>0.009310</td>\n",
       "      <td>0.000495</td>\n",
       "      <td>4</td>\n",
       "      <td>0.000000</td>\n",
       "      <td>0.000307</td>\n",
       "      <td>0.004519</td>\n",
       "      <td>41.6515</td>\n",
       "      <td>53.1774</td>\n",
       "      <td>6.0189</td>\n",
       "      <td>26</td>\n",
       "      <td>0.002319</td>\n",
       "      <td>7</td>\n",
       "      <td>0.000000</td>\n",
       "      <td>0.000017</td>\n",
       "    </tr>\n",
       "    <tr>\n",
       "      <th>1</th>\n",
       "      <td>9213</td>\n",
       "      <td>5</td>\n",
       "      <td>34.0</td>\n",
       "      <td>4</td>\n",
       "      <td>364</td>\n",
       "      <td>77.5512</td>\n",
       "      <td>0.002448</td>\n",
       "      <td>0.000486</td>\n",
       "      <td>7</td>\n",
       "      <td>0.000178</td>\n",
       "      <td>0.000340</td>\n",
       "      <td>0.002496</td>\n",
       "      <td>31.8431</td>\n",
       "      <td>65.8701</td>\n",
       "      <td>4.9740</td>\n",
       "      <td>22</td>\n",
       "      <td>0.000713</td>\n",
       "      <td>6</td>\n",
       "      <td>0.000000</td>\n",
       "      <td>0.000000</td>\n",
       "    </tr>\n",
       "    <tr>\n",
       "      <th>2</th>\n",
       "      <td>209</td>\n",
       "      <td>3</td>\n",
       "      <td>20.0</td>\n",
       "      <td>6</td>\n",
       "      <td>150</td>\n",
       "      <td>72.1410</td>\n",
       "      <td>0.001238</td>\n",
       "      <td>0.000394</td>\n",
       "      <td>5</td>\n",
       "      <td>0.000019</td>\n",
       "      <td>0.000272</td>\n",
       "      <td>0.003376</td>\n",
       "      <td>45.9164</td>\n",
       "      <td>68.8778</td>\n",
       "      <td>3.7528</td>\n",
       "      <td>24</td>\n",
       "      <td>0.000797</td>\n",
       "      <td>8</td>\n",
       "      <td>0.000122</td>\n",
       "      <td>0.000356</td>\n",
       "    </tr>\n",
       "    <tr>\n",
       "      <th>3</th>\n",
       "      <td>2958</td>\n",
       "      <td>3</td>\n",
       "      <td>16.0</td>\n",
       "      <td>6</td>\n",
       "      <td>200</td>\n",
       "      <td>91.3188</td>\n",
       "      <td>0.000897</td>\n",
       "      <td>0.000130</td>\n",
       "      <td>5</td>\n",
       "      <td>0.000026</td>\n",
       "      <td>0.000663</td>\n",
       "      <td>0.002664</td>\n",
       "      <td>34.5490</td>\n",
       "      <td>74.6732</td>\n",
       "      <td>6.3512</td>\n",
       "      <td>27</td>\n",
       "      <td>0.001287</td>\n",
       "      <td>7</td>\n",
       "      <td>0.000195</td>\n",
       "      <td>0.000273</td>\n",
       "    </tr>\n",
       "    <tr>\n",
       "      <th>4</th>\n",
       "      <td>5533</td>\n",
       "      <td>4</td>\n",
       "      <td>22.0</td>\n",
       "      <td>20</td>\n",
       "      <td>800</td>\n",
       "      <td>85.3884</td>\n",
       "      <td>0.001188</td>\n",
       "      <td>0.000381</td>\n",
       "      <td>3</td>\n",
       "      <td>0.000067</td>\n",
       "      <td>0.000179</td>\n",
       "      <td>0.002980</td>\n",
       "      <td>26.9697</td>\n",
       "      <td>58.0752</td>\n",
       "      <td>5.0827</td>\n",
       "      <td>15</td>\n",
       "      <td>0.001098</td>\n",
       "      <td>4</td>\n",
       "      <td>0.000000</td>\n",
       "      <td>0.000157</td>\n",
       "    </tr>\n",
       "  </tbody>\n",
       "</table>\n",
       "</div>"
      ],
      "text/plain": [
       "   GameID  LeagueIndex   Age  HoursPerWeek  TotalHours       APM  \\\n",
       "0    2307            5  22.0            42        2800  190.7448   \n",
       "1    9213            5  34.0             4         364   77.5512   \n",
       "2     209            3  20.0             6         150   72.1410   \n",
       "3    2958            3  16.0             6         200   91.3188   \n",
       "4    5533            4  22.0            20         800   85.3884   \n",
       "\n",
       "   SelectByHotkeys  AssignToHotkeys  UniqueHotkeys  MinimapAttacks  \\\n",
       "0         0.009310         0.000495              4        0.000000   \n",
       "1         0.002448         0.000486              7        0.000178   \n",
       "2         0.001238         0.000394              5        0.000019   \n",
       "3         0.000897         0.000130              5        0.000026   \n",
       "4         0.001188         0.000381              3        0.000067   \n",
       "\n",
       "   MinimapRightClicks  NumberOfPACs  GapBetweenPACs  ActionLatency  \\\n",
       "0            0.000307      0.004519         41.6515        53.1774   \n",
       "1            0.000340      0.002496         31.8431        65.8701   \n",
       "2            0.000272      0.003376         45.9164        68.8778   \n",
       "3            0.000663      0.002664         34.5490        74.6732   \n",
       "4            0.000179      0.002980         26.9697        58.0752   \n",
       "\n",
       "   ActionsInPAC  TotalMapExplored  WorkersMade  UniqueUnitsMade  \\\n",
       "0        6.0189                26     0.002319                7   \n",
       "1        4.9740                22     0.000713                6   \n",
       "2        3.7528                24     0.000797                8   \n",
       "3        6.3512                27     0.001287                7   \n",
       "4        5.0827                15     0.001098                4   \n",
       "\n",
       "   ComplexUnitsMade  ComplexAbilitiesUsed  \n",
       "0          0.000000              0.000017  \n",
       "1          0.000000              0.000000  \n",
       "2          0.000122              0.000356  \n",
       "3          0.000195              0.000273  \n",
       "4          0.000000              0.000157  "
      ]
     },
     "execution_count": 7,
     "metadata": {},
     "output_type": "execute_result"
    }
   ],
   "source": [
    "df = pd.read_csv(starcraft)\n",
    "df.head()"
   ]
  },
  {
   "cell_type": "code",
   "execution_count": 8,
   "metadata": {},
   "outputs": [
    {
     "name": "stdout",
     "output_type": "stream",
     "text": [
      "<class 'pandas.core.frame.DataFrame'>\n",
      "RangeIndex: 200 entries, 0 to 199\n",
      "Data columns (total 20 columns):\n",
      "GameID                  200 non-null int64\n",
      "LeagueIndex             200 non-null int64\n",
      "Age                     200 non-null float64\n",
      "HoursPerWeek            200 non-null int64\n",
      "TotalHours              200 non-null int64\n",
      "APM                     200 non-null float64\n",
      "SelectByHotkeys         200 non-null float64\n",
      "AssignToHotkeys         200 non-null float64\n",
      "UniqueHotkeys           200 non-null int64\n",
      "MinimapAttacks          200 non-null float64\n",
      "MinimapRightClicks      200 non-null float64\n",
      "NumberOfPACs            200 non-null float64\n",
      "GapBetweenPACs          200 non-null float64\n",
      "ActionLatency           200 non-null float64\n",
      "ActionsInPAC            200 non-null float64\n",
      "TotalMapExplored        200 non-null int64\n",
      "WorkersMade             200 non-null float64\n",
      "UniqueUnitsMade         200 non-null int64\n",
      "ComplexUnitsMade        200 non-null float64\n",
      "ComplexAbilitiesUsed    200 non-null float64\n",
      "dtypes: float64(13), int64(7)\n",
      "memory usage: 31.3 KB\n"
     ]
    }
   ],
   "source": [
    "df.info()"
   ]
  },
  {
   "cell_type": "code",
   "execution_count": 9,
   "metadata": {},
   "outputs": [
    {
     "data": {
      "text/html": [
       "<div>\n",
       "<style scoped>\n",
       "    .dataframe tbody tr th:only-of-type {\n",
       "        vertical-align: middle;\n",
       "    }\n",
       "\n",
       "    .dataframe tbody tr th {\n",
       "        vertical-align: top;\n",
       "    }\n",
       "\n",
       "    .dataframe thead th {\n",
       "        text-align: right;\n",
       "    }\n",
       "</style>\n",
       "<table border=\"1\" class=\"dataframe\">\n",
       "  <thead>\n",
       "    <tr style=\"text-align: right;\">\n",
       "      <th></th>\n",
       "      <th>GameID</th>\n",
       "      <th>LeagueIndex</th>\n",
       "      <th>Age</th>\n",
       "      <th>HoursPerWeek</th>\n",
       "      <th>TotalHours</th>\n",
       "      <th>APM</th>\n",
       "      <th>SelectByHotkeys</th>\n",
       "      <th>AssignToHotkeys</th>\n",
       "      <th>UniqueHotkeys</th>\n",
       "      <th>MinimapAttacks</th>\n",
       "      <th>MinimapRightClicks</th>\n",
       "      <th>NumberOfPACs</th>\n",
       "      <th>GapBetweenPACs</th>\n",
       "      <th>ActionLatency</th>\n",
       "      <th>ActionsInPAC</th>\n",
       "      <th>TotalMapExplored</th>\n",
       "      <th>WorkersMade</th>\n",
       "      <th>UniqueUnitsMade</th>\n",
       "      <th>ComplexUnitsMade</th>\n",
       "      <th>ComplexAbilitiesUsed</th>\n",
       "    </tr>\n",
       "  </thead>\n",
       "  <tbody>\n",
       "    <tr>\n",
       "      <th>count</th>\n",
       "      <td>200.000000</td>\n",
       "      <td>200.000000</td>\n",
       "      <td>200.000000</td>\n",
       "      <td>200.000000</td>\n",
       "      <td>200.000000</td>\n",
       "      <td>200.000000</td>\n",
       "      <td>200.000000</td>\n",
       "      <td>200.000000</td>\n",
       "      <td>200.000000</td>\n",
       "      <td>200.000000</td>\n",
       "      <td>200.000000</td>\n",
       "      <td>200.000000</td>\n",
       "      <td>200.000000</td>\n",
       "      <td>200.000000</td>\n",
       "      <td>200.000000</td>\n",
       "      <td>200.000000</td>\n",
       "      <td>200.000000</td>\n",
       "      <td>200.000000</td>\n",
       "      <td>200.000000</td>\n",
       "      <td>200.000000</td>\n",
       "    </tr>\n",
       "    <tr>\n",
       "      <th>mean</th>\n",
       "      <td>4600.235000</td>\n",
       "      <td>4.045000</td>\n",
       "      <td>21.795000</td>\n",
       "      <td>16.820000</td>\n",
       "      <td>737.040000</td>\n",
       "      <td>114.323439</td>\n",
       "      <td>0.004178</td>\n",
       "      <td>0.000369</td>\n",
       "      <td>4.410000</td>\n",
       "      <td>0.000083</td>\n",
       "      <td>0.000367</td>\n",
       "      <td>0.003397</td>\n",
       "      <td>42.117125</td>\n",
       "      <td>65.307576</td>\n",
       "      <td>5.260223</td>\n",
       "      <td>21.945000</td>\n",
       "      <td>0.001033</td>\n",
       "      <td>6.375000</td>\n",
       "      <td>0.000047</td>\n",
       "      <td>0.000135</td>\n",
       "    </tr>\n",
       "    <tr>\n",
       "      <th>std</th>\n",
       "      <td>2716.860217</td>\n",
       "      <td>1.498064</td>\n",
       "      <td>4.653088</td>\n",
       "      <td>11.533983</td>\n",
       "      <td>974.074527</td>\n",
       "      <td>53.682694</td>\n",
       "      <td>0.005371</td>\n",
       "      <td>0.000202</td>\n",
       "      <td>2.508658</td>\n",
       "      <td>0.000153</td>\n",
       "      <td>0.000328</td>\n",
       "      <td>0.001000</td>\n",
       "      <td>18.632383</td>\n",
       "      <td>20.332117</td>\n",
       "      <td>1.658086</td>\n",
       "      <td>7.978739</td>\n",
       "      <td>0.000496</td>\n",
       "      <td>1.892693</td>\n",
       "      <td>0.000105</td>\n",
       "      <td>0.000316</td>\n",
       "    </tr>\n",
       "    <tr>\n",
       "      <th>min</th>\n",
       "      <td>52.000000</td>\n",
       "      <td>1.000000</td>\n",
       "      <td>16.000000</td>\n",
       "      <td>2.000000</td>\n",
       "      <td>7.000000</td>\n",
       "      <td>32.494200</td>\n",
       "      <td>0.000000</td>\n",
       "      <td>0.000024</td>\n",
       "      <td>0.000000</td>\n",
       "      <td>0.000000</td>\n",
       "      <td>0.000000</td>\n",
       "      <td>0.000679</td>\n",
       "      <td>12.664900</td>\n",
       "      <td>31.110500</td>\n",
       "      <td>2.932300</td>\n",
       "      <td>6.000000</td>\n",
       "      <td>0.000276</td>\n",
       "      <td>2.000000</td>\n",
       "      <td>0.000000</td>\n",
       "      <td>0.000000</td>\n",
       "    </tr>\n",
       "    <tr>\n",
       "      <th>25%</th>\n",
       "      <td>2334.000000</td>\n",
       "      <td>3.000000</td>\n",
       "      <td>18.750000</td>\n",
       "      <td>8.000000</td>\n",
       "      <td>292.500000</td>\n",
       "      <td>76.177650</td>\n",
       "      <td>0.001262</td>\n",
       "      <td>0.000205</td>\n",
       "      <td>3.000000</td>\n",
       "      <td>0.000000</td>\n",
       "      <td>0.000145</td>\n",
       "      <td>0.002645</td>\n",
       "      <td>30.183975</td>\n",
       "      <td>51.313750</td>\n",
       "      <td>4.267075</td>\n",
       "      <td>17.000000</td>\n",
       "      <td>0.000695</td>\n",
       "      <td>5.000000</td>\n",
       "      <td>0.000000</td>\n",
       "      <td>0.000000</td>\n",
       "    </tr>\n",
       "    <tr>\n",
       "      <th>50%</th>\n",
       "      <td>4571.000000</td>\n",
       "      <td>4.000000</td>\n",
       "      <td>21.000000</td>\n",
       "      <td>13.000000</td>\n",
       "      <td>500.000000</td>\n",
       "      <td>104.392200</td>\n",
       "      <td>0.002454</td>\n",
       "      <td>0.000362</td>\n",
       "      <td>5.000000</td>\n",
       "      <td>0.000027</td>\n",
       "      <td>0.000294</td>\n",
       "      <td>0.003409</td>\n",
       "      <td>37.262800</td>\n",
       "      <td>61.935600</td>\n",
       "      <td>4.972450</td>\n",
       "      <td>21.000000</td>\n",
       "      <td>0.000921</td>\n",
       "      <td>6.000000</td>\n",
       "      <td>0.000000</td>\n",
       "      <td>0.000004</td>\n",
       "    </tr>\n",
       "    <tr>\n",
       "      <th>75%</th>\n",
       "      <td>6853.250000</td>\n",
       "      <td>5.000000</td>\n",
       "      <td>24.000000</td>\n",
       "      <td>24.000000</td>\n",
       "      <td>800.000000</td>\n",
       "      <td>138.205950</td>\n",
       "      <td>0.004959</td>\n",
       "      <td>0.000505</td>\n",
       "      <td>6.000000</td>\n",
       "      <td>0.000096</td>\n",
       "      <td>0.000492</td>\n",
       "      <td>0.004006</td>\n",
       "      <td>49.700000</td>\n",
       "      <td>75.382925</td>\n",
       "      <td>5.910475</td>\n",
       "      <td>26.000000</td>\n",
       "      <td>0.001264</td>\n",
       "      <td>7.250000</td>\n",
       "      <td>0.000047</td>\n",
       "      <td>0.000151</td>\n",
       "    </tr>\n",
       "    <tr>\n",
       "      <th>max</th>\n",
       "      <td>9253.000000</td>\n",
       "      <td>7.000000</td>\n",
       "      <td>41.000000</td>\n",
       "      <td>70.000000</td>\n",
       "      <td>10000.000000</td>\n",
       "      <td>389.831400</td>\n",
       "      <td>0.038416</td>\n",
       "      <td>0.001015</td>\n",
       "      <td>10.000000</td>\n",
       "      <td>0.001164</td>\n",
       "      <td>0.002129</td>\n",
       "      <td>0.006654</td>\n",
       "      <td>154.800000</td>\n",
       "      <td>150.295100</td>\n",
       "      <td>17.761900</td>\n",
       "      <td>48.000000</td>\n",
       "      <td>0.002946</td>\n",
       "      <td>13.000000</td>\n",
       "      <td>0.000606</td>\n",
       "      <td>0.002443</td>\n",
       "    </tr>\n",
       "  </tbody>\n",
       "</table>\n",
       "</div>"
      ],
      "text/plain": [
       "            GameID  LeagueIndex         Age  HoursPerWeek    TotalHours  \\\n",
       "count   200.000000   200.000000  200.000000    200.000000    200.000000   \n",
       "mean   4600.235000     4.045000   21.795000     16.820000    737.040000   \n",
       "std    2716.860217     1.498064    4.653088     11.533983    974.074527   \n",
       "min      52.000000     1.000000   16.000000      2.000000      7.000000   \n",
       "25%    2334.000000     3.000000   18.750000      8.000000    292.500000   \n",
       "50%    4571.000000     4.000000   21.000000     13.000000    500.000000   \n",
       "75%    6853.250000     5.000000   24.000000     24.000000    800.000000   \n",
       "max    9253.000000     7.000000   41.000000     70.000000  10000.000000   \n",
       "\n",
       "              APM  SelectByHotkeys  AssignToHotkeys  UniqueHotkeys  \\\n",
       "count  200.000000       200.000000       200.000000     200.000000   \n",
       "mean   114.323439         0.004178         0.000369       4.410000   \n",
       "std     53.682694         0.005371         0.000202       2.508658   \n",
       "min     32.494200         0.000000         0.000024       0.000000   \n",
       "25%     76.177650         0.001262         0.000205       3.000000   \n",
       "50%    104.392200         0.002454         0.000362       5.000000   \n",
       "75%    138.205950         0.004959         0.000505       6.000000   \n",
       "max    389.831400         0.038416         0.001015      10.000000   \n",
       "\n",
       "       MinimapAttacks  MinimapRightClicks  NumberOfPACs  GapBetweenPACs  \\\n",
       "count      200.000000          200.000000    200.000000      200.000000   \n",
       "mean         0.000083            0.000367      0.003397       42.117125   \n",
       "std          0.000153            0.000328      0.001000       18.632383   \n",
       "min          0.000000            0.000000      0.000679       12.664900   \n",
       "25%          0.000000            0.000145      0.002645       30.183975   \n",
       "50%          0.000027            0.000294      0.003409       37.262800   \n",
       "75%          0.000096            0.000492      0.004006       49.700000   \n",
       "max          0.001164            0.002129      0.006654      154.800000   \n",
       "\n",
       "       ActionLatency  ActionsInPAC  TotalMapExplored  WorkersMade  \\\n",
       "count     200.000000    200.000000        200.000000   200.000000   \n",
       "mean       65.307576      5.260223         21.945000     0.001033   \n",
       "std        20.332117      1.658086          7.978739     0.000496   \n",
       "min        31.110500      2.932300          6.000000     0.000276   \n",
       "25%        51.313750      4.267075         17.000000     0.000695   \n",
       "50%        61.935600      4.972450         21.000000     0.000921   \n",
       "75%        75.382925      5.910475         26.000000     0.001264   \n",
       "max       150.295100     17.761900         48.000000     0.002946   \n",
       "\n",
       "       UniqueUnitsMade  ComplexUnitsMade  ComplexAbilitiesUsed  \n",
       "count       200.000000        200.000000            200.000000  \n",
       "mean          6.375000          0.000047              0.000135  \n",
       "std           1.892693          0.000105              0.000316  \n",
       "min           2.000000          0.000000              0.000000  \n",
       "25%           5.000000          0.000000              0.000000  \n",
       "50%           6.000000          0.000000              0.000004  \n",
       "75%           7.250000          0.000047              0.000151  \n",
       "max          13.000000          0.000606              0.002443  "
      ]
     },
     "execution_count": 9,
     "metadata": {},
     "output_type": "execute_result"
    }
   ],
   "source": [
    "df.describe()"
   ]
  },
  {
   "cell_type": "markdown",
   "metadata": {},
   "source": [
    "**Extract the `APM` vector from the data set.**"
   ]
  },
  {
   "cell_type": "code",
   "execution_count": 16,
   "metadata": {},
   "outputs": [],
   "source": [
    "apm = df['APM']"
   ]
  },
  {
   "cell_type": "markdown",
   "metadata": {},
   "source": [
    "**Plot the distribution of `APM` with a histogram.**"
   ]
  },
  {
   "cell_type": "code",
   "execution_count": 17,
   "metadata": {},
   "outputs": [
    {
     "data": {
      "text/plain": [
       "<matplotlib.axes._subplots.AxesSubplot at 0xc3ab898>"
      ]
     },
     "execution_count": 17,
     "metadata": {},
     "output_type": "execute_result"
    },
    {
     "data": {
      "image/png": "[encoded data removed]",
      "text/plain": [
       "<matplotlib.figure.Figure at 0xc2c1860>"
      ]
     },
     "metadata": {
      "image/png": {
       "height": 244,
       "width": 408
      }
     },
     "output_type": "display_data"
    }
   ],
   "source": [
    "apm.hist()"
   ]
  },
  {
   "cell_type": "markdown",
   "metadata": {},
   "source": [
    "**Let's write a function for the nonparametric bootstrap procedure.**\n",
    "\n",
    "The function will take three arguments:\n",
    "- The sample.\n",
    "- The function to calculate the statistic of interest.\n",
    "- The number of iterations.\n",
    "\n",
    "The function should return a vector of the \"bootstrapped\" statistics. Refer to the pseudocode above. Remember that the random sampling must be done **with replacement** and the random sample must be the same size as the original sample."
   ]
  },
  {
   "cell_type": "code",
   "execution_count": 14,
   "metadata": {},
   "outputs": [],
   "source": [
    "def bootstrap(sample, stat_func, iters=1000):\n",
    "    boots = []\n",
    "    for i in range(iters):\n",
    "        random_sample = np.random.choice(sample, replace=True, size=len(sample))\n",
    "        stat = stat_func(random_sample)\n",
    "        boots.append(stat)\n",
    "    return boots"
   ]
  },
  {
   "cell_type": "code",
   "execution_count": null,
   "metadata": {},
   "outputs": [],
   "source": [
    "def bootstrap(sample, stat_func, iters=1000):\n",
    "    boots = []\n",
    "    for i in range(iters):\n",
    "        random_sample = np.random.choice(sample, replace=True, size=len(sample))\n",
    "        stat = stat_func(random_sample)\n",
    "        boots.append(stat)\n",
    "    return boots"
   ]
  },
  {
   "cell_type": "markdown",
   "metadata": {},
   "source": [
    "**Using our bootstrapping function with 1,000 iterations, let's calculate the 95% confidence interval for the mean `APM`.**\n",
    "\n",
    "Remember that, for a 95% confidence interval, we will want to find the 2.5th percentile bootstrapped mean and the 97.5th percentile bootstrapped mean (corresponding to a threshold of 0.05).\n",
    "\n",
    "The [`.scipy.stats.scoreatpercentile()`](https://docs.scipy.org/doc/scipy-0.14.0/reference/generated/scipy.stats.scoreatpercentile.html) function is useful for finding the values at these percentiles."
   ]
  },
  {
   "cell_type": "code",
   "execution_count": 18,
   "metadata": {},
   "outputs": [
    {
     "name": "stdout",
     "output_type": "stream",
     "text": [
      "106.63081995000002 114.323439 122.52362527499999\n"
     ]
    }
   ],
   "source": [
    "apm_boot = bootstrap(apm, np.mean)\n",
    "\n",
    "apm_lower = stats.scoreatpercentile(apm_boot, 2.5)\n",
    "apm_upper = stats.scoreatpercentile(apm_boot, 97.5)\n",
    "\n",
    "print apm_lower, np.mean(apm), apm_upper"
   ]
  },
  {
   "cell_type": "markdown",
   "metadata": {},
   "source": [
    "<a id='compare-to-classic'></a>\n",
    "\n",
    "### Comparing Bootstrapped to Standard Confidence Intervals\n",
    "\n",
    "---\n",
    "\n",
    "The classic formula for calculating the confidence interval bounds for the sample mean is:\n",
    "\n",
    "### $$ [\\; \\bar{x} + z_{\\alpha/2}\\frac{s}{\\sqrt{n}},\\; \\bar{x} + z_{1-\\alpha/2} \\frac{s}{\\sqrt{n}} ]$$\n",
    "\n",
    "In our case, $\\alpha = 0.05$. Filling in the appropriate z-scores according to this threshold, we have:\n",
    "\n",
    "### $$ [\\; \\bar{x} -1.96 \\frac{s}{\\sqrt{n}},\\; \\bar{x} + 1.96 \\frac{s}{\\sqrt{n}} ]$$\n",
    "\n",
    "**Calculate the confidence interval for the mean `APM` using the formula above and compare it to our bootstrapped confidence interval.**"
   ]
  },
  {
   "cell_type": "code",
   "execution_count": 19,
   "metadata": {},
   "outputs": [
    {
     "name": "stdout",
     "output_type": "stream",
     "text": [
      "106.90202067216315 114.323439 121.74485732783684\n"
     ]
    }
   ],
   "source": [
    "std = np.std(apm)\n",
    "sqrtn = np.sqrt(len(apm))\n",
    "\n",
    "apm_lower = np.mean(apm) - 1.96*(std/sqrtn)\n",
    "apm_upper = np.mean(apm) + 1.96*(std/sqrtn)\n",
    "\n",
    "print apm_lower, np.mean(apm), apm_upper"
   ]
  },
  {
   "cell_type": "markdown",
   "metadata": {},
   "source": [
    "<a id='bootstrap-median'></a>\n",
    "\n",
    "### Bootstrapping the Median\n",
    "\n",
    "---\n",
    "\n",
    "The bootstrapping procedure is not particularly useful when it comes to estimating the confidence interval surrounding the sample mean, as this mean already has helpful distributional properties. \n",
    "\n",
    "The bootstrap becomes much more useful when we need to calculate our uncertainty about statistics without straightforward formulas or ones with unreasonably strict assumptions. The median is one such statistic. \n",
    "\n",
    "**Here's the formula for finding the sample error of the median (to use when calculating the confidence interval surrounding the median):**\n",
    "\n",
    "### $$ \\text{s.e. median} = 1.2533 \\cdot \\text{s.e. mean} $$\n",
    "\n",
    "This is a function of the sample error of the mean and uses a heuristic multiplier, 1.2533. Furthermore, it requires these assumptions to work:\n",
    "\n",
    "1. $ N $ is large.\n",
    "2. The sample of measurements are drawn from a normally distributed population.\n",
    "\n",
    "**Check:** What about these assumptions is impractical?\n",
    "\n",
    "---\n",
    "\n",
    "The second assumption is strict — many distributions are not normally distributed. Furthermore, what tangible benefit do we get from calculating the median over the mean if we know ahead of time that the population is normally distributed?\n",
    "\n",
    "The median is much more useful when we suspect a non-normally distributed population.\n",
    "\n",
    "\n",
    "**Plot the distribution of `APM` from the Starcraft data using a vertical line to indicate the median.**"
   ]
  },
  {
   "cell_type": "code",
   "execution_count": 20,
   "metadata": {},
   "outputs": [
    {
     "data": {
      "text/plain": [
       "<matplotlib.lines.Line2D at 0xc251a90>"
      ]
     },
     "execution_count": 20,
     "metadata": {},
     "output_type": "execute_result"
    },
    {
     "data": {
      "image/png": "[encoded data removed]",
      "text/plain": [
       "<matplotlib.figure.Figure at 0xc251630>"
      ]
     },
     "metadata": {
      "image/png": {
       "height": 260,
       "width": 408
      }
     },
     "output_type": "display_data"
    }
   ],
   "source": [
    "apm_median = np.median(apm)\n",
    "ax = sns.distplot(apm, bins=25, kde=False)\n",
    "ax.axvline(apm_median, lw=2.5, ls='dashed', color='black')"
   ]
  },
  {
   "cell_type": "markdown",
   "metadata": {},
   "source": [
    "#### Calculate a 99% confidence interval for the median determined with the formula above.\n",
    "\n",
    "The associated z-score magnitude is 2.576."
   ]
  },
  {
   "cell_type": "code",
   "execution_count": 21,
   "metadata": {},
   "outputs": [
    {
     "name": "stdout",
     "output_type": "stream",
     "text": [
      "92.16768213849187 104.3922 116.61671786150814\n"
     ]
    }
   ],
   "source": [
    "se_mean = np.std(apm)/np.sqrt(len(apm))\n",
    "se_median = se_mean*1.2533\n",
    "\n",
    "apm_med_lower = np.median(apm) - 2.576*se_median\n",
    "apm_med_upper = np.median(apm) + 2.576*se_median\n",
    "\n",
    "print apm_med_lower, np.median(apm), apm_med_upper"
   ]
  },
  {
   "cell_type": "markdown",
   "metadata": {},
   "source": [
    "**Bootstrap the 99% confidence interval for the median with 1,000 iterations.**"
   ]
  },
  {
   "cell_type": "code",
   "execution_count": 22,
   "metadata": {},
   "outputs": [
    {
     "name": "stdout",
     "output_type": "stream",
     "text": [
      "96.52564950000003 104.3922 115.2909\n"
     ]
    }
   ],
   "source": [
    "med_boot = bootstrap(apm, np.median)\n",
    "\n",
    "med_boot_lower = stats.scoreatpercentile(med_boot, 0.5)\n",
    "med_boot_upper = stats.scoreatpercentile(med_boot, 99.5)\n",
    "\n",
    "print med_boot_lower, np.median(apm), med_boot_upper"
   ]
  },
  {
   "cell_type": "markdown",
   "metadata": {},
   "source": [
    "**How does bootstrapping affect the distribution?**"
   ]
  },
  {
   "cell_type": "code",
   "execution_count": 23,
   "metadata": {},
   "outputs": [
    {
     "data": {
      "text/plain": [
       "<matplotlib.lines.Line2D at 0xd8b0588>"
      ]
     },
     "execution_count": 23,
     "metadata": {},
     "output_type": "execute_result"
    },
    {
     "data": {
      "image/png": "[encoded data removed]",
      "text/plain": [
       "<matplotlib.figure.Figure at 0xc7662b0>"
      ]
     },
     "metadata": {
      "image/png": {
       "height": 260,
       "width": 408
      }
     },
     "output_type": "display_data"
    }
   ],
   "source": [
    "ax = sns.distplot(apm, bins=20, kde=False)\n",
    "ax.axvline(np.median(apm), lw=3, color='black')\n",
    "ax.axvline(apm_med_lower, lw=2.5, color='black', ls='dashed')\n",
    "ax.axvline(apm_med_upper, lw=2.5, color='black', ls='dashed')\n",
    "ax.axvline(med_boot_lower, lw=2.5, color='darkgoldenrod', ls='dashed')\n",
    "ax.axvline(med_boot_upper, lw=2.5, color='darkgoldenrod', ls='dashed')"
   ]
  },
  {
   "cell_type": "markdown",
   "metadata": {},
   "source": [
    "<a id='theory'></a>\n",
    "\n",
    "### The Theory Behind the Bootstrap\n",
    "\n",
    "---\n",
    "\n",
    "The idea grounding the bootstrap is that inferences we draw from random samples of our sample data can in turn be applied as inferences about the overall population. This is because our random sample of the sample mirrors the fact that our sample was randomly drawn from the overall population. \n",
    "\n",
    "Essentially, bootstrap samples are to our original sample as our original sample is to the overall population.\n",
    "\n",
    "With a population parameter, $ \\theta $, and sample statistic $ \\hat{\\theta} $, we make an inference about the uncertainty surrounding our estimate of the population parameter.\n",
    "\n",
    "> We infer the population, $ \\theta $, and the uncertainty of the inference from sample $ \\hat{\\theta}_{s} $.\n",
    "\n",
    "With bootstrapping, we mirror this process *to make an inference about the uncertainty surrounding our \"estimate\" of the sample statistic.*\n",
    "\n",
    "> Infer the uncertainty of our sample statistic,  $ \\hat{\\theta}_{s} $, from multiple random bootstrap samples drawn from that sample.\n",
    "\n"
   ]
  },
  {
   "cell_type": "markdown",
   "metadata": {},
   "source": [
    "<a id='independent-practice'></a>\n",
    "\n",
    "### Independent Practice: Confidence Intervals of Correlations\n",
    "\n",
    "---\n",
    "\n",
    "Like the median, computing the confidence interval for the Pearson correlation coefficient is not straightforward without the bootstrap procedure. \n",
    "\n",
    "**Using the Starcraft data or another data set of your choice, calculate the correlation between two variables you are interested in and then compute the 95% and 99% confidence intervals of that correlation with the bootstrap.**"
   ]
  },
  {
   "cell_type": "code",
   "execution_count": 24,
   "metadata": {},
   "outputs": [
    {
     "data": {
      "text/html": [
       "<div>\n",
       "<style scoped>\n",
       "    .dataframe tbody tr th:only-of-type {\n",
       "        vertical-align: middle;\n",
       "    }\n",
       "\n",
       "    .dataframe tbody tr th {\n",
       "        vertical-align: top;\n",
       "    }\n",
       "\n",
       "    .dataframe thead th {\n",
       "        text-align: right;\n",
       "    }\n",
       "</style>\n",
       "<table border=\"1\" class=\"dataframe\">\n",
       "  <thead>\n",
       "    <tr style=\"text-align: right;\">\n",
       "      <th></th>\n",
       "      <th>GameID</th>\n",
       "      <th>LeagueIndex</th>\n",
       "      <th>Age</th>\n",
       "      <th>HoursPerWeek</th>\n",
       "      <th>TotalHours</th>\n",
       "      <th>APM</th>\n",
       "      <th>SelectByHotkeys</th>\n",
       "      <th>AssignToHotkeys</th>\n",
       "      <th>UniqueHotkeys</th>\n",
       "      <th>MinimapAttacks</th>\n",
       "      <th>MinimapRightClicks</th>\n",
       "      <th>NumberOfPACs</th>\n",
       "      <th>GapBetweenPACs</th>\n",
       "      <th>ActionLatency</th>\n",
       "      <th>ActionsInPAC</th>\n",
       "      <th>TotalMapExplored</th>\n",
       "      <th>WorkersMade</th>\n",
       "      <th>UniqueUnitsMade</th>\n",
       "      <th>ComplexUnitsMade</th>\n",
       "      <th>ComplexAbilitiesUsed</th>\n",
       "    </tr>\n",
       "  </thead>\n",
       "  <tbody>\n",
       "    <tr>\n",
       "      <th>0</th>\n",
       "      <td>2307</td>\n",
       "      <td>5</td>\n",
       "      <td>22.0</td>\n",
       "      <td>42</td>\n",
       "      <td>2800</td>\n",
       "      <td>190.7448</td>\n",
       "      <td>0.009310</td>\n",
       "      <td>0.000495</td>\n",
       "      <td>4</td>\n",
       "      <td>0.000000</td>\n",
       "      <td>0.000307</td>\n",
       "      <td>0.004519</td>\n",
       "      <td>41.6515</td>\n",
       "      <td>53.1774</td>\n",
       "      <td>6.0189</td>\n",
       "      <td>26</td>\n",
       "      <td>0.002319</td>\n",
       "      <td>7</td>\n",
       "      <td>0.000000</td>\n",
       "      <td>0.000017</td>\n",
       "    </tr>\n",
       "    <tr>\n",
       "      <th>1</th>\n",
       "      <td>9213</td>\n",
       "      <td>5</td>\n",
       "      <td>34.0</td>\n",
       "      <td>4</td>\n",
       "      <td>364</td>\n",
       "      <td>77.5512</td>\n",
       "      <td>0.002448</td>\n",
       "      <td>0.000486</td>\n",
       "      <td>7</td>\n",
       "      <td>0.000178</td>\n",
       "      <td>0.000340</td>\n",
       "      <td>0.002496</td>\n",
       "      <td>31.8431</td>\n",
       "      <td>65.8701</td>\n",
       "      <td>4.9740</td>\n",
       "      <td>22</td>\n",
       "      <td>0.000713</td>\n",
       "      <td>6</td>\n",
       "      <td>0.000000</td>\n",
       "      <td>0.000000</td>\n",
       "    </tr>\n",
       "    <tr>\n",
       "      <th>2</th>\n",
       "      <td>209</td>\n",
       "      <td>3</td>\n",
       "      <td>20.0</td>\n",
       "      <td>6</td>\n",
       "      <td>150</td>\n",
       "      <td>72.1410</td>\n",
       "      <td>0.001238</td>\n",
       "      <td>0.000394</td>\n",
       "      <td>5</td>\n",
       "      <td>0.000019</td>\n",
       "      <td>0.000272</td>\n",
       "      <td>0.003376</td>\n",
       "      <td>45.9164</td>\n",
       "      <td>68.8778</td>\n",
       "      <td>3.7528</td>\n",
       "      <td>24</td>\n",
       "      <td>0.000797</td>\n",
       "      <td>8</td>\n",
       "      <td>0.000122</td>\n",
       "      <td>0.000356</td>\n",
       "    </tr>\n",
       "    <tr>\n",
       "      <th>3</th>\n",
       "      <td>2958</td>\n",
       "      <td>3</td>\n",
       "      <td>16.0</td>\n",
       "      <td>6</td>\n",
       "      <td>200</td>\n",
       "      <td>91.3188</td>\n",
       "      <td>0.000897</td>\n",
       "      <td>0.000130</td>\n",
       "      <td>5</td>\n",
       "      <td>0.000026</td>\n",
       "      <td>0.000663</td>\n",
       "      <td>0.002664</td>\n",
       "      <td>34.5490</td>\n",
       "      <td>74.6732</td>\n",
       "      <td>6.3512</td>\n",
       "      <td>27</td>\n",
       "      <td>0.001287</td>\n",
       "      <td>7</td>\n",
       "      <td>0.000195</td>\n",
       "      <td>0.000273</td>\n",
       "    </tr>\n",
       "    <tr>\n",
       "      <th>4</th>\n",
       "      <td>5533</td>\n",
       "      <td>4</td>\n",
       "      <td>22.0</td>\n",
       "      <td>20</td>\n",
       "      <td>800</td>\n",
       "      <td>85.3884</td>\n",
       "      <td>0.001188</td>\n",
       "      <td>0.000381</td>\n",
       "      <td>3</td>\n",
       "      <td>0.000067</td>\n",
       "      <td>0.000179</td>\n",
       "      <td>0.002980</td>\n",
       "      <td>26.9697</td>\n",
       "      <td>58.0752</td>\n",
       "      <td>5.0827</td>\n",
       "      <td>15</td>\n",
       "      <td>0.001098</td>\n",
       "      <td>4</td>\n",
       "      <td>0.000000</td>\n",
       "      <td>0.000157</td>\n",
       "    </tr>\n",
       "  </tbody>\n",
       "</table>\n",
       "</div>"
      ],
      "text/plain": [
       "   GameID  LeagueIndex   Age  HoursPerWeek  TotalHours       APM  \\\n",
       "0    2307            5  22.0            42        2800  190.7448   \n",
       "1    9213            5  34.0             4         364   77.5512   \n",
       "2     209            3  20.0             6         150   72.1410   \n",
       "3    2958            3  16.0             6         200   91.3188   \n",
       "4    5533            4  22.0            20         800   85.3884   \n",
       "\n",
       "   SelectByHotkeys  AssignToHotkeys  UniqueHotkeys  MinimapAttacks  \\\n",
       "0         0.009310         0.000495              4        0.000000   \n",
       "1         0.002448         0.000486              7        0.000178   \n",
       "2         0.001238         0.000394              5        0.000019   \n",
       "3         0.000897         0.000130              5        0.000026   \n",
       "4         0.001188         0.000381              3        0.000067   \n",
       "\n",
       "   MinimapRightClicks  NumberOfPACs  GapBetweenPACs  ActionLatency  \\\n",
       "0            0.000307      0.004519         41.6515        53.1774   \n",
       "1            0.000340      0.002496         31.8431        65.8701   \n",
       "2            0.000272      0.003376         45.9164        68.8778   \n",
       "3            0.000663      0.002664         34.5490        74.6732   \n",
       "4            0.000179      0.002980         26.9697        58.0752   \n",
       "\n",
       "   ActionsInPAC  TotalMapExplored  WorkersMade  UniqueUnitsMade  \\\n",
       "0        6.0189                26     0.002319                7   \n",
       "1        4.9740                22     0.000713                6   \n",
       "2        3.7528                24     0.000797                8   \n",
       "3        6.3512                27     0.001287                7   \n",
       "4        5.0827                15     0.001098                4   \n",
       "\n",
       "   ComplexUnitsMade  ComplexAbilitiesUsed  \n",
       "0          0.000000              0.000017  \n",
       "1          0.000000              0.000000  \n",
       "2          0.000122              0.000356  \n",
       "3          0.000195              0.000273  \n",
       "4          0.000000              0.000157  "
      ]
     },
     "execution_count": 24,
     "metadata": {},
     "output_type": "execute_result"
    }
   ],
   "source": [
    "df.head(5)"
   ]
  },
  {
   "cell_type": "code",
   "execution_count": 76,
   "metadata": {},
   "outputs": [
    {
     "data": {
      "text/plain": [
       "-0.2268133381757401"
      ]
     },
     "execution_count": 76,
     "metadata": {},
     "output_type": "execute_result"
    }
   ],
   "source": [
    "corrtest = df[['Age','HoursPerWeek']]\n",
    "\n",
    "np.corrcoef(corrtest['Age'],corrtest['HoursPerWeek'])[0][1]"
   ]
  },
  {
   "cell_type": "code",
   "execution_count": 141,
   "metadata": {},
   "outputs": [],
   "source": [
    "def corrbootstrap(data, col1, col2, iters=1000):\n",
    "    boots = []\n",
    "    for i in range(iters):\n",
    "        sample = data.sample(n=len(data), replace=True)\n",
    "        corrcoef = np.corrcoef(sample.loc[:,col1],sample.loc[:,col2])[0][1]\n",
    "        boots.append(corrcoef)\n",
    "    return boots"
   ]
  },
  {
   "cell_type": "code",
   "execution_count": 143,
   "metadata": {},
   "outputs": [
    {
     "name": "stdout",
     "output_type": "stream",
     "text": [
      "-0.32633940612633644 -0.22284771539706288 -0.10680571213977509\n"
     ]
    }
   ],
   "source": [
    "corrboot = corrbootstrap(df, 'Age', 'HoursPerWeek')\n",
    "corrboot_lower = stats.scoreatpercentile(corrboot, 2.5)\n",
    "corrboot_upper = stats.scoreatpercentile(corrboot, 97.5)\n",
    "print corrboot_lower, np.mean(corrboot), corrboot_upper"
   ]
  }
 ],
 "metadata": {
  "kernelspec": {
   "display_name": "Python 2",
   "language": "python",
   "name": "python2"
  },
  "language_info": {
   "codemirror_mode": {
    "name": "ipython",
    "version": 2
   },
   "file_extension": ".py",
   "mimetype": "text/x-python",
   "name": "python",
   "nbconvert_exporter": "python",
   "pygments_lexer": "ipython2",
   "version": "2.7.14"
  }
 },
 "nbformat": 4,
 "nbformat_minor": 2
}
