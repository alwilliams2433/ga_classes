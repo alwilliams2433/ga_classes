{
 "cells": [
  {
   "cell_type": "markdown",
   "metadata": {},
   "source": [
    "<img src=\"http://imgur.com/1ZcRyrc.png\" style=\"float: left; margin: 20px; height: 55px\">\n",
    "\n",
    "# Practice SQL with `pandas`, Pt. 2\n",
    "\n",
    "_Authors: Sam Stack (DC)_\n",
    "\n",
    "---\n",
    "\n",
    "We've learned about relational databases and the language most use to query them: SQL.  \n",
    "\n",
    "In this lab, we are going to get more practice converting information to a SQL database, querying that data, and then analyzing it with Python."
   ]
  },
  {
   "cell_type": "code",
   "execution_count": 1,
   "metadata": {},
   "outputs": [],
   "source": [
    "# Necessary libraries:\n",
    "import pandas as pd\n",
    "import sqlite3\n",
    "from pandas.io import sql"
   ]
  },
  {
   "cell_type": "markdown",
   "metadata": {},
   "source": [
    "#### 1.  Read in the `EuroMart` `.csv` data.\n",
    "- 'EuroMart-ListOfOrders.csv'\n",
    "- 'EuroMart-OrderBreakdown.csv'\n",
    "- 'EuroMart-SalesTargets.csv'"
   ]
  },
  {
   "cell_type": "code",
   "execution_count": 2,
   "metadata": {},
   "outputs": [],
   "source": [
    "# Reading in the `.csv` to a DataFrame:\n",
    "orders = pd.read_csv('../datasets/csv/EuroMart-ListOfOrders.csv', encoding = 'utf-8')\n",
    "OBD =  pd.read_csv('../datasets/csv/EuroMart-OrderBreakdown.csv', encoding = 'utf-8')\n",
    "sales_targets =  pd.read_csv('../datasets/csv/EuroMart-SalesTargets.csv', encoding = 'utf-8')"
   ]
  },
  {
   "cell_type": "markdown",
   "metadata": {},
   "source": [
    "#### 2. Rename columns to remove any spaces."
   ]
  },
  {
   "cell_type": "code",
   "execution_count": 3,
   "metadata": {},
   "outputs": [],
   "source": [
    "# Renaming columns to remove spaces:\n",
    "orders.columns = ['order_id','order_date','customer_name','city','country','region',\n",
    "                        'segment','ship_date','ship_mode','state']\n",
    "OBD.columns = ['order_id','product_name','discount','sales','profit','quantity',\n",
    "          'category','sub-category']\n",
    " \n",
    "sales_targets.columns = ['month_of_order_date','category','target']"
   ]
  },
  {
   "cell_type": "markdown",
   "metadata": {},
   "source": [
    "#### 3. Remove dollar signs from the `sales` and `profit` columns in the `order breakdown` DataFrame.\n",
    "\n",
    "Convert the columns to float."
   ]
  },
  {
   "cell_type": "code",
   "execution_count": 4,
   "metadata": {},
   "outputs": [],
   "source": [
    "# Removing dollar signs from the `sales` and `profit` columns:\n",
    "OBD['sales'] = OBD['sales'].map(lambda x: x.strip('$'))\n",
    "OBD['sales'] = OBD['sales'].map(lambda x: float(x.replace(',','')))\n",
    "\n",
    "OBD['profit'] = OBD['profit'].map(lambda x: x.replace('$',''))\n",
    "OBD['profit'] = OBD['profit'].map(lambda x: float(x.replace(',','')))\n"
   ]
  },
  {
   "cell_type": "code",
   "execution_count": 5,
   "metadata": {},
   "outputs": [
    {
     "ename": "AttributeError",
     "evalue": "'float' object has no attribute 'strip'",
     "output_type": "error",
     "traceback": [
      "\u001b[1;31m---------------------------------------------------------------------------\u001b[0m",
      "\u001b[1;31mAttributeError\u001b[0m                            Traceback (most recent call last)",
      "\u001b[1;32m<ipython-input-5-414ae711c11e>\u001b[0m in \u001b[0;36m<module>\u001b[1;34m()\u001b[0m\n\u001b[1;32m----> 1\u001b[1;33m \u001b[0mOBD\u001b[0m\u001b[1;33m[\u001b[0m\u001b[1;34m'sales'\u001b[0m\u001b[1;33m]\u001b[0m \u001b[1;33m=\u001b[0m \u001b[0mOBD\u001b[0m\u001b[1;33m[\u001b[0m\u001b[1;34m'sales'\u001b[0m\u001b[1;33m]\u001b[0m\u001b[1;33m.\u001b[0m\u001b[0mapply\u001b[0m\u001b[1;33m(\u001b[0m\u001b[1;32mlambda\u001b[0m \u001b[0mx\u001b[0m\u001b[1;33m:\u001b[0m \u001b[0mx\u001b[0m\u001b[1;33m.\u001b[0m\u001b[0mstrip\u001b[0m\u001b[1;33m(\u001b[0m\u001b[1;34m'$'\u001b[0m\u001b[1;33m)\u001b[0m\u001b[1;33m)\u001b[0m\u001b[1;33m\u001b[0m\u001b[0m\n\u001b[0m",
      "\u001b[1;32mC:\\Users\\Samson\\AppData\\Local\\Continuum\\anaconda2\\lib\\site-packages\\pandas\\core\\series.pyc\u001b[0m in \u001b[0;36mapply\u001b[1;34m(self, func, convert_dtype, args, **kwds)\u001b[0m\n\u001b[0;32m   2549\u001b[0m             \u001b[1;32melse\u001b[0m\u001b[1;33m:\u001b[0m\u001b[1;33m\u001b[0m\u001b[0m\n\u001b[0;32m   2550\u001b[0m                 \u001b[0mvalues\u001b[0m \u001b[1;33m=\u001b[0m \u001b[0mself\u001b[0m\u001b[1;33m.\u001b[0m\u001b[0masobject\u001b[0m\u001b[1;33m\u001b[0m\u001b[0m\n\u001b[1;32m-> 2551\u001b[1;33m                 \u001b[0mmapped\u001b[0m \u001b[1;33m=\u001b[0m \u001b[0mlib\u001b[0m\u001b[1;33m.\u001b[0m\u001b[0mmap_infer\u001b[0m\u001b[1;33m(\u001b[0m\u001b[0mvalues\u001b[0m\u001b[1;33m,\u001b[0m \u001b[0mf\u001b[0m\u001b[1;33m,\u001b[0m \u001b[0mconvert\u001b[0m\u001b[1;33m=\u001b[0m\u001b[0mconvert_dtype\u001b[0m\u001b[1;33m)\u001b[0m\u001b[1;33m\u001b[0m\u001b[0m\n\u001b[0m\u001b[0;32m   2552\u001b[0m \u001b[1;33m\u001b[0m\u001b[0m\n\u001b[0;32m   2553\u001b[0m         \u001b[1;32mif\u001b[0m \u001b[0mlen\u001b[0m\u001b[1;33m(\u001b[0m\u001b[0mmapped\u001b[0m\u001b[1;33m)\u001b[0m \u001b[1;32mand\u001b[0m \u001b[0misinstance\u001b[0m\u001b[1;33m(\u001b[0m\u001b[0mmapped\u001b[0m\u001b[1;33m[\u001b[0m\u001b[1;36m0\u001b[0m\u001b[1;33m]\u001b[0m\u001b[1;33m,\u001b[0m \u001b[0mSeries\u001b[0m\u001b[1;33m)\u001b[0m\u001b[1;33m:\u001b[0m\u001b[1;33m\u001b[0m\u001b[0m\n",
      "\u001b[1;32mpandas/_libs/src/inference.pyx\u001b[0m in \u001b[0;36mpandas._libs.lib.map_infer\u001b[1;34m()\u001b[0m\n",
      "\u001b[1;32m<ipython-input-5-414ae711c11e>\u001b[0m in \u001b[0;36m<lambda>\u001b[1;34m(x)\u001b[0m\n\u001b[1;32m----> 1\u001b[1;33m \u001b[0mOBD\u001b[0m\u001b[1;33m[\u001b[0m\u001b[1;34m'sales'\u001b[0m\u001b[1;33m]\u001b[0m \u001b[1;33m=\u001b[0m \u001b[0mOBD\u001b[0m\u001b[1;33m[\u001b[0m\u001b[1;34m'sales'\u001b[0m\u001b[1;33m]\u001b[0m\u001b[1;33m.\u001b[0m\u001b[0mapply\u001b[0m\u001b[1;33m(\u001b[0m\u001b[1;32mlambda\u001b[0m \u001b[0mx\u001b[0m\u001b[1;33m:\u001b[0m \u001b[0mx\u001b[0m\u001b[1;33m.\u001b[0m\u001b[0mstrip\u001b[0m\u001b[1;33m(\u001b[0m\u001b[1;34m'$'\u001b[0m\u001b[1;33m)\u001b[0m\u001b[1;33m)\u001b[0m\u001b[1;33m\u001b[0m\u001b[0m\n\u001b[0m",
      "\u001b[1;31mAttributeError\u001b[0m: 'float' object has no attribute 'strip'"
     ]
    }
   ],
   "source": [
    "OBD['sales'] = OBD['sales'].apply(lambda x: x.strip('$'))"
   ]
  },
  {
   "cell_type": "code",
   "execution_count": null,
   "metadata": {},
   "outputs": [],
   "source": [
    "OBD['sales']"
   ]
  },
  {
   "cell_type": "markdown",
   "metadata": {},
   "source": [
    "#### 4. Create a SQL database called `EuroMart` and save the three DataFrames as SQL tables. "
   ]
  },
  {
   "cell_type": "code",
   "execution_count": null,
   "metadata": {},
   "outputs": [],
   "source": [
    "# Establishing a local DB connection:\n",
    "db_connection = sqlite3.connect('../datasets/sql/EuroMart.db.sqlite')\n",
    "\n",
    "# # Reading out DataFrames as SQL tables:\n",
    "orders.to_sql(name = 'orders', con = db_connection, if_exists = 'replace', index = False)\n",
    "OBD.to_sql(name = 'order_breakdown', con = db_connection, if_exists = 'replace', index = False)\n",
    "sales_targets.to_sql(name = 'sales_targets', con = db_connection, if_exists = 'replace', index = False)\n"
   ]
  },
  {
   "cell_type": "code",
   "execution_count": null,
   "metadata": {},
   "outputs": [],
   "source": [
    "# Getting the column Labels:  \n",
    "orders.head(1)"
   ]
  },
  {
   "cell_type": "code",
   "execution_count": null,
   "metadata": {},
   "outputs": [],
   "source": [
    "OBD.head(1)"
   ]
  },
  {
   "cell_type": "code",
   "execution_count": null,
   "metadata": {},
   "outputs": [],
   "source": [
    "sales_targets.head(1)"
   ]
  },
  {
   "cell_type": "markdown",
   "metadata": {},
   "source": [
    "#### 5. How many orders has each customer placed? "
   ]
  },
  {
   "cell_type": "code",
   "execution_count": null,
   "metadata": {},
   "outputs": [],
   "source": [
    "# solution 1\n",
    "query = '''\n",
    "        SELECT customer_name, count(*) \n",
    "        FROM orders \n",
    "        GROUP BY customer_name\n",
    "        ORDER BY count(*) DESC'''\n",
    "sql.read_sql(query, con = db_connection).head()"
   ]
  },
  {
   "cell_type": "code",
   "execution_count": null,
   "metadata": {},
   "outputs": [],
   "source": [
    "# solution 2\n",
    "\n",
    "# Getting all customer names and setting them to a `pandas` object:\n",
    "customers = sql.read_sql('SELECT customer_name FROM orders', con = db_connection)\n",
    "\n",
    "# Counting unique values in the list:\n",
    "customers['customer_name'].value_counts().head()"
   ]
  },
  {
   "cell_type": "markdown",
   "metadata": {},
   "source": [
    "> *If you're doubting your output, check using `pandas`.*"
   ]
  },
  {
   "cell_type": "markdown",
   "metadata": {},
   "source": [
    "#### 6. Create a query to return a table containing only geographic features from the `list of orders` table."
   ]
  },
  {
   "cell_type": "code",
   "execution_count": null,
   "metadata": {},
   "outputs": [],
   "source": [
    "# City, country, region, and state are all geographic.\n",
    "sql.read_sql('SELECT city, country, region, state FROM orders', con = db_connection).head()"
   ]
  },
  {
   "cell_type": "markdown",
   "metadata": {},
   "source": [
    "#### 7. Create a query to return a table containing all orders that had a negative profit from the `order breakdown` table."
   ]
  },
  {
   "cell_type": "code",
   "execution_count": null,
   "metadata": {},
   "outputs": [],
   "source": [
    "# Identifying any cell in the `profit` column with a '-' sign:\n",
    "sql.read_sql('''SELECT * \n",
    "                FROM order_breakdown \n",
    "                WHERE profit LIKE \"-%\"\n",
    "                ''', con = db_connection).head()\n",
    "# We had not converted values ints prior to writing this.  \n",
    "# It works with ints and objects!"
   ]
  },
  {
   "cell_type": "markdown",
   "metadata": {},
   "source": [
    "#### 8. Construct a query to return a table containing `customer_name` and `product_name`.  \n",
    "\n",
    "> **Note:** This will require a JOIN!"
   ]
  },
  {
   "cell_type": "code",
   "execution_count": null,
   "metadata": {},
   "outputs": [],
   "source": [
    "query = '''\n",
    "        SELECT orders.\"order_id\"\n",
    "              ,orders.\"customer_name\"\n",
    "              ,order_breakdown.\"product_name\"\n",
    "        FROM orders\n",
    "             LEFT JOIN order_breakdown ON orders.\"order_id\"= order_breakdown.\"order_id\"\n",
    "        '''\n",
    "\n",
    "sql.read_sql(query,con = db_connection).head()\n"
   ]
  },
  {
   "cell_type": "markdown",
   "metadata": {},
   "source": [
    "#### 9.  How many orders for \"office supplies\" (category) has Sweden made?\n",
    "\n",
    "> **Note:** From this point on, you'll probably be combining SQL and `pandas`, in that you would use SQL queries to gather relevant information and then `pandas` to analyze it."
   ]
  },
  {
   "cell_type": "code",
   "execution_count": null,
   "metadata": {},
   "outputs": [],
   "source": [
    "query = '''\n",
    "        SELECT  orders.\"order_id\"\n",
    "               ,orders.\"country\"\n",
    "               ,order_breakdown.\"category\"          \n",
    "        FROM orders\n",
    "                LEFT JOIN order_breakdown ON orders.\"order_id\"= order_breakdown.\"order_id\"\n",
    "        WHERE orders.\"country\" = \"Sweden\" \n",
    "              AND order_breakdown.\"category\"=\"Office Supplies\"\n",
    "        '''\n",
    "\n",
    "\n",
    "swedish_supplies = sql.read_sql(query, con = db_connection)\n",
    "len(swedish_supplies)"
   ]
  },
  {
   "cell_type": "markdown",
   "metadata": {},
   "source": [
    "#### 10. What were total sales for discounted products? "
   ]
  },
  {
   "cell_type": "code",
   "execution_count": null,
   "metadata": {},
   "outputs": [],
   "source": [
    "discount_sales = sql.read_sql('SELECT discount, sales FROM order_breakdown WHERE discount > 0',\n",
    "                              con = db_connection)\n",
    "\n",
    "discount_sales['sales'].sum()\n"
   ]
  },
  {
   "cell_type": "markdown",
   "metadata": {},
   "source": [
    "#### 11. What is the total quantity of objects sold for each country?"
   ]
  },
  {
   "cell_type": "code",
   "execution_count": null,
   "metadata": {},
   "outputs": [],
   "source": [
    "# solution with sql + pandas\n",
    "\n",
    "order_counts = sql.read_sql('''SELECT order_breakdown.\"quantity\", orders.\"country\"\n",
    "                            FROM orders\n",
    "                                 INNER JOIN order_breakdown \n",
    "                                     ON orders.\"order_id\"= order_breakdown.\"order_id\"\n",
    "                            ''',\n",
    "            con = db_connection)\n",
    "\n",
    "order_counts.groupby('country').sum()\n"
   ]
  },
  {
   "cell_type": "code",
   "execution_count": null,
   "metadata": {},
   "outputs": [],
   "source": [
    "# solution with sql\n",
    "\n",
    "query = '''\n",
    "        SELECT orders.\"country\", sum(order_breakdown.\"quantity\") AS sum\n",
    "        FROM orders\n",
    "             INNER JOIN order_breakdown\n",
    "                ON orders.\"order_id\"= order_breakdown.\"order_id\"\n",
    "        GROUP BY orders.\"country\"\n",
    "        '''\n",
    "\n",
    "sql.read_sql(query,con = db_connection)"
   ]
  },
  {
   "cell_type": "markdown",
   "metadata": {},
   "source": [
    "#### 12. In what countries were profits lowest? (Report the lowest 5-10)."
   ]
  },
  {
   "cell_type": "code",
   "execution_count": null,
   "metadata": {},
   "outputs": [],
   "source": [
    "# Solution with sql + pandas\n",
    "\n",
    "# Gather `country` and `profit`. \n",
    "profits = sql.read_sql('SELECT order_breakdown.\"profit\", orders.\"country\" '\n",
    "                        'FROM orders '\n",
    "                        'INNER JOIN order_breakdown '\n",
    "                        'ON orders.\"order_id\"= order_breakdown.\"order_id\" ',\n",
    "            con = db_connection)\n",
    "\n",
    "# GROUP BY country and sum with sort on `profit`.\n",
    "profits.groupby('country').sum().sort_values('profit').reset_index()[5:11]"
   ]
  },
  {
   "cell_type": "code",
   "execution_count": null,
   "metadata": {},
   "outputs": [],
   "source": [
    "# Solution with SQL ONLY \n",
    "# NOTE: ORDER BY AN AGGREGATE FUNCTION!\n",
    "\n",
    "query = '''\n",
    "        SELECT orders.\"country\", SUM(order_breakdown.\"profit\")\n",
    "        FROM orders\n",
    "                INNER JOIN order_breakdown\n",
    "                ON orders.\"order_id\"= order_breakdown.\"order_id\"\n",
    "        GROUP BY orders.\"country\"\n",
    "        ORDER BY SUM(order_breakdown.\"profit\") \n",
    "        '''\n",
    "sql.read_sql(query,con = db_connection)[5:11]"
   ]
  },
  {
   "cell_type": "markdown",
   "metadata": {},
   "source": [
    "#### 13. What counties have the best and worst sales-to-profit ratios?\n",
    "(Total sales divided by total profits).\n",
    "\n",
    "Essentially, this is asking us to determine the profit made for every dollar of product sold."
   ]
  },
  {
   "cell_type": "code",
   "execution_count": null,
   "metadata": {},
   "outputs": [],
   "source": [
    "# Total profits/Total sales\n",
    "# Grabbing profits, sales, and countries:\n",
    "spr = sql.read_sql('SELECT order_breakdown.\"profit\",order_breakdown.\"sales\", orders.\"country\" '\n",
    "                    'FROM orders '\n",
    "                    'INNER JOIN order_breakdown '\n",
    "                    'ON orders.\"order_id\"= order_breakdown.\"order_id\" ',\n",
    "            con = db_connection)\n",
    "\n",
    "# Summing profits and sales by country:\n",
    "spr2 = spr.groupby('country').sum().sort_values('profit')\n",
    "\n",
    "# Creating the ratio column:\n",
    "spr2['ratio'] = spr2['profit']/spr2['sales']\n",
    "\n",
    "# Sorting by ratio column:\n",
    "spr2.sort_values('ratio', ascending = False)"
   ]
  },
  {
   "cell_type": "code",
   "execution_count": null,
   "metadata": {},
   "outputs": [],
   "source": [
    "query = '''\n",
    "        SELECT orders.\"country\"\n",
    "              ,SUM(order_breakdown.\"profit\") / SUM(order_breakdown.\"sales\")  AS ps_ratio\n",
    "        FROM orders\n",
    "        INNER JOIN order_breakdown\n",
    "        ON orders.\"order_id\"= order_breakdown.\"order_id\" \n",
    "        GROUP BY orders.\"country\"\n",
    "        ORDER BY SUM(order_breakdown.\"profit\") / SUM(order_breakdown.\"sales\")\n",
    "        '''\n",
    "data = sql.read_sql(query, con = db_connection)\n",
    "print(data.head(1))\n",
    "print(data.tail(1))"
   ]
  },
  {
   "cell_type": "markdown",
   "metadata": {},
   "source": [
    "#### 14. What shipping method is most commonly used for \"bookcases\" (sub-category)?"
   ]
  },
  {
   "cell_type": "code",
   "execution_count": null,
   "metadata": {},
   "outputs": [],
   "source": [
    "sql.read_sql('SELECT orders.\"ship_mode\",order_breakdown.\"sub-category\"'\n",
    "            'FROM orders '\n",
    "            'INNER JOIN order_breakdown '\n",
    "            'ON orders.\"order_id\"= order_breakdown.\"order_id\" '\n",
    "            'WHERE \"sub-category\" = \"Bookcases\"' ,\n",
    "            con = db_connection)['ship_mode'].value_counts()\n",
    "\n"
   ]
  },
  {
   "cell_type": "markdown",
   "metadata": {},
   "source": [
    "#### 15. Which city in the `orders` table generated the highest net sales? (List all cities and countries in descending order by net sales)."
   ]
  },
  {
   "cell_type": "code",
   "execution_count": null,
   "metadata": {},
   "outputs": [],
   "source": [
    "sql.read_sql('SELECT orders.\"city\",orders.\"country\", order_breakdown.\"sales\"'\n",
    "                'FROM orders '\n",
    "                'INNER JOIN order_breakdown '\n",
    "                'ON orders.\"order_id\"= order_breakdown.\"order_id\" ',\n",
    "con = db_connection).groupby(['city','country']).sum().sort_values('sales', ascending = False)"
   ]
  },
  {
   "cell_type": "markdown",
   "metadata": {},
   "source": [
    "####  BONUS: Create a column called `shipping_delay` in the `orders` table that contains the difference in days between `order_date` and `ship_date`."
   ]
  },
  {
   "cell_type": "code",
   "execution_count": null,
   "metadata": {},
   "outputs": [],
   "source": [
    "# Converting columns to datetime objects from objects:\n",
    "orders['order_date'] = pd.to_datetime(orders['order_date'])\n",
    "orders['ship_date'] = pd.to_datetime(orders['ship_date'])"
   ]
  },
  {
   "cell_type": "code",
   "execution_count": null,
   "metadata": {},
   "outputs": [],
   "source": [
    "# Engineering a feature that counts the difference in days:\n",
    "orders['ship_delay'] = (orders['ship_date']-orders['order_date']).astype('timedelta64[h]')/24\n",
    "\n",
    "# Or, just use `timedelta64[D]` to get days.\n"
   ]
  },
  {
   "cell_type": "markdown",
   "metadata": {},
   "source": [
    "#### BONUS: Update your `orders` table in your SQLite3 DB to include the `shipping_delay` feature."
   ]
  },
  {
   "cell_type": "code",
   "execution_count": null,
   "metadata": {},
   "outputs": [],
   "source": [
    "# Updating and replacing the `order` data table:\n",
    "orders.to_sql(name = 'orders', con = db_connection, if_exists = 'replace', index = False)\n"
   ]
  },
  {
   "cell_type": "markdown",
   "metadata": {},
   "source": [
    "#### BONUS: Which product category has the highest average `shipping_delay`?"
   ]
  },
  {
   "cell_type": "code",
   "execution_count": null,
   "metadata": {},
   "outputs": [],
   "source": [
    "sql.read_sql('SELECT orders.\"ship_delay\", order_breakdown.\"category\"'\n",
    "            'FROM orders '\n",
    "            'INNER JOIN order_breakdown '\n",
    "            'ON orders.\"order_id\"= order_breakdown.\"order_id\" ',\n",
    "            con = db_connection).groupby('category').mean()"
   ]
  },
  {
   "cell_type": "markdown",
   "metadata": {},
   "source": [
    "### Challenge\n",
    "\n",
    "**In which months and categories were sales targets exceeded?**\n",
    "\n",
    "---\n",
    "\n",
    "This may require a considerable amount of data processing."
   ]
  },
  {
   "cell_type": "code",
   "execution_count": null,
   "metadata": {},
   "outputs": [],
   "source": [
    "# First I'm going to extract the information I need using SQL:\n",
    "month_sales = sql.read_sql('SELECT orders.\"order_date\", order_breakdown.\"sales\",order_breakdown.\"category\" '\n",
    "             'FROM orders '\n",
    "             'INNER JOIN order_breakdown '\n",
    "             'ON orders.\"order_id\" = order_breakdown.\"order_id\" ', \n",
    "             con = db_connection)\n",
    "\n",
    "# Convert `order_date` to a datetime object.\n",
    "month_sales[\"order_date\"] = pd.to_datetime(month_sales[\"order_date\"])\n",
    "\n",
    "# Create a column that aggregates dates in 'mon-yy' format.\n",
    "month_sales['mnth_yr'] = month_sales['order_date'].apply(lambda x: x.strftime('%b-%y'))\n"
   ]
  },
  {
   "cell_type": "code",
   "execution_count": null,
   "metadata": {},
   "outputs": [],
   "source": [
    "# Taking the new date objects and using them to GROUP BY to determine the sum of sales:\n",
    "month_sales = month_sales.groupby(['mnth_yr','category']).sales.sum().reset_index()\n"
   ]
  },
  {
   "cell_type": "code",
   "execution_count": null,
   "metadata": {},
   "outputs": [],
   "source": [
    "# Pushing this new DataFrame, which was created with monthly aggregates, back to a local SQL DB:\n",
    "month_sales.to_sql(name = 'sales_by_month', con = db_connection, if_exists = 'replace', index = False)"
   ]
  },
  {
   "cell_type": "code",
   "execution_count": null,
   "metadata": {},
   "outputs": [],
   "source": [
    "# Extracting information again, joining the newly created table and the `sales_targets` table:\n",
    "targets = sql.read_sql('SELECT sales_targets.\"month_of_order_date\", sales_targets.\"category\", sales_targets.\"target\",sales_by_month.\"sales\"'\n",
    "                      'FROM sales_targets '\n",
    "                      'INNER JOIN sales_by_month '\n",
    "                      'ON sales_targets.\"month_of_order_date\" = sales_by_month.\"mnth_yr\" AND '\n",
    "                      'sales_targets.\"category\" = sales_by_month.\"category\"',\n",
    "                      con = db_connection)\n",
    "# This is a double JOIN in that it matches values in two columns."
   ]
  },
  {
   "cell_type": "code",
   "execution_count": null,
   "metadata": {},
   "outputs": [],
   "source": [
    "# Removing string values and converting `targets` to a float dtype:\n",
    "targets['target'] = targets['target'].map(lambda x: x.replace('$',''))\n",
    "targets['target'] = (targets['target'].map(lambda x: x.replace(',',''))).astype(float)\n"
   ]
  },
  {
   "cell_type": "code",
   "execution_count": null,
   "metadata": {},
   "outputs": [],
   "source": [
    "# Creating a Boolean list that states whether or not sales exceeded their targets:\n",
    "exceeded = []\n",
    "for ind in range(len(targets['target'])):\n",
    "    if targets['target'][ind] > targets['sales'][ind]:\n",
    "        exceeded.append(False)\n",
    "    elif targets['target'][ind] < targets['sales'][ind]:\n",
    "        exceeded.append(True)"
   ]
  },
  {
   "cell_type": "code",
   "execution_count": null,
   "metadata": {},
   "outputs": [],
   "source": [
    "# Appending the list to the DataFrame as a column:\n",
    "targets['exceeded'] = exceeded"
   ]
  },
  {
   "cell_type": "code",
   "execution_count": null,
   "metadata": {},
   "outputs": [],
   "source": [
    "# Getting those values that exceed targets:\n",
    "targets[targets['exceeded'] == True]"
   ]
  },
  {
   "cell_type": "markdown",
   "metadata": {},
   "source": [
    "**In what months and categories did sales fail to exceed their targets?**"
   ]
  },
  {
   "cell_type": "code",
   "execution_count": null,
   "metadata": {},
   "outputs": [],
   "source": [
    "# Getting those values that did not exceed expectations:\n",
    "\n",
    "targets[targets['exceeded'] == False]"
   ]
  }
 ],
 "metadata": {
  "anaconda-cloud": {},
  "kernelspec": {
   "display_name": "Python 2",
   "language": "python",
   "name": "python2"
  },
  "language_info": {
   "codemirror_mode": {
    "name": "ipython",
    "version": 2
   },
   "file_extension": ".py",
   "mimetype": "text/x-python",
   "name": "python",
   "nbconvert_exporter": "python",
   "pygments_lexer": "ipython2",
   "version": "2.7.14"
  }
 },
 "nbformat": 4,
 "nbformat_minor": 1
}
