{
 "cells": [
  {
   "cell_type": "markdown",
   "metadata": {},
   "source": [
    "<img src=\"http://imgur.com/1ZcRyrc.png\" style=\"float: left; margin: 20px; height: 55px\">\n",
    "\n",
    "## Walk Through of Standard EDA Procedure\n",
    "\n",
    "_Authors: Kiefer Katovich (SF)_\n",
    "\n",
    "---\n",
    "\n",
    "This lesson uses Boston housing data to walk through a basic exploratory data analysis procedure, starting at the beginning with loading the data. \n",
    "\n",
    "Although in many — if not most cases — the EDA procedure will be considerably more involved, this should give you an idea of the basic workflow a data scientist would go through when taking a look at a new data set.\n",
    "\n",
    "**Note:** This lesson is strictly exploratory. We will not be formulating any hypotheses about the data or testing them. In many cases, you may have already formulated a hypothesis before even looking at your data, which could considerably affect your focus and choices in what to investigate.\n"
   ]
  },
  {
   "cell_type": "markdown",
   "metadata": {},
   "source": [
    "### Lesson Guide\n",
    "\n",
    "- [Description of the Boston Housing Data](#data_description)\n",
    "- [Loading the Data](#load_data)\n",
    "- [Describing the Basic Format of the Data and the Columns](#header)\n",
    "- [Dropping Unwanted Columns](#drop)\n",
    "- [Cleaning Corrupted Data](#clean)\n",
    "- [Counting Null Values and Dropping Rows](#drop_nulls)\n",
    "- [Renaming Columns](#rename)\n",
    "- [Describing Summary Statistics for Columns](#describe)\n",
    "- [Investigating Potential Outliers With Box Plots](#boxplots)\n",
    "- [Plotting All Variables Together](#plot_all)\n",
    "- [Standardizing Variables](#standardization)\n",
    "- [Plotting the Standardized Variables Together](#plot_all_rescaled)\n",
    "- [Looking at the Covariance or Correlation Between Variables](#cov_cor)\n"
   ]
  },
  {
   "cell_type": "markdown",
   "metadata": {},
   "source": [
    "<a id='data_description'></a>\n",
    "\n",
    "### Description of the Boston Housing Data\n",
    "\n",
    "---\n",
    "\n",
    "The columns of the data set are coded. The corresponding descriptions are:\n",
    "\n",
    "    CRIM: Per capita crime rate by town.\n",
    "    ZN: Proportion of residential land zoned for lots larger than 25,000 sq. ft. \n",
    "    INDUS: Proportion of non-retail business acres per town.\n",
    "    CHAS: Charles River dummy variable (= 1 if tract bounds river; 0 otherwise). \n",
    "    NOX: Nitric oxides concentration (parts per 10 million).\n",
    "    RM: Average number of rooms per dwelling.\n",
    "    AGE: Proportion of owner-occupied units built prior to 1940. \n",
    "    DIS: Weighted distances to five Boston employment centers.\n",
    "    RAD: Index of accessibility to radial highways.\n",
    "    TAX: Full-value property tax rate per 10,000 dollars.\n",
    "    PTRATIO: Pupil-teacher ratio by town.\n",
    "    B: 1000(Bk - 0.63)^2 where Bk is the proportion of blacks by town. \n",
    "    LSTAT: Percentage of lower-status population. \n",
    "    MEDV: Median value of owner-occupied homes in 1000s of dollars.\n",
    "    \n",
    "Each row in the data set represents a different suburb of Boston.\n",
    "\n",
    "These descriptions of shortened or coded variables are often called \"codebooks,\" or data dictionaries. They are typically included along with data sets you might find online in a separate file.\n"
   ]
  },
  {
   "cell_type": "markdown",
   "metadata": {},
   "source": [
    "**Load the packages.**"
   ]
  },
  {
   "cell_type": "code",
   "execution_count": 34,
   "metadata": {},
   "outputs": [],
   "source": [
    "import numpy as np\n",
    "import scipy.stats as stats\n",
    "import seaborn as sns\n",
    "import matplotlib.pyplot as plt\n",
    "import pandas as pd\n",
    "\n",
    "sns.set_style('darkgrid')\n",
    "\n",
    "%config InlineBackend.figure_format = 'retina'\n",
    "%matplotlib inline"
   ]
  },
  {
   "cell_type": "markdown",
   "metadata": {},
   "source": [
    "<a id='load_data'></a>\n",
    "\n",
    "### 1. Loading the Data\n",
    "\n",
    "---\n",
    "\n",
    "Import the `.csv` into a `pandas` DataFrame."
   ]
  },
  {
   "cell_type": "code",
   "execution_count": 35,
   "metadata": {},
   "outputs": [],
   "source": [
    "boston_file = './datasets/housing.csv'"
   ]
  },
  {
   "cell_type": "code",
   "execution_count": 36,
   "metadata": {},
   "outputs": [],
   "source": [
    "df = pd.read_csv(boston_file)"
   ]
  },
  {
   "cell_type": "markdown",
   "metadata": {},
   "source": [
    "<a id='header'></a>\n",
    "\n",
    "### 2. Describing the Basic Format of the Data and the Columns\n",
    "\n",
    "---\n",
    "\n",
    "Use the `.head()` function to examine what the loaded data looks like (as an option, you can also pass in an integer for the number of rows you want to see). This is a good initial step to get a feel for what is contained in the `.csv` and what problems may be present.\n",
    "\n",
    "The `.dtypes` attribute tells you the data type for each of your columns."
   ]
  },
  {
   "cell_type": "code",
   "execution_count": 37,
   "metadata": {},
   "outputs": [
    {
     "data": {
      "text/html": [
       "<div>\n",
       "<style scoped>\n",
       "    .dataframe tbody tr th:only-of-type {\n",
       "        vertical-align: middle;\n",
       "    }\n",
       "\n",
       "    .dataframe tbody tr th {\n",
       "        vertical-align: top;\n",
       "    }\n",
       "\n",
       "    .dataframe thead th {\n",
       "        text-align: right;\n",
       "    }\n",
       "</style>\n",
       "<table border=\"1\" class=\"dataframe\">\n",
       "  <thead>\n",
       "    <tr style=\"text-align: right;\">\n",
       "      <th></th>\n",
       "      <th>Unnamed: 0</th>\n",
       "      <th>CRIM</th>\n",
       "      <th>ZN</th>\n",
       "      <th>INDUS</th>\n",
       "      <th>CHAS</th>\n",
       "      <th>NOX</th>\n",
       "      <th>RM</th>\n",
       "      <th>AGE</th>\n",
       "      <th>DIS</th>\n",
       "      <th>RAD</th>\n",
       "      <th>TAX</th>\n",
       "      <th>PTRATIO</th>\n",
       "      <th>B</th>\n",
       "      <th>LSTAT</th>\n",
       "      <th>MEDV</th>\n",
       "    </tr>\n",
       "  </thead>\n",
       "  <tbody>\n",
       "    <tr>\n",
       "      <th>0</th>\n",
       "      <td>0</td>\n",
       "      <td>0.00632</td>\n",
       "      <td>18.0</td>\n",
       "      <td>2.31</td>\n",
       "      <td>0</td>\n",
       "      <td>0.538</td>\n",
       "      <td>6.575</td>\n",
       "      <td>65.2</td>\n",
       "      <td>4,09</td>\n",
       "      <td>1</td>\n",
       "      <td>296</td>\n",
       "      <td>15.3</td>\n",
       "      <td>396.90</td>\n",
       "      <td>4.98</td>\n",
       "      <td>24.0</td>\n",
       "    </tr>\n",
       "    <tr>\n",
       "      <th>1</th>\n",
       "      <td>1</td>\n",
       "      <td>0.02731</td>\n",
       "      <td>0.0</td>\n",
       "      <td>7.07</td>\n",
       "      <td>0</td>\n",
       "      <td>0.469</td>\n",
       "      <td>6.421</td>\n",
       "      <td>78.9</td>\n",
       "      <td>4,9671</td>\n",
       "      <td>2</td>\n",
       "      <td>242</td>\n",
       "      <td>17.8</td>\n",
       "      <td>396.90</td>\n",
       "      <td>9.14</td>\n",
       "      <td>21.6</td>\n",
       "    </tr>\n",
       "    <tr>\n",
       "      <th>2</th>\n",
       "      <td>2</td>\n",
       "      <td>0.02729</td>\n",
       "      <td>0.0</td>\n",
       "      <td>7.07</td>\n",
       "      <td>0</td>\n",
       "      <td>0.469</td>\n",
       "      <td>7.185</td>\n",
       "      <td>61.1</td>\n",
       "      <td>4,9671</td>\n",
       "      <td>2</td>\n",
       "      <td>242</td>\n",
       "      <td>17.8</td>\n",
       "      <td>392.83</td>\n",
       "      <td>4.03</td>\n",
       "      <td>34.7</td>\n",
       "    </tr>\n",
       "    <tr>\n",
       "      <th>3</th>\n",
       "      <td>3</td>\n",
       "      <td>0.03237</td>\n",
       "      <td>0.0</td>\n",
       "      <td>2.18</td>\n",
       "      <td>0</td>\n",
       "      <td>0.458</td>\n",
       "      <td>6.998</td>\n",
       "      <td>45.8</td>\n",
       "      <td>6,0622</td>\n",
       "      <td>3</td>\n",
       "      <td>222</td>\n",
       "      <td>18.7</td>\n",
       "      <td>394.63</td>\n",
       "      <td>2.94</td>\n",
       "      <td>33.4</td>\n",
       "    </tr>\n",
       "    <tr>\n",
       "      <th>4</th>\n",
       "      <td>4</td>\n",
       "      <td>0.06905</td>\n",
       "      <td>0.0</td>\n",
       "      <td>2.18</td>\n",
       "      <td>0</td>\n",
       "      <td>0.458</td>\n",
       "      <td>7.147</td>\n",
       "      <td>54.2</td>\n",
       "      <td>6,0622</td>\n",
       "      <td>3</td>\n",
       "      <td>222</td>\n",
       "      <td>18.7</td>\n",
       "      <td>396.90</td>\n",
       "      <td>5.33</td>\n",
       "      <td>36.2</td>\n",
       "    </tr>\n",
       "    <tr>\n",
       "      <th>5</th>\n",
       "      <td>5</td>\n",
       "      <td>0.02985</td>\n",
       "      <td>0.0</td>\n",
       "      <td>2.18</td>\n",
       "      <td>0</td>\n",
       "      <td>0.458</td>\n",
       "      <td>6.430</td>\n",
       "      <td>58.7</td>\n",
       "      <td>6,0622</td>\n",
       "      <td>3</td>\n",
       "      <td>222</td>\n",
       "      <td>18.7</td>\n",
       "      <td>394.12</td>\n",
       "      <td>5.21</td>\n",
       "      <td>28.7</td>\n",
       "    </tr>\n",
       "    <tr>\n",
       "      <th>6</th>\n",
       "      <td>6</td>\n",
       "      <td>0.08829</td>\n",
       "      <td>12.5</td>\n",
       "      <td>7.87</td>\n",
       "      <td>0</td>\n",
       "      <td>0.524</td>\n",
       "      <td>6.012</td>\n",
       "      <td>66.6</td>\n",
       "      <td>5,5605</td>\n",
       "      <td>5</td>\n",
       "      <td>311</td>\n",
       "      <td>15.2</td>\n",
       "      <td>395.60</td>\n",
       "      <td>12.43</td>\n",
       "      <td>22.9</td>\n",
       "    </tr>\n",
       "    <tr>\n",
       "      <th>7</th>\n",
       "      <td>7</td>\n",
       "      <td>0.14455</td>\n",
       "      <td>12.5</td>\n",
       "      <td>7.87</td>\n",
       "      <td>0</td>\n",
       "      <td>0.524</td>\n",
       "      <td>6.172</td>\n",
       "      <td>96.1</td>\n",
       "      <td>5,9505</td>\n",
       "      <td>5</td>\n",
       "      <td>311</td>\n",
       "      <td>15.2</td>\n",
       "      <td>396.90</td>\n",
       "      <td>19.15</td>\n",
       "      <td>27.1</td>\n",
       "    </tr>\n",
       "  </tbody>\n",
       "</table>\n",
       "</div>"
      ],
      "text/plain": [
       "   Unnamed: 0     CRIM    ZN  INDUS  CHAS    NOX     RM   AGE     DIS RAD  \\\n",
       "0           0  0.00632  18.0   2.31     0  0.538  6.575  65.2    4,09   1   \n",
       "1           1  0.02731   0.0   7.07     0  0.469  6.421  78.9  4,9671   2   \n",
       "2           2  0.02729   0.0   7.07     0  0.469  7.185  61.1  4,9671   2   \n",
       "3           3  0.03237   0.0   2.18     0  0.458  6.998  45.8  6,0622   3   \n",
       "4           4  0.06905   0.0   2.18     0  0.458  7.147  54.2  6,0622   3   \n",
       "5           5  0.02985   0.0   2.18     0  0.458  6.430  58.7  6,0622   3   \n",
       "6           6  0.08829  12.5   7.87     0  0.524  6.012  66.6  5,5605   5   \n",
       "7           7  0.14455  12.5   7.87     0  0.524  6.172  96.1  5,9505   5   \n",
       "\n",
       "   TAX  PTRATIO       B  LSTAT  MEDV  \n",
       "0  296     15.3  396.90   4.98  24.0  \n",
       "1  242     17.8  396.90   9.14  21.6  \n",
       "2  242     17.8  392.83   4.03  34.7  \n",
       "3  222     18.7  394.63   2.94  33.4  \n",
       "4  222     18.7  396.90   5.33  36.2  \n",
       "5  222     18.7  394.12   5.21  28.7  \n",
       "6  311     15.2  395.60  12.43  22.9  \n",
       "7  311     15.2  396.90  19.15  27.1  "
      ]
     },
     "execution_count": 37,
     "metadata": {},
     "output_type": "execute_result"
    }
   ],
   "source": [
    "df.head(8)"
   ]
  },
  {
   "cell_type": "code",
   "execution_count": 38,
   "metadata": {},
   "outputs": [
    {
     "data": {
      "text/plain": [
       "Unnamed: 0      int64\n",
       "CRIM          float64\n",
       "ZN            float64\n",
       "INDUS         float64\n",
       "CHAS            int64\n",
       "NOX           float64\n",
       "RM            float64\n",
       "AGE           float64\n",
       "DIS            object\n",
       "RAD            object\n",
       "TAX             int64\n",
       "PTRATIO       float64\n",
       "B             float64\n",
       "LSTAT         float64\n",
       "MEDV          float64\n",
       "dtype: object"
      ]
     },
     "execution_count": 38,
     "metadata": {},
     "output_type": "execute_result"
    }
   ],
   "source": [
    "df.dtypes"
   ]
  },
  {
   "cell_type": "code",
   "execution_count": 39,
   "metadata": {},
   "outputs": [
    {
     "name": "stdout",
     "output_type": "stream",
     "text": [
      "<class 'pandas.core.frame.DataFrame'>\n",
      "RangeIndex: 506 entries, 0 to 505\n",
      "Data columns (total 15 columns):\n",
      "Unnamed: 0    506 non-null int64\n",
      "CRIM          506 non-null float64\n",
      "ZN            506 non-null float64\n",
      "INDUS         506 non-null float64\n",
      "CHAS          506 non-null int64\n",
      "NOX           506 non-null float64\n",
      "RM            506 non-null float64\n",
      "AGE           506 non-null float64\n",
      "DIS           506 non-null object\n",
      "RAD           506 non-null object\n",
      "TAX           506 non-null int64\n",
      "PTRATIO       506 non-null float64\n",
      "B             506 non-null float64\n",
      "LSTAT         506 non-null float64\n",
      "MEDV          506 non-null float64\n",
      "dtypes: float64(10), int64(3), object(2)\n",
      "memory usage: 59.4+ KB\n"
     ]
    }
   ],
   "source": [
    "df.info()"
   ]
  },
  {
   "cell_type": "markdown",
   "metadata": {},
   "source": [
    "<a id='drop'></a>\n",
    "\n",
    "### 2. Dropping Unwanted Columns\n",
    "\n",
    "---\n",
    "\n",
    "There is a column labeled `Unnamed: 0`, which appears to simply number the rows. We already have the rows' number IDs in the DataFrame's index, so we don't need this column.\n",
    "\n",
    "We can use the built-in `.drop()` function to get rid of this column. When removing a column, we need to specify `axis=1` to the function.\n",
    "\n",
    "For the record, the `.index` attribute holds the row indices. This is the sister attribute to the `.columns` attribute that we work with more often.\n",
    "\n"
   ]
  },
  {
   "cell_type": "code",
   "execution_count": 40,
   "metadata": {},
   "outputs": [
    {
     "data": {
      "text/plain": [
       "0      0\n",
       "1      1\n",
       "2      2\n",
       "3      3\n",
       "4      4\n",
       "5      5\n",
       "6      6\n",
       "7      7\n",
       "8      8\n",
       "9      9\n",
       "10    10\n",
       "11    11\n",
       "12    12\n",
       "13    13\n",
       "14    14\n",
       "15    15\n",
       "16    16\n",
       "17    17\n",
       "18    18\n",
       "19    19\n",
       "Name: Unnamed: 0, dtype: int64"
      ]
     },
     "execution_count": 40,
     "metadata": {},
     "output_type": "execute_result"
    }
   ],
   "source": [
    "# Print out the `index` object and the first 20 items in the DataFrame's index \n",
    "# to see that we already have these row numbers:\n",
    "df['Unnamed: 0'].head(20)"
   ]
  },
  {
   "cell_type": "code",
   "execution_count": 41,
   "metadata": {},
   "outputs": [],
   "source": [
    "# Remove the unneccesary column:\n",
    "df = df.drop('Unnamed: 0', axis=1)"
   ]
  },
  {
   "cell_type": "code",
   "execution_count": 42,
   "metadata": {},
   "outputs": [
    {
     "data": {
      "text/html": [
       "<div>\n",
       "<style scoped>\n",
       "    .dataframe tbody tr th:only-of-type {\n",
       "        vertical-align: middle;\n",
       "    }\n",
       "\n",
       "    .dataframe tbody tr th {\n",
       "        vertical-align: top;\n",
       "    }\n",
       "\n",
       "    .dataframe thead th {\n",
       "        text-align: right;\n",
       "    }\n",
       "</style>\n",
       "<table border=\"1\" class=\"dataframe\">\n",
       "  <thead>\n",
       "    <tr style=\"text-align: right;\">\n",
       "      <th></th>\n",
       "      <th>CRIM</th>\n",
       "      <th>ZN</th>\n",
       "      <th>INDUS</th>\n",
       "      <th>CHAS</th>\n",
       "      <th>NOX</th>\n",
       "      <th>RM</th>\n",
       "      <th>AGE</th>\n",
       "      <th>DIS</th>\n",
       "      <th>RAD</th>\n",
       "      <th>TAX</th>\n",
       "      <th>PTRATIO</th>\n",
       "      <th>B</th>\n",
       "      <th>LSTAT</th>\n",
       "      <th>MEDV</th>\n",
       "    </tr>\n",
       "  </thead>\n",
       "  <tbody>\n",
       "    <tr>\n",
       "      <th>0</th>\n",
       "      <td>0.00632</td>\n",
       "      <td>18.0</td>\n",
       "      <td>2.31</td>\n",
       "      <td>0</td>\n",
       "      <td>0.538</td>\n",
       "      <td>6.575</td>\n",
       "      <td>65.2</td>\n",
       "      <td>4,09</td>\n",
       "      <td>1</td>\n",
       "      <td>296</td>\n",
       "      <td>15.3</td>\n",
       "      <td>396.90</td>\n",
       "      <td>4.98</td>\n",
       "      <td>24.0</td>\n",
       "    </tr>\n",
       "    <tr>\n",
       "      <th>1</th>\n",
       "      <td>0.02731</td>\n",
       "      <td>0.0</td>\n",
       "      <td>7.07</td>\n",
       "      <td>0</td>\n",
       "      <td>0.469</td>\n",
       "      <td>6.421</td>\n",
       "      <td>78.9</td>\n",
       "      <td>4,9671</td>\n",
       "      <td>2</td>\n",
       "      <td>242</td>\n",
       "      <td>17.8</td>\n",
       "      <td>396.90</td>\n",
       "      <td>9.14</td>\n",
       "      <td>21.6</td>\n",
       "    </tr>\n",
       "    <tr>\n",
       "      <th>2</th>\n",
       "      <td>0.02729</td>\n",
       "      <td>0.0</td>\n",
       "      <td>7.07</td>\n",
       "      <td>0</td>\n",
       "      <td>0.469</td>\n",
       "      <td>7.185</td>\n",
       "      <td>61.1</td>\n",
       "      <td>4,9671</td>\n",
       "      <td>2</td>\n",
       "      <td>242</td>\n",
       "      <td>17.8</td>\n",
       "      <td>392.83</td>\n",
       "      <td>4.03</td>\n",
       "      <td>34.7</td>\n",
       "    </tr>\n",
       "  </tbody>\n",
       "</table>\n",
       "</div>"
      ],
      "text/plain": [
       "      CRIM    ZN  INDUS  CHAS    NOX     RM   AGE     DIS RAD  TAX  PTRATIO  \\\n",
       "0  0.00632  18.0   2.31     0  0.538  6.575  65.2    4,09   1  296     15.3   \n",
       "1  0.02731   0.0   7.07     0  0.469  6.421  78.9  4,9671   2  242     17.8   \n",
       "2  0.02729   0.0   7.07     0  0.469  7.185  61.1  4,9671   2  242     17.8   \n",
       "\n",
       "        B  LSTAT  MEDV  \n",
       "0  396.90   4.98  24.0  \n",
       "1  396.90   9.14  21.6  \n",
       "2  392.83   4.03  34.7  "
      ]
     },
     "execution_count": 42,
     "metadata": {},
     "output_type": "execute_result"
    }
   ],
   "source": [
    "df.head(3)"
   ]
  },
  {
   "cell_type": "markdown",
   "metadata": {},
   "source": [
    "<a id='clean'></a>\n",
    "\n",
    "### 3. Cleaning the Corrupted Columns\n",
    "\n",
    "---\n",
    "\n",
    "You may have noticed that, when we examined the `dtypes` attribute, two of the columns had an \"object\" type, indicating that they were strings. However, we know from the data description above (and we can infer from the data's header) that `DIS` and `RAD` should in fact be numeric.\n",
    "\n",
    "It is pretty common to have numeric columns represented as strings in your data if some of the observations are corrupted. That's why it's important to always check your columns' data types.\n",
    "\n",
    "**3.A What's causing the `DIS` column to be encoded as string? Figure out a way to make sure the column is numeric while preserving its information.**\n",
    "\n",
    "**Tip**: The built-in `.map()` function on a column will apply a function to each of its elements."
   ]
  },
  {
   "cell_type": "code",
   "execution_count": 43,
   "metadata": {},
   "outputs": [
    {
     "data": {
      "text/plain": [
       "0      4,09\n",
       "1    4,9671\n",
       "2    4,9671\n",
       "Name: DIS, dtype: object"
      ]
     },
     "execution_count": 43,
     "metadata": {},
     "output_type": "execute_result"
    }
   ],
   "source": [
    "df['DIS'].head(3)\n",
    "#the commas are making the numbers read as string"
   ]
  },
  {
   "cell_type": "code",
   "execution_count": 44,
   "metadata": {},
   "outputs": [
    {
     "data": {
      "text/plain": [
       "0      409.0\n",
       "1    49671.0\n",
       "2    49671.0\n",
       "Name: DIS, dtype: float64"
      ]
     },
     "execution_count": 44,
     "metadata": {},
     "output_type": "execute_result"
    }
   ],
   "source": [
    "import re\n",
    "df['DIS'] = df['DIS'].map(lambda x: float(re.sub(',','',x)))\n",
    "df['DIS'].head(3)"
   ]
  },
  {
   "cell_type": "markdown",
   "metadata": {},
   "source": [
    "**3.B What is causing the `RAD` column to be encoded as string? Figure out a way to make sure the column is numeric while preserving its information.**\n",
    "\n",
    "**Tip**: You can put `np.nan` values in place of corrupted observations, which are numeric null values."
   ]
  },
  {
   "cell_type": "code",
   "execution_count": 45,
   "metadata": {},
   "outputs": [
    {
     "data": {
      "text/plain": [
       "array(['1', '2', '3', '5', '4', '?', '8', '6', '7', '24'], dtype=object)"
      ]
     },
     "execution_count": 45,
     "metadata": {},
     "output_type": "execute_result"
    }
   ],
   "source": [
    "df['RAD'].unique()\n",
    "# ? is making the observation corrupt"
   ]
  },
  {
   "cell_type": "code",
   "execution_count": 46,
   "metadata": {},
   "outputs": [
    {
     "data": {
      "text/plain": [
       "array([ 1.,  2.,  3.,  5.,  4., nan,  8.,  6.,  7., 24.])"
      ]
     },
     "execution_count": 46,
     "metadata": {},
     "output_type": "execute_result"
    }
   ],
   "source": [
    "df['RAD'] = pd.to_numeric(df['RAD'], errors='coerce')\n",
    "df['RAD'].unique()"
   ]
  },
  {
   "cell_type": "markdown",
   "metadata": {},
   "source": [
    "<a id='drop_nulls'></a>\n",
    "\n",
    "### 4. Counting Null Values and Dropping Rows\n",
    "\n",
    "---\n",
    "\n",
    "Having replaced the question marks with `np.nan` values, we know that there are some missing observations for the `RAD` column. \n",
    "\n",
    "When we start to build models with data, null values in observations are (almost) never allowed. It's important to always check how many observations are missing — and in which columns.\n",
    "\n",
    "A handy way to find out how many null values there are per column is with `pandas`.\n",
    "\n",
    "```python\n",
    "boston.isnull().sum()\n",
    "```\n",
    "\n",
    "The built-in `.isull()` function will convert the columns to Boolean `True` and `False` values (returning a new DataFrame); null values are indicated by `True`. \n",
    "\n",
    "Tacked on the end, the `.sum()` function will then sum these Boolean columns, and the total number of null values per column will be returned."
   ]
  },
  {
   "cell_type": "code",
   "execution_count": 48,
   "metadata": {},
   "outputs": [
    {
     "data": {
      "text/plain": [
       "CRIM        0\n",
       "ZN          0\n",
       "INDUS       0\n",
       "CHAS        0\n",
       "NOX         0\n",
       "RM          0\n",
       "AGE         0\n",
       "DIS         0\n",
       "RAD        40\n",
       "TAX         0\n",
       "PTRATIO     0\n",
       "B           0\n",
       "LSTAT       0\n",
       "MEDV        0\n",
       "dtype: int64"
      ]
     },
     "execution_count": 48,
     "metadata": {},
     "output_type": "execute_result"
    }
   ],
   "source": [
    "df.isnull().sum()"
   ]
  },
  {
   "cell_type": "markdown",
   "metadata": {},
   "source": [
    "**Drop the null values.** \n",
    "\n",
    "In this case, let's keep it simple and just drop the rows from the data set that contain null values. If a column has a lot of null values, it often makes more sense to drop the column entirely instead of the individual rows. In this case, however, we will just drop the rows.\n",
    "\n",
    "The `.dropna()` function will drop rows that have _**ANY**_ null values. Use this carefully, as you could drop more rows than you expect."
   ]
  },
  {
   "cell_type": "code",
   "execution_count": 49,
   "metadata": {},
   "outputs": [
    {
     "name": "stdout",
     "output_type": "stream",
     "text": [
      "<class 'pandas.core.frame.DataFrame'>\n",
      "Int64Index: 466 entries, 0 to 505\n",
      "Data columns (total 14 columns):\n",
      "CRIM       466 non-null float64\n",
      "ZN         466 non-null float64\n",
      "INDUS      466 non-null float64\n",
      "CHAS       466 non-null int64\n",
      "NOX        466 non-null float64\n",
      "RM         466 non-null float64\n",
      "AGE        466 non-null float64\n",
      "DIS        466 non-null float64\n",
      "RAD        466 non-null float64\n",
      "TAX        466 non-null int64\n",
      "PTRATIO    466 non-null float64\n",
      "B          466 non-null float64\n",
      "LSTAT      466 non-null float64\n",
      "MEDV       466 non-null float64\n",
      "dtypes: float64(12), int64(2)\n",
      "memory usage: 54.6 KB\n"
     ]
    }
   ],
   "source": [
    "df = df.dropna()\n",
    "df.info()"
   ]
  },
  {
   "cell_type": "markdown",
   "metadata": {},
   "source": [
    "<a id='rename'></a>\n",
    "\n",
    "### 5. Renaming Columns\n",
    "\n",
    "---\n",
    "\n",
    "Oftentimes, it's annoying to have to memorize what codes mean for columns, or reference the codebook whenever we want to know the meaning of a variable. So, it makes sense to rename columns more descriptively.\n",
    "\n",
    "There is more than one method for accomplishing this, but one easy way is to use the `.rename()` function.\n",
    "\n",
    "For reference, here are the column names and their descriptions again:\n",
    "\n",
    "    CRIM: Per capita crime rate by town.\n",
    "    ZN: Proportion of residential land zoned for lots larger than 25,000 sq. ft. \n",
    "    INDUS: Proportion of non-retail business acres per town.\n",
    "    CHAS: Charles River dummy variable (= 1 if tract bounds river; 0 otherwise). \n",
    "    NOX: Nitric oxides concentration (parts per 10 million).\n",
    "    RM: Average number of rooms per dwelling.\n",
    "    AGE: Proportion of owner-occupied units built prior to 1940. \n",
    "    DIS: Weighted distances to five Boston employment centers.\n",
    "    RAD: Index of accessibility to radial highways.\n",
    "    TAX: Full-value property tax rate per 10,000 dollars.\n",
    "    PTRATIO: Pupil-teacher ratio by town.\n",
    "    B: 1000(Bk - 0.63)^2 where Bk is the proportion of blacks by town. \n",
    "    LSTAT: Percentage of lower-status population. \n",
    "    MEDV: Median value of owner-occupied homes in 1000s of dollars."
   ]
  },
  {
   "cell_type": "code",
   "execution_count": 50,
   "metadata": {},
   "outputs": [],
   "source": [
    "col_dict = info = {'CRIM': 'per capita crime rate by town', \n",
    "          'ZN': 'proportion of residential land zoned for lots over 25,000 sq.ft',\n",
    "          'INDUS': 'proportion of non-retail business acres per town', \n",
    "          'CHAS': 'Charles River dummy variable (= 1 if tract bounds, river; 0 otherwise)', \n",
    "          'NOX': 'nitric oxides concentration (parts per 10 million)', \n",
    "          'RM': 'average number of rooms per dwelling', \n",
    "          'AGE': 'proportion of owner-occupied units built prior to 1940', \n",
    "          'DIS': 'weighted distances to five Boston employment centres', \n",
    "          'RAD': 'index of accessibility to radial highways',\n",
    "          'TAX': 'full-value property-tax rate per $10,000',\n",
    "          'PTRATIO': 'pupil-teacher ratio by town',\n",
    "          'B': '1000(Bk - 0.63)^2 where Bk is the proportion of blacks by town',\n",
    "          'LSTAT': '% lower status of the populattion', \n",
    "          'MEDV': 'Median value of owner-occupied homes in $1000s'}"
   ]
  },
  {
   "cell_type": "markdown",
   "metadata": {},
   "source": [
    "There two popular methods for renaming DataFrame columns:\n",
    "1. Using a _dictionary substitution_, which is useful if you only want to rename a few of the columns. This method uses the `.rename()` function.\n",
    "2. Using a _list replacement_, which is quicker than writing out a dictionary but requires a full list of names."
   ]
  },
  {
   "cell_type": "code",
   "execution_count": 94,
   "metadata": {},
   "outputs": [],
   "source": [
    "df.columns = [ 'crime', 'residential>2500', 'nonretailacres', 'river', 'NO2', 'roomsperdwell', 'owneroccupied', 'distemploy',\n",
    "              'highwayaccess', 'tax', 'pupiltoteacher', 'proportionblack', '%lowerstatus', 'medianval']"
   ]
  },
  {
   "cell_type": "code",
   "execution_count": 95,
   "metadata": {},
   "outputs": [
    {
     "data": {
      "text/html": [
       "<div>\n",
       "<style scoped>\n",
       "    .dataframe tbody tr th:only-of-type {\n",
       "        vertical-align: middle;\n",
       "    }\n",
       "\n",
       "    .dataframe tbody tr th {\n",
       "        vertical-align: top;\n",
       "    }\n",
       "\n",
       "    .dataframe thead th {\n",
       "        text-align: right;\n",
       "    }\n",
       "</style>\n",
       "<table border=\"1\" class=\"dataframe\">\n",
       "  <thead>\n",
       "    <tr style=\"text-align: right;\">\n",
       "      <th></th>\n",
       "      <th>crime</th>\n",
       "      <th>residential&gt;2500</th>\n",
       "      <th>nonretailacres</th>\n",
       "      <th>river</th>\n",
       "      <th>NO2</th>\n",
       "      <th>roomsperdwell</th>\n",
       "      <th>owneroccupied</th>\n",
       "      <th>distemploy</th>\n",
       "      <th>highwayaccess</th>\n",
       "      <th>tax</th>\n",
       "      <th>pupiltoteacher</th>\n",
       "      <th>proportionblack</th>\n",
       "      <th>%lowerstatus</th>\n",
       "      <th>medianval</th>\n",
       "    </tr>\n",
       "  </thead>\n",
       "  <tbody>\n",
       "    <tr>\n",
       "      <th>0</th>\n",
       "      <td>0.00632</td>\n",
       "      <td>18.0</td>\n",
       "      <td>2.31</td>\n",
       "      <td>0</td>\n",
       "      <td>0.538</td>\n",
       "      <td>6.575</td>\n",
       "      <td>65.2</td>\n",
       "      <td>409.0</td>\n",
       "      <td>1.0</td>\n",
       "      <td>296</td>\n",
       "      <td>15.3</td>\n",
       "      <td>396.90</td>\n",
       "      <td>4.98</td>\n",
       "      <td>24.0</td>\n",
       "    </tr>\n",
       "    <tr>\n",
       "      <th>1</th>\n",
       "      <td>0.02731</td>\n",
       "      <td>0.0</td>\n",
       "      <td>7.07</td>\n",
       "      <td>0</td>\n",
       "      <td>0.469</td>\n",
       "      <td>6.421</td>\n",
       "      <td>78.9</td>\n",
       "      <td>49671.0</td>\n",
       "      <td>2.0</td>\n",
       "      <td>242</td>\n",
       "      <td>17.8</td>\n",
       "      <td>396.90</td>\n",
       "      <td>9.14</td>\n",
       "      <td>21.6</td>\n",
       "    </tr>\n",
       "    <tr>\n",
       "      <th>2</th>\n",
       "      <td>0.02729</td>\n",
       "      <td>0.0</td>\n",
       "      <td>7.07</td>\n",
       "      <td>0</td>\n",
       "      <td>0.469</td>\n",
       "      <td>7.185</td>\n",
       "      <td>61.1</td>\n",
       "      <td>49671.0</td>\n",
       "      <td>2.0</td>\n",
       "      <td>242</td>\n",
       "      <td>17.8</td>\n",
       "      <td>392.83</td>\n",
       "      <td>4.03</td>\n",
       "      <td>34.7</td>\n",
       "    </tr>\n",
       "  </tbody>\n",
       "</table>\n",
       "</div>"
      ],
      "text/plain": [
       "     crime  residential>2500  nonretailacres  river    NO2  roomsperdwell  \\\n",
       "0  0.00632              18.0            2.31      0  0.538          6.575   \n",
       "1  0.02731               0.0            7.07      0  0.469          6.421   \n",
       "2  0.02729               0.0            7.07      0  0.469          7.185   \n",
       "\n",
       "   owneroccupied  distemploy  highwayaccess  tax  pupiltoteacher  \\\n",
       "0           65.2       409.0            1.0  296            15.3   \n",
       "1           78.9     49671.0            2.0  242            17.8   \n",
       "2           61.1     49671.0            2.0  242            17.8   \n",
       "\n",
       "   proportionblack  %lowerstatus  medianval  \n",
       "0           396.90          4.98       24.0  \n",
       "1           396.90          9.14       21.6  \n",
       "2           392.83          4.03       34.7  "
      ]
     },
     "execution_count": 95,
     "metadata": {},
     "output_type": "execute_result"
    }
   ],
   "source": [
    "df.head(3)"
   ]
  },
  {
   "cell_type": "markdown",
   "metadata": {},
   "source": [
    "<a id='describe'></a>\n",
    "\n",
    "### 6. Describing Summary Statistics for Columns\n",
    "\n",
    "---\n",
    "\n",
    "The `.describe()` function gives summary statistics for each of your variables. What are some, if any, oddities you notice about the variables, based on this output?"
   ]
  },
  {
   "cell_type": "code",
   "execution_count": 96,
   "metadata": {},
   "outputs": [
    {
     "data": {
      "text/html": [
       "<div>\n",
       "<style scoped>\n",
       "    .dataframe tbody tr th:only-of-type {\n",
       "        vertical-align: middle;\n",
       "    }\n",
       "\n",
       "    .dataframe tbody tr th {\n",
       "        vertical-align: top;\n",
       "    }\n",
       "\n",
       "    .dataframe thead th {\n",
       "        text-align: right;\n",
       "    }\n",
       "</style>\n",
       "<table border=\"1\" class=\"dataframe\">\n",
       "  <thead>\n",
       "    <tr style=\"text-align: right;\">\n",
       "      <th></th>\n",
       "      <th>crime</th>\n",
       "      <th>residential&gt;2500</th>\n",
       "      <th>nonretailacres</th>\n",
       "      <th>river</th>\n",
       "      <th>NO2</th>\n",
       "      <th>roomsperdwell</th>\n",
       "      <th>owneroccupied</th>\n",
       "      <th>distemploy</th>\n",
       "      <th>highwayaccess</th>\n",
       "      <th>tax</th>\n",
       "      <th>pupiltoteacher</th>\n",
       "      <th>proportionblack</th>\n",
       "      <th>%lowerstatus</th>\n",
       "      <th>medianval</th>\n",
       "    </tr>\n",
       "  </thead>\n",
       "  <tbody>\n",
       "    <tr>\n",
       "      <th>count</th>\n",
       "      <td>466.000000</td>\n",
       "      <td>466.000000</td>\n",
       "      <td>466.000000</td>\n",
       "      <td>466.000000</td>\n",
       "      <td>466.000000</td>\n",
       "      <td>466.000000</td>\n",
       "      <td>466.000000</td>\n",
       "      <td>466.000000</td>\n",
       "      <td>466.000000</td>\n",
       "      <td>466.000000</td>\n",
       "      <td>466.000000</td>\n",
       "      <td>466.000000</td>\n",
       "      <td>466.000000</td>\n",
       "      <td>466.000000</td>\n",
       "    </tr>\n",
       "    <tr>\n",
       "      <th>mean</th>\n",
       "      <td>3.326334</td>\n",
       "      <td>11.154506</td>\n",
       "      <td>11.144292</td>\n",
       "      <td>0.075107</td>\n",
       "      <td>0.555840</td>\n",
       "      <td>6.272489</td>\n",
       "      <td>68.504506</td>\n",
       "      <td>33870.045064</td>\n",
       "      <td>9.611588</td>\n",
       "      <td>410.049356</td>\n",
       "      <td>18.462876</td>\n",
       "      <td>358.207897</td>\n",
       "      <td>12.650129</td>\n",
       "      <td>22.484120</td>\n",
       "    </tr>\n",
       "    <tr>\n",
       "      <th>std</th>\n",
       "      <td>7.095767</td>\n",
       "      <td>22.731621</td>\n",
       "      <td>6.820913</td>\n",
       "      <td>0.263848</td>\n",
       "      <td>0.116818</td>\n",
       "      <td>0.696995</td>\n",
       "      <td>28.023878</td>\n",
       "      <td>23233.656022</td>\n",
       "      <td>8.735627</td>\n",
       "      <td>168.921219</td>\n",
       "      <td>2.167158</td>\n",
       "      <td>88.884020</td>\n",
       "      <td>7.068120</td>\n",
       "      <td>9.017586</td>\n",
       "    </tr>\n",
       "    <tr>\n",
       "      <th>min</th>\n",
       "      <td>0.006320</td>\n",
       "      <td>0.000000</td>\n",
       "      <td>0.740000</td>\n",
       "      <td>0.000000</td>\n",
       "      <td>0.389000</td>\n",
       "      <td>3.561000</td>\n",
       "      <td>6.000000</td>\n",
       "      <td>21.000000</td>\n",
       "      <td>1.000000</td>\n",
       "      <td>187.000000</td>\n",
       "      <td>12.600000</td>\n",
       "      <td>2.520000</td>\n",
       "      <td>1.730000</td>\n",
       "      <td>5.000000</td>\n",
       "    </tr>\n",
       "    <tr>\n",
       "      <th>25%</th>\n",
       "      <td>0.083235</td>\n",
       "      <td>0.000000</td>\n",
       "      <td>5.190000</td>\n",
       "      <td>0.000000</td>\n",
       "      <td>0.450000</td>\n",
       "      <td>5.884250</td>\n",
       "      <td>45.450000</td>\n",
       "      <td>17699.500000</td>\n",
       "      <td>4.000000</td>\n",
       "      <td>280.250000</td>\n",
       "      <td>17.400000</td>\n",
       "      <td>375.912500</td>\n",
       "      <td>7.125000</td>\n",
       "      <td>16.800000</td>\n",
       "    </tr>\n",
       "    <tr>\n",
       "      <th>50%</th>\n",
       "      <td>0.256355</td>\n",
       "      <td>0.000000</td>\n",
       "      <td>9.690000</td>\n",
       "      <td>0.000000</td>\n",
       "      <td>0.538000</td>\n",
       "      <td>6.189000</td>\n",
       "      <td>77.150000</td>\n",
       "      <td>27778.000000</td>\n",
       "      <td>5.000000</td>\n",
       "      <td>330.000000</td>\n",
       "      <td>19.050000</td>\n",
       "      <td>391.705000</td>\n",
       "      <td>11.300000</td>\n",
       "      <td>21.200000</td>\n",
       "    </tr>\n",
       "    <tr>\n",
       "      <th>75%</th>\n",
       "      <td>3.689387</td>\n",
       "      <td>12.500000</td>\n",
       "      <td>18.100000</td>\n",
       "      <td>0.000000</td>\n",
       "      <td>0.624000</td>\n",
       "      <td>6.618750</td>\n",
       "      <td>93.975000</td>\n",
       "      <td>47852.500000</td>\n",
       "      <td>24.000000</td>\n",
       "      <td>666.000000</td>\n",
       "      <td>20.200000</td>\n",
       "      <td>396.397500</td>\n",
       "      <td>16.955000</td>\n",
       "      <td>25.000000</td>\n",
       "    </tr>\n",
       "    <tr>\n",
       "      <th>max</th>\n",
       "      <td>73.534100</td>\n",
       "      <td>100.000000</td>\n",
       "      <td>27.740000</td>\n",
       "      <td>1.000000</td>\n",
       "      <td>0.871000</td>\n",
       "      <td>8.780000</td>\n",
       "      <td>100.000000</td>\n",
       "      <td>121265.000000</td>\n",
       "      <td>24.000000</td>\n",
       "      <td>711.000000</td>\n",
       "      <td>22.000000</td>\n",
       "      <td>396.900000</td>\n",
       "      <td>37.970000</td>\n",
       "      <td>50.000000</td>\n",
       "    </tr>\n",
       "  </tbody>\n",
       "</table>\n",
       "</div>"
      ],
      "text/plain": [
       "            crime  residential>2500  nonretailacres       river         NO2  \\\n",
       "count  466.000000        466.000000      466.000000  466.000000  466.000000   \n",
       "mean     3.326334         11.154506       11.144292    0.075107    0.555840   \n",
       "std      7.095767         22.731621        6.820913    0.263848    0.116818   \n",
       "min      0.006320          0.000000        0.740000    0.000000    0.389000   \n",
       "25%      0.083235          0.000000        5.190000    0.000000    0.450000   \n",
       "50%      0.256355          0.000000        9.690000    0.000000    0.538000   \n",
       "75%      3.689387         12.500000       18.100000    0.000000    0.624000   \n",
       "max     73.534100        100.000000       27.740000    1.000000    0.871000   \n",
       "\n",
       "       roomsperdwell  owneroccupied     distemploy  highwayaccess         tax  \\\n",
       "count     466.000000     466.000000     466.000000     466.000000  466.000000   \n",
       "mean        6.272489      68.504506   33870.045064       9.611588  410.049356   \n",
       "std         0.696995      28.023878   23233.656022       8.735627  168.921219   \n",
       "min         3.561000       6.000000      21.000000       1.000000  187.000000   \n",
       "25%         5.884250      45.450000   17699.500000       4.000000  280.250000   \n",
       "50%         6.189000      77.150000   27778.000000       5.000000  330.000000   \n",
       "75%         6.618750      93.975000   47852.500000      24.000000  666.000000   \n",
       "max         8.780000     100.000000  121265.000000      24.000000  711.000000   \n",
       "\n",
       "       pupiltoteacher  proportionblack  %lowerstatus   medianval  \n",
       "count      466.000000       466.000000    466.000000  466.000000  \n",
       "mean        18.462876       358.207897     12.650129   22.484120  \n",
       "std          2.167158        88.884020      7.068120    9.017586  \n",
       "min         12.600000         2.520000      1.730000    5.000000  \n",
       "25%         17.400000       375.912500      7.125000   16.800000  \n",
       "50%         19.050000       391.705000     11.300000   21.200000  \n",
       "75%         20.200000       396.397500     16.955000   25.000000  \n",
       "max         22.000000       396.900000     37.970000   50.000000  "
      ]
     },
     "execution_count": 96,
     "metadata": {},
     "output_type": "execute_result"
    }
   ],
   "source": [
    "df.describe()"
   ]
  },
  {
   "cell_type": "markdown",
   "metadata": {},
   "source": [
    "<a id='boxplots'></a>\n",
    "\n",
    "### 7. Investigating Potential Outliers With Box Plots\n",
    "\n",
    "---\n",
    "\n",
    "Here, we will use the `seaborn` package to create box plots of the variables we've identified as potentially containing outliers.\n",
    "\n",
    "First, some notes on `seaborn`'s box plot keyword argument options:\n",
    "\n",
    "    `orient`: Can be 'v' or 'h' for vertical and horizontal, respectively.\n",
    "    `fliersize`: The size of the outlier points (in pixels).\n",
    "    `linewidth`: The width of the line surrounding the box plot.\n",
    "    `notch`: Shows the confidence interval for the median (calculated by `seaborn/plt.boxplot`).\n",
    "    `saturation`: Saturates the colors to a specific extent.\n",
    "\n",
    "There are more keyword arguments available, but these are the most relevant for now.   \n",
    "\n",
    "_If you want to check out more, place your cursor in the `boxplot` argument bracket and press `shift+tab` (Press four times repeatedly to bring up detailed documentation)._\n",
    "    "
   ]
  },
  {
   "cell_type": "code",
   "execution_count": 97,
   "metadata": {},
   "outputs": [
    {
     "data": {
      "text/plain": [
       "<matplotlib.axes._subplots.AxesSubplot at 0xf6f95c0>"
      ]
     },
     "execution_count": 97,
     "metadata": {},
     "output_type": "execute_result"
    },
    {
     "data": {
      "image/png": "[encoded data removed]",
      "text/plain": [
       "<matplotlib.figure.Figure at 0xf8958d0>"
      ]
     },
     "metadata": {
      "image/png": {
       "height": 258,
       "width": 349
      }
     },
     "output_type": "display_data"
    }
   ],
   "source": [
    "# Rate of crime\n",
    "sns.boxplot(df['crime'], width=0.3)"
   ]
  },
  {
   "cell_type": "code",
   "execution_count": 98,
   "metadata": {},
   "outputs": [
    {
     "data": {
      "text/plain": [
       "<matplotlib.axes._subplots.AxesSubplot at 0xf6f96a0>"
      ]
     },
     "execution_count": 98,
     "metadata": {},
     "output_type": "execute_result"
    },
    {
     "data": {
      "image/png": "[encoded data removed]",
      "text/plain": [
       "<matplotlib.figure.Figure at 0xfaa3ef0>"
      ]
     },
     "metadata": {
      "image/png": {
       "height": 258,
       "width": 349
      }
     },
     "output_type": "display_data"
    }
   ],
   "source": [
    "# Percent owner occupied\n",
    "sns.boxplot(df['owneroccupied'], width=0.3)"
   ]
  },
  {
   "cell_type": "code",
   "execution_count": 99,
   "metadata": {},
   "outputs": [
    {
     "data": {
      "text/plain": [
       "<matplotlib.axes._subplots.AxesSubplot at 0xfaac278>"
      ]
     },
     "execution_count": 99,
     "metadata": {},
     "output_type": "execute_result"
    },
    {
     "data": {
      "image/png": "[encoded data removed]",
      "text/plain": [
       "<matplotlib.figure.Figure at 0xfb8fd30>"
      ]
     },
     "metadata": {
      "image/png": {
       "height": 258,
       "width": 349
      }
     },
     "output_type": "display_data"
    }
   ],
   "source": [
    "# Percent business zone\n",
    "sns.boxplot(df['nonretailacres'], width=0.3)"
   ]
  },
  {
   "cell_type": "code",
   "execution_count": 100,
   "metadata": {},
   "outputs": [
    {
     "data": {
      "text/plain": [
       "<matplotlib.axes._subplots.AxesSubplot at 0xfdad3c8>"
      ]
     },
     "execution_count": 100,
     "metadata": {},
     "output_type": "execute_result"
    },
    {
     "data": {
      "image/png": "[encoded data removed]",
      "text/plain": [
       "<matplotlib.figure.Figure at 0xfdff4e0>"
      ]
     },
     "metadata": {
      "image/png": {
       "height": 258,
       "width": 349
      }
     },
     "output_type": "display_data"
    }
   ],
   "source": [
    "# Black population statistic\n",
    "sns.boxplot(df['proportionblack'], width=0.3)"
   ]
  },
  {
   "cell_type": "markdown",
   "metadata": {},
   "source": [
    "<a id='plot_all'></a>\n",
    "\n",
    "### 8. Plotting All Variables Together\n",
    "\n",
    "---\n",
    "\n",
    "Plot all of the variables in a horizontal box plot with `seaborn`. What, if anything, is wrong with this plot?"
   ]
  },
  {
   "cell_type": "code",
   "execution_count": 118,
   "metadata": {},
   "outputs": [
    {
     "data": {
      "text/plain": [
       "<matplotlib.axes._subplots.AxesSubplot at 0x13489f98>"
      ]
     },
     "execution_count": 118,
     "metadata": {},
     "output_type": "execute_result"
    },
    {
     "data": {
      "image/png": "[encoded data removed]",
      "text/plain": [
       "<matplotlib.figure.Figure at 0x147774e0>"
      ]
     },
     "metadata": {
      "image/png": {
       "height": 407,
       "width": 649
      }
     },
     "output_type": "display_data"
    }
   ],
   "source": [
    "plt.figure(figsize=(10,7))\n",
    "sns.boxplot(data=df, orient='h')"
   ]
  },
  {
   "cell_type": "markdown",
   "metadata": {},
   "source": [
    "\n",
    "<a id='standardization'></a>\n",
    "\n",
    "### 9. Standardizing Variables\n",
    "\n",
    "---\n",
    "\n",
    "Rescaling variables is common and sometimes essential. For example, when we get to regularizing models, the rescaling procedure becomes a requirement before fitting the model.\n",
    "\n",
    "Here, we'll rescale the variables using a procedure called \"standardization,\" which forces the distribution of each variable to have a mean of 0 and a standard deviation of 1.\n",
    "\n",
    "Standardization is not complicated:\n",
    "\n",
    "    standardized_variable = (variable - mean_of_variable) / std_dev_of_variable\n",
    "    \n",
    "**Note**: Nothing else has changed about the distribution of the variable. It doesn't become normally distributed.\n",
    "\n",
    "**9.A Pull out the rate of crime and plot the distribution.**\n",
    "\n",
    "Also, print out the mean and standard deviation of the original variable."
   ]
  },
  {
   "cell_type": "code",
   "execution_count": 123,
   "metadata": {},
   "outputs": [
    {
     "name": "stdout",
     "output_type": "stream",
     "text": [
      "mean:3.32633433476, std:7.09576667138\n"
     ]
    },
    {
     "data": {
      "image/png": "[encoded data removed]",
      "text/plain": [
       "<matplotlib.figure.Figure at 0x132285f8>"
      ]
     },
     "metadata": {
      "image/png": {
       "height": 258,
       "width": 372
      }
     },
     "output_type": "display_data"
    }
   ],
   "source": [
    "sns.distplot(df['crime'])\n",
    "print 'mean:{}, std:{}'.format(df['crime'].mean(), df['crime'].std())"
   ]
  },
  {
   "cell_type": "markdown",
   "metadata": {},
   "source": [
    "**9.B Standardize the `rate_of_crime` variable. Notice that the new mean is centered at 0.**"
   ]
  },
  {
   "cell_type": "code",
   "execution_count": 129,
   "metadata": {},
   "outputs": [],
   "source": [
    "def standardization(df_col):\n",
    "    return (df_col - df_col.mean()) / df_col.std()"
   ]
  },
  {
   "cell_type": "markdown",
   "metadata": {},
   "source": [
    "**9.C Plot the original and standardized rate of crime. Notice that nothing changes about the distribution, except for the location and scale.**"
   ]
  },
  {
   "cell_type": "code",
   "execution_count": 131,
   "metadata": {},
   "outputs": [
    {
     "name": "stdout",
     "output_type": "stream",
     "text": [
      "mean:-3.81192454807e-17, std:1.0\n"
     ]
    },
    {
     "data": {
      "image/png": "[encoded data removed]",
      "text/plain": [
       "<matplotlib.figure.Figure at 0x169ed390>"
      ]
     },
     "metadata": {
      "image/png": {
       "height": 258,
       "width": 366
      }
     },
     "output_type": "display_data"
    }
   ],
   "source": [
    "stand_crime = standardization(df['crime'])\n",
    "sns.distplot(stand_crime)\n",
    "print 'mean:{}, std:{}'.format(stand_crime.mean(), stand_crime.std())"
   ]
  },
  {
   "cell_type": "markdown",
   "metadata": {},
   "source": [
    "\n",
    "<a id='plot_all_rescaled'></a>\n",
    "\n",
    "### 10. Plotting the Standardized Variables Together\n",
    "\n",
    "---\n",
    "\n",
    "`pandas` DataFrames make it easy to standardize columns simultaneously. You can standardize data like so:\n",
    "\n",
    "```python\n",
    "boston_stand = (boston - boston.mean()) / boston.std()\n",
    "```\n",
    "\n",
    "Create a standardized version of the data and recreate the box plot. Now you can better examine the differences in the shape of distributions across our variables."
   ]
  },
  {
   "cell_type": "code",
   "execution_count": 133,
   "metadata": {},
   "outputs": [
    {
     "data": {
      "text/plain": [
       "<matplotlib.axes._subplots.AxesSubplot at 0x169ed3c8>"
      ]
     },
     "execution_count": 133,
     "metadata": {},
     "output_type": "execute_result"
    },
    {
     "data": {
      "image/png": "[encoded data removed]",
      "text/plain": [
       "<matplotlib.figure.Figure at 0x16c8b278>"
      ]
     },
     "metadata": {
      "image/png": {
       "height": 407,
       "width": 649
      }
     },
     "output_type": "display_data"
    }
   ],
   "source": [
    "df_stand = (df-df.mean())/df.std()\n",
    "plt.figure(figsize=(10,7))\n",
    "sns.boxplot(data=df_stand, orient='h')"
   ]
  },
  {
   "cell_type": "markdown",
   "metadata": {},
   "source": [
    "\n",
    "<a id='cov_cor'></a>\n",
    "\n",
    "### 11. Looking at the Covariance or Correlation Between Variables\n",
    "\n",
    "---\n",
    "\n",
    "An easy way to get a feel for linear relationships between variables is with a correlation matrix.\n",
    "\n",
    "Below, we have the formula for the covariance between two variables: `$X$` and `$Y$`.\n",
    "\n",
    "#### 11.A Covariance\n",
    "\n",
    "Given the sample size `$N$`, variables `$X$` and `$Y$`, and means `$\\bar{X}$` and `$\\bar{Y}$`:\n",
    "\n",
    "### $$ \\text{covariance}(X, Y) = \\sum_{i=1}^N \\frac{(X - \\bar{X})(Y - \\bar{Y})}{N}$$\n",
    "\n",
    "The covariance is a measure of \"relatedness\" between variables. It's the sum of deviations from the mean of `$X$`, multiplied by deviations from the mean of `$Y$`, adjusted by the sample size (`$N$`).\n",
    "\n",
    "Code the covariance between `pct_underclass` and `home_median_value` by hand below. Verify that you've gotten the correct result using `np.cov()`. Set the keyword argument `bias=True` in `np.cov()` to have it use the same covariance calculation.\n",
    "\n",
    "**Note**: `np.cov` returns a covariance _matrix_, or, each value's covariance with itself and the other variable in a matrix format."
   ]
  },
  {
   "cell_type": "code",
   "execution_count": 146,
   "metadata": {},
   "outputs": [
    {
     "data": {
      "text/plain": [
       "-46.76390977894688"
      ]
     },
     "execution_count": 146,
     "metadata": {},
     "output_type": "execute_result"
    }
   ],
   "source": [
    "((df['%lowerstatus'] - df['%lowerstatus'].mean())*(df['medianval']-df['medianval'].mean())).sum()/(len(df)-1)"
   ]
  },
  {
   "cell_type": "code",
   "execution_count": 145,
   "metadata": {},
   "outputs": [
    {
     "data": {
      "text/plain": [
       "array([[ 49.95831482, -46.76390978],\n",
       "       [-46.76390978,  81.31686557]])"
      ]
     },
     "execution_count": 145,
     "metadata": {},
     "output_type": "execute_result"
    }
   ],
   "source": [
    "np.cov(df['%lowerstatus'],df['medianval'])"
   ]
  },
  {
   "cell_type": "markdown",
   "metadata": {},
   "source": [
    "#### 11.B Correlation\n",
    "\n",
    "Covariance is not easy to interpret. The values are difficult to read because they are relative to the variance of the variables.\n",
    "\n",
    "A much more common metric — and one that is directly calculable from the covariance — is the correlation.\n",
    "\n",
    "Again, let `$X$` and `$Y$` be our two variables and use the covariance `$cov(X, Y)$` that we calculated above:\n",
    "\n",
    "### $$ \\text{pearson correlation}\\;r = cor(X, Y) =\\frac{cov(X, Y)}{std(X)std(Y)}$$\n",
    "\n",
    "Calculate the correlation between `pct_under` and `med_value` by hand below. Check that it is the same as `np.corrcoef()` with `bias=True`.\n"
   ]
  },
  {
   "cell_type": "code",
   "execution_count": 64,
   "metadata": {},
   "outputs": [],
   "source": [
    "# A:"
   ]
  },
  {
   "cell_type": "markdown",
   "metadata": {},
   "source": [
    "#### 11.C The correlation matrix\n",
    "\n",
    "We can see the correlation between all numeric variables in our data set by using `pandas` DataFrames' built-in `.corr()` function. Use it below on the Boston data set.\n",
    "\n",
    "It's useful for getting a feel for what is related and what is not, which can help you decide what to investigate further. (Although with a lot of variables, the matrix can be a bit overwhelming)."
   ]
  },
  {
   "cell_type": "code",
   "execution_count": 65,
   "metadata": {},
   "outputs": [],
   "source": [
    "# A:"
   ]
  },
  {
   "cell_type": "markdown",
   "metadata": {},
   "source": [
    "**`seaborn` also has an effective way of showing this visually, if colors stick out to you more than decimal values.**"
   ]
  },
  {
   "cell_type": "code",
   "execution_count": 66,
   "metadata": {},
   "outputs": [],
   "source": [
    "# A:"
   ]
  }
 ],
 "metadata": {
  "kernelspec": {
   "display_name": "Python 2",
   "language": "python",
   "name": "python2"
  },
  "language_info": {
   "codemirror_mode": {
    "name": "ipython",
    "version": 2
   },
   "file_extension": ".py",
   "mimetype": "text/x-python",
   "name": "python",
   "nbconvert_exporter": "python",
   "pygments_lexer": "ipython2",
   "version": "2.7.14"
  }
 },
 "nbformat": 4,
 "nbformat_minor": 1
}
