{
 "cells": [
  {
   "cell_type": "markdown",
   "metadata": {},
   "source": [
    "<img src=\"http://imgur.com/1ZcRyrc.png\" style=\"float: left; margin: 20px; height: 55px\">\n",
    "\n",
    "## Introduction to `pandas` Grouping\n",
    "\n",
    "_Authors: Kiefer Katovich (SF), Dave Yerrington (SF), Mario Carrillo (SF)_\n",
    "\n",
    "---"
   ]
  },
  {
   "cell_type": "markdown",
   "metadata": {},
   "source": [
    "### Learning Objectives\n",
    "*After this lesson, you will be able to:*\n",
    "- Identify the situations in which **grouping** is useful.\n",
    "- Explain and use the **`.groupby()`** function in `pandas`.\n",
    "- Demonstrate aggregation and plotting methods by groups in `pandas`."
   ]
  },
  {
   "cell_type": "markdown",
   "metadata": {},
   "source": [
    "### Lesson Guide\n",
    "\n",
    "- [Overview of Multi-Dimensional Data Analysis](#overview)\n",
    "- [Analyzing Data by Group: Examples](#grouping_examples)\n",
    "- [Exploring the Titanic Data Set with Grouping](#load_titanic)\n",
    "- [Introducing `pandas` `.groupby()` Function](#groupby)\n",
    "- [Grouping by Multiple Variables](#groupby_multiple)\n",
    "- [Applying Basic Functions to Groups](#basic_functions)\n",
    "- [Removing the Hierarchical Index](#removing_hierarchical)\n",
    "- [Applying Custom Functions with `.apply()`](#custom_functions)\n",
    "- [Plotting Basic Histograms with Groups](#basic_plotting)\n",
    "- [Grouped Histograms with `pandas`](#grouped_hists)\n",
    "- [Independent Practice](#independent_practice)\n"
   ]
  },
  {
   "cell_type": "markdown",
   "metadata": {},
   "source": [
    "<a id='overview'></a>\n",
    "\n",
    "### Overview of Multi-Dimensional Data Analysis\n",
    "\n",
    "---\n",
    "\n",
    "Multi-dimensional data analysis allows you to:\n",
    "\n",
    "- Describe segments of your data based on unique values.\n",
    "- Understand characteristics of your data.\n",
    "   - Calculate summary statistics across subsets.\n",
    "   - Discover patterns that exist in some subsets but not others.\n",
    "- Find duplicate values or redundant data.\n",
    "- Apply aggregate functions to subsets.\n"
   ]
  },
  {
   "cell_type": "markdown",
   "metadata": {},
   "source": [
    "<a id='grouping_examples'></a>\n",
    "\n",
    "### Analyzing Data by Group: Examples\n",
    "\n",
    "---\n",
    "\n",
    "Scenarios include determining the: \n",
    "\n",
    " - Sum of crimes by time of day in San Francisco (morning, afternoon, night).\n",
    " - Count number of people with the same last name.\n",
    " - Median number of multi-unit buildings in a region.\n",
    " - Popularity of movie genres by region.\n",
    " - Customer segments based on age, buying habits, interests, and behavior.\n",
    " \n",
    " You can also apply the \"GROUP BY\" clause in a database query using SQL."
   ]
  },
  {
   "cell_type": "markdown",
   "metadata": {},
   "source": [
    "#### Subset Aggregation:\n",
    "\n",
    "This chart stratifies a single variable, \"industry,\" counting job openings within a specific category.\n",
    "\n",
    "![](http://www.rasmussen.edu/images/blogs/1360270834-402_Graphs_JobOpeningsByIndustry.jpg)"
   ]
  },
  {
   "cell_type": "markdown",
   "metadata": {},
   "source": [
    "#### Hierarchical Aggregation\n",
    "\n",
    "This chart aggregates first by a top-level group, \"industry,\" and then by a secondary group, \"date,\" within each industry.\n",
    "\n",
    "![](http://junkcharts.typepad.com/.a/6a00d8341e992c53ef0192acc65090970d-pi)"
   ]
  },
  {
   "cell_type": "markdown",
   "metadata": {},
   "source": [
    "<a id='load_titanic'></a>\n",
    "\n",
    "### Exploring the Titanic Data Set with Grouping\n",
    "\n",
    "---\n",
    "\n",
    "To explore the power of grouping with `pandas`, we will be using [the famous Titanic data set](https://www.kaggle.com/c/titanic), which can be downloaded from Kaggle. Here's the competition description:\n",
    "\n",
    ">The sinking of the RMS Titanic is one of the most infamous shipwrecks in history. On April 15, 1912, during her maiden voyage, the Titanic sank after colliding with an iceberg, killing 1,502 out of 2,224 passengers and crew. This sensational tragedy shocked the international community and led to better safety regulations for ships.\n",
    "\n",
    ">One of the reasons that the shipwreck led to such loss of life was that there were not enough lifeboats for the passengers and crew. Although there was some element of luck involved in surviving the sinking, some groups of people were more likely to survive than others, such as women, children, and the upper class.\n",
    "\n",
    "Although we will not be modeling survival rates in this lesson, there are interesting patterns to be found just by exploring descriptive statistics in cross-sections of the data."
   ]
  },
  {
   "cell_type": "code",
   "execution_count": 1,
   "metadata": {},
   "outputs": [],
   "source": [
    "import pandas as pd\n",
    "import numpy as np\n",
    "import seaborn as sns\n",
    "import matplotlib.pyplot as plt\n",
    "sns.set_style('whitegrid')\n",
    "\n",
    "%matplotlib inline\n",
    "%config InlineBackend.figure_format ='retina'"
   ]
  },
  {
   "cell_type": "markdown",
   "metadata": {},
   "source": [
    "**Load the data into `pandas`.**"
   ]
  },
  {
   "cell_type": "code",
   "execution_count": 6,
   "metadata": {},
   "outputs": [
    {
     "data": {
      "text/html": [
       "<div>\n",
       "<style>\n",
       "    .dataframe thead tr:only-child th {\n",
       "        text-align: right;\n",
       "    }\n",
       "\n",
       "    .dataframe thead th {\n",
       "        text-align: left;\n",
       "    }\n",
       "\n",
       "    .dataframe tbody tr th {\n",
       "        vertical-align: top;\n",
       "    }\n",
       "</style>\n",
       "<table border=\"1\" class=\"dataframe\">\n",
       "  <thead>\n",
       "    <tr style=\"text-align: right;\">\n",
       "      <th></th>\n",
       "      <th>PassengerId</th>\n",
       "      <th>Survived</th>\n",
       "      <th>Pclass</th>\n",
       "      <th>Name</th>\n",
       "      <th>Sex</th>\n",
       "      <th>Age</th>\n",
       "      <th>SibSp</th>\n",
       "      <th>Parch</th>\n",
       "      <th>Fare</th>\n",
       "      <th>Embarked</th>\n",
       "    </tr>\n",
       "  </thead>\n",
       "  <tbody>\n",
       "    <tr>\n",
       "      <th>0</th>\n",
       "      <td>1</td>\n",
       "      <td>0</td>\n",
       "      <td>3</td>\n",
       "      <td>Braund, Mr. Owen Harris</td>\n",
       "      <td>male</td>\n",
       "      <td>22.0</td>\n",
       "      <td>1</td>\n",
       "      <td>0</td>\n",
       "      <td>7.2500</td>\n",
       "      <td>S</td>\n",
       "    </tr>\n",
       "    <tr>\n",
       "      <th>1</th>\n",
       "      <td>2</td>\n",
       "      <td>1</td>\n",
       "      <td>1</td>\n",
       "      <td>Cumings, Mrs. John Bradley (Florence Briggs Th...</td>\n",
       "      <td>female</td>\n",
       "      <td>38.0</td>\n",
       "      <td>1</td>\n",
       "      <td>0</td>\n",
       "      <td>71.2833</td>\n",
       "      <td>C</td>\n",
       "    </tr>\n",
       "    <tr>\n",
       "      <th>2</th>\n",
       "      <td>3</td>\n",
       "      <td>1</td>\n",
       "      <td>3</td>\n",
       "      <td>Heikkinen, Miss. Laina</td>\n",
       "      <td>female</td>\n",
       "      <td>26.0</td>\n",
       "      <td>0</td>\n",
       "      <td>0</td>\n",
       "      <td>7.9250</td>\n",
       "      <td>S</td>\n",
       "    </tr>\n",
       "    <tr>\n",
       "      <th>3</th>\n",
       "      <td>4</td>\n",
       "      <td>1</td>\n",
       "      <td>1</td>\n",
       "      <td>Futrelle, Mrs. Jacques Heath (Lily May Peel)</td>\n",
       "      <td>female</td>\n",
       "      <td>35.0</td>\n",
       "      <td>1</td>\n",
       "      <td>0</td>\n",
       "      <td>53.1000</td>\n",
       "      <td>S</td>\n",
       "    </tr>\n",
       "  </tbody>\n",
       "</table>\n",
       "</div>"
      ],
      "text/plain": [
       "   PassengerId  Survived  Pclass  \\\n",
       "0            1         0       3   \n",
       "1            2         1       1   \n",
       "2            3         1       3   \n",
       "3            4         1       1   \n",
       "\n",
       "                                                Name     Sex   Age  SibSp  \\\n",
       "0                            Braund, Mr. Owen Harris    male  22.0      1   \n",
       "1  Cumings, Mrs. John Bradley (Florence Briggs Th...  female  38.0      1   \n",
       "2                             Heikkinen, Miss. Laina  female  26.0      0   \n",
       "3       Futrelle, Mrs. Jacques Heath (Lily May Peel)  female  35.0      1   \n",
       "\n",
       "   Parch     Fare Embarked  \n",
       "0      0   7.2500        S  \n",
       "1      0  71.2833        C  \n",
       "2      0   7.9250        S  \n",
       "3      0  53.1000        S  "
      ]
     },
     "execution_count": 6,
     "metadata": {},
     "output_type": "execute_result"
    }
   ],
   "source": [
    "path_to_file = '../datasets/titanic_clean.csv'\n",
    "titanic = pd.read_csv(path_to_file)\n",
    "titanic.head(4)"
   ]
  },
  {
   "cell_type": "markdown",
   "metadata": {},
   "source": [
    "The data contains a variety of information about the passengers present at the sinking of the Titanic.\n",
    "\n",
    "**Describe the data in the columns with summary statistics.**"
   ]
  },
  {
   "cell_type": "code",
   "execution_count": 8,
   "metadata": {},
   "outputs": [
    {
     "data": {
      "text/html": [
       "<div>\n",
       "<style>\n",
       "    .dataframe thead tr:only-child th {\n",
       "        text-align: right;\n",
       "    }\n",
       "\n",
       "    .dataframe thead th {\n",
       "        text-align: left;\n",
       "    }\n",
       "\n",
       "    .dataframe tbody tr th {\n",
       "        vertical-align: top;\n",
       "    }\n",
       "</style>\n",
       "<table border=\"1\" class=\"dataframe\">\n",
       "  <thead>\n",
       "    <tr style=\"text-align: right;\">\n",
       "      <th></th>\n",
       "      <th>count</th>\n",
       "      <th>mean</th>\n",
       "      <th>std</th>\n",
       "      <th>min</th>\n",
       "      <th>25%</th>\n",
       "      <th>50%</th>\n",
       "      <th>75%</th>\n",
       "      <th>max</th>\n",
       "    </tr>\n",
       "  </thead>\n",
       "  <tbody>\n",
       "    <tr>\n",
       "      <th>PassengerId</th>\n",
       "      <td>712.0</td>\n",
       "      <td>448.589888</td>\n",
       "      <td>258.683191</td>\n",
       "      <td>1.00</td>\n",
       "      <td>222.75</td>\n",
       "      <td>445.00000</td>\n",
       "      <td>677.25</td>\n",
       "      <td>891.0000</td>\n",
       "    </tr>\n",
       "    <tr>\n",
       "      <th>Survived</th>\n",
       "      <td>712.0</td>\n",
       "      <td>0.404494</td>\n",
       "      <td>0.491139</td>\n",
       "      <td>0.00</td>\n",
       "      <td>0.00</td>\n",
       "      <td>0.00000</td>\n",
       "      <td>1.00</td>\n",
       "      <td>1.0000</td>\n",
       "    </tr>\n",
       "    <tr>\n",
       "      <th>Pclass</th>\n",
       "      <td>712.0</td>\n",
       "      <td>2.240169</td>\n",
       "      <td>0.836854</td>\n",
       "      <td>1.00</td>\n",
       "      <td>1.00</td>\n",
       "      <td>2.00000</td>\n",
       "      <td>3.00</td>\n",
       "      <td>3.0000</td>\n",
       "    </tr>\n",
       "    <tr>\n",
       "      <th>Age</th>\n",
       "      <td>712.0</td>\n",
       "      <td>29.642093</td>\n",
       "      <td>14.492933</td>\n",
       "      <td>0.42</td>\n",
       "      <td>20.00</td>\n",
       "      <td>28.00000</td>\n",
       "      <td>38.00</td>\n",
       "      <td>80.0000</td>\n",
       "    </tr>\n",
       "    <tr>\n",
       "      <th>SibSp</th>\n",
       "      <td>712.0</td>\n",
       "      <td>0.514045</td>\n",
       "      <td>0.930692</td>\n",
       "      <td>0.00</td>\n",
       "      <td>0.00</td>\n",
       "      <td>0.00000</td>\n",
       "      <td>1.00</td>\n",
       "      <td>5.0000</td>\n",
       "    </tr>\n",
       "    <tr>\n",
       "      <th>Parch</th>\n",
       "      <td>712.0</td>\n",
       "      <td>0.432584</td>\n",
       "      <td>0.854181</td>\n",
       "      <td>0.00</td>\n",
       "      <td>0.00</td>\n",
       "      <td>0.00000</td>\n",
       "      <td>1.00</td>\n",
       "      <td>6.0000</td>\n",
       "    </tr>\n",
       "    <tr>\n",
       "      <th>Fare</th>\n",
       "      <td>712.0</td>\n",
       "      <td>34.567251</td>\n",
       "      <td>52.938648</td>\n",
       "      <td>0.00</td>\n",
       "      <td>8.05</td>\n",
       "      <td>15.64585</td>\n",
       "      <td>33.00</td>\n",
       "      <td>512.3292</td>\n",
       "    </tr>\n",
       "  </tbody>\n",
       "</table>\n",
       "</div>"
      ],
      "text/plain": [
       "             count        mean         std   min     25%        50%     75%  \\\n",
       "PassengerId  712.0  448.589888  258.683191  1.00  222.75  445.00000  677.25   \n",
       "Survived     712.0    0.404494    0.491139  0.00    0.00    0.00000    1.00   \n",
       "Pclass       712.0    2.240169    0.836854  1.00    1.00    2.00000    3.00   \n",
       "Age          712.0   29.642093   14.492933  0.42   20.00   28.00000   38.00   \n",
       "SibSp        712.0    0.514045    0.930692  0.00    0.00    0.00000    1.00   \n",
       "Parch        712.0    0.432584    0.854181  0.00    0.00    0.00000    1.00   \n",
       "Fare         712.0   34.567251   52.938648  0.00    8.05   15.64585   33.00   \n",
       "\n",
       "                  max  \n",
       "PassengerId  891.0000  \n",
       "Survived       1.0000  \n",
       "Pclass         3.0000  \n",
       "Age           80.0000  \n",
       "SibSp          5.0000  \n",
       "Parch          6.0000  \n",
       "Fare         512.3292  "
      ]
     },
     "execution_count": 8,
     "metadata": {},
     "output_type": "execute_result"
    }
   ],
   "source": [
    "titanic.describe().T"
   ]
  },
  {
   "cell_type": "markdown",
   "metadata": {},
   "source": [
    "<a id='groupby'></a>\n",
    "\n",
    "### Introducing `pandas` `.groupby()` Function\n",
    "\n",
    "---\n",
    "\n",
    "The built-in `.groupby()` function for DataFrames is one of the most useful tools in `pandas`. As the name implies, `.groupby()` will group your data set by one or more user-specified column names.\n",
    "\n",
    "**Using `.groupby()`, create a grouped DataFrame in which the Titanic data set is grouped by \"Pclass.\"**"
   ]
  },
  {
   "cell_type": "code",
   "execution_count": 9,
   "metadata": {},
   "outputs": [],
   "source": [
    "pclass = titanic.groupby('Pclass')"
   ]
  },
  {
   "cell_type": "markdown",
   "metadata": {},
   "source": [
    "**Print out the type of the grouped DataFrame.**"
   ]
  },
  {
   "cell_type": "code",
   "execution_count": 10,
   "metadata": {},
   "outputs": [
    {
     "data": {
      "text/plain": [
       "pandas.core.groupby.DataFrameGroupBy"
      ]
     },
     "execution_count": 10,
     "metadata": {},
     "output_type": "execute_result"
    }
   ],
   "source": [
    "type(pclass)"
   ]
  },
  {
   "cell_type": "markdown",
   "metadata": {},
   "source": [
    "Instead of a `DataFrame` object, we now have a `DataFrameGroupBy` object. This operates somewhat differently than the DataFrames we're used to, as we'll soon see.\n",
    "\n",
    "**Try pulling out the first group from the grouped DataFrame with index 0.**"
   ]
  },
  {
   "cell_type": "code",
   "execution_count": 11,
   "metadata": {},
   "outputs": [
    {
     "ename": "KeyError",
     "evalue": "'Column not found: 0'",
     "output_type": "error",
     "traceback": [
      "\u001b[0;31m---------------------------------------------------------------------------\u001b[0m",
      "\u001b[0;31mKeyError\u001b[0m                                  Traceback (most recent call last)",
      "\u001b[0;32m<ipython-input-11-35f7d3eaa389>\u001b[0m in \u001b[0;36m<module>\u001b[0;34m()\u001b[0m\n\u001b[0;32m----> 1\u001b[0;31m \u001b[0mpclass\u001b[0m\u001b[0;34m[\u001b[0m\u001b[0;36m0\u001b[0m\u001b[0;34m]\u001b[0m\u001b[0;34m\u001b[0m\u001b[0m\n\u001b[0m",
      "\u001b[0;32m/Users/charlesrice/anaconda/envs/py27/lib/python2.7/site-packages/pandas/core/base.pyc\u001b[0m in \u001b[0;36m__getitem__\u001b[0;34m(self, key)\u001b[0m\n\u001b[1;32m    352\u001b[0m         \u001b[0;32melse\u001b[0m\u001b[0;34m:\u001b[0m\u001b[0;34m\u001b[0m\u001b[0m\n\u001b[1;32m    353\u001b[0m             \u001b[0;32mif\u001b[0m \u001b[0mkey\u001b[0m \u001b[0;32mnot\u001b[0m \u001b[0;32min\u001b[0m \u001b[0mself\u001b[0m\u001b[0;34m.\u001b[0m\u001b[0mobj\u001b[0m\u001b[0;34m:\u001b[0m\u001b[0;34m\u001b[0m\u001b[0m\n\u001b[0;32m--> 354\u001b[0;31m                 \u001b[0;32mraise\u001b[0m \u001b[0mKeyError\u001b[0m\u001b[0;34m(\u001b[0m\u001b[0;34m\"Column not found: %s\"\u001b[0m \u001b[0;34m%\u001b[0m \u001b[0mkey\u001b[0m\u001b[0;34m)\u001b[0m\u001b[0;34m\u001b[0m\u001b[0m\n\u001b[0m\u001b[1;32m    355\u001b[0m             \u001b[0;32mreturn\u001b[0m \u001b[0mself\u001b[0m\u001b[0;34m.\u001b[0m\u001b[0m_gotitem\u001b[0m\u001b[0;34m(\u001b[0m\u001b[0mkey\u001b[0m\u001b[0;34m,\u001b[0m \u001b[0mndim\u001b[0m\u001b[0;34m=\u001b[0m\u001b[0;36m1\u001b[0m\u001b[0;34m)\u001b[0m\u001b[0;34m\u001b[0m\u001b[0m\n\u001b[1;32m    356\u001b[0m \u001b[0;34m\u001b[0m\u001b[0m\n",
      "\u001b[0;31mKeyError\u001b[0m: 'Column not found: 0'"
     ]
    }
   ],
   "source": [
    "pclass[0]"
   ]
  },
  {
   "cell_type": "markdown",
   "metadata": {},
   "source": [
    "Grouped DataFrames operate differently than Python lists. You can't pull out different groups with indexers. Despite this, grouped DataFrame objects **are** iterable! You can step through them using a for loop, for example.\n",
    "\n",
    "In our grouped DataFrame, each element will be a tuple containing the \"Pclass\" group as its first element and the subset of the original Titanic DataFrame for that \"Pclass\" as its second element.\n",
    "\n",
    "**Write a for loop to iterate through the grouped DataFrame, printing out the \"PClass\" and the header of the subset each time.**"
   ]
  },
  {
   "cell_type": "code",
   "execution_count": 14,
   "metadata": {},
   "outputs": [
    {
     "name": "stdout",
     "output_type": "stream",
     "text": [
      "Pclass group: 1\n",
      "titanic subset head:     PassengerId  Survived  Pclass  \\\n",
      "1             2         1       1   \n",
      "3             4         1       1   \n",
      "5             7         0       1   \n",
      "10           12         1       1   \n",
      "20           24         1       1   \n",
      "\n",
      "                                                 Name     Sex   Age  SibSp  \\\n",
      "1   Cumings, Mrs. John Bradley (Florence Briggs Th...  female  38.0      1   \n",
      "3        Futrelle, Mrs. Jacques Heath (Lily May Peel)  female  35.0      1   \n",
      "5                             McCarthy, Mr. Timothy J    male  54.0      0   \n",
      "10                           Bonnell, Miss. Elizabeth  female  58.0      0   \n",
      "20                       Sloper, Mr. William Thompson    male  28.0      0   \n",
      "\n",
      "    Parch     Fare Embarked  \n",
      "1       0  71.2833        C  \n",
      "3       0  53.1000        S  \n",
      "5       0  51.8625        S  \n",
      "10      0  26.5500        S  \n",
      "20      0  35.5000        S  \n",
      "------------------------------------------\n",
      "Pclass group: 2\n",
      "titanic subset head:     PassengerId  Survived  Pclass                                 Name  \\\n",
      "8            10         1       2  Nasser, Mrs. Nicholas (Adele Achem)   \n",
      "14           16         1       2     Hewlett, Mrs. (Mary D Kingcome)    \n",
      "17           21         0       2                 Fynney, Mr. Joseph J   \n",
      "18           22         1       2                Beesley, Mr. Lawrence   \n",
      "25           34         0       2                Wheadon, Mr. Edward H   \n",
      "\n",
      "       Sex   Age  SibSp  Parch     Fare Embarked  \n",
      "8   female  14.0      1      0  30.0708        C  \n",
      "14  female  55.0      0      0  16.0000        S  \n",
      "17    male  35.0      0      0  26.0000        S  \n",
      "18    male  34.0      0      0  13.0000        S  \n",
      "25    male  66.0      0      0  10.5000        S  \n",
      "------------------------------------------\n",
      "Pclass group: 3\n",
      "titanic subset head:    PassengerId  Survived  Pclass  \\\n",
      "0            1         0       3   \n",
      "2            3         1       3   \n",
      "4            5         0       3   \n",
      "6            8         0       3   \n",
      "7            9         1       3   \n",
      "\n",
      "                                                Name     Sex   Age  SibSp  \\\n",
      "0                            Braund, Mr. Owen Harris    male  22.0      1   \n",
      "2                             Heikkinen, Miss. Laina  female  26.0      0   \n",
      "4                           Allen, Mr. William Henry    male  35.0      0   \n",
      "6                     Palsson, Master. Gosta Leonard    male   2.0      3   \n",
      "7  Johnson, Mrs. Oscar W (Elisabeth Vilhelmina Berg)  female  27.0      0   \n",
      "\n",
      "   Parch     Fare Embarked  \n",
      "0      0   7.2500        S  \n",
      "2      0   7.9250        S  \n",
      "4      0   8.0500        S  \n",
      "6      1  21.0750        S  \n",
      "7      2  11.1333        S  \n",
      "------------------------------------------\n"
     ]
    }
   ],
   "source": [
    "for g in pclass:\n",
    "    print 'Pclass group:', g[0]\n",
    "    print 'titanic subset head:', g[1].head()\n",
    "    print '------------------------------------------'"
   ]
  },
  {
   "cell_type": "markdown",
   "metadata": {},
   "source": [
    "<a id='groupby_multiple'></a>\n",
    "\n",
    "### Grouping by Multiple Variables\n",
    "\n",
    "---\n",
    "\n",
    "Grouping by more than one column is simple. The `.groupby()` function can accept a list of column names to group by. When you group by more than one column, each subset of the data will correspond to one distinct combination of the grouping columns.\n",
    "\n",
    "**Create a grouped DataFrame by grouping the Titanic data by \"Pclass\" and \"Survived.\"**"
   ]
  },
  {
   "cell_type": "code",
   "execution_count": 15,
   "metadata": {},
   "outputs": [],
   "source": [
    "pclass_surv = titanic.groupby(['Pclass','Survived'])"
   ]
  },
  {
   "cell_type": "markdown",
   "metadata": {},
   "source": [
    "**Print out the length of this grouped DataFrame.**\n",
    "\n",
    "It is the same length as the unique combinations of \"Pclass\" and \"Survived:\" three Pclasses by two survival values."
   ]
  },
  {
   "cell_type": "code",
   "execution_count": 16,
   "metadata": {},
   "outputs": [
    {
     "data": {
      "text/plain": [
       "6"
      ]
     },
     "execution_count": 16,
     "metadata": {},
     "output_type": "execute_result"
    }
   ],
   "source": [
    "len(pclass_surv)"
   ]
  },
  {
   "cell_type": "markdown",
   "metadata": {},
   "source": [
    "<a id='basic_functions'></a>\n",
    "\n",
    "### Applying Basic Functions to Groups\n",
    "\n",
    "---\n",
    "\n",
    "`pandas` makes it easy to apply basic statistical functions to grouped data with built-in functions. For example, assume you have a grouped DataFrame, `grouped`:\n",
    "\n",
    "```python\n",
    "print grouped.mean()\n",
    "print grouped.median()\n",
    "print grouped.count()\n",
    "print grouped.max()\n",
    "```\n",
    "\n",
    "We can calculate the mean, median, count, and max of the columns by group. \n",
    "\n",
    "**Try out these built-in functions on the grouped data you made above.**"
   ]
  },
  {
   "cell_type": "code",
   "execution_count": 17,
   "metadata": {},
   "outputs": [
    {
     "data": {
      "text/html": [
       "<div>\n",
       "<style>\n",
       "    .dataframe thead tr:only-child th {\n",
       "        text-align: right;\n",
       "    }\n",
       "\n",
       "    .dataframe thead th {\n",
       "        text-align: left;\n",
       "    }\n",
       "\n",
       "    .dataframe tbody tr th {\n",
       "        vertical-align: top;\n",
       "    }\n",
       "</style>\n",
       "<table border=\"1\" class=\"dataframe\">\n",
       "  <thead>\n",
       "    <tr style=\"text-align: right;\">\n",
       "      <th></th>\n",
       "      <th></th>\n",
       "      <th>PassengerId</th>\n",
       "      <th>Age</th>\n",
       "      <th>SibSp</th>\n",
       "      <th>Parch</th>\n",
       "      <th>Fare</th>\n",
       "    </tr>\n",
       "    <tr>\n",
       "      <th>Pclass</th>\n",
       "      <th>Survived</th>\n",
       "      <th></th>\n",
       "      <th></th>\n",
       "      <th></th>\n",
       "      <th></th>\n",
       "      <th></th>\n",
       "    </tr>\n",
       "  </thead>\n",
       "  <tbody>\n",
       "    <tr>\n",
       "      <th rowspan=\"2\" valign=\"top\">1</th>\n",
       "      <th>0</th>\n",
       "      <td>395.500000</td>\n",
       "      <td>43.695312</td>\n",
       "      <td>0.359375</td>\n",
       "      <td>0.375000</td>\n",
       "      <td>67.356313</td>\n",
       "    </tr>\n",
       "    <tr>\n",
       "      <th>1</th>\n",
       "      <td>500.775000</td>\n",
       "      <td>35.124333</td>\n",
       "      <td>0.508333</td>\n",
       "      <td>0.433333</td>\n",
       "      <td>99.083752</td>\n",
       "    </tr>\n",
       "    <tr>\n",
       "      <th rowspan=\"2\" valign=\"top\">2</th>\n",
       "      <th>0</th>\n",
       "      <td>451.388889</td>\n",
       "      <td>33.544444</td>\n",
       "      <td>0.344444</td>\n",
       "      <td>0.155556</td>\n",
       "      <td>20.754953</td>\n",
       "    </tr>\n",
       "    <tr>\n",
       "      <th>1</th>\n",
       "      <td>442.566265</td>\n",
       "      <td>25.901566</td>\n",
       "      <td>0.518072</td>\n",
       "      <td>0.674699</td>\n",
       "      <td>22.248595</td>\n",
       "    </tr>\n",
       "    <tr>\n",
       "      <th rowspan=\"2\" valign=\"top\">3</th>\n",
       "      <th>0</th>\n",
       "      <td>450.362963</td>\n",
       "      <td>26.555556</td>\n",
       "      <td>0.625926</td>\n",
       "      <td>0.433333</td>\n",
       "      <td>13.180014</td>\n",
       "    </tr>\n",
       "    <tr>\n",
       "      <th>1</th>\n",
       "      <td>412.176471</td>\n",
       "      <td>20.646118</td>\n",
       "      <td>0.458824</td>\n",
       "      <td>0.529412</td>\n",
       "      <td>13.386421</td>\n",
       "    </tr>\n",
       "  </tbody>\n",
       "</table>\n",
       "</div>"
      ],
      "text/plain": [
       "                 PassengerId        Age     SibSp     Parch       Fare\n",
       "Pclass Survived                                                       \n",
       "1      0          395.500000  43.695312  0.359375  0.375000  67.356313\n",
       "       1          500.775000  35.124333  0.508333  0.433333  99.083752\n",
       "2      0          451.388889  33.544444  0.344444  0.155556  20.754953\n",
       "       1          442.566265  25.901566  0.518072  0.674699  22.248595\n",
       "3      0          450.362963  26.555556  0.625926  0.433333  13.180014\n",
       "       1          412.176471  20.646118  0.458824  0.529412  13.386421"
      ]
     },
     "execution_count": 17,
     "metadata": {},
     "output_type": "execute_result"
    }
   ],
   "source": [
    "pclass_surv.mean()"
   ]
  },
  {
   "cell_type": "code",
   "execution_count": 18,
   "metadata": {},
   "outputs": [
    {
     "data": {
      "text/html": [
       "<div>\n",
       "<style>\n",
       "    .dataframe thead tr:only-child th {\n",
       "        text-align: right;\n",
       "    }\n",
       "\n",
       "    .dataframe thead th {\n",
       "        text-align: left;\n",
       "    }\n",
       "\n",
       "    .dataframe tbody tr th {\n",
       "        vertical-align: top;\n",
       "    }\n",
       "</style>\n",
       "<table border=\"1\" class=\"dataframe\">\n",
       "  <thead>\n",
       "    <tr style=\"text-align: right;\">\n",
       "      <th></th>\n",
       "      <th></th>\n",
       "      <th>PassengerId</th>\n",
       "      <th>Age</th>\n",
       "      <th>SibSp</th>\n",
       "      <th>Parch</th>\n",
       "      <th>Fare</th>\n",
       "    </tr>\n",
       "    <tr>\n",
       "      <th>Pclass</th>\n",
       "      <th>Survived</th>\n",
       "      <th></th>\n",
       "      <th></th>\n",
       "      <th></th>\n",
       "      <th></th>\n",
       "      <th></th>\n",
       "    </tr>\n",
       "  </thead>\n",
       "  <tbody>\n",
       "    <tr>\n",
       "      <th rowspan=\"2\" valign=\"top\">1</th>\n",
       "      <th>0</th>\n",
       "      <td>406.5</td>\n",
       "      <td>45.25</td>\n",
       "      <td>0.0</td>\n",
       "      <td>0.0</td>\n",
       "      <td>51.93125</td>\n",
       "    </tr>\n",
       "    <tr>\n",
       "      <th>1</th>\n",
       "      <td>522.5</td>\n",
       "      <td>35.00</td>\n",
       "      <td>0.0</td>\n",
       "      <td>0.0</td>\n",
       "      <td>77.95830</td>\n",
       "    </tr>\n",
       "    <tr>\n",
       "      <th rowspan=\"2\" valign=\"top\">2</th>\n",
       "      <th>0</th>\n",
       "      <td>402.5</td>\n",
       "      <td>30.50</td>\n",
       "      <td>0.0</td>\n",
       "      <td>0.0</td>\n",
       "      <td>13.00000</td>\n",
       "    </tr>\n",
       "    <tr>\n",
       "      <th>1</th>\n",
       "      <td>441.0</td>\n",
       "      <td>28.00</td>\n",
       "      <td>0.0</td>\n",
       "      <td>0.0</td>\n",
       "      <td>23.00000</td>\n",
       "    </tr>\n",
       "    <tr>\n",
       "      <th rowspan=\"2\" valign=\"top\">3</th>\n",
       "      <th>0</th>\n",
       "      <td>452.5</td>\n",
       "      <td>25.00</td>\n",
       "      <td>0.0</td>\n",
       "      <td>0.0</td>\n",
       "      <td>8.05000</td>\n",
       "    </tr>\n",
       "    <tr>\n",
       "      <th>1</th>\n",
       "      <td>382.0</td>\n",
       "      <td>22.00</td>\n",
       "      <td>0.0</td>\n",
       "      <td>0.0</td>\n",
       "      <td>9.35000</td>\n",
       "    </tr>\n",
       "  </tbody>\n",
       "</table>\n",
       "</div>"
      ],
      "text/plain": [
       "                 PassengerId    Age  SibSp  Parch      Fare\n",
       "Pclass Survived                                            \n",
       "1      0               406.5  45.25    0.0    0.0  51.93125\n",
       "       1               522.5  35.00    0.0    0.0  77.95830\n",
       "2      0               402.5  30.50    0.0    0.0  13.00000\n",
       "       1               441.0  28.00    0.0    0.0  23.00000\n",
       "3      0               452.5  25.00    0.0    0.0   8.05000\n",
       "       1               382.0  22.00    0.0    0.0   9.35000"
      ]
     },
     "execution_count": 18,
     "metadata": {},
     "output_type": "execute_result"
    }
   ],
   "source": [
    "pclass_surv.median()"
   ]
  },
  {
   "cell_type": "markdown",
   "metadata": {},
   "source": [
    "You can also operate on single columns or subsets of columns across grouped DataFrames using the indexing syntax for standard DataFrames.\n",
    "\n",
    "**Find the percent of passengers who survived, grouped by where they embarked.**"
   ]
  },
  {
   "cell_type": "code",
   "execution_count": 19,
   "metadata": {},
   "outputs": [
    {
     "data": {
      "text/plain": [
       "Embarked\n",
       "C    0.607692\n",
       "Q    0.285714\n",
       "S    0.362816\n",
       "Name: Survived, dtype: float64"
      ]
     },
     "execution_count": 19,
     "metadata": {},
     "output_type": "execute_result"
    }
   ],
   "source": [
    "titanic.groupby('Embarked')['Survived'].mean()"
   ]
  },
  {
   "cell_type": "markdown",
   "metadata": {},
   "source": [
    "**Find the average fare and age, grouped by the location embarked as well as the class.**"
   ]
  },
  {
   "cell_type": "code",
   "execution_count": 20,
   "metadata": {},
   "outputs": [
    {
     "data": {
      "text/html": [
       "<div>\n",
       "<style>\n",
       "    .dataframe thead tr:only-child th {\n",
       "        text-align: right;\n",
       "    }\n",
       "\n",
       "    .dataframe thead th {\n",
       "        text-align: left;\n",
       "    }\n",
       "\n",
       "    .dataframe tbody tr th {\n",
       "        vertical-align: top;\n",
       "    }\n",
       "</style>\n",
       "<table border=\"1\" class=\"dataframe\">\n",
       "  <thead>\n",
       "    <tr style=\"text-align: right;\">\n",
       "      <th></th>\n",
       "      <th></th>\n",
       "      <th>Fare</th>\n",
       "      <th>Age</th>\n",
       "    </tr>\n",
       "    <tr>\n",
       "      <th>Embarked</th>\n",
       "      <th>Pclass</th>\n",
       "      <th></th>\n",
       "      <th></th>\n",
       "    </tr>\n",
       "  </thead>\n",
       "  <tbody>\n",
       "    <tr>\n",
       "      <th rowspan=\"3\" valign=\"top\">C</th>\n",
       "      <th>1</th>\n",
       "      <td>108.246399</td>\n",
       "      <td>38.027027</td>\n",
       "    </tr>\n",
       "    <tr>\n",
       "      <th>2</th>\n",
       "      <td>26.811947</td>\n",
       "      <td>22.766667</td>\n",
       "    </tr>\n",
       "    <tr>\n",
       "      <th>3</th>\n",
       "      <td>11.369927</td>\n",
       "      <td>20.741951</td>\n",
       "    </tr>\n",
       "    <tr>\n",
       "      <th rowspan=\"3\" valign=\"top\">Q</th>\n",
       "      <th>1</th>\n",
       "      <td>90.000000</td>\n",
       "      <td>38.500000</td>\n",
       "    </tr>\n",
       "    <tr>\n",
       "      <th>2</th>\n",
       "      <td>12.350000</td>\n",
       "      <td>43.500000</td>\n",
       "    </tr>\n",
       "    <tr>\n",
       "      <th>3</th>\n",
       "      <td>12.780904</td>\n",
       "      <td>25.937500</td>\n",
       "    </tr>\n",
       "    <tr>\n",
       "      <th rowspan=\"3\" valign=\"top\">S</th>\n",
       "      <th>1</th>\n",
       "      <td>74.172415</td>\n",
       "      <td>38.152037</td>\n",
       "    </tr>\n",
       "    <tr>\n",
       "      <th>2</th>\n",
       "      <td>21.075000</td>\n",
       "      <td>30.386731</td>\n",
       "    </tr>\n",
       "    <tr>\n",
       "      <th>3</th>\n",
       "      <td>13.529451</td>\n",
       "      <td>25.696552</td>\n",
       "    </tr>\n",
       "  </tbody>\n",
       "</table>\n",
       "</div>"
      ],
      "text/plain": [
       "                       Fare        Age\n",
       "Embarked Pclass                       \n",
       "C        1       108.246399  38.027027\n",
       "         2        26.811947  22.766667\n",
       "         3        11.369927  20.741951\n",
       "Q        1        90.000000  38.500000\n",
       "         2        12.350000  43.500000\n",
       "         3        12.780904  25.937500\n",
       "S        1        74.172415  38.152037\n",
       "         2        21.075000  30.386731\n",
       "         3        13.529451  25.696552"
      ]
     },
     "execution_count": 20,
     "metadata": {},
     "output_type": "execute_result"
    }
   ],
   "source": [
    "avg_fare = titanic.groupby(['Embarked','Pclass'])[['Fare','Age']].mean()\n",
    "avg_fare"
   ]
  },
  {
   "cell_type": "markdown",
   "metadata": {},
   "source": [
    "<a id='removing_hierarchical'></a>\n",
    "\n",
    "### Removing the Hierarchical Index\n",
    "\n",
    "---\n",
    "\n",
    "By default, `pandas` will give you back your groups in a hierarchical index format. If this is not what you prefer, you can use the `.reset_index()` function to take your row labels and convert them into columns.\n",
    "\n",
    "**Remove the hierarchical index for the average fare and age data set you just created, converting \"Embarked\" and \"Pclass\" to columns.**"
   ]
  },
  {
   "cell_type": "code",
   "execution_count": 21,
   "metadata": {},
   "outputs": [
    {
     "data": {
      "text/html": [
       "<div>\n",
       "<style>\n",
       "    .dataframe thead tr:only-child th {\n",
       "        text-align: right;\n",
       "    }\n",
       "\n",
       "    .dataframe thead th {\n",
       "        text-align: left;\n",
       "    }\n",
       "\n",
       "    .dataframe tbody tr th {\n",
       "        vertical-align: top;\n",
       "    }\n",
       "</style>\n",
       "<table border=\"1\" class=\"dataframe\">\n",
       "  <thead>\n",
       "    <tr style=\"text-align: right;\">\n",
       "      <th></th>\n",
       "      <th>Embarked</th>\n",
       "      <th>Pclass</th>\n",
       "      <th>Fare</th>\n",
       "      <th>Age</th>\n",
       "    </tr>\n",
       "  </thead>\n",
       "  <tbody>\n",
       "    <tr>\n",
       "      <th>0</th>\n",
       "      <td>C</td>\n",
       "      <td>1</td>\n",
       "      <td>108.246399</td>\n",
       "      <td>38.027027</td>\n",
       "    </tr>\n",
       "    <tr>\n",
       "      <th>1</th>\n",
       "      <td>C</td>\n",
       "      <td>2</td>\n",
       "      <td>26.811947</td>\n",
       "      <td>22.766667</td>\n",
       "    </tr>\n",
       "    <tr>\n",
       "      <th>2</th>\n",
       "      <td>C</td>\n",
       "      <td>3</td>\n",
       "      <td>11.369927</td>\n",
       "      <td>20.741951</td>\n",
       "    </tr>\n",
       "    <tr>\n",
       "      <th>3</th>\n",
       "      <td>Q</td>\n",
       "      <td>1</td>\n",
       "      <td>90.000000</td>\n",
       "      <td>38.500000</td>\n",
       "    </tr>\n",
       "    <tr>\n",
       "      <th>4</th>\n",
       "      <td>Q</td>\n",
       "      <td>2</td>\n",
       "      <td>12.350000</td>\n",
       "      <td>43.500000</td>\n",
       "    </tr>\n",
       "    <tr>\n",
       "      <th>5</th>\n",
       "      <td>Q</td>\n",
       "      <td>3</td>\n",
       "      <td>12.780904</td>\n",
       "      <td>25.937500</td>\n",
       "    </tr>\n",
       "    <tr>\n",
       "      <th>6</th>\n",
       "      <td>S</td>\n",
       "      <td>1</td>\n",
       "      <td>74.172415</td>\n",
       "      <td>38.152037</td>\n",
       "    </tr>\n",
       "    <tr>\n",
       "      <th>7</th>\n",
       "      <td>S</td>\n",
       "      <td>2</td>\n",
       "      <td>21.075000</td>\n",
       "      <td>30.386731</td>\n",
       "    </tr>\n",
       "    <tr>\n",
       "      <th>8</th>\n",
       "      <td>S</td>\n",
       "      <td>3</td>\n",
       "      <td>13.529451</td>\n",
       "      <td>25.696552</td>\n",
       "    </tr>\n",
       "  </tbody>\n",
       "</table>\n",
       "</div>"
      ],
      "text/plain": [
       "  Embarked  Pclass        Fare        Age\n",
       "0        C       1  108.246399  38.027027\n",
       "1        C       2   26.811947  22.766667\n",
       "2        C       3   11.369927  20.741951\n",
       "3        Q       1   90.000000  38.500000\n",
       "4        Q       2   12.350000  43.500000\n",
       "5        Q       3   12.780904  25.937500\n",
       "6        S       1   74.172415  38.152037\n",
       "7        S       2   21.075000  30.386731\n",
       "8        S       3   13.529451  25.696552"
      ]
     },
     "execution_count": 21,
     "metadata": {},
     "output_type": "execute_result"
    }
   ],
   "source": [
    "avg_fare = titanic.groupby(['Embarked','Pclass'])[['Fare','Age']].mean().reset_index()\n",
    "avg_fare"
   ]
  },
  {
   "cell_type": "markdown",
   "metadata": {},
   "source": [
    "<a id='custom_functions'></a>\n",
    "\n",
    "### Applying Custom Functions with `.apply()`\n",
    "\n",
    "---\n",
    "\n",
    "While `pandas` does contain a variety of useful built-in summary functions, you'll often need to apply a custom function to the data in your groups. \n",
    "\n",
    "The `.apply()` function takes a function as an argument and applies it to the subsets of data in your DataFrame groups.\n",
    "\n",
    "**See what happens when you replace the built-in `.mean()` function with `.apply(np.mean)` for the question above.**"
   ]
  },
  {
   "cell_type": "code",
   "execution_count": 22,
   "metadata": {},
   "outputs": [
    {
     "data": {
      "text/html": [
       "<div>\n",
       "<style>\n",
       "    .dataframe thead tr:only-child th {\n",
       "        text-align: right;\n",
       "    }\n",
       "\n",
       "    .dataframe thead th {\n",
       "        text-align: left;\n",
       "    }\n",
       "\n",
       "    .dataframe tbody tr th {\n",
       "        vertical-align: top;\n",
       "    }\n",
       "</style>\n",
       "<table border=\"1\" class=\"dataframe\">\n",
       "  <thead>\n",
       "    <tr style=\"text-align: right;\">\n",
       "      <th></th>\n",
       "      <th>Embarked</th>\n",
       "      <th>Pclass</th>\n",
       "      <th>Fare</th>\n",
       "      <th>Age</th>\n",
       "    </tr>\n",
       "  </thead>\n",
       "  <tbody>\n",
       "    <tr>\n",
       "      <th>0</th>\n",
       "      <td>C</td>\n",
       "      <td>1</td>\n",
       "      <td>108.246399</td>\n",
       "      <td>38.027027</td>\n",
       "    </tr>\n",
       "    <tr>\n",
       "      <th>1</th>\n",
       "      <td>C</td>\n",
       "      <td>2</td>\n",
       "      <td>26.811947</td>\n",
       "      <td>22.766667</td>\n",
       "    </tr>\n",
       "    <tr>\n",
       "      <th>2</th>\n",
       "      <td>C</td>\n",
       "      <td>3</td>\n",
       "      <td>11.369927</td>\n",
       "      <td>20.741951</td>\n",
       "    </tr>\n",
       "    <tr>\n",
       "      <th>3</th>\n",
       "      <td>Q</td>\n",
       "      <td>1</td>\n",
       "      <td>90.000000</td>\n",
       "      <td>38.500000</td>\n",
       "    </tr>\n",
       "    <tr>\n",
       "      <th>4</th>\n",
       "      <td>Q</td>\n",
       "      <td>2</td>\n",
       "      <td>12.350000</td>\n",
       "      <td>43.500000</td>\n",
       "    </tr>\n",
       "    <tr>\n",
       "      <th>5</th>\n",
       "      <td>Q</td>\n",
       "      <td>3</td>\n",
       "      <td>12.780904</td>\n",
       "      <td>25.937500</td>\n",
       "    </tr>\n",
       "    <tr>\n",
       "      <th>6</th>\n",
       "      <td>S</td>\n",
       "      <td>1</td>\n",
       "      <td>74.172415</td>\n",
       "      <td>38.152037</td>\n",
       "    </tr>\n",
       "    <tr>\n",
       "      <th>7</th>\n",
       "      <td>S</td>\n",
       "      <td>2</td>\n",
       "      <td>21.075000</td>\n",
       "      <td>30.386731</td>\n",
       "    </tr>\n",
       "    <tr>\n",
       "      <th>8</th>\n",
       "      <td>S</td>\n",
       "      <td>3</td>\n",
       "      <td>13.529451</td>\n",
       "      <td>25.696552</td>\n",
       "    </tr>\n",
       "  </tbody>\n",
       "</table>\n",
       "</div>"
      ],
      "text/plain": [
       "  Embarked  Pclass        Fare        Age\n",
       "0        C       1  108.246399  38.027027\n",
       "1        C       2   26.811947  22.766667\n",
       "2        C       3   11.369927  20.741951\n",
       "3        Q       1   90.000000  38.500000\n",
       "4        Q       2   12.350000  43.500000\n",
       "5        Q       3   12.780904  25.937500\n",
       "6        S       1   74.172415  38.152037\n",
       "7        S       2   21.075000  30.386731\n",
       "8        S       3   13.529451  25.696552"
      ]
     },
     "execution_count": 22,
     "metadata": {},
     "output_type": "execute_result"
    }
   ],
   "source": [
    "avg_fare = titanic.groupby(['Embarked','Pclass'])[['Fare','Age']].apply(np.mean).reset_index()\n",
    "avg_fare"
   ]
  },
  {
   "cell_type": "markdown",
   "metadata": {},
   "source": [
    "Say we want to determine the mean of fare and age per \"Embarked\" and \"Pclass,\" but we also want the numbers to be rounded. One way to do this would be to round the columns after we apply the mean function as we did above. \n",
    "\n",
    "Another way would be to write a custom function to pass into `.apply()`. *The function passed to `.apply()` will run on all of the subsets of data.*\n",
    "\n",
    "**Write a function that will take the mean of columns in a data set and round the values.**"
   ]
  },
  {
   "cell_type": "code",
   "execution_count": 24,
   "metadata": {},
   "outputs": [],
   "source": [
    "def rounded_mean(subset):\n",
    "    subset = subset.mean()\n",
    "    subset = subset.round()\n",
    "    return subset"
   ]
  },
  {
   "cell_type": "markdown",
   "metadata": {},
   "source": [
    "**Apply your custom function to the grouped data.**"
   ]
  },
  {
   "cell_type": "code",
   "execution_count": 25,
   "metadata": {},
   "outputs": [
    {
     "data": {
      "text/html": [
       "<div>\n",
       "<style>\n",
       "    .dataframe thead tr:only-child th {\n",
       "        text-align: right;\n",
       "    }\n",
       "\n",
       "    .dataframe thead th {\n",
       "        text-align: left;\n",
       "    }\n",
       "\n",
       "    .dataframe tbody tr th {\n",
       "        vertical-align: top;\n",
       "    }\n",
       "</style>\n",
       "<table border=\"1\" class=\"dataframe\">\n",
       "  <thead>\n",
       "    <tr style=\"text-align: right;\">\n",
       "      <th></th>\n",
       "      <th>Embarked</th>\n",
       "      <th>Pclass</th>\n",
       "      <th>Fare</th>\n",
       "      <th>Age</th>\n",
       "    </tr>\n",
       "  </thead>\n",
       "  <tbody>\n",
       "    <tr>\n",
       "      <th>0</th>\n",
       "      <td>C</td>\n",
       "      <td>1</td>\n",
       "      <td>108.0</td>\n",
       "      <td>38.0</td>\n",
       "    </tr>\n",
       "    <tr>\n",
       "      <th>1</th>\n",
       "      <td>C</td>\n",
       "      <td>2</td>\n",
       "      <td>27.0</td>\n",
       "      <td>23.0</td>\n",
       "    </tr>\n",
       "    <tr>\n",
       "      <th>2</th>\n",
       "      <td>C</td>\n",
       "      <td>3</td>\n",
       "      <td>11.0</td>\n",
       "      <td>21.0</td>\n",
       "    </tr>\n",
       "    <tr>\n",
       "      <th>3</th>\n",
       "      <td>Q</td>\n",
       "      <td>1</td>\n",
       "      <td>90.0</td>\n",
       "      <td>38.0</td>\n",
       "    </tr>\n",
       "    <tr>\n",
       "      <th>4</th>\n",
       "      <td>Q</td>\n",
       "      <td>2</td>\n",
       "      <td>12.0</td>\n",
       "      <td>44.0</td>\n",
       "    </tr>\n",
       "    <tr>\n",
       "      <th>5</th>\n",
       "      <td>Q</td>\n",
       "      <td>3</td>\n",
       "      <td>13.0</td>\n",
       "      <td>26.0</td>\n",
       "    </tr>\n",
       "    <tr>\n",
       "      <th>6</th>\n",
       "      <td>S</td>\n",
       "      <td>1</td>\n",
       "      <td>74.0</td>\n",
       "      <td>38.0</td>\n",
       "    </tr>\n",
       "    <tr>\n",
       "      <th>7</th>\n",
       "      <td>S</td>\n",
       "      <td>2</td>\n",
       "      <td>21.0</td>\n",
       "      <td>30.0</td>\n",
       "    </tr>\n",
       "    <tr>\n",
       "      <th>8</th>\n",
       "      <td>S</td>\n",
       "      <td>3</td>\n",
       "      <td>14.0</td>\n",
       "      <td>26.0</td>\n",
       "    </tr>\n",
       "  </tbody>\n",
       "</table>\n",
       "</div>"
      ],
      "text/plain": [
       "  Embarked  Pclass   Fare   Age\n",
       "0        C       1  108.0  38.0\n",
       "1        C       2   27.0  23.0\n",
       "2        C       3   11.0  21.0\n",
       "3        Q       1   90.0  38.0\n",
       "4        Q       2   12.0  44.0\n",
       "5        Q       3   13.0  26.0\n",
       "6        S       1   74.0  38.0\n",
       "7        S       2   21.0  30.0\n",
       "8        S       3   14.0  26.0"
      ]
     },
     "execution_count": 25,
     "metadata": {},
     "output_type": "execute_result"
    }
   ],
   "source": [
    "avg_fare = titanic.groupby(['Embarked','Pclass'])[['Fare','Age']].apply(rounded_mean).reset_index()\n",
    "avg_fare"
   ]
  },
  {
   "cell_type": "markdown",
   "metadata": {},
   "source": [
    "Functions that can be applied to a DataFrame and return a DataFrame can also be applied to *groups* of DataFrames.\n",
    "\n",
    "**For example, write a function that will return the subset of the Titanic data set with the top five paying female passsengers.**\n"
   ]
  },
  {
   "cell_type": "code",
   "execution_count": 26,
   "metadata": {},
   "outputs": [],
   "source": [
    "def top_paying_females(data):\n",
    "    data = data.sort_values('Fare', ascending=False)\n",
    "    subset = data[data['Sex'] == 'female']\n",
    "    return subset.head(5)"
   ]
  },
  {
   "cell_type": "code",
   "execution_count": 65,
   "metadata": {},
   "outputs": [
    {
     "data": {
      "text/html": [
       "<div>\n",
       "<table border=\"1\" class=\"dataframe\">\n",
       "  <thead>\n",
       "    <tr style=\"text-align: right;\">\n",
       "      <th></th>\n",
       "      <th>PassengerId</th>\n",
       "      <th>Survived</th>\n",
       "      <th>Pclass</th>\n",
       "      <th>Name</th>\n",
       "      <th>Sex</th>\n",
       "      <th>Age</th>\n",
       "      <th>SibSp</th>\n",
       "      <th>Parch</th>\n",
       "      <th>Fare</th>\n",
       "      <th>Embarked</th>\n",
       "    </tr>\n",
       "  </thead>\n",
       "  <tbody>\n",
       "    <tr>\n",
       "      <th>207</th>\n",
       "      <td>259</td>\n",
       "      <td>1</td>\n",
       "      <td>1</td>\n",
       "      <td>Ward, Miss. Anna</td>\n",
       "      <td>female</td>\n",
       "      <td>35.0</td>\n",
       "      <td>0</td>\n",
       "      <td>0</td>\n",
       "      <td>512.3292</td>\n",
       "      <td>C</td>\n",
       "    </tr>\n",
       "    <tr>\n",
       "      <th>273</th>\n",
       "      <td>342</td>\n",
       "      <td>1</td>\n",
       "      <td>1</td>\n",
       "      <td>Fortune, Miss. Alice Elizabeth</td>\n",
       "      <td>female</td>\n",
       "      <td>24.0</td>\n",
       "      <td>3</td>\n",
       "      <td>2</td>\n",
       "      <td>263.0000</td>\n",
       "      <td>S</td>\n",
       "    </tr>\n",
       "    <tr>\n",
       "      <th>66</th>\n",
       "      <td>89</td>\n",
       "      <td>1</td>\n",
       "      <td>1</td>\n",
       "      <td>Fortune, Miss. Mabel Helen</td>\n",
       "      <td>female</td>\n",
       "      <td>23.0</td>\n",
       "      <td>3</td>\n",
       "      <td>2</td>\n",
       "      <td>263.0000</td>\n",
       "      <td>S</td>\n",
       "    </tr>\n",
       "    <tr>\n",
       "      <th>247</th>\n",
       "      <td>312</td>\n",
       "      <td>1</td>\n",
       "      <td>1</td>\n",
       "      <td>Ryerson, Miss. Emily Borie</td>\n",
       "      <td>female</td>\n",
       "      <td>18.0</td>\n",
       "      <td>2</td>\n",
       "      <td>2</td>\n",
       "      <td>262.3750</td>\n",
       "      <td>C</td>\n",
       "    </tr>\n",
       "    <tr>\n",
       "      <th>588</th>\n",
       "      <td>743</td>\n",
       "      <td>1</td>\n",
       "      <td>1</td>\n",
       "      <td>Ryerson, Miss. Susan Parker \"Suzette\"</td>\n",
       "      <td>female</td>\n",
       "      <td>21.0</td>\n",
       "      <td>2</td>\n",
       "      <td>2</td>\n",
       "      <td>262.3750</td>\n",
       "      <td>C</td>\n",
       "    </tr>\n",
       "  </tbody>\n",
       "</table>\n",
       "</div>"
      ],
      "text/plain": [
       "     PassengerId  Survived  Pclass                                   Name  \\\n",
       "207          259         1       1                       Ward, Miss. Anna   \n",
       "273          342         1       1         Fortune, Miss. Alice Elizabeth   \n",
       "66            89         1       1             Fortune, Miss. Mabel Helen   \n",
       "247          312         1       1             Ryerson, Miss. Emily Borie   \n",
       "588          743         1       1  Ryerson, Miss. Susan Parker \"Suzette\"   \n",
       "\n",
       "        Sex   Age  SibSp  Parch      Fare Embarked  \n",
       "207  female  35.0      0      0  512.3292        C  \n",
       "273  female  24.0      3      2  263.0000        S  \n",
       "66   female  23.0      3      2  263.0000        S  \n",
       "247  female  18.0      2      2  262.3750        C  \n",
       "588  female  21.0      2      2  262.3750        C  "
      ]
     },
     "execution_count": 65,
     "metadata": {},
     "output_type": "execute_result"
    }
   ],
   "source": [
    "top_paying_females(titanic)"
   ]
  },
  {
   "cell_type": "markdown",
   "metadata": {},
   "source": [
    "**Group the Titanic data by \"Survived\" and apply your function to extract the top paying females.**"
   ]
  },
  {
   "cell_type": "code",
   "execution_count": 27,
   "metadata": {
    "scrolled": true
   },
   "outputs": [
    {
     "data": {
      "text/html": [
       "<div>\n",
       "<style>\n",
       "    .dataframe thead tr:only-child th {\n",
       "        text-align: right;\n",
       "    }\n",
       "\n",
       "    .dataframe thead th {\n",
       "        text-align: left;\n",
       "    }\n",
       "\n",
       "    .dataframe tbody tr th {\n",
       "        vertical-align: top;\n",
       "    }\n",
       "</style>\n",
       "<table border=\"1\" class=\"dataframe\">\n",
       "  <thead>\n",
       "    <tr style=\"text-align: right;\">\n",
       "      <th></th>\n",
       "      <th></th>\n",
       "      <th>PassengerId</th>\n",
       "      <th>Survived</th>\n",
       "      <th>Pclass</th>\n",
       "      <th>Name</th>\n",
       "      <th>Sex</th>\n",
       "      <th>Age</th>\n",
       "      <th>SibSp</th>\n",
       "      <th>Parch</th>\n",
       "      <th>Fare</th>\n",
       "      <th>Embarked</th>\n",
       "    </tr>\n",
       "    <tr>\n",
       "      <th>Survived</th>\n",
       "      <th></th>\n",
       "      <th></th>\n",
       "      <th></th>\n",
       "      <th></th>\n",
       "      <th></th>\n",
       "      <th></th>\n",
       "      <th></th>\n",
       "      <th></th>\n",
       "      <th></th>\n",
       "      <th></th>\n",
       "      <th></th>\n",
       "    </tr>\n",
       "  </thead>\n",
       "  <tbody>\n",
       "    <tr>\n",
       "      <th rowspan=\"5\" valign=\"top\">0</th>\n",
       "      <th>395</th>\n",
       "      <td>499</td>\n",
       "      <td>0</td>\n",
       "      <td>1</td>\n",
       "      <td>Allison, Mrs. Hudson J C (Bessie Waldo Daniels)</td>\n",
       "      <td>female</td>\n",
       "      <td>25.0</td>\n",
       "      <td>1</td>\n",
       "      <td>2</td>\n",
       "      <td>151.5500</td>\n",
       "      <td>S</td>\n",
       "    </tr>\n",
       "    <tr>\n",
       "      <th>239</th>\n",
       "      <td>298</td>\n",
       "      <td>0</td>\n",
       "      <td>1</td>\n",
       "      <td>Allison, Miss. Helen Loraine</td>\n",
       "      <td>female</td>\n",
       "      <td>2.0</td>\n",
       "      <td>1</td>\n",
       "      <td>2</td>\n",
       "      <td>151.5500</td>\n",
       "      <td>S</td>\n",
       "    </tr>\n",
       "    <tr>\n",
       "      <th>535</th>\n",
       "      <td>679</td>\n",
       "      <td>0</td>\n",
       "      <td>3</td>\n",
       "      <td>Goodwin, Mrs. Frederick (Augusta Tyler)</td>\n",
       "      <td>female</td>\n",
       "      <td>43.0</td>\n",
       "      <td>1</td>\n",
       "      <td>6</td>\n",
       "      <td>46.9000</td>\n",
       "      <td>S</td>\n",
       "    </tr>\n",
       "    <tr>\n",
       "      <th>53</th>\n",
       "      <td>72</td>\n",
       "      <td>0</td>\n",
       "      <td>3</td>\n",
       "      <td>Goodwin, Miss. Lillian Amy</td>\n",
       "      <td>female</td>\n",
       "      <td>16.0</td>\n",
       "      <td>5</td>\n",
       "      <td>2</td>\n",
       "      <td>46.9000</td>\n",
       "      <td>S</td>\n",
       "    </tr>\n",
       "    <tr>\n",
       "      <th>504</th>\n",
       "      <td>639</td>\n",
       "      <td>0</td>\n",
       "      <td>3</td>\n",
       "      <td>Panula, Mrs. Juha (Maria Emilia Ojala)</td>\n",
       "      <td>female</td>\n",
       "      <td>41.0</td>\n",
       "      <td>0</td>\n",
       "      <td>5</td>\n",
       "      <td>39.6875</td>\n",
       "      <td>S</td>\n",
       "    </tr>\n",
       "    <tr>\n",
       "      <th rowspan=\"5\" valign=\"top\">1</th>\n",
       "      <th>207</th>\n",
       "      <td>259</td>\n",
       "      <td>1</td>\n",
       "      <td>1</td>\n",
       "      <td>Ward, Miss. Anna</td>\n",
       "      <td>female</td>\n",
       "      <td>35.0</td>\n",
       "      <td>0</td>\n",
       "      <td>0</td>\n",
       "      <td>512.3292</td>\n",
       "      <td>C</td>\n",
       "    </tr>\n",
       "    <tr>\n",
       "      <th>273</th>\n",
       "      <td>342</td>\n",
       "      <td>1</td>\n",
       "      <td>1</td>\n",
       "      <td>Fortune, Miss. Alice Elizabeth</td>\n",
       "      <td>female</td>\n",
       "      <td>24.0</td>\n",
       "      <td>3</td>\n",
       "      <td>2</td>\n",
       "      <td>263.0000</td>\n",
       "      <td>S</td>\n",
       "    </tr>\n",
       "    <tr>\n",
       "      <th>66</th>\n",
       "      <td>89</td>\n",
       "      <td>1</td>\n",
       "      <td>1</td>\n",
       "      <td>Fortune, Miss. Mabel Helen</td>\n",
       "      <td>female</td>\n",
       "      <td>23.0</td>\n",
       "      <td>3</td>\n",
       "      <td>2</td>\n",
       "      <td>263.0000</td>\n",
       "      <td>S</td>\n",
       "    </tr>\n",
       "    <tr>\n",
       "      <th>247</th>\n",
       "      <td>312</td>\n",
       "      <td>1</td>\n",
       "      <td>1</td>\n",
       "      <td>Ryerson, Miss. Emily Borie</td>\n",
       "      <td>female</td>\n",
       "      <td>18.0</td>\n",
       "      <td>2</td>\n",
       "      <td>2</td>\n",
       "      <td>262.3750</td>\n",
       "      <td>C</td>\n",
       "    </tr>\n",
       "    <tr>\n",
       "      <th>588</th>\n",
       "      <td>743</td>\n",
       "      <td>1</td>\n",
       "      <td>1</td>\n",
       "      <td>Ryerson, Miss. Susan Parker \"Suzette\"</td>\n",
       "      <td>female</td>\n",
       "      <td>21.0</td>\n",
       "      <td>2</td>\n",
       "      <td>2</td>\n",
       "      <td>262.3750</td>\n",
       "      <td>C</td>\n",
       "    </tr>\n",
       "  </tbody>\n",
       "</table>\n",
       "</div>"
      ],
      "text/plain": [
       "              PassengerId  Survived  Pclass  \\\n",
       "Survived                                      \n",
       "0        395          499         0       1   \n",
       "         239          298         0       1   \n",
       "         535          679         0       3   \n",
       "         53            72         0       3   \n",
       "         504          639         0       3   \n",
       "1        207          259         1       1   \n",
       "         273          342         1       1   \n",
       "         66            89         1       1   \n",
       "         247          312         1       1   \n",
       "         588          743         1       1   \n",
       "\n",
       "                                                         Name     Sex   Age  \\\n",
       "Survived                                                                      \n",
       "0        395  Allison, Mrs. Hudson J C (Bessie Waldo Daniels)  female  25.0   \n",
       "         239                     Allison, Miss. Helen Loraine  female   2.0   \n",
       "         535          Goodwin, Mrs. Frederick (Augusta Tyler)  female  43.0   \n",
       "         53                        Goodwin, Miss. Lillian Amy  female  16.0   \n",
       "         504           Panula, Mrs. Juha (Maria Emilia Ojala)  female  41.0   \n",
       "1        207                                 Ward, Miss. Anna  female  35.0   \n",
       "         273                   Fortune, Miss. Alice Elizabeth  female  24.0   \n",
       "         66                        Fortune, Miss. Mabel Helen  female  23.0   \n",
       "         247                       Ryerson, Miss. Emily Borie  female  18.0   \n",
       "         588            Ryerson, Miss. Susan Parker \"Suzette\"  female  21.0   \n",
       "\n",
       "              SibSp  Parch      Fare Embarked  \n",
       "Survived                                       \n",
       "0        395      1      2  151.5500        S  \n",
       "         239      1      2  151.5500        S  \n",
       "         535      1      6   46.9000        S  \n",
       "         53       5      2   46.9000        S  \n",
       "         504      0      5   39.6875        S  \n",
       "1        207      0      0  512.3292        C  \n",
       "         273      3      2  263.0000        S  \n",
       "         66       3      2  263.0000        S  \n",
       "         247      2      2  262.3750        C  \n",
       "         588      2      2  262.3750        C  "
      ]
     },
     "execution_count": 27,
     "metadata": {},
     "output_type": "execute_result"
    }
   ],
   "source": [
    "titanic.groupby('Survived').apply(top_paying_females)"
   ]
  },
  {
   "cell_type": "markdown",
   "metadata": {},
   "source": [
    "<a id='basic_plotting'></a>\n",
    "\n",
    "### Plotting Basic Histograms with Groups\n",
    "\n",
    "---\n",
    "\n",
    "We can leverage the power of `pandas` even more by mixing its plotting capabilities with its grouping capabilities.\n",
    "\n",
    "**First, find the number of passengers per \"PClass\" by using `.groupby()` and `.size()`.**"
   ]
  },
  {
   "cell_type": "code",
   "execution_count": 28,
   "metadata": {},
   "outputs": [
    {
     "data": {
      "text/plain": [
       "Pclass\n",
       "1    184\n",
       "2    173\n",
       "3    355\n",
       "dtype: int64"
      ]
     },
     "execution_count": 28,
     "metadata": {},
     "output_type": "execute_result"
    }
   ],
   "source": [
    "class_counts = titanic.groupby('Pclass').size()\n",
    "class_counts"
   ]
  },
  {
   "cell_type": "markdown",
   "metadata": {},
   "source": [
    "Here we have a Series object with the counts of the passengers-per-class group. It's easy to create a histogram of these counts by appending `.plot(kind=\"bar\", color=\"g\", width=0.85)`."
   ]
  },
  {
   "cell_type": "code",
   "execution_count": 29,
   "metadata": {},
   "outputs": [
    {
     "data": {
      "text/plain": [
       "<matplotlib.axes._subplots.AxesSubplot at 0x10db87790>"
      ]
     },
     "execution_count": 29,
     "metadata": {},
     "output_type": "execute_result"
    },
    {
     "data": {
      "image/png": "[encoded data removed]",
      "text/plain": [
       "<matplotlib.figure.Figure at 0x1185326d0>"
      ]
     },
     "metadata": {
      "image/png": {
       "height": 258,
       "width": 372
      }
     },
     "output_type": "display_data"
    }
   ],
   "source": [
    "class_counts.plot(kind=\"bar\", color=\"g\", width=0.85)"
   ]
  },
  {
   "cell_type": "markdown",
   "metadata": {},
   "source": [
    "**Plot the average fare per sex and class as a histogram.**"
   ]
  },
  {
   "cell_type": "code",
   "execution_count": 30,
   "metadata": {},
   "outputs": [
    {
     "data": {
      "text/plain": [
       "<matplotlib.axes._subplots.AxesSubplot at 0x1185ea7d0>"
      ]
     },
     "execution_count": 30,
     "metadata": {},
     "output_type": "execute_result"
    },
    {
     "data": {
      "image/png": "[encoded data removed]",
      "text/plain": [
       "<matplotlib.figure.Figure at 0x11873cd10>"
      ]
     },
     "metadata": {
      "image/png": {
       "height": 300,
       "width": 372
      }
     },
     "output_type": "display_data"
    }
   ],
   "source": [
    "titanic.groupby(['Pclass','Sex'])['Fare'].mean().plot(kind='bar', width=0.6)"
   ]
  },
  {
   "cell_type": "markdown",
   "metadata": {},
   "source": [
    "<a id='grouped_hists'></a>\n",
    "\n",
    "### Grouped Histograms with `pandas`\n",
    "\n",
    "---\n",
    "\n",
    "In the chart we just made, each bar represents a distinct combination of our groups in `.groupby()`. This is fine, but it would be a more visually appealing and informative chart if we represented each group with a different color and made a grouped bar chart.\n",
    "\n",
    "**Calculate the mean of fare by \"Pclass\" and \"Sex\" using `.groupby()`, assign it to a variable, and print it out.**"
   ]
  },
  {
   "cell_type": "code",
   "execution_count": 31,
   "metadata": {},
   "outputs": [
    {
     "data": {
      "text/plain": [
       "Pclass  Sex   \n",
       "1       female    108.619680\n",
       "        male       71.142781\n",
       "2       female     21.951070\n",
       "        male       21.113131\n",
       "3       female     15.875369\n",
       "        male       12.162695\n",
       "Name: Fare, dtype: float64"
      ]
     },
     "execution_count": 31,
     "metadata": {},
     "output_type": "execute_result"
    }
   ],
   "source": [
    "mean_fare = titanic.groupby(['Pclass','Sex'])['Fare'].mean()\n",
    "mean_fare"
   ]
  },
  {
   "cell_type": "markdown",
   "metadata": {},
   "source": [
    "There is another built-in function for `pandas` objects called `.unstack()`. When we have a hierarchical index like we do above with \"Pclass\" as the broader category and \"Sex\" as the subcategory, the `.unstack()` command will attempt to move the subcategory from index to column representation.\n",
    "\n",
    "This is a way to move from a \"long\" to a \"wide\" column format.\n",
    "\n",
    "**Use the `.unstack()` function on your mean fare variable.**"
   ]
  },
  {
   "cell_type": "code",
   "execution_count": 32,
   "metadata": {},
   "outputs": [
    {
     "data": {
      "text/html": [
       "<div>\n",
       "<style>\n",
       "    .dataframe thead tr:only-child th {\n",
       "        text-align: right;\n",
       "    }\n",
       "\n",
       "    .dataframe thead th {\n",
       "        text-align: left;\n",
       "    }\n",
       "\n",
       "    .dataframe tbody tr th {\n",
       "        vertical-align: top;\n",
       "    }\n",
       "</style>\n",
       "<table border=\"1\" class=\"dataframe\">\n",
       "  <thead>\n",
       "    <tr style=\"text-align: right;\">\n",
       "      <th>Sex</th>\n",
       "      <th>female</th>\n",
       "      <th>male</th>\n",
       "    </tr>\n",
       "    <tr>\n",
       "      <th>Pclass</th>\n",
       "      <th></th>\n",
       "      <th></th>\n",
       "    </tr>\n",
       "  </thead>\n",
       "  <tbody>\n",
       "    <tr>\n",
       "      <th>1</th>\n",
       "      <td>108.619680</td>\n",
       "      <td>71.142781</td>\n",
       "    </tr>\n",
       "    <tr>\n",
       "      <th>2</th>\n",
       "      <td>21.951070</td>\n",
       "      <td>21.113131</td>\n",
       "    </tr>\n",
       "    <tr>\n",
       "      <th>3</th>\n",
       "      <td>15.875369</td>\n",
       "      <td>12.162695</td>\n",
       "    </tr>\n",
       "  </tbody>\n",
       "</table>\n",
       "</div>"
      ],
      "text/plain": [
       "Sex         female       male\n",
       "Pclass                       \n",
       "1       108.619680  71.142781\n",
       "2        21.951070  21.113131\n",
       "3        15.875369  12.162695"
      ]
     },
     "execution_count": 32,
     "metadata": {},
     "output_type": "execute_result"
    }
   ],
   "source": [
    "mean_fare.unstack()"
   ]
  },
  {
   "cell_type": "markdown",
   "metadata": {},
   "source": [
    "**Now, use the plot function on the unstacked data to create a bar chart.**"
   ]
  },
  {
   "cell_type": "code",
   "execution_count": 33,
   "metadata": {},
   "outputs": [
    {
     "data": {
      "text/plain": [
       "<matplotlib.axes._subplots.AxesSubplot at 0x11ba38c50>"
      ]
     },
     "execution_count": 33,
     "metadata": {},
     "output_type": "execute_result"
    },
    {
     "data": {
      "image/png": "[encoded data removed]",
      "text/plain": [
       "<matplotlib.figure.Figure at 0x11bc2f610>"
      ]
     },
     "metadata": {
      "image/png": {
       "height": 258,
       "width": 372
      }
     },
     "output_type": "display_data"
    }
   ],
   "source": [
    "mean_fare.unstack().plot(kind='bar')"
   ]
  },
  {
   "cell_type": "markdown",
   "metadata": {},
   "source": [
    "If you add the keyword variable `stacked=True`, it will instead stack the bars within the broader \"Pclass\" category."
   ]
  },
  {
   "cell_type": "code",
   "execution_count": 34,
   "metadata": {},
   "outputs": [
    {
     "data": {
      "text/plain": [
       "<matplotlib.axes._subplots.AxesSubplot at 0x11bc63e90>"
      ]
     },
     "execution_count": 34,
     "metadata": {},
     "output_type": "execute_result"
    },
    {
     "data": {
      "image/png": "[encoded data removed]",
      "text/plain": [
       "<matplotlib.figure.Figure at 0x11845b450>"
      ]
     },
     "metadata": {
      "image/png": {
       "height": 258,
       "width": 372
      }
     },
     "output_type": "display_data"
    }
   ],
   "source": [
    "mean_fare.unstack().plot(kind='bar', stacked=True)"
   ]
  },
  {
   "cell_type": "markdown",
   "metadata": {},
   "source": [
    "<a id='independent_practice'></a>\n",
    "\n",
    "### Independent Practice\n",
    "\n",
    "---\n",
    "\n",
    "Now that you've covered the basics of grouping, applying functions, aggregating data, and `pandas` plotting with grouped data, [open up the practice notebook](./practice_pandas_grouping.ipynb)  and explore the UFO sightings data!"
   ]
  }
 ],
 "metadata": {
  "anaconda-cloud": {},
  "kernelspec": {
   "display_name": "Python 2",
   "language": "python",
   "name": "python2"
  },
  "language_info": {
   "codemirror_mode": {
    "name": "ipython",
    "version": 2
   },
   "file_extension": ".py",
   "mimetype": "text/x-python",
   "name": "python",
   "nbconvert_exporter": "python",
   "pygments_lexer": "ipython2",
   "version": "2.7.14"
  }
 },
 "nbformat": 4,
 "nbformat_minor": 2
}
