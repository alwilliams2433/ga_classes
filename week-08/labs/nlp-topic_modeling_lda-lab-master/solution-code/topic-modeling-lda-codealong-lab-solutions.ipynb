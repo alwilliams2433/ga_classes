{
 "cells": [
  {
   "cell_type": "markdown",
   "metadata": {},
   "source": [
    "<img src=\"http://imgur.com/1ZcRyrc.png\" style=\"float: left; margin: 20px; height: 55px\">\n",
    "\n",
    "# Guided Practice with Topic Modeling and LDA\n",
    "\n",
    "_Authors: Dave Yerrington (SF)_\n",
    "\n",
    "---\n",
    "\n",
    "> **Note: this lab is intended to be a guided lab with the instructor.**\n",
    "\n",
    "In practice it would be a very rare to need to build an unsupervised topic model like LDA from scratch. Lucky for us, sklearn comes with LDA topic modeling functionality. Another popular LDA module which we will explore in this lab is from the `gensim` package. \n",
    "\n",
    "Let's explore a brief walkthrough of LDA and topic modeling using gensim. We will work with a small collection of documents represented as a list."
   ]
  },
  {
   "cell_type": "markdown",
   "metadata": {},
   "source": [
    "### 1. Load the packages and create the small \"documents\".\n",
    "\n",
    "You may need to install the gensim package with `pip` or `conda`."
   ]
  },
  {
   "cell_type": "code",
   "execution_count": 1,
   "metadata": {},
   "outputs": [],
   "source": [
    "from gensim import corpora, models, matutils\n",
    "from sklearn.feature_extraction.text import CountVectorizer, TfidfVectorizer\n",
    "from collections import defaultdict\n",
    "import pandas as pd\n",
    "\n",
    "\n",
    "doc_a = \"Brocolli is good to eat. My brother likes to eat good brocolli, but not my mother.\"\n",
    "doc_b = \"My mother spends a lot of time driving my brother around to baseball practice.\"\n",
    "doc_c = \"Some health experts suggest that driving may cause increased tension and blood pressure.\"\n",
    "doc_d = \"I often feel pressure to perform well at school, but my mother never seems to drive my brother to do better.\"\n",
    "doc_e = \"Health professionals say that brocolli is good for your health.\"\n",
    "\n",
    "# compile sample documents into a list\n",
    "documents = [doc_a, doc_b, doc_c, doc_d, doc_e]\n",
    "df        = pd.DataFrame(documents, columns=['text'])"
   ]
  },
  {
   "cell_type": "code",
   "execution_count": 2,
   "metadata": {},
   "outputs": [
    {
     "data": {
      "text/html": [
       "<div>\n",
       "<style scoped>\n",
       "    .dataframe tbody tr th:only-of-type {\n",
       "        vertical-align: middle;\n",
       "    }\n",
       "\n",
       "    .dataframe tbody tr th {\n",
       "        vertical-align: top;\n",
       "    }\n",
       "\n",
       "    .dataframe thead th {\n",
       "        text-align: right;\n",
       "    }\n",
       "</style>\n",
       "<table border=\"1\" class=\"dataframe\">\n",
       "  <thead>\n",
       "    <tr style=\"text-align: right;\">\n",
       "      <th></th>\n",
       "      <th>text</th>\n",
       "    </tr>\n",
       "  </thead>\n",
       "  <tbody>\n",
       "    <tr>\n",
       "      <th>0</th>\n",
       "      <td>Brocolli is good to eat. My brother likes to e...</td>\n",
       "    </tr>\n",
       "    <tr>\n",
       "      <th>1</th>\n",
       "      <td>My mother spends a lot of time driving my brot...</td>\n",
       "    </tr>\n",
       "    <tr>\n",
       "      <th>2</th>\n",
       "      <td>Some health experts suggest that driving may c...</td>\n",
       "    </tr>\n",
       "    <tr>\n",
       "      <th>3</th>\n",
       "      <td>I often feel pressure to perform well at schoo...</td>\n",
       "    </tr>\n",
       "    <tr>\n",
       "      <th>4</th>\n",
       "      <td>Health professionals say that brocolli is good...</td>\n",
       "    </tr>\n",
       "  </tbody>\n",
       "</table>\n",
       "</div>"
      ],
      "text/plain": [
       "                                                text\n",
       "0  Brocolli is good to eat. My brother likes to e...\n",
       "1  My mother spends a lot of time driving my brot...\n",
       "2  Some health experts suggest that driving may c...\n",
       "3  I often feel pressure to perform well at schoo...\n",
       "4  Health professionals say that brocolli is good..."
      ]
     },
     "execution_count": 2,
     "metadata": {},
     "output_type": "execute_result"
    }
   ],
   "source": [
    "df"
   ]
  },
  {
   "cell_type": "markdown",
   "metadata": {},
   "source": [
    "#  \n",
    "#  \n",
    "### 2. Load stop words either from NLTK or sklearn"
   ]
  },
  {
   "cell_type": "code",
   "execution_count": 80,
   "metadata": {},
   "outputs": [
    {
     "name": "stdout",
     "output_type": "stream",
     "text": [
      "[nltk_data] Downloading package stopwords to\n",
      "[nltk_data]     /Users/edoardo/nltk_data...\n",
      "[nltk_data]   Package stopwords is already up-to-date!\n"
     ]
    }
   ],
   "source": [
    "from nltk.corpus import stopwords\n",
    "import nltk\n",
    "import numpy as np\n",
    "\n",
    "nltk.download('stopwords')\n",
    "\n",
    "nltk_stops = stopwords.words()"
   ]
  },
  {
   "cell_type": "code",
   "execution_count": 83,
   "metadata": {},
   "outputs": [
    {
     "name": "stdout",
     "output_type": "stream",
     "text": [
      "hvem\n",
      "euren\n",
      "neki\n",
      "häneen\n",
      "ingin\n",
      "seu\n",
      "την\n",
      "that\n",
      "मात्र\n",
      "atit\n",
      "أنا\n",
      "through\n",
      "der\n",
      "åt\n",
      "mempersiapkan\n",
      "εἴτε\n",
      "your\n",
      "ihres\n",
      "ешқашан\n",
      "será\n"
     ]
    }
   ],
   "source": [
    "for word in np.random.choice(nltk_stops,20):\n",
    "    print(word)"
   ]
  },
  {
   "cell_type": "code",
   "execution_count": 8,
   "metadata": {},
   "outputs": [],
   "source": [
    "from sklearn.feature_extraction.text import ENGLISH_STOP_WORDS\n",
    "\n",
    "custom_stop_words = list(ENGLISH_STOP_WORDS)\n",
    "\n",
    "# You can of course add your own custom stopwords\n",
    "custom_stop_words.append('mother')\n",
    "custom_stop_words.append('brother')"
   ]
  },
  {
   "cell_type": "markdown",
   "metadata": {},
   "source": [
    "#  \n",
    "### 3. Use CountVectorizer to transform our text, taking out the stopwords."
   ]
  },
  {
   "cell_type": "code",
   "execution_count": 9,
   "metadata": {},
   "outputs": [],
   "source": [
    "vectorizer = CountVectorizer(stop_words=custom_stop_words)\n",
    "X = vectorizer.fit_transform(df['text'])"
   ]
  },
  {
   "cell_type": "markdown",
   "metadata": {},
   "source": [
    "#  \n",
    "### 4. Extract the tokens that remain after stopword removal.\n",
    "\n",
    "The `.vocabulary_` attribute of the vectorizer contains a dictionary of terms. There is also the built-in function `.get_feature_names()` which will extract the column names."
   ]
  },
  {
   "cell_type": "code",
   "execution_count": 10,
   "metadata": {},
   "outputs": [
    {
     "data": {
      "text/plain": [
       "{u'baseball': 0,\n",
       " u'better': 1,\n",
       " u'blood': 2,\n",
       " u'brocolli': 3,\n",
       " u'cause': 4,\n",
       " u'drive': 5,\n",
       " u'driving': 6,\n",
       " u'eat': 7,\n",
       " u'experts': 8,\n",
       " u'feel': 9,\n",
       " u'good': 10,\n",
       " u'health': 11,\n",
       " u'increased': 12,\n",
       " u'likes': 13,\n",
       " u'lot': 14,\n",
       " u'perform': 15,\n",
       " u'practice': 16,\n",
       " u'pressure': 17,\n",
       " u'professionals': 18,\n",
       " u'say': 19,\n",
       " u'school': 20,\n",
       " u'spends': 21,\n",
       " u'suggest': 22,\n",
       " u'tension': 23,\n",
       " u'time': 24}"
      ]
     },
     "execution_count": 10,
     "metadata": {},
     "output_type": "execute_result"
    }
   ],
   "source": [
    "vectorizer.vocabulary_"
   ]
  },
  {
   "cell_type": "code",
   "execution_count": 11,
   "metadata": {},
   "outputs": [
    {
     "data": {
      "text/plain": [
       "[u'baseball',\n",
       " u'better',\n",
       " u'blood',\n",
       " u'brocolli',\n",
       " u'cause',\n",
       " u'drive',\n",
       " u'driving',\n",
       " u'eat',\n",
       " u'experts',\n",
       " u'feel',\n",
       " u'good',\n",
       " u'health',\n",
       " u'increased',\n",
       " u'likes',\n",
       " u'lot',\n",
       " u'perform',\n",
       " u'practice',\n",
       " u'pressure',\n",
       " u'professionals',\n",
       " u'say',\n",
       " u'school',\n",
       " u'spends',\n",
       " u'suggest',\n",
       " u'tension',\n",
       " u'time']"
      ]
     },
     "execution_count": 11,
     "metadata": {},
     "output_type": "execute_result"
    }
   ],
   "source": [
    "vectorizer.get_feature_names()"
   ]
  },
  {
   "cell_type": "markdown",
   "metadata": {},
   "source": [
    "#  \n",
    "# TODO: EXPLAIN SPARSE vs. DENSE MATRIX"
   ]
  },
  {
   "cell_type": "markdown",
   "metadata": {},
   "source": [
    "#  \n",
    "### 5. Get counts of tokens.\n",
    "\n",
    "Convert the matrix from the vectorizer to a dense matrix, then sum by column to get the counts per term."
   ]
  },
  {
   "cell_type": "code",
   "execution_count": 12,
   "metadata": {},
   "outputs": [
    {
     "data": {
      "text/plain": [
       "baseball         1\n",
       "better           1\n",
       "blood            1\n",
       "brocolli         3\n",
       "cause            1\n",
       "drive            1\n",
       "driving          2\n",
       "eat              2\n",
       "experts          1\n",
       "feel             1\n",
       "good             3\n",
       "health           3\n",
       "increased        1\n",
       "likes            1\n",
       "lot              1\n",
       "perform          1\n",
       "practice         1\n",
       "pressure         2\n",
       "professionals    1\n",
       "say              1\n",
       "school           1\n",
       "spends           1\n",
       "suggest          1\n",
       "tension          1\n",
       "time             1\n",
       "dtype: int64"
      ]
     },
     "execution_count": 12,
     "metadata": {},
     "output_type": "execute_result"
    }
   ],
   "source": [
    "docs = pd.DataFrame(X.todense(), \n",
    "                    columns=vectorizer.get_feature_names())\n",
    "docs.sum()"
   ]
  },
  {
   "cell_type": "markdown",
   "metadata": {},
   "source": [
    "#  \n",
    "### 6. Setup the vocabulary dictionary\n",
    "\n",
    "First we need to setup the vocabulary.  Gensim's LDA expects our vocabulary to be in a format where the dictionary keys are the column indices and the values are the words themselves.\n",
    "\n",
    "Create this dictionary below."
   ]
  },
  {
   "cell_type": "code",
   "execution_count": 13,
   "metadata": {},
   "outputs": [
    {
     "data": {
      "text/plain": [
       "{0: u'baseball',\n",
       " 1: u'better',\n",
       " 2: u'blood',\n",
       " 3: u'brocolli',\n",
       " 4: u'cause',\n",
       " 5: u'drive',\n",
       " 6: u'driving',\n",
       " 7: u'eat',\n",
       " 8: u'experts',\n",
       " 9: u'feel',\n",
       " 10: u'good',\n",
       " 11: u'health',\n",
       " 12: u'increased',\n",
       " 13: u'likes',\n",
       " 14: u'lot',\n",
       " 15: u'perform',\n",
       " 16: u'practice',\n",
       " 17: u'pressure',\n",
       " 18: u'professionals',\n",
       " 19: u'say',\n",
       " 20: u'school',\n",
       " 21: u'spends',\n",
       " 22: u'suggest',\n",
       " 23: u'tension',\n",
       " 24: u'time'}"
      ]
     },
     "execution_count": 13,
     "metadata": {},
     "output_type": "execute_result"
    }
   ],
   "source": [
    "# This is the fastest way to swap a dictionary key / value order.  \n",
    "# This is the format gensim LDA expects it's vocabulary.\n",
    "vocab = {v: k for k, v in vectorizer.vocabulary_.iteritems()}\n",
    "vocab"
   ]
  },
  {
   "cell_type": "markdown",
   "metadata": {},
   "source": [
    "#  \n",
    "### 7. Create a token to id mapping with gensim's `corpora.Dictionary`\n",
    "\n",
    "This dictionary class is a more standard way to work with with gensim models. There are a few standard steps we should go through:\n",
    "\n",
    "**7.1. Count the frequency of words.**\n",
    "\n",
    "We can do this easily with the python `defaultdict(int)`, which doesn't require us to already have the key in the dictionary to be able to add to it:\n",
    "\n",
    "```python\n",
    "frequency = defaultdict(int)\n",
    "\n",
    "for text in documents:\n",
    "    for token in text.split():\n",
    "        frequency[token] += 1\n",
    "```\n",
    "\n",
    "\n"
   ]
  },
  {
   "cell_type": "code",
   "execution_count": 14,
   "metadata": {},
   "outputs": [
    {
     "data": {
      "text/plain": [
       "defaultdict(int,\n",
       "            {'Brocolli': 1,\n",
       "             'Health': 1,\n",
       "             'I': 1,\n",
       "             'My': 2,\n",
       "             'Some': 1,\n",
       "             'a': 1,\n",
       "             'and': 1,\n",
       "             'around': 1,\n",
       "             'at': 1,\n",
       "             'baseball': 1,\n",
       "             'better.': 1,\n",
       "             'blood': 1,\n",
       "             'brocolli': 1,\n",
       "             'brocolli,': 1,\n",
       "             'brother': 3,\n",
       "             'but': 2,\n",
       "             'cause': 1,\n",
       "             'do': 1,\n",
       "             'drive': 1,\n",
       "             'driving': 2,\n",
       "             'eat': 1,\n",
       "             'eat.': 1,\n",
       "             'experts': 1,\n",
       "             'feel': 1,\n",
       "             'for': 1,\n",
       "             'good': 3,\n",
       "             'health': 1,\n",
       "             'health.': 1,\n",
       "             'increased': 1,\n",
       "             'is': 2,\n",
       "             'likes': 1,\n",
       "             'lot': 1,\n",
       "             'may': 1,\n",
       "             'mother': 2,\n",
       "             'mother.': 1,\n",
       "             'my': 4,\n",
       "             'never': 1,\n",
       "             'not': 1,\n",
       "             'of': 1,\n",
       "             'often': 1,\n",
       "             'perform': 1,\n",
       "             'practice.': 1,\n",
       "             'pressure': 1,\n",
       "             'pressure.': 1,\n",
       "             'professionals': 1,\n",
       "             'say': 1,\n",
       "             'school,': 1,\n",
       "             'seems': 1,\n",
       "             'spends': 1,\n",
       "             'suggest': 1,\n",
       "             'tension': 1,\n",
       "             'that': 2,\n",
       "             'time': 1,\n",
       "             'to': 6,\n",
       "             'well': 1,\n",
       "             'your': 1})"
      ]
     },
     "execution_count": 14,
     "metadata": {},
     "output_type": "execute_result"
    }
   ],
   "source": [
    "frequency = defaultdict(int)\n",
    "\n",
    "for text in documents:\n",
    "    for token in text.split():\n",
    "        frequency[token] += 1\n",
    "        \n",
    "frequency"
   ]
  },
  {
   "cell_type": "markdown",
   "metadata": {},
   "source": [
    "**7.2 Remove any words that only appear once, or appear in the stopwords.**\n",
    "\n",
    "Iterate through the documents and only keep useful words/tokens."
   ]
  },
  {
   "cell_type": "code",
   "execution_count": 15,
   "metadata": {},
   "outputs": [
    {
     "data": {
      "text/plain": [
       "[['good', 'My', 'brother', 'good'],\n",
       " ['My', 'mother', 'driving', 'brother'],\n",
       " ['driving'],\n",
       " ['mother', 'brother'],\n",
       " ['good']]"
      ]
     },
     "execution_count": 15,
     "metadata": {},
     "output_type": "execute_result"
    }
   ],
   "source": [
    "texts = [[token for token in text.split() if frequency[token] > 1 and token not in nltk_stops]\n",
    "          for text in documents]\n",
    "\n",
    "texts"
   ]
  },
  {
   "cell_type": "markdown",
   "metadata": {},
   "source": [
    "**7.3 Create the `corpora.Dictionary` object with the retained tokens.**"
   ]
  },
  {
   "cell_type": "code",
   "execution_count": 16,
   "metadata": {},
   "outputs": [
    {
     "data": {
      "text/plain": [
       "<gensim.corpora.dictionary.Dictionary at 0x1a1933fb90>"
      ]
     },
     "execution_count": 16,
     "metadata": {},
     "output_type": "execute_result"
    }
   ],
   "source": [
    "# Create gensim dictionary object\n",
    "dictionary = corpora.Dictionary(texts)\n",
    "dictionary"
   ]
  },
  {
   "cell_type": "markdown",
   "metadata": {},
   "source": [
    "**7.4 Use the `dictionary.doc2bow()` function to convert the texts to bag-of-word representations.**"
   ]
  },
  {
   "cell_type": "code",
   "execution_count": 17,
   "metadata": {},
   "outputs": [
    {
     "data": {
      "text/plain": [
       "[[(0, 1), (1, 1), (2, 2)],\n",
       " [(0, 1), (1, 1), (3, 1), (4, 1)],\n",
       " [(3, 1)],\n",
       " [(1, 1), (4, 1)],\n",
       " [(2, 1)]]"
      ]
     },
     "execution_count": 17,
     "metadata": {},
     "output_type": "execute_result"
    }
   ],
   "source": [
    "# Create corpus matrix\n",
    "corpus = [dictionary.doc2bow(text) for text in texts]\n",
    "corpus"
   ]
  },
  {
   "cell_type": "markdown",
   "metadata": {},
   "source": [
    "**Why should we use this process?**\n",
    "\n",
    "The main advantage is that this dictionary object has quick helper functions.\n",
    "\n",
    "However, there are also some major performance advantages if you ever want to save your model to a file, then load it at a later time.  Tokenizations can take a while to be computed, especially when your text files are quite large. You can save these post-computed dictionary items to file, then load them from disk later which is quite a bit faster.  Also, it's possible to add new documents to your corpus without having to re-tokenize your entire set.  This is great for online systems that can take new documents on demmand.  \n",
    "\n",
    "As you work with larger datasets with text, this is a much better way to handle LDA and other Gensim models from a performance point of view."
   ]
  },
  {
   "cell_type": "markdown",
   "metadata": {},
   "source": [
    "#  \n",
    "### 8. Set up the LDA model\n",
    "\n",
    "We can create the gensim LDA model object like so:\n",
    "\n",
    "```python\n",
    "lda = models.LdaModel(\n",
    "    # supply our sparse predictor matrix wrapped in a matutils.Sparse2Corpus object\n",
    "    matutils.Sparse2Corpus(X, documents_columns=False),\n",
    "    # or alternatively use the corpus object created with the dictionary in the previous frame!\n",
    "    # corpus,\n",
    "    # The number of topics we want:\n",
    "    num_topics  =  3,\n",
    "    # how many passes over the vocabulary:\n",
    "    passes      =  20,\n",
    "    # The id2word vocabulary we made ourselves\n",
    "    id2word     =  vocab\n",
    "    # or use the gensim dictionary object!\n",
    "    # id2word     =  dictionary\n",
    ")\n",
    "```"
   ]
  },
  {
   "cell_type": "code",
   "execution_count": 31,
   "metadata": {},
   "outputs": [],
   "source": [
    "lda = models.LdaModel(\n",
    "    matutils.Sparse2Corpus(X, documents_columns=False),\n",
    "    num_topics  =  3,\n",
    "    passes      =  20,\n",
    "    id2word     =  vocab\n",
    ")"
   ]
  },
  {
   "cell_type": "markdown",
   "metadata": {},
   "source": [
    "#  \n",
    "### 9. Look at the topics\n",
    "\n",
    "The model has a `.print_topics` function that accepts the number of topics to print and number of words per topic. The number before the word is the probability of occurance for that word in the topic."
   ]
  },
  {
   "cell_type": "code",
   "execution_count": 53,
   "metadata": {},
   "outputs": [
    {
     "name": "stdout",
     "output_type": "stream",
     "text": [
      "0.093*\"pressure\" + 0.093*\"perform\" + 0.093*\"drive\" + 0.093*\"feel\" + 0.093*\"better\" + 0.093*\"school\" + 0.023*\"brocolli\" + 0.023*\"good\" + 0.023*\"driving\" + 0.023*\"health\"\n",
      "\n",
      "0.143*\"health\" + 0.057*\"driving\" + 0.057*\"cause\" + 0.057*\"experts\" + 0.057*\"suggest\" + 0.057*\"blood\" + 0.057*\"tension\" + 0.057*\"increased\" + 0.057*\"say\" + 0.057*\"professionals\"\n",
      "\n",
      "0.110*\"good\" + 0.110*\"brocolli\" + 0.109*\"eat\" + 0.062*\"likes\" + 0.062*\"lot\" + 0.062*\"baseball\" + 0.062*\"practice\" + 0.062*\"time\" + 0.062*\"spends\" + 0.062*\"driving\"\n",
      "\n"
     ]
    }
   ],
   "source": [
    "for topic in lda.print_topics():\n",
    "    print(topic[1])\n",
    "    print('')"
   ]
  },
  {
   "cell_type": "markdown",
   "metadata": {},
   "source": [
    "#  \n",
    "### 10. Get the topic scores for a document\n",
    "\n",
    "The `.get_document_topics` function accepts a bag-of-words representation for a document and returns the scores for each topic."
   ]
  },
  {
   "cell_type": "code",
   "execution_count": 34,
   "metadata": {},
   "outputs": [
    {
     "name": "stdout",
     "output_type": "stream",
     "text": [
      "(0, 0.16756901)\n",
      "(1, 0.18009767)\n",
      "(2, 0.6523334)\n"
     ]
    }
   ],
   "source": [
    "for topic,score in lda.get_document_topics(dictionary.doc2bow(texts[2])):\n",
    "    print(topic,score)"
   ]
  },
  {
   "cell_type": "markdown",
   "metadata": {},
   "source": [
    "#  \n",
    "### 11. Label and visualize the topics\n",
    "\n",
    "Lets come up with some high level labels. This is the subjective part of LDA. What do the word probabilties that represent topics mean?  Let's make some up.\n",
    "\n",
    "Plot a heatmap of the topic probabilities for each of the documents."
   ]
  },
  {
   "cell_type": "code",
   "execution_count": 23,
   "metadata": {},
   "outputs": [],
   "source": [
    "topics_labels = {\n",
    "   0: \"Family Stress\",\n",
    "   1: \"Driving\",\n",
    "   2: \"Food\"\n",
    "}"
   ]
  },
  {
   "cell_type": "code",
   "execution_count": 64,
   "metadata": {},
   "outputs": [
    {
     "data": {
      "text/html": [
       "<div>\n",
       "<style scoped>\n",
       "    .dataframe tbody tr th:only-of-type {\n",
       "        vertical-align: middle;\n",
       "    }\n",
       "\n",
       "    .dataframe tbody tr th {\n",
       "        vertical-align: top;\n",
       "    }\n",
       "\n",
       "    .dataframe thead tr th {\n",
       "        text-align: left;\n",
       "    }\n",
       "</style>\n",
       "<table border=\"1\" class=\"dataframe\">\n",
       "  <thead>\n",
       "    <tr>\n",
       "      <th>document_id</th>\n",
       "      <th colspan=\"3\" halign=\"left\">0</th>\n",
       "      <th colspan=\"3\" halign=\"left\">1</th>\n",
       "      <th colspan=\"3\" halign=\"left\">2</th>\n",
       "      <th colspan=\"3\" halign=\"left\">3</th>\n",
       "      <th colspan=\"3\" halign=\"left\">4</th>\n",
       "    </tr>\n",
       "    <tr>\n",
       "      <th>topic</th>\n",
       "      <th>Driving</th>\n",
       "      <th>Family Stress</th>\n",
       "      <th>Food</th>\n",
       "      <th>Driving</th>\n",
       "      <th>Family Stress</th>\n",
       "      <th>Food</th>\n",
       "      <th>Driving</th>\n",
       "      <th>Family Stress</th>\n",
       "      <th>Food</th>\n",
       "      <th>Driving</th>\n",
       "      <th>Family Stress</th>\n",
       "      <th>Food</th>\n",
       "      <th>Driving</th>\n",
       "      <th>Family Stress</th>\n",
       "      <th>Food</th>\n",
       "    </tr>\n",
       "  </thead>\n",
       "  <tbody>\n",
       "    <tr>\n",
       "      <th>probability</th>\n",
       "      <td>0.472031</td>\n",
       "      <td>0.281436</td>\n",
       "      <td>0.246533</td>\n",
       "      <td>0.284335</td>\n",
       "      <td>0.272694</td>\n",
       "      <td>0.442971</td>\n",
       "      <td>0.180074</td>\n",
       "      <td>0.167569</td>\n",
       "      <td>0.652357</td>\n",
       "      <td>0.423609</td>\n",
       "      <td>0.46383</td>\n",
       "      <td>0.11256</td>\n",
       "      <td>0.663123</td>\n",
       "      <td>0.168813</td>\n",
       "      <td>0.168065</td>\n",
       "    </tr>\n",
       "  </tbody>\n",
       "</table>\n",
       "</div>"
      ],
      "text/plain": [
       "document_id         0                                 1                \\\n",
       "topic         Driving Family Stress      Food   Driving Family Stress   \n",
       "probability  0.472031      0.281436  0.246533  0.284335      0.272694   \n",
       "\n",
       "document_id                   2                                 3  \\\n",
       "topic            Food   Driving Family Stress      Food   Driving   \n",
       "probability  0.442971  0.180074      0.167569  0.652357  0.423609   \n",
       "\n",
       "document_id                                4                          \n",
       "topic       Family Stress     Food   Driving Family Stress      Food  \n",
       "probability       0.46383  0.11256  0.663123      0.168813  0.168065  "
      ]
     },
     "execution_count": 64,
     "metadata": {},
     "output_type": "execute_result"
    }
   ],
   "source": [
    "doc_topics = [lda.get_document_topics(doc) for doc in corpus]\n",
    "topic_data = []\n",
    "\n",
    "for document_id, topics in enumerate(doc_topics):   \n",
    "    document_topics = []  \n",
    "    for topic, probability in topics:  \n",
    "        topic_data.append({\n",
    "            'document_id':  document_id,\n",
    "            'topic_id':     topic,\n",
    "            'topic':        topics_labels[topic],\n",
    "            'probability':  probability\n",
    "        })\n",
    "topics_df = pd.DataFrame(topic_data)\n",
    "topics_df.pivot_table(values=\"probability\", index=[\"document_id\", \"topic\"]).T"
   ]
  },
  {
   "cell_type": "code",
   "execution_count": 65,
   "metadata": {},
   "outputs": [],
   "source": [
    "%matplotlib inline"
   ]
  },
  {
   "cell_type": "code",
   "execution_count": 66,
   "metadata": {},
   "outputs": [
    {
     "data": {
      "text/plain": [
       "<matplotlib.axes._subplots.AxesSubplot at 0x1a1a4a3950>"
      ]
     },
     "execution_count": 66,
     "metadata": {},
     "output_type": "execute_result"
    },
    {
     "data": {
      "image/png": "[encoded data removed]",
      "text/plain": [
       "<matplotlib.figure.Figure at 0x1a19ddcc10>"
      ]
     },
     "metadata": {},
     "output_type": "display_data"
    }
   ],
   "source": [
    "import seaborn as sns\n",
    "\n",
    "doc_topics = [lda.get_document_topics(doc) for doc in corpus]\n",
    "doc_topic_probabilities = []\n",
    "for document in doc_topics: \n",
    "    single_document = []\n",
    "    for topic, probablity in document:\n",
    "        single_document.append(probablity)\n",
    "    doc_topic_probabilities.append(single_document)\n",
    "docs_topics = pd.DataFrame(doc_topic_probabilities)\n",
    "sns.heatmap(docs_topics)"
   ]
  },
  {
   "cell_type": "markdown",
   "metadata": {},
   "source": [
    "#  \n",
    "### 12. Fit an LDA model with sklearn\n",
    "\n",
    "Sklearn's LDA model is in the decomposition submodule:\n",
    "\n",
    "```python\n",
    "from sklearn.decomposition import LatentDirichletAllocation\n",
    "```\n",
    "\n",
    "One of the greatest benefits of the sklearn implementation is that it comes with the familiar `.fit()`, `.transform()` and `.fit_transform()` methods.\n",
    "\n",
    "**12.1 Initialize and fit an sklearn LDA with `n_topics=3` on our output from the CountVectorizer.**"
   ]
  },
  {
   "cell_type": "code",
   "execution_count": 67,
   "metadata": {},
   "outputs": [
    {
     "name": "stderr",
     "output_type": "stream",
     "text": [
      "/Users/edoardo/anaconda2/lib/python2.7/site-packages/sklearn/decomposition/online_lda.py:536: DeprecationWarning: The default value for 'learning_method' will be changed from 'online' to 'batch' in the release 0.20. This warning was introduced in 0.18.\n",
      "  DeprecationWarning)\n"
     ]
    },
    {
     "data": {
      "text/plain": [
       "LatentDirichletAllocation(batch_size=128, doc_topic_prior=None,\n",
       "             evaluate_every=-1, learning_decay=0.7, learning_method=None,\n",
       "             learning_offset=10.0, max_doc_update_iter=100, max_iter=10,\n",
       "             mean_change_tol=0.001, n_components=3, n_jobs=1,\n",
       "             n_topics=None, perp_tol=0.1, random_state=None,\n",
       "             topic_word_prior=None, total_samples=1000000.0, verbose=0)"
      ]
     },
     "execution_count": 67,
     "metadata": {},
     "output_type": "execute_result"
    }
   ],
   "source": [
    "from sklearn.decomposition import LatentDirichletAllocation\n",
    "\n",
    "lda = LatentDirichletAllocation(n_components=3)\n",
    "lda.fit(X)"
   ]
  },
  {
   "cell_type": "markdown",
   "metadata": {},
   "source": [
    "**12.2 Print out the topic-word distributions using the `.components_` attribute.**\n",
    "\n",
    "Each row of this matrix represents a topic, and the columns are the words. (These are not probabilities)."
   ]
  },
  {
   "cell_type": "code",
   "execution_count": 68,
   "metadata": {},
   "outputs": [
    {
     "data": {
      "text/plain": [
       "array([[0.44179292, 0.44739237, 0.48716028, 2.90517595, 0.46688767,\n",
       "        0.46050025, 0.47662668, 2.07934699, 0.46630906, 0.45384892,\n",
       "        2.85164629, 2.08116664, 0.4403834 , 1.27199818, 0.47376864,\n",
       "        0.47828229, 0.46985885, 0.48315942, 1.31290599, 1.2592065 ,\n",
       "        0.45133036, 0.48126036, 0.49525683, 0.4605453 , 0.46937954],\n",
       "       [1.30200354, 0.46468288, 0.45786187, 0.44021632, 0.43795382,\n",
       "        0.46321978, 1.28210707, 0.49374453, 0.44670627, 0.45720924,\n",
       "        0.45574872, 0.47155227, 0.46318324, 0.45277092, 1.26365066,\n",
       "        0.46081966, 1.29502421, 0.47064439, 0.42758432, 0.45063959,\n",
       "        0.49966755, 1.22671558, 0.4365345 , 0.47038311, 1.22519527],\n",
       "       [0.45105114, 1.28391522, 1.28119842, 0.46474484, 1.28409827,\n",
       "        1.24857095, 1.26551997, 0.48196743, 1.25909226, 1.26154744,\n",
       "        0.45790765, 1.24472679, 1.23594717, 0.42017273, 0.45874444,\n",
       "        1.26354258, 0.46978838, 2.07606973, 0.46980673, 0.45548779,\n",
       "        1.26440663, 0.4556723 , 1.26311822, 1.23745387, 0.44297096]])"
      ]
     },
     "execution_count": 68,
     "metadata": {},
     "output_type": "execute_result"
    }
   ],
   "source": [
    "lda.components_"
   ]
  },
  {
   "cell_type": "markdown",
   "metadata": {},
   "source": [
    "**12.3 Use the `.transform()` method to convert the matrix into the topic scores.**\n",
    "\n",
    "These are the document-topic distributions."
   ]
  },
  {
   "cell_type": "code",
   "execution_count": 69,
   "metadata": {},
   "outputs": [
    {
     "data": {
      "text/plain": [
       "array([[0.91576377, 0.04221453, 0.0420217 ],\n",
       "       [0.04834432, 0.9026961 , 0.04895958],\n",
       "       [0.03532591, 0.03507831, 0.92959578],\n",
       "       [0.04855638, 0.04901121, 0.90243241],\n",
       "       [0.90250236, 0.04836055, 0.04913709]])"
      ]
     },
     "execution_count": 69,
     "metadata": {},
     "output_type": "execute_result"
    }
   ],
   "source": [
    "lda.transform(X)"
   ]
  },
  {
   "cell_type": "markdown",
   "metadata": {},
   "source": [
    "### 13. Further steps\n",
    "\n",
    "This has been a very basic example.  LDA typically doesn't perform well on very small datasets.  You should try to see how it behaves on your own using a larger text dataset.  Keep in mind: finding the optimal number of topics can be tricky and subjective.\n",
    "\n",
    "**Generally, you should consider:**\n",
    "- How well topics are applied to documents overall\n",
    "- The strength of topics overall, to all documents\n",
    "- Improving preprocessing such as stopword removal\n",
    "- Building a nice web interface to explore your documents (see: [LDAExplorer](https://github.com/dyerrington/LDAExplorer), and [pyLDAvis](https://github.com/bmabey/pyLDAvis/blob/master/README.rst))\n",
    "\n",
    "These general guidelines should help you tune your hyperparameter **K** for number of topics."
   ]
  },
  {
   "cell_type": "code",
   "execution_count": null,
   "metadata": {},
   "outputs": [],
   "source": []
  }
 ],
 "metadata": {
  "kernelspec": {
   "display_name": "Python 2",
   "language": "python",
   "name": "python2"
  },
  "language_info": {
   "codemirror_mode": {
    "name": "ipython",
    "version": 2
   },
   "file_extension": ".py",
   "mimetype": "text/x-python",
   "name": "python",
   "nbconvert_exporter": "python",
   "pygments_lexer": "ipython2",
   "version": "2.7.14"
  }
 },
 "nbformat": 4,
 "nbformat_minor": 2
}
