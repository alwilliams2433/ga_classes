{
 "cells": [
  {
   "cell_type": "markdown",
   "metadata": {},
   "source": [
    "<img src=\"http://imgur.com/1ZcRyrc.png\" style=\"float: left; margin: 20px; height: 55px\">\n",
    "\n",
    "## Python Review with Movie Data\n",
    "\n",
    "_Author: Kiefer Katovich and Dave Yerrington | DSI-SF_\n",
    "\n",
    "---\n",
    "\n",
    "In this lab you'll be using the provided imdb `movies` list below as your dataset. \n",
    "\n",
    "This lab is designed to practice iteration and funcitons in particular. The normal questions are more gentle, and the challenge questions are suitable for advanced/expert python or programming-experienced students. \n",
    "\n",
    "All the questions require writing functions and also use iteration to solve. You should print out a test of each function you write.\n",
    "\n",
    "\n",
    "### 1. Load the provided list of movies dictionaries."
   ]
  },
  {
   "cell_type": "code",
   "execution_count": 1,
   "metadata": {},
   "outputs": [],
   "source": [
    "# List of movies dictionaries:\n",
    "\n",
    "movies = [\n",
    "{\n",
    "\"name\": \"Usual Suspects\", \n",
    "\"imdb\": 7.0,\n",
    "\"category\": \"Thriller\"\n",
    "},\n",
    "{\n",
    "\"name\": \"Hitman\",\n",
    "\"imdb\": 6.3,\n",
    "\"category\": \"Action\"\n",
    "},\n",
    "{\n",
    "\"name\": \"Dark Knight\",\n",
    "\"imdb\": 9.0,\n",
    "\"category\": \"Adventure\"\n",
    "},\n",
    "{\n",
    "\"name\": \"The Help\",\n",
    "\"imdb\": 8.0,\n",
    "\"category\": \"Drama\"\n",
    "},\n",
    "{\n",
    "\"name\": \"The Choice\",\n",
    "\"imdb\": 6.2,\n",
    "\"category\": \"Romance\"\n",
    "},\n",
    "{\n",
    "\"name\": \"Colonia\",\n",
    "\"imdb\": 7.4,\n",
    "\"category\": \"Romance\"\n",
    "},\n",
    "{\n",
    "\"name\": \"Love\",\n",
    "\"imdb\": 6.0,\n",
    "\"category\": \"Romance\"\n",
    "},\n",
    "{\n",
    "\"name\": \"Bride Wars\",\n",
    "\"imdb\": 5.4,\n",
    "\"category\": \"Romance\"\n",
    "},\n",
    "{\n",
    "\"name\": \"AlphaJet\",\n",
    "\"imdb\": 3.2,\n",
    "\"category\": \"War\"\n",
    "},\n",
    "{\n",
    "\"name\": \"Ringing Crime\",\n",
    "\"imdb\": 4.0,\n",
    "\"category\": \"Crime\"\n",
    "},\n",
    "{\n",
    "\"name\": \"Joking muck\",\n",
    "\"imdb\": 7.2,\n",
    "\"category\": \"Comedy\"\n",
    "},\n",
    "{\n",
    "\"name\": \"What is the name\",\n",
    "\"imdb\": 9.2,\n",
    "\"category\": \"Suspense\"\n",
    "},\n",
    "{\n",
    "\"name\": \"Detective\",\n",
    "\"imdb\": 7.0,\n",
    "\"category\": \"Suspense\"\n",
    "},\n",
    "{\n",
    "\"name\": \"Exam\",\n",
    "\"imdb\": 4.2,\n",
    "\"category\": \"Thriller\"\n",
    "},\n",
    "{\n",
    "\"name\": \"We Two\",\n",
    "\"imdb\": 7.2,\n",
    "\"category\": \"Romance\"\n",
    "}\n",
    "]"
   ]
  },
  {
   "cell_type": "markdown",
   "metadata": {},
   "source": [
    "---\n",
    "\n",
    "### 2. Filtering data by IMDB score\n",
    "\n",
    "#### 2.1 \n",
    "\n",
    "Write a function that:\n",
    "\n",
    "1. Accepts a single movie dictionary from the `movies` list as an argument.\n",
    "2. Returns True if the IMDB score is above 5.5.\n",
    "\n",
    "#### 2.2 [Challenge] \n",
    "\n",
    "Write a function that:\n",
    "\n",
    "1. Accepts the movies list and a specified category.\n",
    "2. Returns True if the average score of the category is higher than the average score of all movies."
   ]
  },
  {
   "cell_type": "code",
   "execution_count": 2,
   "metadata": {},
   "outputs": [
    {
     "data": {
      "text/plain": [
       "True"
      ]
     },
     "execution_count": 2,
     "metadata": {},
     "output_type": "execute_result"
    }
   ],
   "source": [
    "# Your code here.\n",
    "def movie(name):\n",
    "    for dic in movies:\n",
    "        if dic['name'] == name and dic['imdb'] > 5.5:\n",
    "            return True\n",
    "        \n",
    "movie('The Help')"
   ]
  },
  {
   "cell_type": "code",
   "execution_count": 3,
   "metadata": {},
   "outputs": [
    {
     "name": "stdout",
     "output_type": "stream",
     "text": [
      "{'Detective': {'category': 'Suspense', 'imdb': 7.0, 'name': 'Detective'}, 'AlphaJet': {'category': 'War', 'imdb': 3.2, 'name': 'AlphaJet'}, 'Love': {'category': 'Romance', 'imdb': 6.0, 'name': 'Love'}, 'Exam': {'category': 'Thriller', 'imdb': 4.2, 'name': 'Exam'}, 'Bride Wars': {'category': 'Romance', 'imdb': 5.4, 'name': 'Bride Wars'}, 'Colonia': {'category': 'Romance', 'imdb': 7.4, 'name': 'Colonia'}, 'We Two': {'category': 'Romance', 'imdb': 7.2, 'name': 'We Two'}, 'Ringing Crime': {'category': 'Crime', 'imdb': 4.0, 'name': 'Ringing Crime'}, 'Hitman': {'category': 'Action', 'imdb': 6.3, 'name': 'Hitman'}, 'Usual Suspects': {'category': 'Thriller', 'imdb': 7.0, 'name': 'Usual Suspects'}, 'Dark Knight': {'category': 'Adventure', 'imdb': 9.0, 'name': 'Dark Knight'}, 'What is the name': {'category': 'Suspense', 'imdb': 9.2, 'name': 'What is the name'}, 'The Help': {'category': 'Drama', 'imdb': 8.0, 'name': 'The Help'}, 'The Choice': {'category': 'Romance', 'imdb': 6.2, 'name': 'The Choice'}, 'Joking muck': {'category': 'Comedy', 'imdb': 7.2, 'name': 'Joking muck'}}\n"
     ]
    },
    {
     "data": {
      "text/plain": [
       "('Exam', False)"
      ]
     },
     "execution_count": 3,
     "metadata": {},
     "output_type": "execute_result"
    }
   ],
   "source": [
    "moviedict = {movie['name']: movie for movie in movies}\n",
    "print moviedict\n",
    "\n",
    "def good_movie(name):\n",
    "    if moviedict[name]['imdb'] > 5.5:\n",
    "        return name, True\n",
    "    else:\n",
    "        return name, False\n",
    "    \n",
    "good_movie('Exam')"
   ]
  },
  {
   "cell_type": "code",
   "execution_count": 4,
   "metadata": {},
   "outputs": [],
   "source": [
    "def better_category(category):\n",
    "    all_score = []\n",
    "    cat_score = []\n",
    "    for movie in movies:\n",
    "        all_score.append(movie['imdb'])\n",
    "        if movie['category'].lower() == category.lower():\n",
    "            cat_score.append(movie['imdb'])\n",
    "    \n",
    "    print category, 'avg score:',float(sum(cat_score))/len(cat_score)\n",
    "    print 'overall avg score:',float(sum(all_score))/len(all_score)\n",
    "    \n",
    "    if float(sum(cat_score))/len(cat_score) > float(sum(all_score))/len(all_score):\n",
    "        print category, 'movies are better than average'\n",
    "    elif float(sum(cat_score))/len(cat_score) < float(sum(all_score))/len(all_score):\n",
    "        print category, 'movies are worse than average'"
   ]
  },
  {
   "cell_type": "code",
   "execution_count": 5,
   "metadata": {},
   "outputs": [
    {
     "name": "stdout",
     "output_type": "stream",
     "text": [
      "suspense avg score: 8.1\n",
      "overall avg score: 6.48666666667\n",
      "suspense movies are better than average\n"
     ]
    }
   ],
   "source": [
    "better_category('suspense')"
   ]
  },
  {
   "cell_type": "raw",
   "metadata": {},
   "source": [
    "---\n",
    "\n",
    "### 3. Creating subsets by numeric condition\n",
    "\n",
    "#### 3.1\n",
    "\n",
    "Write a function that:\n",
    "\n",
    "1. Accepts the list of movies and a specified imdb score.\n",
    "2. Returns the sublist of movies that have a score greater than the specified score.\n",
    "\n",
    "#### 3.2 [Expert] \n",
    "\n",
    "Write a function that:\n",
    "\n",
    "1. Accepts the movies list as an argument.\n",
    "2. Returns the movies list sorted first by category and then by movie according to average score and individual score, respectively."
   ]
  },
  {
   "cell_type": "code",
   "execution_count": 52,
   "metadata": {},
   "outputs": [
    {
     "data": {
      "text/plain": [
       "[{'Action',\n",
       "  'Adventure',\n",
       "  'Comedy',\n",
       "  'Crime',\n",
       "  'Drama',\n",
       "  'Romance',\n",
       "  'Suspense',\n",
       "  'Thriller',\n",
       "  'War'}]"
      ]
     },
     "execution_count": 52,
     "metadata": {},
     "output_type": "execute_result"
    }
   ],
   "source": [
    "[set(movie['category'] for movie in movies)]"
   ]
  },
  {
   "cell_type": "code",
   "execution_count": 65,
   "metadata": {},
   "outputs": [
    {
     "data": {
      "text/plain": [
       "[{'category': 'Adventure', 'imdb': 9.0, 'name': 'Dark Knight'},\n",
       " {'category': 'Suspense', 'imdb': 9.2, 'name': 'What is the name'},\n",
       " {'category': 'Suspense', 'imdb': 7.0, 'name': 'Detective'},\n",
       " {'category': 'Drama', 'imdb': 8.0, 'name': 'The Help'},\n",
       " {'category': 'Comedy', 'imdb': 7.2, 'name': 'Joking muck'},\n",
       " {'category': 'Romance', 'imdb': 7.4, 'name': 'Colonia'},\n",
       " {'category': 'Romance', 'imdb': 7.2, 'name': 'We Two'},\n",
       " {'category': 'Romance', 'imdb': 6.2, 'name': 'The Choice'},\n",
       " {'category': 'Romance', 'imdb': 6.0, 'name': 'Love'},\n",
       " {'category': 'Romance', 'imdb': 5.4, 'name': 'Bride Wars'},\n",
       " {'category': 'Action', 'imdb': 6.3, 'name': 'Hitman'},\n",
       " {'category': 'Thriller', 'imdb': 7.0, 'name': 'Usual Suspects'},\n",
       " {'category': 'Thriller', 'imdb': 4.2, 'name': 'Exam'},\n",
       " {'category': 'Crime', 'imdb': 4.0, 'name': 'Ringing Crime'},\n",
       " {'category': 'War', 'imdb': 3.2, 'name': 'AlphaJet'}]"
      ]
     },
     "execution_count": 65,
     "metadata": {},
     "output_type": "execute_result"
    }
   ],
   "source": [
    "category_ratings = {}\n",
    "\n",
    "for movie in movies:\n",
    "    if not movie['category'] in category_ratings:\n",
    "        category_ratings[movie['category']] = [movie['imdb']]\n",
    "    else:\n",
    "        category_ratings[movie['category']].append(movie['imdb'])\n",
    "\n",
    "category_avg_ratings = {}\n",
    "\n",
    "for key, value in category_ratings.items():\n",
    "    category_avg_ratings[key] = sum(value)/len(value)\n",
    "\n",
    "sorted(movies, key=lambda x: (category_avg_ratings[x['category']], x['imdb']), reverse=True)"
   ]
  },
  {
   "cell_type": "code",
   "execution_count": 38,
   "metadata": {},
   "outputs": [],
   "source": [
    "category_ratings = {}\n",
    "\n",
    "for movie in movies:\n",
    "    if not movie['category'] in category_ratings:\n",
    "        category_ratings[movie['category']] = [movie['imdb']]\n",
    "    else: \n",
    "        category_ratings[movie['category']].append(movie['imdb'])\n",
    "\n",
    "category_averages = {}\n",
    "for key, value in category_ratings.items():\n",
    "    category_averages[key] = sum(value)/len(value)"
   ]
  },
  {
   "cell_type": "code",
   "execution_count": 42,
   "metadata": {},
   "outputs": [
    {
     "data": {
      "text/plain": [
       "[{'category': 'Adventure', 'imdb': 9.0, 'name': 'Dark Knight'},\n",
       " {'category': 'Suspense', 'imdb': 9.2, 'name': 'What is the name'},\n",
       " {'category': 'Suspense', 'imdb': 7.0, 'name': 'Detective'},\n",
       " {'category': 'Drama', 'imdb': 8.0, 'name': 'The Help'},\n",
       " {'category': 'Comedy', 'imdb': 7.2, 'name': 'Joking muck'},\n",
       " {'category': 'Romance', 'imdb': 7.4, 'name': 'Colonia'},\n",
       " {'category': 'Romance', 'imdb': 7.2, 'name': 'We Two'},\n",
       " {'category': 'Romance', 'imdb': 6.2, 'name': 'The Choice'},\n",
       " {'category': 'Romance', 'imdb': 6.0, 'name': 'Love'},\n",
       " {'category': 'Romance', 'imdb': 5.4, 'name': 'Bride Wars'},\n",
       " {'category': 'Action', 'imdb': 6.3, 'name': 'Hitman'},\n",
       " {'category': 'Thriller', 'imdb': 7.0, 'name': 'Usual Suspects'},\n",
       " {'category': 'Thriller', 'imdb': 4.2, 'name': 'Exam'},\n",
       " {'category': 'Crime', 'imdb': 4.0, 'name': 'Ringing Crime'},\n",
       " {'category': 'War', 'imdb': 3.2, 'name': 'AlphaJet'}]"
      ]
     },
     "execution_count": 42,
     "metadata": {},
     "output_type": "execute_result"
    }
   ],
   "source": [
    "sorted(movies, key = lambda x: (category_averages[x['category']], x['imdb']), reverse=True)"
   ]
  },
  {
   "cell_type": "code",
   "execution_count": 43,
   "metadata": {},
   "outputs": [
    {
     "data": {
      "text/plain": [
       "[('Adventure', 9.0),\n",
       " ('Suspense', 8.1),\n",
       " ('Drama', 8.0),\n",
       " ('Comedy', 7.2),\n",
       " ('Romance', 6.44),\n",
       " ('Action', 6.3),\n",
       " ('Thriller', 5.6),\n",
       " ('Crime', 4.0),\n",
       " ('War', 3.2)]"
      ]
     },
     "execution_count": 43,
     "metadata": {},
     "output_type": "execute_result"
    }
   ],
   "source": [
    "sorted(category_averages.iteritems(), key = lambda (k,v):(v,k) , reverse=True)"
   ]
  },
  {
   "cell_type": "code",
   "execution_count": null,
   "metadata": {},
   "outputs": [],
   "source": [
    "def movies_abv_rating(movies, rating):\n",
    "    for movie in movies:\n",
    "        if movie['imdb'] > float(rating):\n",
    "            print movie['name']"
   ]
  },
  {
   "cell_type": "code",
   "execution_count": null,
   "metadata": {},
   "outputs": [],
   "source": [
    "movies_abv_rating(movies, 7.5)"
   ]
  },
  {
   "cell_type": "markdown",
   "metadata": {},
   "source": [
    "---\n",
    "\n",
    "### 4. Creating subsets by string condition\n",
    "\n",
    "#### 4.1\n",
    "\n",
    "Write a function that:\n",
    "\n",
    "1. Accepts the movies list and a category name.\n",
    "2. Returns the movie names within that category (case-insensitive!)\n",
    "3. If the category is not in the data, print a message that it does not exist and return None.\n",
    "\n",
    "Recall that to convert a string to lowercase, you can use:\n",
    "\n",
    "```python\n",
    "mystring = 'Dumb and Dumber'\n",
    "lowercase_mystring = mystring.lower()\n",
    "print lowercase_mystring\n",
    "'dumb and dumber'\n",
    "```\n",
    "\n",
    "#### 4.2 [Challenge]\n",
    "\n",
    "Write a function that:\n",
    "\n",
    "1. Accepts the movies list and a \"search string\".\n",
    "2. Returns a dictionary with keys `'category'` and `'title'` whose values are lists of categories that contain the search string and titles that contain the search string, respectively (case-insensitive!)"
   ]
  },
  {
   "cell_type": "code",
   "execution_count": null,
   "metadata": {},
   "outputs": [],
   "source": [
    "def movie_string(movies, string):\n",
    "    dict = {}\n",
    "    for movie in movies:\n",
    "        if string.lower() in movie['name'].lower():\n",
    "            dict[movie['category']] = movie['name']\n",
    "    print dict"
   ]
  },
  {
   "cell_type": "code",
   "execution_count": null,
   "metadata": {},
   "outputs": [],
   "source": [
    "movie_string(movies, 'the')"
   ]
  },
  {
   "cell_type": "code",
   "execution_count": null,
   "metadata": {},
   "outputs": [],
   "source": [
    "def movies_in_cat(movies, category):\n",
    "    categories = []\n",
    "    for movie in movies:\n",
    "        categories.append(movie['category'].lower())\n",
    "        if movie['category'].lower() == category.lower():\n",
    "            print movie['name'] +' from category '+ category\n",
    "    if category.lower() not in categories:\n",
    "        print 'category dont exist'"
   ]
  },
  {
   "cell_type": "code",
   "execution_count": null,
   "metadata": {},
   "outputs": [],
   "source": [
    "movies_in_cat(movies, 'romance')"
   ]
  },
  {
   "cell_type": "markdown",
   "metadata": {},
   "source": [
    "---\n",
    "\n",
    "### 5. Multiple conditions\n",
    "\n",
    "#### 5.1\n",
    "\n",
    "Write a function that:\n",
    "\n",
    "1. Accepts the movies list and a \"search criteria\" variable.\n",
    "2. If the criteria variable is numeric, return a list of movie titles with a score greater than or equal to the criteria.\n",
    "3. If the criteria variable is a string, return a list of movie titles that match that category (case-insensitive!). If there is no match, return an empty list and print an informative message.\n",
    "\n",
    "#### 5.2 [Expert]\n",
    "\n",
    "Write a function that:\n",
    "\n",
    "1. Accepts the movies list and a string search criteria variable.\n",
    "2. The search criteria variable can contain within it:\n",
    "  - Boolean operations: `'AND'`, `'OR'`, and `'NOT'` (can have/be lowercase as well, I just capitalized for clarity).\n",
    "  - Search criteria specified with syntax `score=...`, `category=...`, and/or `title=...`, where the `...` indicates what to look for.\n",
    "    - If `score` is present, it means scores greater than or equal to the value.\n",
    "    - For `category` and `title`, the string indicates that the category or title must _contain_ the search string (case-insensitive).\n",
    "3. Return the matches for the search criteria specified."
   ]
  },
  {
   "cell_type": "code",
   "execution_count": null,
   "metadata": {},
   "outputs": [],
   "source": [
    "def movie_conditions(movies, criteria):\n",
    "    if type(criteria) == int or type(criteria) == float:\n",
    "        for movie in movies:\n",
    "            if movie['imdb'] > float(criteria):\n",
    "                print movie['name']\n",
    "    elif type(criteria) == str:\n",
    "        categories = []\n",
    "        for movie in movies:\n",
    "            categories.append(movie['category'].lower())\n",
    "            if criteria.lower() in movie['category'].lower():\n",
    "                print movie['name']\n",
    "        if criteria.lower() not in categories:\n",
    "            print 'category dont exist'"
   ]
  },
  {
   "cell_type": "code",
   "execution_count": null,
   "metadata": {},
   "outputs": [],
   "source": [
    "movie_conditions(movies, 'romance')"
   ]
  }
 ],
 "metadata": {
  "kernelspec": {
   "display_name": "Python 2",
   "language": "python",
   "name": "python2"
  },
  "language_info": {
   "codemirror_mode": {
    "name": "ipython",
    "version": 2
   },
   "file_extension": ".py",
   "mimetype": "text/x-python",
   "name": "python",
   "nbconvert_exporter": "python",
   "pygments_lexer": "ipython2",
   "version": "2.7.14"
  }
 },
 "nbformat": 4,
 "nbformat_minor": 1
}
