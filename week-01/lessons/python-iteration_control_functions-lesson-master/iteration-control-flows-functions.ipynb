{
 "cells": [
  {
   "cell_type": "markdown",
   "metadata": {},
   "source": [
    "<img src=\"http://imgur.com/1ZcRyrc.png\" style=\"float: left; margin: 20px; height: 55px\">\n",
    "\n",
    "# Review python iteration, control flows, and functions\n",
    "\n",
    "_Author: Kiefer Katovich (SF) and Dave Yerrington (SF)_\n",
    "\n",
    "---\n",
    "\n",
    "\n",
    "\n",
    "\n",
    "### Learning Objectives\n",
    " \n",
    "- Explore `Python` control flow and conditional programming.  \n",
    "- Implement `For` and `While` loops to iterate through data structures.\n",
    "- Apply `if, else` conditional statements.\n",
    "- Create functions to perform repetitive actions.\n",
    "- Demonstrate error-handling using `try, except` statements.\n",
    "- Combine control flow and conditional statements to solve the classic \"FizzBuzz\" code challenge.\n",
    "- Use `Python` control flow and functions to help us parse, clean, edit and analyze the Coffee Preferences dataset.\n",
    "\n",
    "---\n",
    "### Lesson Guide\n",
    "\n",
    "- [If Else Statement](#if_else_statements)\n",
    "- [Iterating With For Loops](#for_loops)\n",
    "- [FizzBuzz](#fizz_buzz)\n",
    "- [Functions](#functions)\n",
    "- [While Loops](#while_loops)\n",
    "- [Practice control flow on Coffee Preference dataset](#coffee_preference)\n"
   ]
  },
  {
   "cell_type": "code",
   "execution_count": 1,
   "metadata": {},
   "outputs": [],
   "source": [
    "import numpy as np"
   ]
  },
  {
   "cell_type": "markdown",
   "metadata": {},
   "source": [
    "<a id='if_else_statements'></a>\n",
    "\n",
    "# If, Else Statements"
   ]
  },
  {
   "cell_type": "markdown",
   "metadata": {},
   "source": [
    "---\n",
    "\n",
    "### 1. Write an if-else statement to check whether the suitcase is over 50lb.\n",
    "\n",
    "Print a message indicating whether or not the suitcase is over 50lbs."
   ]
  },
  {
   "cell_type": "code",
   "execution_count": 6,
   "metadata": {},
   "outputs": [
    {
     "name": "stdout",
     "output_type": "stream",
     "text": [
      "How many pounds does your suitcase weigh? 30\n"
     ]
    }
   ],
   "source": [
    "weight = float(input(\"How many pounds does your suitcase weigh? \"))"
   ]
  },
  {
   "cell_type": "code",
   "execution_count": 8,
   "metadata": {},
   "outputs": [
    {
     "name": "stdout",
     "output_type": "stream",
     "text": [
      "False\n"
     ]
    }
   ],
   "source": [
    "if weight > 50:\n",
    "    print True\n",
    "else:\n",
    "    print False"
   ]
  },
  {
   "cell_type": "code",
   "execution_count": 9,
   "metadata": {},
   "outputs": [
    {
     "data": {
      "text/plain": [
       "False"
      ]
     },
     "execution_count": 9,
     "metadata": {},
     "output_type": "execute_result"
    }
   ],
   "source": [
    "weight > 50"
   ]
  },
  {
   "cell_type": "markdown",
   "metadata": {},
   "source": [
    "---\n",
    "\n",
    "### 2. Write an if-else statement for multiple conditions.\n",
    "\n",
    "Print out these recommendations based on the weather conditions:\n",
    "\n",
    "1. The temperature is higher than 60 degrees and it is raining: Bring an umbrella.\n",
    "2. The temperature is lower than or equal to 60 degrees and it is raining: Bring an umbrella and a jacket.\n",
    "3. The temperature is higher than 60 degrees and the sun is shining: Wear a T-shirt.\n",
    "4. The temperature is lower than or equal to 60 degrees and the sun is shining: Bring a jacket."
   ]
  },
  {
   "cell_type": "code",
   "execution_count": 10,
   "metadata": {},
   "outputs": [
    {
     "name": "stdout",
     "output_type": "stream",
     "text": [
      "What is the temperature? 100\n",
      "What is the weather? (rain or shine) shine\n"
     ]
    }
   ],
   "source": [
    "temperature = float(input('What is the temperature? '))\n",
    "weather = raw_input('What is the weather? (rain or shine) ')"
   ]
  },
  {
   "cell_type": "code",
   "execution_count": 21,
   "metadata": {},
   "outputs": [
    {
     "name": "stdout",
     "output_type": "stream",
     "text": [
      "Wear a T-shirt\n"
     ]
    }
   ],
   "source": [
    "if temperature > 60 and weather == 'rain':\n",
    "    print 'Bring an umbrella'\n",
    "elif temperature <= 60 and weather == 'rain':\n",
    "    print 'Bring an umbrella and a jacket'\n",
    "elif temperature > 60 and weather == 'shine':\n",
    "     print 'Wear a T-shirt'\n",
    "elif temperature <= 60 and weather == 'shine':\n",
    "    print 'Bring a jacket'"
   ]
  },
  {
   "cell_type": "code",
   "execution_count": 350,
   "metadata": {},
   "outputs": [
    {
     "name": "stdout",
     "output_type": "stream",
     "text": [
      "t-shirt\n"
     ]
    }
   ],
   "source": [
    "if temperature > 60:\n",
    "    if weather == 'rain':\n",
    "        print 'umbrella'\n",
    "    elif weather == 'shine':\n",
    "        print 't-shirt'\n",
    "elif temperature <= 60:\n",
    "    if weather == 'rain':\n",
    "        print 'umbrella & jacket'\n",
    "    elif weather == 'shine':\n",
    "        print 'jacket'"
   ]
  },
  {
   "cell_type": "markdown",
   "metadata": {},
   "source": [
    "---\n",
    "<a id='for_loops'></a>\n",
    "# For Loops\n",
    "\n",
    "---\n",
    "### 3. Write a `for`-loop that iterates from the number 1 to the number 15.\n",
    "\n",
    "On each iteration, print out the number."
   ]
  },
  {
   "cell_type": "code",
   "execution_count": 30,
   "metadata": {},
   "outputs": [
    {
     "name": "stdout",
     "output_type": "stream",
     "text": [
      "1\n",
      "2\n",
      "3\n",
      "4\n",
      "5\n",
      "6\n",
      "7\n",
      "8\n",
      "9\n",
      "10\n",
      "11\n",
      "12\n",
      "13\n",
      "14\n",
      "15\n"
     ]
    }
   ],
   "source": [
    "for i in range(1,16):\n",
    "    print i"
   ]
  },
  {
   "cell_type": "markdown",
   "metadata": {},
   "source": [
    "---\n",
    "\n",
    "### 4. Iterate from 1 to 15, printing whether the number is odd or even.\n",
    "\n",
    "Hint: The modulus operator, `%`, can be used to take the remainder. For example:\n",
    "\n",
    "```python\n",
    "9 % 5 == 4\n",
    "```\n",
    "\n",
    "Or in other words, the remainder of dividing 9 by 5 is 4. "
   ]
  },
  {
   "cell_type": "code",
   "execution_count": 352,
   "metadata": {},
   "outputs": [
    {
     "name": "stdout",
     "output_type": "stream",
     "text": [
      "1 odd\n",
      "2 even\n",
      "3 odd\n",
      "4 even\n",
      "5 odd\n",
      "6 even\n",
      "7 odd\n",
      "8 even\n",
      "9 odd\n",
      "10 even\n",
      "11 odd\n",
      "12 even\n",
      "13 odd\n",
      "14 even\n",
      "15 odd\n"
     ]
    }
   ],
   "source": [
    "for i in range(1,16):\n",
    "    if (i%2==0):\n",
    "        print i, 'even'\n",
    "    else:\n",
    "        print i, 'odd'"
   ]
  },
  {
   "cell_type": "markdown",
   "metadata": {},
   "source": [
    "---\n",
    "<a id='fizz_buzz'></a>\n",
    "### 5. Iterate from 1 to 30 with the following instructions:\n",
    "\n",
    "1. If a number is divisible by 3, print 'fizz'. \n",
    "2. If a number is divisible by 5, print 'buzz'. \n",
    "3. If a number is both divisible by 3 and 5 print 'fizzbuzz'.\n",
    "4. Otherwise, print just the number."
   ]
  },
  {
   "cell_type": "code",
   "execution_count": 48,
   "metadata": {},
   "outputs": [
    {
     "name": "stdout",
     "output_type": "stream",
     "text": [
      "1 False\n",
      "2 False\n",
      "3 fizz\n",
      "4 False\n",
      "5 buzz\n",
      "6 fizz\n",
      "7 False\n",
      "8 False\n",
      "9 fizz\n",
      "10 buzz\n",
      "11 False\n",
      "12 fizz\n",
      "13 False\n",
      "14 False\n",
      "15 fizzbuzz\n",
      "16 False\n",
      "17 False\n",
      "18 fizz\n",
      "19 False\n",
      "20 buzz\n",
      "21 fizz\n",
      "22 False\n",
      "23 False\n",
      "24 fizz\n",
      "25 buzz\n",
      "26 False\n",
      "27 fizz\n",
      "28 False\n",
      "29 False\n",
      "30 fizzbuzz\n"
     ]
    }
   ],
   "source": [
    "for i in range(1,31):\n",
    "    if i%3==0 and i%5==0:\n",
    "        print i, 'fizzbuzz'       \n",
    "    elif i%5==0:\n",
    "        print i, 'buzz'\n",
    "    elif i%3==0:\n",
    "        print i, 'fizz'\n",
    "    else:\n",
    "        print i, False"
   ]
  },
  {
   "cell_type": "markdown",
   "metadata": {},
   "source": [
    "---\n",
    "\n",
    "### 6. Iterate through the following list of animals, and print each one in all caps."
   ]
  },
  {
   "cell_type": "code",
   "execution_count": 50,
   "metadata": {},
   "outputs": [],
   "source": [
    "animals = ['duck', 'rat', 'boar', 'slug', 'mammoth', 'gazelle']"
   ]
  },
  {
   "cell_type": "code",
   "execution_count": 51,
   "metadata": {},
   "outputs": [
    {
     "name": "stdout",
     "output_type": "stream",
     "text": [
      "DUCK\n",
      "RAT\n",
      "BOAR\n",
      "SLUG\n",
      "MAMMOTH\n",
      "GAZELLE\n"
     ]
    }
   ],
   "source": [
    "for i in animals:\n",
    "    print i.upper()"
   ]
  },
  {
   "cell_type": "markdown",
   "metadata": {},
   "source": [
    "---\n",
    "\n",
    "### 7. Iterate through the animals list. Capitalize the first letter and append the modified animals to a new list."
   ]
  },
  {
   "cell_type": "code",
   "execution_count": 55,
   "metadata": {},
   "outputs": [
    {
     "name": "stdout",
     "output_type": "stream",
     "text": [
      "['Duck', 'Rat', 'Boar', 'Slug', 'Mammoth', 'Gazelle']\n"
     ]
    }
   ],
   "source": [
    "new_list = []\n",
    "for i in animals:\n",
    "    new_list.append(i.title())\n",
    "print new_list"
   ]
  },
  {
   "cell_type": "code",
   "execution_count": 353,
   "metadata": {},
   "outputs": [
    {
     "name": "stdout",
     "output_type": "stream",
     "text": [
      "['Duck', 'Rat', 'Boar', 'Slug', 'Mammoth', 'Gazelle']\n"
     ]
    }
   ],
   "source": [
    "cap_animals = []\n",
    "for animal in animals:\n",
    "    cap_animal = animal[0].upper() + animal[1:]\n",
    "    cap_animals.append(cap_animal)\n",
    "print cap_animals"
   ]
  },
  {
   "cell_type": "markdown",
   "metadata": {},
   "source": [
    "---\n",
    "\n",
    "### 8. Iterate through the animals. Print out the animal name and the number of vowels in the name.\n",
    "Hint: You may need to create a variable of vowels for comparison.  "
   ]
  },
  {
   "cell_type": "code",
   "execution_count": 356,
   "metadata": {},
   "outputs": [
    {
     "name": "stdout",
     "output_type": "stream",
     "text": [
      "duck has 1 counter(s)\n",
      "rat has 1 counter(s)\n",
      "boar has 2 counter(s)\n",
      "slug has 1 counter(s)\n",
      "mammoth has 2 counter(s)\n",
      "gazelle has 3 counter(s)\n"
     ]
    }
   ],
   "source": [
    "vowels = 'aeiouAEIOU'\n",
    "for animal in animals:\n",
    "    counter = 0\n",
    "    for a in animal:\n",
    "        if a in vowels:\n",
    "            counter += 1\n",
    "    print ('{0} has {1} counter(s)'.format(animal, counter))"
   ]
  },
  {
   "cell_type": "markdown",
   "metadata": {},
   "source": [
    "---\n",
    "<a id='functions'></a>\n",
    "# Functions\n",
    "---\n",
    "\n",
    "### 9. Write a function that takes word as an argument and returns the number of vowels in the word.\n",
    "\n",
    "Try it out on three words."
   ]
  },
  {
   "cell_type": "code",
   "execution_count": 101,
   "metadata": {},
   "outputs": [],
   "source": [
    "def num_vowels(word):\n",
    "    vowels = 'aeiouAEIOU'\n",
    "    counter = 0\n",
    "    for a in word:\n",
    "        if a in vowels:\n",
    "            counter += 1\n",
    "    print counter"
   ]
  },
  {
   "cell_type": "code",
   "execution_count": 102,
   "metadata": {},
   "outputs": [
    {
     "name": "stdout",
     "output_type": "stream",
     "text": [
      "2\n"
     ]
    }
   ],
   "source": [
    "num_vowels('hello')"
   ]
  },
  {
   "cell_type": "markdown",
   "metadata": {},
   "source": [
    "---\n",
    "\n",
    "### 10. Write a function to calculate the area of a triangle using its height and width.\n",
    "\n",
    "Test it out."
   ]
  },
  {
   "cell_type": "code",
   "execution_count": 103,
   "metadata": {},
   "outputs": [],
   "source": [
    "def area_triangle(height, width):\n",
    "    print 0.5*float(height)*float(width)"
   ]
  },
  {
   "cell_type": "markdown",
   "metadata": {},
   "source": [
    "---\n",
    "<a id='while_loops'></a>\n",
    "# While Loops\n",
    "---\n",
    "\n",
    "### 11. While loops and strings.\n",
    "\n",
    "Iterate over the following sentence repeatedly, counting the number of vowels in the sentence until you have tallied one million. Print out the number of iterations it took to reach that amount."
   ]
  },
  {
   "cell_type": "code",
   "execution_count": 106,
   "metadata": {},
   "outputs": [],
   "source": [
    "sentence = \"A MAN KNOCKED ON MY DOOR AND ASKED FOR A SMALL DONATION TOWARDS THE LOCAL SWIMMING POOL SO I GAVE HIM A GLASS OF WATER\""
   ]
  },
  {
   "cell_type": "code",
   "execution_count": 329,
   "metadata": {},
   "outputs": [
    {
     "name": "stdout",
     "output_type": "stream",
     "text": [
      "iterations: 27778\n",
      "counter: 1000008\n"
     ]
    }
   ],
   "source": [
    "iterations = 0\n",
    "counter = 0\n",
    "vowels = 'aeiouAEIOU'\n",
    "\n",
    "while counter < 1000000:\n",
    "    iterations += 1\n",
    "    for i in sentence:      \n",
    "        if i in vowels:\n",
    "            counter += 1    \n",
    "else:\n",
    "    print 'iterations:', iterations\n",
    "    print 'counter:', counter"
   ]
  },
  {
   "cell_type": "markdown",
   "metadata": {},
   "source": [
    "---\n",
    "\n",
    "### 12. Try to convert elements in a list to floats.\n",
    "\n",
    "Create a new list with the converted numbers. If something cannot be converted, skip it and append nothing to the new list."
   ]
  },
  {
   "cell_type": "code",
   "execution_count": 113,
   "metadata": {},
   "outputs": [],
   "source": [
    "corrupted = ['!1', '23.1', '23.4.5', '??12', '.12', '12-12', '-11.1', '0-1', '*12.1', '1000']"
   ]
  },
  {
   "cell_type": "code",
   "execution_count": 332,
   "metadata": {},
   "outputs": [
    {
     "name": "stdout",
     "output_type": "stream",
     "text": [
      "[23.1, 0.12, -11.1, 1000.0]\n"
     ]
    }
   ],
   "source": [
    "new_list = []\n",
    "for i in corrupted:\n",
    "    try:\n",
    "        new_list.append(float(i))\n",
    "    except:\n",
    "        pass\n",
    "print new_list"
   ]
  },
  {
   "cell_type": "markdown",
   "metadata": {},
   "source": [
    "---\n",
    "<a id='coffee_preference'></a>\n",
    "\n",
    "# Practice control flow on Coffee Preference dataset\n",
    "\n",
    "### 13. Load coffee preference data from file and print\n",
    "\n",
    "The code to load in the data is provided below. \n",
    "\n",
    "The `with open(..., 'r') as f:` opens up a file in \"read\" mode (rather than \"write\"), and assigns this opened file to `f`. \n",
    "\n",
    "We can then use the `.readlines()` built-in function to split the csv file on newlines and assign it to the variable `lines`."
   ]
  },
  {
   "cell_type": "code",
   "execution_count": 357,
   "metadata": {},
   "outputs": [],
   "source": [
    "with open('datasets/coffee-preferences.csv','r') as f:\n",
    "    lines = f.readlines()"
   ]
  },
  {
   "cell_type": "markdown",
   "metadata": {},
   "source": [
    "#### Iterate through lines and print them out"
   ]
  },
  {
   "cell_type": "code",
   "execution_count": 358,
   "metadata": {},
   "outputs": [
    {
     "name": "stdout",
     "output_type": "stream",
     "text": [
      "Timestamp,Name,Starbucks,PhilzCoffee,BlueBottleCoffee,PeetsTea,CaffeTrieste,GrandCoffee,RitualCoffee,FourBarrel,WorkshopCafe\n",
      "\n",
      "3/17/2015 18:37:58,Alison,3,5,4,3,,,5,5,\n",
      "\n",
      "3/17/2015 18:38:09,April,4,5,5,3,,,3,,5\n",
      "\n",
      "3/17/2015 18:38:25,Vijay,3,5,5,5,3,2,1,1,1\n",
      "\n",
      "3/17/2015 18:38:28,Vanessa,1,5,5,2,,,3,2,3\n",
      "\n",
      "3/17/2015 18:38:46,Isabel,1,4,4,2,4,,4,4,\n",
      "\n",
      "3/17/2015 18:39:01,India,5,3,3,3,3,1,,,3\n",
      "\n",
      "3/17/2015 18:39:01,Dave H,4,5,,5,,,,,\n",
      "\n",
      "3/17/2015 18:39:05,Deepthi,3,5,,2,,,,,2\n",
      "\n",
      "3/17/2015 18:39:14,Ramesh,3,4,,3,,,,,4\n",
      "\n",
      "3/17/2015 18:39:23,Hugh Jass,1,5,5,4,5,2,5,4,1\n",
      "\n",
      "3/17/2015 18:39:23,Alex,4,5,,3,,,,,\n",
      "\n",
      "3/17/2015 18:39:30,Ajay Anand,3,4,4,3,5,,,,\n",
      "\n",
      "3/17/2015 18:39:35,David Feng,2,3,4,2,2,,5,4,3\n",
      "\n",
      "3/17/2015 18:39:42,Zach,3,4,4,3,,,,,5\n",
      "\n",
      "3/17/2015 18:40:44,Matt,3,5,4,3,2,2,4,3,2\n",
      "\n",
      "3/17/2015 18:40:49,Markus,3,5,,3,,,4,,\n",
      "\n",
      "3/17/2015 18:41:18,Otto,4,2,2,5,,,3,3,3\n",
      "\n",
      "3/17/2015 18:41:23,Alessandro,1,5,3,2,,,4,3,\n",
      "\n",
      "3/17/2015 18:41:35,Rocky,3,5,4,3,3,3,4,4,3\n",
      "\n",
      "3/17/2015 18:42:01,cheong-tseng eng,3,1,,,,,4,,\n"
     ]
    }
   ],
   "source": [
    "for line in lines:\n",
    "    print line"
   ]
  },
  {
   "cell_type": "markdown",
   "metadata": {},
   "source": [
    "#### Print out just the lines object by typing `lines` in a cell and hitting enter."
   ]
  },
  {
   "cell_type": "code",
   "execution_count": 343,
   "metadata": {},
   "outputs": [
    {
     "data": {
      "text/plain": [
       "['Timestamp,Name,Starbucks,PhilzCoffee,BlueBottleCoffee,PeetsTea,CaffeTrieste,GrandCoffee,RitualCoffee,FourBarrel,WorkshopCafe\\n',\n",
       " '3/17/2015 18:37:58,Alison,3,5,4,3,,,5,5,\\n',\n",
       " '3/17/2015 18:38:09,April,4,5,5,3,,,3,,5\\n',\n",
       " '3/17/2015 18:38:25,Vijay,3,5,5,5,3,2,1,1,1\\n',\n",
       " '3/17/2015 18:38:28,Vanessa,1,5,5,2,,,3,2,3\\n',\n",
       " '3/17/2015 18:38:46,Isabel,1,4,4,2,4,,4,4,\\n',\n",
       " '3/17/2015 18:39:01,India,5,3,3,3,3,1,,,3\\n',\n",
       " '3/17/2015 18:39:01,Dave H,4,5,,5,,,,,\\n',\n",
       " '3/17/2015 18:39:05,Deepthi,3,5,,2,,,,,2\\n',\n",
       " '3/17/2015 18:39:14,Ramesh,3,4,,3,,,,,4\\n',\n",
       " '3/17/2015 18:39:23,Hugh Jass,1,5,5,4,5,2,5,4,1\\n',\n",
       " '3/17/2015 18:39:23,Alex,4,5,,3,,,,,\\n',\n",
       " '3/17/2015 18:39:30,Ajay Anand,3,4,4,3,5,,,,\\n',\n",
       " '3/17/2015 18:39:35,David Feng,2,3,4,2,2,,5,4,3\\n',\n",
       " '3/17/2015 18:39:42,Zach,3,4,4,3,,,,,5\\n',\n",
       " '3/17/2015 18:40:44,Matt,3,5,4,3,2,2,4,3,2\\n',\n",
       " '3/17/2015 18:40:49,Markus,3,5,,3,,,4,,\\n',\n",
       " '3/17/2015 18:41:18,Otto,4,2,2,5,,,3,3,3\\n',\n",
       " '3/17/2015 18:41:23,Alessandro,1,5,3,2,,,4,3,\\n',\n",
       " '3/17/2015 18:41:35,Rocky,3,5,4,3,3,3,4,4,3\\n',\n",
       " '3/17/2015 18:42:01,cheong-tseng eng,3,1,,,,,4,,']"
      ]
     },
     "execution_count": 343,
     "metadata": {},
     "output_type": "execute_result"
    }
   ],
   "source": [
    "lines"
   ]
  },
  {
   "cell_type": "markdown",
   "metadata": {},
   "source": [
    "---\n",
    "\n",
    "### 14. Remove the remaining newline `'\\n'` characters with a for-loop.\n",
    "\n",
    "Iterate through the lines of the data and remove the unwanted newline characters.\n",
    "\n",
    "**.replace('\\n', '')** is a built-in string function that will take the substring you want to replace as its first argument and the string you want to replace it with as its second."
   ]
  },
  {
   "cell_type": "code",
   "execution_count": 344,
   "metadata": {},
   "outputs": [
    {
     "data": {
      "text/plain": [
       "['Timestamp,Name,Starbucks,PhilzCoffee,BlueBottleCoffee,PeetsTea,CaffeTrieste,GrandCoffee,RitualCoffee,FourBarrel,WorkshopCafe',\n",
       " '3/17/2015 18:37:58,Alison,3,5,4,3,,,5,5,',\n",
       " '3/17/2015 18:38:09,April,4,5,5,3,,,3,,5',\n",
       " '3/17/2015 18:38:25,Vijay,3,5,5,5,3,2,1,1,1',\n",
       " '3/17/2015 18:38:28,Vanessa,1,5,5,2,,,3,2,3',\n",
       " '3/17/2015 18:38:46,Isabel,1,4,4,2,4,,4,4,',\n",
       " '3/17/2015 18:39:01,India,5,3,3,3,3,1,,,3',\n",
       " '3/17/2015 18:39:01,Dave H,4,5,,5,,,,,',\n",
       " '3/17/2015 18:39:05,Deepthi,3,5,,2,,,,,2',\n",
       " '3/17/2015 18:39:14,Ramesh,3,4,,3,,,,,4',\n",
       " '3/17/2015 18:39:23,Hugh Jass,1,5,5,4,5,2,5,4,1',\n",
       " '3/17/2015 18:39:23,Alex,4,5,,3,,,,,',\n",
       " '3/17/2015 18:39:30,Ajay Anand,3,4,4,3,5,,,,',\n",
       " '3/17/2015 18:39:35,David Feng,2,3,4,2,2,,5,4,3',\n",
       " '3/17/2015 18:39:42,Zach,3,4,4,3,,,,,5',\n",
       " '3/17/2015 18:40:44,Matt,3,5,4,3,2,2,4,3,2',\n",
       " '3/17/2015 18:40:49,Markus,3,5,,3,,,4,,',\n",
       " '3/17/2015 18:41:18,Otto,4,2,2,5,,,3,3,3',\n",
       " '3/17/2015 18:41:23,Alessandro,1,5,3,2,,,4,3,',\n",
       " '3/17/2015 18:41:35,Rocky,3,5,4,3,3,3,4,4,3',\n",
       " '3/17/2015 18:42:01,cheong-tseng eng,3,1,,,,,4,,']"
      ]
     },
     "execution_count": 344,
     "metadata": {},
     "output_type": "execute_result"
    }
   ],
   "source": [
    "lines = [l.replace('\\n', '') for l in lines]\n",
    "lines"
   ]
  },
  {
   "cell_type": "code",
   "execution_count": 359,
   "metadata": {},
   "outputs": [
    {
     "data": {
      "text/plain": [
       "['Timestamp,Name,Starbucks,PhilzCoffee,BlueBottleCoffee,PeetsTea,CaffeTrieste,GrandCoffee,RitualCoffee,FourBarrel,WorkshopCafe',\n",
       " '3/17/2015 18:37:58,Alison,3,5,4,3,,,5,5,',\n",
       " '3/17/2015 18:38:09,April,4,5,5,3,,,3,,5',\n",
       " '3/17/2015 18:38:25,Vijay,3,5,5,5,3,2,1,1,1',\n",
       " '3/17/2015 18:38:28,Vanessa,1,5,5,2,,,3,2,3',\n",
       " '3/17/2015 18:38:46,Isabel,1,4,4,2,4,,4,4,',\n",
       " '3/17/2015 18:39:01,India,5,3,3,3,3,1,,,3',\n",
       " '3/17/2015 18:39:01,Dave H,4,5,,5,,,,,',\n",
       " '3/17/2015 18:39:05,Deepthi,3,5,,2,,,,,2',\n",
       " '3/17/2015 18:39:14,Ramesh,3,4,,3,,,,,4',\n",
       " '3/17/2015 18:39:23,Hugh Jass,1,5,5,4,5,2,5,4,1',\n",
       " '3/17/2015 18:39:23,Alex,4,5,,3,,,,,',\n",
       " '3/17/2015 18:39:30,Ajay Anand,3,4,4,3,5,,,,',\n",
       " '3/17/2015 18:39:35,David Feng,2,3,4,2,2,,5,4,3',\n",
       " '3/17/2015 18:39:42,Zach,3,4,4,3,,,,,5',\n",
       " '3/17/2015 18:40:44,Matt,3,5,4,3,2,2,4,3,2',\n",
       " '3/17/2015 18:40:49,Markus,3,5,,3,,,4,,',\n",
       " '3/17/2015 18:41:18,Otto,4,2,2,5,,,3,3,3',\n",
       " '3/17/2015 18:41:23,Alessandro,1,5,3,2,,,4,3,',\n",
       " '3/17/2015 18:41:35,Rocky,3,5,4,3,3,3,4,4,3',\n",
       " '3/17/2015 18:42:01,cheong-tseng eng,3,1,,,,,4,,']"
      ]
     },
     "execution_count": 359,
     "metadata": {},
     "output_type": "execute_result"
    }
   ],
   "source": [
    "cleaned_lines = []\n",
    "for l in lines:\n",
    "    cleaned_lines.append(l.replace('\\n', ''))\n",
    "cleaned_lines"
   ]
  },
  {
   "cell_type": "markdown",
   "metadata": {},
   "source": [
    "---\n",
    "\n",
    "### 15. Split the lines into \"header\" and \"data\" variables.\n",
    "\n",
    "The header is the first string in the list of strings. It contains the column names of our data."
   ]
  },
  {
   "cell_type": "code",
   "execution_count": 360,
   "metadata": {},
   "outputs": [],
   "source": [
    "header = cleaned_lines[0]\n",
    "data = cleaned_lines[1:]"
   ]
  },
  {
   "cell_type": "markdown",
   "metadata": {},
   "source": [
    "---\n",
    "\n",
    "### 16. Split the header and the data strings on commas.\n",
    "\n",
    "To split a string on the comma character, use the built in **`.split(',')`** function. \n",
    "\n",
    "Split the header on commas, then print it. You can see that the original string is now a list containing items that were originally separated by commas."
   ]
  },
  {
   "cell_type": "code",
   "execution_count": 361,
   "metadata": {},
   "outputs": [
    {
     "name": "stdout",
     "output_type": "stream",
     "text": [
      "['Timestamp', 'Name', 'Starbucks', 'PhilzCoffee', 'BlueBottleCoffee', 'PeetsTea', 'CaffeTrieste', 'GrandCoffee', 'RitualCoffee', 'FourBarrel', 'WorkshopCafe']\n",
      "[['3/17/2015 18:37:58', 'Alison', '3', '5', '4', '3', '', '', '5', '5', ''], ['3/17/2015 18:38:09', 'April', '4', '5', '5', '3', '', '', '3', '', '5'], ['3/17/2015 18:38:25', 'Vijay', '3', '5', '5', '5', '3', '2', '1', '1', '1'], ['3/17/2015 18:38:28', 'Vanessa', '1', '5', '5', '2', '', '', '3', '2', '3'], ['3/17/2015 18:38:46', 'Isabel', '1', '4', '4', '2', '4', '', '4', '4', ''], ['3/17/2015 18:39:01', 'India', '5', '3', '3', '3', '3', '1', '', '', '3'], ['3/17/2015 18:39:01', 'Dave H', '4', '5', '', '5', '', '', '', '', ''], ['3/17/2015 18:39:05', 'Deepthi', '3', '5', '', '2', '', '', '', '', '2'], ['3/17/2015 18:39:14', 'Ramesh', '3', '4', '', '3', '', '', '', '', '4'], ['3/17/2015 18:39:23', 'Hugh Jass', '1', '5', '5', '4', '5', '2', '5', '4', '1'], ['3/17/2015 18:39:23', 'Alex', '4', '5', '', '3', '', '', '', '', ''], ['3/17/2015 18:39:30', 'Ajay Anand', '3', '4', '4', '3', '5', '', '', '', ''], ['3/17/2015 18:39:35', 'David Feng', '2', '3', '4', '2', '2', '', '5', '4', '3'], ['3/17/2015 18:39:42', 'Zach', '3', '4', '4', '3', '', '', '', '', '5'], ['3/17/2015 18:40:44', 'Matt', '3', '5', '4', '3', '2', '2', '4', '3', '2'], ['3/17/2015 18:40:49', 'Markus', '3', '5', '', '3', '', '', '4', '', ''], ['3/17/2015 18:41:18', 'Otto', '4', '2', '2', '5', '', '', '3', '3', '3'], ['3/17/2015 18:41:23', 'Alessandro', '1', '5', '3', '2', '', '', '4', '3', ''], ['3/17/2015 18:41:35', 'Rocky', '3', '5', '4', '3', '3', '3', '4', '4', '3'], ['3/17/2015 18:42:01', 'cheong-tseng eng', '3', '1', '', '', '', '', '4', '', '']]\n"
     ]
    }
   ],
   "source": [
    "header = header.split(',')\n",
    "print header \n",
    "\n",
    "split_data = []\n",
    "for i in data:\n",
    "    split_data.append(i.split(','))\n",
    "print split_data"
   ]
  },
  {
   "cell_type": "markdown",
   "metadata": {},
   "source": [
    "---\n",
    "\n",
    "### 17. Remove the \"Timestamp\" column.\n",
    "\n",
    "We aren't interested in the \"Timestamp\" column in our data, so remove it from the header and the data list.\n",
    "\n",
    "Removing the Timestamp from the header can be done with list functions or with slicing. To remove the header column from the data, use a for-loop.\n",
    "\n",
    "Print out the new data object with the timestamps removed."
   ]
  },
  {
   "cell_type": "code",
   "execution_count": 407,
   "metadata": {},
   "outputs": [
    {
     "data": {
      "text/plain": [
       "['Name',\n",
       " 'Starbucks',\n",
       " 'PhilzCoffee',\n",
       " 'BlueBottleCoffee',\n",
       " 'PeetsTea',\n",
       " 'CaffeTrieste',\n",
       " 'GrandCoffee',\n",
       " 'RitualCoffee',\n",
       " 'FourBarrel',\n",
       " 'WorkshopCafe']"
      ]
     },
     "execution_count": 407,
     "metadata": {},
     "output_type": "execute_result"
    }
   ],
   "source": [
    "header.remove('Timestamp')\n",
    "header"
   ]
  },
  {
   "cell_type": "code",
   "execution_count": 367,
   "metadata": {},
   "outputs": [],
   "source": [
    "data_nots = []\n",
    "for row in split_data:\n",
    "    data_nots.append(row[1:])"
   ]
  },
  {
   "cell_type": "code",
   "execution_count": 369,
   "metadata": {},
   "outputs": [
    {
     "data": {
      "text/plain": [
       "[['Alison', '3', '5', '4', '3', '', '', '5', '5', ''],\n",
       " ['April', '4', '5', '5', '3', '', '', '3', '', '5'],\n",
       " ['Vijay', '3', '5', '5', '5', '3', '2', '1', '1', '1'],\n",
       " ['Vanessa', '1', '5', '5', '2', '', '', '3', '2', '3'],\n",
       " ['Isabel', '1', '4', '4', '2', '4', '', '4', '4', ''],\n",
       " ['India', '5', '3', '3', '3', '3', '1', '', '', '3'],\n",
       " ['Dave H', '4', '5', '', '5', '', '', '', '', ''],\n",
       " ['Deepthi', '3', '5', '', '2', '', '', '', '', '2'],\n",
       " ['Ramesh', '3', '4', '', '3', '', '', '', '', '4'],\n",
       " ['Hugh Jass', '1', '5', '5', '4', '5', '2', '5', '4', '1'],\n",
       " ['Alex', '4', '5', '', '3', '', '', '', '', ''],\n",
       " ['Ajay Anand', '3', '4', '4', '3', '5', '', '', '', ''],\n",
       " ['David Feng', '2', '3', '4', '2', '2', '', '5', '4', '3'],\n",
       " ['Zach', '3', '4', '4', '3', '', '', '', '', '5'],\n",
       " ['Matt', '3', '5', '4', '3', '2', '2', '4', '3', '2'],\n",
       " ['Markus', '3', '5', '', '3', '', '', '4', '', ''],\n",
       " ['Otto', '4', '2', '2', '5', '', '', '3', '3', '3'],\n",
       " ['Alessandro', '1', '5', '3', '2', '', '', '4', '3', ''],\n",
       " ['Rocky', '3', '5', '4', '3', '3', '3', '4', '4', '3'],\n",
       " ['cheong-tseng eng', '3', '1', '', '', '', '', '4', '', '']]"
      ]
     },
     "execution_count": 369,
     "metadata": {},
     "output_type": "execute_result"
    }
   ],
   "source": [
    "data_nots"
   ]
  },
  {
   "cell_type": "markdown",
   "metadata": {},
   "source": [
    "---\n",
    "\n",
    "### 18. Convert numeric columns to floats and empty fields to `None`.\n",
    "\n",
    "Iterate through the data, and construct a new data list of lists that contains the numeric ratings converted from strings into floats and the empty fields (which are empty strings '') replaced with the None object.\n",
    "\n",
    "Use a nested for loop (a for loop within another for loop) to get the job done. You will likely need to use if-else conditional statements as well.\n",
    "\n",
    "Print out the new data object to make sure you've succeeded."
   ]
  },
  {
   "cell_type": "code",
   "execution_count": 370,
   "metadata": {},
   "outputs": [
    {
     "name": "stdout",
     "output_type": "stream",
     "text": [
      "[['Alison', 3.0, 5.0, 4.0, 3.0, None, None, 5.0, 5.0, None], ['April', 4.0, 5.0, 5.0, 3.0, None, None, 3.0, None, 5.0], ['Vijay', 3.0, 5.0, 5.0, 5.0, 3.0, 2.0, 1.0, 1.0, 1.0], ['Vanessa', 1.0, 5.0, 5.0, 2.0, None, None, 3.0, 2.0, 3.0], ['Isabel', 1.0, 4.0, 4.0, 2.0, 4.0, None, 4.0, 4.0, None], ['India', 5.0, 3.0, 3.0, 3.0, 3.0, 1.0, None, None, 3.0], ['Dave H', 4.0, 5.0, None, 5.0, None, None, None, None, None], ['Deepthi', 3.0, 5.0, None, 2.0, None, None, None, None, 2.0], ['Ramesh', 3.0, 4.0, None, 3.0, None, None, None, None, 4.0], ['Hugh Jass', 1.0, 5.0, 5.0, 4.0, 5.0, 2.0, 5.0, 4.0, 1.0], ['Alex', 4.0, 5.0, None, 3.0, None, None, None, None, None], ['Ajay Anand', 3.0, 4.0, 4.0, 3.0, 5.0, None, None, None, None], ['David Feng', 2.0, 3.0, 4.0, 2.0, 2.0, None, 5.0, 4.0, 3.0], ['Zach', 3.0, 4.0, 4.0, 3.0, None, None, None, None, 5.0], ['Matt', 3.0, 5.0, 4.0, 3.0, 2.0, 2.0, 4.0, 3.0, 2.0], ['Markus', 3.0, 5.0, None, 3.0, None, None, 4.0, None, None], ['Otto', 4.0, 2.0, 2.0, 5.0, None, None, 3.0, 3.0, 3.0], ['Alessandro', 1.0, 5.0, 3.0, 2.0, None, None, 4.0, 3.0, None], ['Rocky', 3.0, 5.0, 4.0, 3.0, 3.0, 3.0, 4.0, 4.0, 3.0], ['cheong-tseng eng', 3.0, 1.0, None, None, None, None, 4.0, None, None]]\n"
     ]
    }
   ],
   "source": [
    "converted_data = []\n",
    "for data in data_nots:\n",
    "    converted = []\n",
    "    converted.append(data[0])\n",
    "    for i in data[1:]:\n",
    "        try:\n",
    "            converted.append(float(i))\n",
    "        except:\n",
    "            converted.append(None)\n",
    "    converted_data.append(converted)\n",
    "print(converted_data)"
   ]
  },
  {
   "cell_type": "code",
   "execution_count": 375,
   "metadata": {},
   "outputs": [
    {
     "data": {
      "text/plain": [
       "[['Alison', 3.0, 5.0, 4.0, 3.0, None, None, 5.0, 5.0, None],\n",
       " ['April', 4.0, 5.0, 5.0, 3.0, None, None, 3.0, None, 5.0],\n",
       " ['Vijay', 3.0, 5.0, 5.0, 5.0, 3.0, 2.0, 1.0, 1.0, 1.0],\n",
       " ['Vanessa', 1.0, 5.0, 5.0, 2.0, None, None, 3.0, 2.0, 3.0],\n",
       " ['Isabel', 1.0, 4.0, 4.0, 2.0, 4.0, None, 4.0, 4.0, None],\n",
       " ['India', 5.0, 3.0, 3.0, 3.0, 3.0, 1.0, None, None, 3.0],\n",
       " ['Dave H', 4.0, 5.0, None, 5.0, None, None, None, None, None],\n",
       " ['Deepthi', 3.0, 5.0, None, 2.0, None, None, None, None, 2.0],\n",
       " ['Ramesh', 3.0, 4.0, None, 3.0, None, None, None, None, 4.0],\n",
       " ['Hugh Jass', 1.0, 5.0, 5.0, 4.0, 5.0, 2.0, 5.0, 4.0, 1.0],\n",
       " ['Alex', 4.0, 5.0, None, 3.0, None, None, None, None, None],\n",
       " ['Ajay Anand', 3.0, 4.0, 4.0, 3.0, 5.0, None, None, None, None],\n",
       " ['David Feng', 2.0, 3.0, 4.0, 2.0, 2.0, None, 5.0, 4.0, 3.0],\n",
       " ['Zach', 3.0, 4.0, 4.0, 3.0, None, None, None, None, 5.0],\n",
       " ['Matt', 3.0, 5.0, 4.0, 3.0, 2.0, 2.0, 4.0, 3.0, 2.0],\n",
       " ['Markus', 3.0, 5.0, None, 3.0, None, None, 4.0, None, None],\n",
       " ['Otto', 4.0, 2.0, 2.0, 5.0, None, None, 3.0, 3.0, 3.0],\n",
       " ['Alessandro', 1.0, 5.0, 3.0, 2.0, None, None, 4.0, 3.0, None],\n",
       " ['Rocky', 3.0, 5.0, 4.0, 3.0, 3.0, 3.0, 4.0, 4.0, 3.0],\n",
       " ['cheong-tseng eng', 3.0, 1.0, None, None, None, None, 4.0, None, None]]"
      ]
     },
     "execution_count": 375,
     "metadata": {},
     "output_type": "execute_result"
    }
   ],
   "source": [
    "data_num = []\n",
    "for row in data_nots:\n",
    "    new_row = []\n",
    "    for i, col in enumerate(row):\n",
    "        if i == 0:\n",
    "            new_row.append(col)\n",
    "        elif col == '':\n",
    "            new_row.append(None)\n",
    "        else:\n",
    "            new_row.append(float(col))\n",
    "    data_num.append(new_row)\n",
    "    \n",
    "data_num"
   ]
  },
  {
   "cell_type": "markdown",
   "metadata": {},
   "source": [
    "---\n",
    "\n",
    "### 19. Count the `None` values per person, and put counts in a dictionary.\n",
    "\n",
    "Use a for loop to count the number of `None` values per person. Create a dictionary with the names of the people as keys, and the counts of `None` as values.\n",
    "\n",
    "Who rated the most coffee brands? Who rated the least?"
   ]
  },
  {
   "cell_type": "code",
   "execution_count": 379,
   "metadata": {},
   "outputs": [
    {
     "data": {
      "text/plain": [
       "{'Ajay Anand': 4,\n",
       " 'Alessandro': 3,\n",
       " 'Alex': 6,\n",
       " 'Alison': 3,\n",
       " 'April': 3,\n",
       " 'Dave H': 6,\n",
       " 'David Feng': 1,\n",
       " 'Deepthi': 5,\n",
       " 'Hugh Jass': 0,\n",
       " 'India': 2,\n",
       " 'Isabel': 2,\n",
       " 'Markus': 5,\n",
       " 'Matt': 0,\n",
       " 'Otto': 2,\n",
       " 'Ramesh': 5,\n",
       " 'Rocky': 0,\n",
       " 'Vanessa': 2,\n",
       " 'Vijay': 0,\n",
       " 'Zach': 4,\n",
       " 'cheong-tseng eng': 6}"
      ]
     },
     "execution_count": 379,
     "metadata": {},
     "output_type": "execute_result"
    }
   ],
   "source": [
    "user_none = {row[0]: row.count(None) for row in data_num}\n",
    "user_none"
   ]
  },
  {
   "cell_type": "code",
   "execution_count": 258,
   "metadata": {},
   "outputs": [],
   "source": [
    "dict = {}\n",
    "for i in range(len(converted_data)):\n",
    "    dict[converted_data[i][0]] = converted_data[i].count(None)"
   ]
  },
  {
   "cell_type": "code",
   "execution_count": 287,
   "metadata": {},
   "outputs": [
    {
     "name": "stdout",
     "output_type": "stream",
     "text": [
      "rated most: ('cheong-tseng eng', 6)\n",
      "rated least: ('Hugh Jass', 0)\n"
     ]
    }
   ],
   "source": [
    "sorted_dict = sorted(dict.iteritems(), key=lambda (k,v): (v,k), reverse=True)\n",
    "print 'rated most:', sorted_dict[0]\n",
    "print 'rated least:', sorted_dict[-1]"
   ]
  },
  {
   "cell_type": "code",
   "execution_count": 295,
   "metadata": {},
   "outputs": [
    {
     "name": "stdout",
     "output_type": "stream",
     "text": [
      "cheong-tseng eng: 6\n",
      "Dave H: 6\n",
      "Alex: 6\n",
      "Ramesh: 5\n",
      "Markus: 5\n",
      "Deepthi: 5\n",
      "Zach: 4\n",
      "Ajay Anand: 4\n",
      "April: 3\n",
      "Alison: 3\n",
      "Alessandro: 3\n",
      "Vanessa: 2\n",
      "Otto: 2\n",
      "Isabel: 2\n",
      "India: 2\n",
      "David Feng: 1\n",
      "Vijay: 0\n",
      "Rocky: 0\n",
      "Matt: 0\n",
      "Hugh Jass: 0\n"
     ]
    }
   ],
   "source": [
    "for key, value in sorted(dict.iteritems(), key=lambda (k,v): (v,k), reverse=True):\n",
    "    print \"%s: %s\" % (key, value)"
   ]
  },
  {
   "cell_type": "markdown",
   "metadata": {},
   "source": [
    "---\n",
    "\n",
    "### 20. Calculate average rating per coffee brand.\n",
    "\n",
    "**Excluding `None` values**, calculate the average rating per brand of coffee.\n",
    "\n",
    "The final output should be a dictionary with keys as the coffee brand names, and their average rating as the values.\n",
    "\n",
    "Remember that average can be calculated as the sum of the ratings over the number of ratings:\n",
    "\n",
    "```python\n",
    "average_rating = float(sum(ratings_list))/len(ratings_list)\n",
    "```\n",
    "\n",
    "Print your dictionary to see the average brand ratings."
   ]
  },
  {
   "cell_type": "code",
   "execution_count": 440,
   "metadata": {},
   "outputs": [
    {
     "data": {
      "text/plain": [
       "[['Alison', 3.0, 5.0, 4.0, 3.0, None, None, 5.0, 5.0, None],\n",
       " ['April', 4.0, 5.0, 5.0, 3.0, None, None, 3.0, None, 5.0]]"
      ]
     },
     "execution_count": 440,
     "metadata": {},
     "output_type": "execute_result"
    }
   ],
   "source": [
    "data_num[:2]"
   ]
  },
  {
   "cell_type": "code",
   "execution_count": 441,
   "metadata": {},
   "outputs": [
    {
     "data": {
      "text/plain": [
       "['Name',\n",
       " 'Starbucks',\n",
       " 'PhilzCoffee',\n",
       " 'BlueBottleCoffee',\n",
       " 'PeetsTea',\n",
       " 'CaffeTrieste',\n",
       " 'GrandCoffee',\n",
       " 'RitualCoffee',\n",
       " 'FourBarrel',\n",
       " 'WorkshopCafe']"
      ]
     },
     "execution_count": 441,
     "metadata": {},
     "output_type": "execute_result"
    }
   ],
   "source": [
    "header"
   ]
  },
  {
   "cell_type": "code",
   "execution_count": 453,
   "metadata": {},
   "outputs": [],
   "source": [
    "brand_ratings = {}\n",
    "\n",
    "for brand in header[1:]:\n",
    "    brand_ratings[brand] = []\n",
    "\n",
    "for row in data_num:\n",
    "    for i, cell in enumerate(row):\n",
    "        if i > 0 and cell is not None:\n",
    "            brand = header[i]\n",
    "            brand_ratings[brand].append(cell)"
   ]
  },
  {
   "cell_type": "code",
   "execution_count": 458,
   "metadata": {},
   "outputs": [
    {
     "name": "stdout",
     "output_type": "stream",
     "text": [
      "PhilzCoffee [5.0, 5.0, 5.0, 5.0, 4.0, 3.0, 5.0, 5.0, 4.0, 5.0, 5.0, 4.0, 3.0, 4.0, 5.0, 5.0, 2.0, 5.0, 5.0, 1.0]\n",
      "WorkshopCafe [5.0, 1.0, 3.0, 3.0, 2.0, 4.0, 1.0, 3.0, 5.0, 2.0, 3.0, 3.0]\n",
      "RitualCoffee [5.0, 3.0, 1.0, 3.0, 4.0, 5.0, 5.0, 4.0, 4.0, 3.0, 4.0, 4.0, 4.0]\n",
      "BlueBottleCoffee [4.0, 5.0, 5.0, 5.0, 4.0, 3.0, 5.0, 4.0, 4.0, 4.0, 4.0, 2.0, 3.0, 4.0]\n",
      "Starbucks [3.0, 4.0, 3.0, 1.0, 1.0, 5.0, 4.0, 3.0, 3.0, 1.0, 4.0, 3.0, 2.0, 3.0, 3.0, 3.0, 4.0, 1.0, 3.0, 3.0]\n",
      "PeetsTea [3.0, 3.0, 5.0, 2.0, 2.0, 3.0, 5.0, 2.0, 3.0, 4.0, 3.0, 3.0, 2.0, 3.0, 3.0, 3.0, 5.0, 2.0, 3.0]\n",
      "GrandCoffee [2.0, 1.0, 2.0, 2.0, 3.0]\n",
      "FourBarrel [5.0, 1.0, 2.0, 4.0, 4.0, 4.0, 3.0, 3.0, 3.0, 4.0]\n",
      "CaffeTrieste [3.0, 4.0, 3.0, 5.0, 5.0, 2.0, 2.0, 3.0]\n"
     ]
    },
    {
     "data": {
      "text/plain": [
       "{'BlueBottleCoffee': 4.0,\n",
       " 'CaffeTrieste': 3.375,\n",
       " 'FourBarrel': 3.3,\n",
       " 'GrandCoffee': 2.0,\n",
       " 'PeetsTea': 3.1052631578947367,\n",
       " 'PhilzCoffee': 4.25,\n",
       " 'RitualCoffee': 3.769230769230769,\n",
       " 'Starbucks': 2.85,\n",
       " 'WorkshopCafe': 2.9166666666666665}"
      ]
     },
     "execution_count": 458,
     "metadata": {},
     "output_type": "execute_result"
    }
   ],
   "source": [
    "brand_average_rating = {}\n",
    "\n",
    "for brand, ratings in brand_ratings.items():\n",
    "    print brand, ratings\n",
    "    brand_average_rating[brand] = float(sum(ratings))/len(ratings)\n",
    "\n",
    "brand_average_rating"
   ]
  },
  {
   "cell_type": "code",
   "execution_count": 409,
   "metadata": {},
   "outputs": [],
   "source": [
    "brand_ratings = {}\n",
    "\n",
    "# Initialize the dictionary with (brand,[]).\n",
    "# Each line will contains the ratings for a given brand.\n",
    "for brand in header[1:]:\n",
    "    brand_ratings[brand] = []\n",
    "\n",
    "for row in data_num:\n",
    "    for i, cell in enumerate(row):\n",
    "        if i > 0 and not cell == None:\n",
    "            brand = header[i]\n",
    "            brand_ratings[brand].append(cell)"
   ]
  },
  {
   "cell_type": "code",
   "execution_count": 412,
   "metadata": {},
   "outputs": [
    {
     "data": {
      "text/plain": [
       "{'BlueBottleCoffee': [],\n",
       " 'CaffeTrieste': [],\n",
       " 'FourBarrel': [],\n",
       " 'GrandCoffee': [],\n",
       " 'Name': [],\n",
       " 'PeetsTea': [],\n",
       " 'PhilzCoffee': [],\n",
       " 'RitualCoffee': [],\n",
       " 'Starbucks': [],\n",
       " 'WorkshopCafe': []}"
      ]
     },
     "execution_count": 412,
     "metadata": {},
     "output_type": "execute_result"
    }
   ],
   "source": [
    "{brand: [] for brand in header}"
   ]
  },
  {
   "cell_type": "code",
   "execution_count": 415,
   "metadata": {},
   "outputs": [
    {
     "name": "stdout",
     "output_type": "stream",
     "text": [
      "PhilzCoffee [5.0, 5.0, 5.0, 5.0, 4.0, 3.0, 5.0, 5.0, 4.0, 5.0, 5.0, 4.0, 3.0, 4.0, 5.0, 5.0, 2.0, 5.0, 5.0, 1.0]\n",
      "WorkshopCafe [5.0, 1.0, 3.0, 3.0, 2.0, 4.0, 1.0, 3.0, 5.0, 2.0, 3.0, 3.0]\n",
      "RitualCoffee [5.0, 3.0, 1.0, 3.0, 4.0, 5.0, 5.0, 4.0, 4.0, 3.0, 4.0, 4.0, 4.0]\n",
      "BlueBottleCoffee [4.0, 5.0, 5.0, 5.0, 4.0, 3.0, 5.0, 4.0, 4.0, 4.0, 4.0, 2.0, 3.0, 4.0]\n",
      "Starbucks [3.0, 4.0, 3.0, 1.0, 1.0, 5.0, 4.0, 3.0, 3.0, 1.0, 4.0, 3.0, 2.0, 3.0, 3.0, 3.0, 4.0, 1.0, 3.0, 3.0]\n",
      "PeetsTea [3.0, 3.0, 5.0, 2.0, 2.0, 3.0, 5.0, 2.0, 3.0, 4.0, 3.0, 3.0, 2.0, 3.0, 3.0, 3.0, 5.0, 2.0, 3.0]\n",
      "GrandCoffee [2.0, 1.0, 2.0, 2.0, 3.0]\n",
      "FourBarrel [5.0, 1.0, 2.0, 4.0, 4.0, 4.0, 3.0, 3.0, 3.0, 4.0]\n",
      "CaffeTrieste [3.0, 4.0, 3.0, 5.0, 5.0, 2.0, 2.0, 3.0]\n"
     ]
    },
    {
     "data": {
      "text/plain": [
       "{'BlueBottleCoffee': 4.0,\n",
       " 'CaffeTrieste': 3.375,\n",
       " 'FourBarrel': 3.3,\n",
       " 'GrandCoffee': 2.0,\n",
       " 'PeetsTea': 3.1052631578947367,\n",
       " 'PhilzCoffee': 4.25,\n",
       " 'RitualCoffee': 3.769230769230769,\n",
       " 'Starbucks': 2.85,\n",
       " 'WorkshopCafe': 2.9166666666666665}"
      ]
     },
     "execution_count": 415,
     "metadata": {},
     "output_type": "execute_result"
    }
   ],
   "source": [
    "brand_avg_ratings = {}\n",
    "for brand, ratings in brand_ratings.items():\n",
    "    print brand, ratings\n",
    "    brand_avg_ratings[brand] = float(sum(ratings))/len(ratings)\n",
    "\n",
    "brand_avg_ratings"
   ]
  },
  {
   "cell_type": "markdown",
   "metadata": {},
   "source": [
    "---\n",
    "\n",
    "### 21. Create a list containing only the people's names."
   ]
  },
  {
   "cell_type": "code",
   "execution_count": 419,
   "metadata": {},
   "outputs": [
    {
     "data": {
      "text/plain": [
       "['Alison',\n",
       " 'April',\n",
       " 'Vijay',\n",
       " 'Vanessa',\n",
       " 'Isabel',\n",
       " 'India',\n",
       " 'Dave H',\n",
       " 'Deepthi',\n",
       " 'Ramesh',\n",
       " 'Hugh Jass',\n",
       " 'Alex',\n",
       " 'Ajay Anand',\n",
       " 'David Feng',\n",
       " 'Zach',\n",
       " 'Matt',\n",
       " 'Markus',\n",
       " 'Otto',\n",
       " 'Alessandro',\n",
       " 'Rocky',\n",
       " 'cheong-tseng eng']"
      ]
     },
     "execution_count": 419,
     "metadata": {},
     "output_type": "execute_result"
    }
   ],
   "source": [
    "[row[0] for row in data_num]"
   ]
  },
  {
   "cell_type": "markdown",
   "metadata": {},
   "source": [
    "---\n",
    "\n",
    "### 22. Picking a name at random. What are the odds of choosing the same name three times in a row?\n",
    "\n",
    "Now we'll use a while-loop to \"brute force\" the odds of choosing the same name 3 times in a row randomly from the list of names.\n",
    "\n",
    "Below I've imported the **`random`** package, which has the essential function for this code **`random.choice()`**.\n",
    "The function takes a list as an argument, and returns one of the elements of that list at random."
   ]
  },
  {
   "cell_type": "code",
   "execution_count": 420,
   "metadata": {},
   "outputs": [],
   "source": [
    "import random\n",
    "# Choose a random person from the list of people:\n",
    "# random.choice(people)"
   ]
  },
  {
   "cell_type": "markdown",
   "metadata": {},
   "source": [
    "Write a function to choose a person from the list randomly three times and check if they are all the same\n",
    "\n",
    "Define a function that has the following properties:\n",
    "\n",
    "1. Takes a list (your list of names) as an argument.\n",
    "2. Selects a name using `random.choice(people)` three separate times.\n",
    "3. Returns `True` if the name was the same all three times. Otherwise returns `False`."
   ]
  },
  {
   "cell_type": "code",
   "execution_count": 421,
   "metadata": {},
   "outputs": [],
   "source": [
    "def choose_three(name_list):\n",
    "    person1 = random.choice(name_list)\n",
    "    person2 = random.choice(name_list)\n",
    "    person3 = random.choice(name_list)\n",
    "    if person1 == person2 == person3:\n",
    "        return True\n",
    "    else:\n",
    "        return False"
   ]
  },
  {
   "cell_type": "markdown",
   "metadata": {},
   "source": [
    "---\n",
    "\n",
    "### 23. Construct a while loop to run the choosing function until it returns True.\n",
    "\n",
    "Run the function until you draw the same person three times using a while-loop. Keep track of how many tries it took and print out the number of tries after it runs."
   ]
  },
  {
   "cell_type": "code",
   "execution_count": 422,
   "metadata": {},
   "outputs": [],
   "source": [
    "name_list = ['Carol', 'Guanfong', 'John', 'Samson', 'Zhiwei', 'Ziig', 'Adhish', 'Arsyad', 'Brian', 'Davekho', 'Geraldine', 'Yu Xuan', 'Ivan', 'Jin Howe', 'Joanna', 'Kai', 'Kian How', 'Marcus', 'Matthew', 'Sean', 'Yen Ngee']"
   ]
  },
  {
   "cell_type": "code",
   "execution_count": 434,
   "metadata": {},
   "outputs": [
    {
     "name": "stdout",
     "output_type": "stream",
     "text": [
      "263\n"
     ]
    }
   ],
   "source": [
    "tries = 0\n",
    "while choose_three(name_list) is False:\n",
    "    choose_three(name_list)\n",
    "    tries += 1\n",
    "    if choose_three(name_list) is True:\n",
    "        break\n",
    "    \n",
    "print tries"
   ]
  },
  {
   "cell_type": "code",
   "execution_count": 437,
   "metadata": {},
   "outputs": [],
   "source": [
    "def experiment():\n",
    "    tries = 0\n",
    "    while choose_three(name_list) is False:\n",
    "        choose_three(name_list)\n",
    "        tries += 1\n",
    "        if choose_three(name_list) is True:\n",
    "            break\n",
    "    return tries"
   ]
  },
  {
   "cell_type": "code",
   "execution_count": 439,
   "metadata": {},
   "outputs": [
    {
     "name": "stdout",
     "output_type": "stream",
     "text": [
      "103\n",
      "17\n",
      "222\n",
      "264\n",
      "272\n",
      "327\n",
      "164\n",
      "68\n",
      "1\n",
      "241\n",
      "407\n",
      "32\n",
      "468\n",
      "24\n",
      "694\n",
      "53\n",
      "9\n",
      "524\n",
      "387\n",
      "324\n",
      "418\n",
      "576\n",
      "89\n",
      "130\n",
      "67\n",
      "453\n",
      "263\n",
      "1325\n",
      "327\n",
      "88\n",
      "126\n",
      "372\n",
      "10\n",
      "408\n",
      "247\n",
      "9\n",
      "186\n",
      "208\n",
      "223\n",
      "147\n",
      "2\n",
      "101\n",
      "223\n",
      "58\n",
      "301\n",
      "89\n",
      "244\n",
      "240\n",
      "808\n",
      "98\n",
      "281\n",
      "116\n",
      "38\n",
      "34\n",
      "228\n",
      "16\n",
      "62\n",
      "114\n",
      "178\n",
      "54\n",
      "186\n",
      "103\n",
      "795\n",
      "546\n",
      "28\n",
      "49\n",
      "1005\n",
      "484\n",
      "8\n",
      "85\n",
      "27\n",
      "227\n",
      "179\n",
      "237\n",
      "9\n",
      "168\n",
      "8\n",
      "428\n",
      "57\n",
      "556\n",
      "479\n",
      "11\n",
      "159\n",
      "350\n",
      "130\n",
      "306\n",
      "249\n",
      "178\n",
      "272\n",
      "30\n",
      "135\n",
      "627\n",
      "168\n",
      "208\n",
      "188\n",
      "321\n",
      "543\n",
      "437\n",
      "164\n",
      "269\n"
     ]
    }
   ],
   "source": [
    "for i in range(100):\n",
    "    print(experiment())"
   ]
  },
  {
   "cell_type": "code",
   "execution_count": null,
   "metadata": {},
   "outputs": [],
   "source": []
  }
 ],
 "metadata": {
  "kernelspec": {
   "display_name": "Python 2",
   "language": "python",
   "name": "python2"
  },
  "language_info": {
   "codemirror_mode": {
    "name": "ipython",
    "version": 2
   },
   "file_extension": ".py",
   "mimetype": "text/x-python",
   "name": "python",
   "nbconvert_exporter": "python",
   "pygments_lexer": "ipython2",
   "version": "2.7.14"
  }
 },
 "nbformat": 4,
 "nbformat_minor": 1
}
