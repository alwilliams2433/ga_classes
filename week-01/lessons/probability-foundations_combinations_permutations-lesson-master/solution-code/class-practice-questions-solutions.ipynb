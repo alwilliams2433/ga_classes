{
 "cells": [
  {
   "cell_type": "markdown",
   "metadata": {},
   "source": [
    "### Q1.\n",
    "\n",
    "If you have two groups of students, 10 freshman and 11 sophomores, how many teams of two can be formed that include one member from each class?"
   ]
  },
  {
   "cell_type": "code",
   "execution_count": 1,
   "metadata": {},
   "outputs": [
    {
     "data": {
      "text/plain": [
       "110"
      ]
     },
     "execution_count": 1,
     "metadata": {},
     "output_type": "execute_result"
    }
   ],
   "source": [
    "teams_of_2 = 10 * 11\n",
    "teams_of_2"
   ]
  },
  {
   "cell_type": "markdown",
   "metadata": {},
   "source": [
    "### Q2.\n",
    "\n",
    "There are five qualified candidates to fill three positions. How many ways can the roles be filled, assuming only person is hired for each position?"
   ]
  },
  {
   "cell_type": "code",
   "execution_count": 2,
   "metadata": {},
   "outputs": [
    {
     "data": {
      "text/plain": [
       "60"
      ]
     },
     "execution_count": 2,
     "metadata": {},
     "output_type": "execute_result"
    }
   ],
   "source": [
    "cands  = 5 * 4 * 3\n",
    "cands"
   ]
  },
  {
   "cell_type": "markdown",
   "metadata": {},
   "source": [
    "### Q3.\n",
    "\n",
    "If there are nine players on a baseball team, how many possibile permutations are there for the first three players in the batting lineup?"
   ]
  },
  {
   "cell_type": "code",
   "execution_count": 3,
   "metadata": {},
   "outputs": [
    {
     "name": "stdout",
     "output_type": "stream",
     "text": [
      "504\n"
     ]
    }
   ],
   "source": [
    "from math import factorial\n",
    "\n",
    "print factorial(9)/factorial(9-3)"
   ]
  },
  {
   "cell_type": "markdown",
   "metadata": {},
   "source": [
    "### Q4. \n",
    "\n",
    "Code a function to compute the factorial of a number."
   ]
  },
  {
   "cell_type": "code",
   "execution_count": 4,
   "metadata": {
    "collapsed": true
   },
   "outputs": [],
   "source": [
    "def factorial(x):\n",
    "    if x < 0:\n",
    "        print(\"Must be a non-negative integer.\")\n",
    "    if x == 0:\n",
    "        return 1\n",
    "    else:\n",
    "        if x != int(x):\n",
    "            print(\"Must be an integer.\")\n",
    "        else:    \n",
    "            return x * factorial(x-1) \n",
    "            # recursively calling our defined function, not the one from the math lib.  "
   ]
  },
  {
   "cell_type": "markdown",
   "metadata": {},
   "source": [
    "### Q5.\n",
    "\n",
    "How many possible five-card hands are there within a deck of 52 cards?"
   ]
  },
  {
   "cell_type": "code",
   "execution_count": 5,
   "metadata": {},
   "outputs": [
    {
     "name": "stdout",
     "output_type": "stream",
     "text": [
      "2598960\n"
     ]
    }
   ],
   "source": [
    "print factorial(52) / (factorial(52-5) * factorial(5))\n"
   ]
  },
  {
   "cell_type": "markdown",
   "metadata": {},
   "source": [
    "### Q7.\n",
    "\n",
    "A restaurant has 22 employees, including:\n",
    "\n",
    "- Six chefs\n",
    "- Five waiters\n",
    "- Seven busboys \n",
    "\n",
    "The owner has requested a few things from you, the manager:\n",
    "\n",
    "1. A private party is coming on Tuesday and wants to know how many teams of one chef and two -waiters can be formed.\n",
    "- Each busboy works just one day of the week. The owner wants to know how many different versions of the weekly busboy assignments are possible.\n",
    "- He wants his favorite waiter to serve him and his wife for their anniversary on Sunday, along with two other waiters. How many teams of three waiters can serve him?"
   ]
  },
  {
   "cell_type": "code",
   "execution_count": 6,
   "metadata": {},
   "outputs": [
    {
     "name": "stdout",
     "output_type": "stream",
     "text": [
      "60.0\n"
     ]
    }
   ],
   "source": [
    "# 1:\n",
    "chefs = 6\n",
    "waiters = 5\n",
    "busboys = 7\n",
    "\n",
    "# Set up permutation and combination functions:\n",
    "def perm(n, k):\n",
    "    return float(factorial(n)) / factorial(n-k)\n",
    "\n",
    "def comb(n, k):\n",
    "    return float(perm(n, k)) / perm(k, k)\n",
    "\n",
    "# First, figure out how many combinations of two waiters are possible:\n",
    "waiter_combs = comb(waiters, 2)\n",
    "\n",
    "# For each combination of waiters, you have six possible pairings with chefs:\n",
    "groups = chefs * waiter_combs\n",
    "\n",
    "print groups"
   ]
  },
  {
   "cell_type": "code",
   "execution_count": 7,
   "metadata": {},
   "outputs": [
    {
     "name": "stdout",
     "output_type": "stream",
     "text": [
      "5040.0\n"
     ]
    }
   ],
   "source": [
    "# 2:\n",
    "# Calculate the permutations of busboys. There are seven busboys, and \n",
    "# we want to know the number of possible orderings throughout the week.\n",
    "print perm(busboys, 7)"
   ]
  },
  {
   "cell_type": "code",
   "execution_count": 8,
   "metadata": {},
   "outputs": [
    {
     "name": "stdout",
     "output_type": "stream",
     "text": [
      "6.0\n"
     ]
    }
   ],
   "source": [
    "# 3:\n",
    "# We have to remove his favorite waiter, who must be present, and then\n",
    "# calculate the combinations.\n",
    "print comb(waiters-1, 2)"
   ]
  },
  {
   "cell_type": "markdown",
   "metadata": {},
   "source": [
    "### Q8.\n",
    "\n",
    "What is the probability that you are deal two cards that are both aces from a 52-card deck?"
   ]
  },
  {
   "cell_type": "code",
   "execution_count": 9,
   "metadata": {},
   "outputs": [
    {
     "name": "stdout",
     "output_type": "stream",
     "text": [
      "0.00452488687783\n"
     ]
    }
   ],
   "source": [
    "# Determine the number of different two-ace hands that are possible:\n",
    "ace_hands = comb(4,2)\n",
    "\n",
    "# Determine the number of possible two-card hands you can have from the deck:\n",
    "hands = comb(52,2)\n",
    "\n",
    "print ace_hands / hands"
   ]
  },
  {
   "cell_type": "markdown",
   "metadata": {},
   "source": [
    "### Q9.\n",
    "\n",
    "What is the probability of getting two queens and three kings in a five-card hand?"
   ]
  },
  {
   "cell_type": "code",
   "execution_count": 6,
   "metadata": {},
   "outputs": [],
   "source": [
    "# Calculate the number of three-king combinations:\n",
    "kings = comb(4,3)\n",
    "\n",
    "# Calculate the number of two-queen combinations:\n",
    "queens = comb(4,2)\n",
    "\n",
    "# Calculate all possible five-card combinations:\n",
    "hands = comb(52,5)\n",
    "\n",
    "# Grid all possible king combinations and queen combinations (using the counting principle):\n",
    "full = kings*queens\n",
    "\n",
    "print full / hands"
   ]
  },
  {
   "cell_type": "markdown",
   "metadata": {},
   "source": [
    "### Q10.\n",
    "\n",
    "For 10 coin flips, print out the probability of getting 0 heads through 10 heads.\n",
    "\n",
    "Also print out the sum of the probabilities."
   ]
  },
  {
   "cell_type": "code",
   "execution_count": 10,
   "metadata": {},
   "outputs": [
    {
     "name": "stdout",
     "output_type": "stream",
     "text": [
      "Heads: 0 P =  0.0009765625\n",
      "Heads: 1 P =  0.009765625\n",
      "Heads: 2 P =  0.0439453125\n",
      "Heads: 3 P =  0.1171875\n",
      "Heads: 4 P =  0.205078125\n",
      "Heads: 5 P =  0.24609375\n",
      "Heads: 6 P =  0.205078125\n",
      "Heads: 7 P =  0.1171875\n",
      "Heads: 8 P =  0.0439453125\n",
      "Heads: 9 P =  0.009765625\n",
      "Heads: 10 P =  0.0009765625\n",
      "Total probability: 1.0\n"
     ]
    }
   ],
   "source": [
    "def flip_prob(heads, total):\n",
    "    head_combs = comb(total, heads)\n",
    "    total_possibilities = 2**total\n",
    "    return head_combs / total_possibilities\n",
    "    \n",
    "probs = []\n",
    "for i in range(0, 11):\n",
    "    flip = flip_prob(i, 10)\n",
    "    print 'Heads:', i, 'P = ', flip\n",
    "    probs.append(flip)\n",
    "    \n",
    "print 'Total probability:', sum(probs)\n"
   ]
  },
  {
   "cell_type": "markdown",
   "metadata": {},
   "source": [
    "### Q11.\n",
    "\n",
    "Suppose you have a game in which you can toss a ball and it will land in one of five buckets.\n",
    "\n",
    "You toss two balls and they each land in a bucket. If the balls are indistinguishable from each other, how many different outcomes (distributions of balls in buckets) are possible?"
   ]
  },
  {
   "cell_type": "code",
   "execution_count": 11,
   "metadata": {},
   "outputs": [
    {
     "data": {
      "text/plain": [
       "15.0"
      ]
     },
     "execution_count": 11,
     "metadata": {},
     "output_type": "execute_result"
    }
   ],
   "source": [
    "comb(5+2-1, 5-1)\n"
   ]
  },
  {
   "cell_type": "markdown",
   "metadata": {},
   "source": [
    "### Q12.\n",
    "\n",
    "How many solutions are there to the formula:\n",
    "\n",
    "$X_1 + X_2 + X_3 + X_4 = 15$\n",
    "\n",
    "Where the order of numbers matters?"
   ]
  },
  {
   "cell_type": "code",
   "execution_count": 13,
   "metadata": {
    "collapsed": true
   },
   "outputs": [],
   "source": [
    "# Conceptualize this as a balls-and-urns problem:\n",
    "balls = 15\n",
    "urns = 4"
   ]
  },
  {
   "cell_type": "markdown",
   "metadata": {},
   "source": [
    "The balls are indistinguishable (just because $X_1$ is three doesn't mean there are three versions, or, in other words, $1$ is indistinguishable from another $1$ in $1+1+1$)."
   ]
  },
  {
   "cell_type": "code",
   "execution_count": 14,
   "metadata": {},
   "outputs": [
    {
     "name": "stdout",
     "output_type": "stream",
     "text": [
      "816.0\n"
     ]
    }
   ],
   "source": [
    "solutions = comb(balls + urns - 1, urns - 1)\n",
    "print solutions\n"
   ]
  }
 ],
 "metadata": {
  "kernelspec": {
   "display_name": "Python 2",
   "language": "python",
   "name": "python2"
  },
  "language_info": {
   "codemirror_mode": {
    "name": "ipython",
    "version": 2
   },
   "file_extension": ".py",
   "mimetype": "text/x-python",
   "name": "python",
   "nbconvert_exporter": "python",
   "pygments_lexer": "ipython2",
   "version": "2.7.14"
  }
 },
 "nbformat": 4,
 "nbformat_minor": 1
}
