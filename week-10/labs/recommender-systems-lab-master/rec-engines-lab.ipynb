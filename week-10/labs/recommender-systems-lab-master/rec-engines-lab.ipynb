{
 "cells": [
  {
   "cell_type": "markdown",
   "metadata": {},
   "source": [
    "<img src=\"http://imgur.com/1ZcRyrc.png\" style=\"float: left; margin: 20px; height: 55px\">\n",
    "\n",
    "\n",
    "# Recommendations: Collaborative Filtering Lab\n",
    "\n",
    "_Author: Dan Wilhelm (LA) _\n",
    "\n",
    "---"
   ]
  },
  {
   "cell_type": "markdown",
   "metadata": {},
   "source": [
    "# Collaborative Filtering Lab\n",
    "\n",
    "Today, we will be writing a User-Item Collaborative Filtering recommendation engine. This engine ranks each user by similarity to a given user. Then, it recommends brands from the most similar users, weighting each brand by the users' similarity.\n",
    "\n",
    "Because Collaborative Filtering is relatively easy to implement and not part of Scikit-learn, we will be writing it from scratch using vanilla Python."
   ]
  },
  {
   "cell_type": "code",
   "execution_count": 1,
   "metadata": {},
   "outputs": [],
   "source": [
    "from collections import Counter\n",
    "\n",
    "%matplotlib inline\n",
    "from matplotlib import pyplot as plt\n",
    "\n",
    "BRANDS_FILE = './datasets/user_brand.csv'"
   ]
  },
  {
   "cell_type": "markdown",
   "metadata": {},
   "source": [
    "## Load in User-Brands Data"
   ]
  },
  {
   "cell_type": "code",
   "execution_count": 2,
   "metadata": {
    "scrolled": true
   },
   "outputs": [
    {
     "data": {
      "text/plain": [
       "[[u'80002', u'Target'],\n",
       " [u'80002', u'Home Depot'],\n",
       " [u'80010', u\"Levi's\"],\n",
       " [u'80010', u'Puma'],\n",
       " [u'80010', u'Cuisinart'],\n",
       " [u'80010', u'Converse'],\n",
       " [u'80010', u'DKNY'],\n",
       " [u'80010', u'Express'],\n",
       " [u'80010', u\"Kohl's\"],\n",
       " [u'80010', u'Old Navy'],\n",
       " [u'80010', u'Container Store'],\n",
       " [u'80010', u'Nordstrom'],\n",
       " [u'80011', u'Kenneth Cole'],\n",
       " [u'80011', u'Calvin Klein'],\n",
       " [u'80011', u'French Connection'],\n",
       " [u'80011', u'BCBGMAXAZRIA'],\n",
       " [u'80011', u'Nine West'],\n",
       " [u'80011', u'Steve Madden'],\n",
       " [u'80011', u'Diesel'],\n",
       " [u'80011', u'Guess']]"
      ]
     },
     "execution_count": 2,
     "metadata": {},
     "output_type": "execute_result"
    }
   ],
   "source": [
    "from io import open\n",
    "\n",
    "user_brands = dict()\n",
    "\n",
    "with open(BRANDS_FILE, 'r', encoding='utf-8') as fin:\n",
    "    data = [line.strip().split(\",\") for line in fin]\n",
    "\n",
    "data[:20]"
   ]
  },
  {
   "cell_type": "markdown",
   "metadata": {},
   "source": [
    "## Explore the Data\n",
    "\n",
    "To assist you in exploring, make the following variables:"
   ]
  },
  {
   "cell_type": "code",
   "execution_count": 57,
   "metadata": {},
   "outputs": [],
   "source": [
    "# list(set(data[i][0] for i in range(len(data))))\n",
    "from collections import OrderedDict\n",
    "users = list(OrderedDict.fromkeys(data[i][0] for i in range(len(data))))\n",
    "brands = list(OrderedDict.fromkeys(data[i][1] for i in range(len(data))))"
   ]
  },
  {
   "cell_type": "code",
   "execution_count": 260,
   "metadata": {},
   "outputs": [],
   "source": [
    "user_brands = {key: set() for key in users}"
   ]
  },
  {
   "cell_type": "code",
   "execution_count": 263,
   "metadata": {},
   "outputs": [],
   "source": [
    "for user in data:\n",
    "    user_brands[user[0]].add(user[1])"
   ]
  },
  {
   "cell_type": "code",
   "execution_count": 64,
   "metadata": {},
   "outputs": [
    {
     "data": {
      "text/html": [
       "<div>\n",
       "<style scoped>\n",
       "    .dataframe tbody tr th:only-of-type {\n",
       "        vertical-align: middle;\n",
       "    }\n",
       "\n",
       "    .dataframe tbody tr th {\n",
       "        vertical-align: top;\n",
       "    }\n",
       "\n",
       "    .dataframe thead th {\n",
       "        text-align: right;\n",
       "    }\n",
       "</style>\n",
       "<table border=\"1\" class=\"dataframe\">\n",
       "  <thead>\n",
       "    <tr style=\"text-align: right;\">\n",
       "      <th></th>\n",
       "      <th>Target</th>\n",
       "      <th>Home Depot</th>\n",
       "      <th>Levi's</th>\n",
       "      <th>Puma</th>\n",
       "      <th>Cuisinart</th>\n",
       "      <th>Converse</th>\n",
       "      <th>DKNY</th>\n",
       "      <th>Express</th>\n",
       "      <th>Kohl's</th>\n",
       "      <th>Old Navy</th>\n",
       "      <th>...</th>\n",
       "      <th>Crazy 8</th>\n",
       "      <th>Zipcar</th>\n",
       "      <th>BCBG</th>\n",
       "      <th>Tory Burch</th>\n",
       "      <th>Stride Rite</th>\n",
       "      <th>Adidas</th>\n",
       "      <th>Grand</th>\n",
       "      <th>David Tutera</th>\n",
       "      <th>Tobi</th>\n",
       "      <th>Breville</th>\n",
       "    </tr>\n",
       "    <tr>\n",
       "      <th>users</th>\n",
       "      <th></th>\n",
       "      <th></th>\n",
       "      <th></th>\n",
       "      <th></th>\n",
       "      <th></th>\n",
       "      <th></th>\n",
       "      <th></th>\n",
       "      <th></th>\n",
       "      <th></th>\n",
       "      <th></th>\n",
       "      <th></th>\n",
       "      <th></th>\n",
       "      <th></th>\n",
       "      <th></th>\n",
       "      <th></th>\n",
       "      <th></th>\n",
       "      <th></th>\n",
       "      <th></th>\n",
       "      <th></th>\n",
       "      <th></th>\n",
       "      <th></th>\n",
       "    </tr>\n",
       "  </thead>\n",
       "  <tbody>\n",
       "    <tr>\n",
       "      <th>80002</th>\n",
       "      <td>NaN</td>\n",
       "      <td>NaN</td>\n",
       "      <td>NaN</td>\n",
       "      <td>NaN</td>\n",
       "      <td>NaN</td>\n",
       "      <td>NaN</td>\n",
       "      <td>NaN</td>\n",
       "      <td>NaN</td>\n",
       "      <td>NaN</td>\n",
       "      <td>NaN</td>\n",
       "      <td>...</td>\n",
       "      <td>NaN</td>\n",
       "      <td>NaN</td>\n",
       "      <td>NaN</td>\n",
       "      <td>NaN</td>\n",
       "      <td>NaN</td>\n",
       "      <td>NaN</td>\n",
       "      <td>NaN</td>\n",
       "      <td>NaN</td>\n",
       "      <td>NaN</td>\n",
       "      <td>NaN</td>\n",
       "    </tr>\n",
       "    <tr>\n",
       "      <th>80010</th>\n",
       "      <td>NaN</td>\n",
       "      <td>NaN</td>\n",
       "      <td>NaN</td>\n",
       "      <td>NaN</td>\n",
       "      <td>NaN</td>\n",
       "      <td>NaN</td>\n",
       "      <td>NaN</td>\n",
       "      <td>NaN</td>\n",
       "      <td>NaN</td>\n",
       "      <td>NaN</td>\n",
       "      <td>...</td>\n",
       "      <td>NaN</td>\n",
       "      <td>NaN</td>\n",
       "      <td>NaN</td>\n",
       "      <td>NaN</td>\n",
       "      <td>NaN</td>\n",
       "      <td>NaN</td>\n",
       "      <td>NaN</td>\n",
       "      <td>NaN</td>\n",
       "      <td>NaN</td>\n",
       "      <td>NaN</td>\n",
       "    </tr>\n",
       "    <tr>\n",
       "      <th>80011</th>\n",
       "      <td>NaN</td>\n",
       "      <td>NaN</td>\n",
       "      <td>NaN</td>\n",
       "      <td>NaN</td>\n",
       "      <td>NaN</td>\n",
       "      <td>NaN</td>\n",
       "      <td>NaN</td>\n",
       "      <td>NaN</td>\n",
       "      <td>NaN</td>\n",
       "      <td>NaN</td>\n",
       "      <td>...</td>\n",
       "      <td>NaN</td>\n",
       "      <td>NaN</td>\n",
       "      <td>NaN</td>\n",
       "      <td>NaN</td>\n",
       "      <td>NaN</td>\n",
       "      <td>NaN</td>\n",
       "      <td>NaN</td>\n",
       "      <td>NaN</td>\n",
       "      <td>NaN</td>\n",
       "      <td>NaN</td>\n",
       "    </tr>\n",
       "    <tr>\n",
       "      <th>80015</th>\n",
       "      <td>NaN</td>\n",
       "      <td>NaN</td>\n",
       "      <td>NaN</td>\n",
       "      <td>NaN</td>\n",
       "      <td>NaN</td>\n",
       "      <td>NaN</td>\n",
       "      <td>NaN</td>\n",
       "      <td>NaN</td>\n",
       "      <td>NaN</td>\n",
       "      <td>NaN</td>\n",
       "      <td>...</td>\n",
       "      <td>NaN</td>\n",
       "      <td>NaN</td>\n",
       "      <td>NaN</td>\n",
       "      <td>NaN</td>\n",
       "      <td>NaN</td>\n",
       "      <td>NaN</td>\n",
       "      <td>NaN</td>\n",
       "      <td>NaN</td>\n",
       "      <td>NaN</td>\n",
       "      <td>NaN</td>\n",
       "    </tr>\n",
       "    <tr>\n",
       "      <th>80020</th>\n",
       "      <td>NaN</td>\n",
       "      <td>NaN</td>\n",
       "      <td>NaN</td>\n",
       "      <td>NaN</td>\n",
       "      <td>NaN</td>\n",
       "      <td>NaN</td>\n",
       "      <td>NaN</td>\n",
       "      <td>NaN</td>\n",
       "      <td>NaN</td>\n",
       "      <td>NaN</td>\n",
       "      <td>...</td>\n",
       "      <td>NaN</td>\n",
       "      <td>NaN</td>\n",
       "      <td>NaN</td>\n",
       "      <td>NaN</td>\n",
       "      <td>NaN</td>\n",
       "      <td>NaN</td>\n",
       "      <td>NaN</td>\n",
       "      <td>NaN</td>\n",
       "      <td>NaN</td>\n",
       "      <td>NaN</td>\n",
       "    </tr>\n",
       "  </tbody>\n",
       "</table>\n",
       "<p>5 rows × 198 columns</p>\n",
       "</div>"
      ],
      "text/plain": [
       "       Target  Home Depot  Levi's  Puma  Cuisinart  Converse  DKNY  Express  \\\n",
       "users                                                                         \n",
       "80002     NaN         NaN     NaN   NaN        NaN       NaN   NaN      NaN   \n",
       "80010     NaN         NaN     NaN   NaN        NaN       NaN   NaN      NaN   \n",
       "80011     NaN         NaN     NaN   NaN        NaN       NaN   NaN      NaN   \n",
       "80015     NaN         NaN     NaN   NaN        NaN       NaN   NaN      NaN   \n",
       "80020     NaN         NaN     NaN   NaN        NaN       NaN   NaN      NaN   \n",
       "\n",
       "       Kohl's  Old Navy    ...     Crazy 8  Zipcar  BCBG  Tory Burch  \\\n",
       "users                      ...                                         \n",
       "80002     NaN       NaN    ...         NaN     NaN   NaN         NaN   \n",
       "80010     NaN       NaN    ...         NaN     NaN   NaN         NaN   \n",
       "80011     NaN       NaN    ...         NaN     NaN   NaN         NaN   \n",
       "80015     NaN       NaN    ...         NaN     NaN   NaN         NaN   \n",
       "80020     NaN       NaN    ...         NaN     NaN   NaN         NaN   \n",
       "\n",
       "       Stride Rite  Adidas  Grand  David Tutera  Tobi  Breville  \n",
       "users                                                            \n",
       "80002          NaN     NaN    NaN           NaN   NaN       NaN  \n",
       "80010          NaN     NaN    NaN           NaN   NaN       NaN  \n",
       "80011          NaN     NaN    NaN           NaN   NaN       NaN  \n",
       "80015          NaN     NaN    NaN           NaN   NaN       NaN  \n",
       "80020          NaN     NaN    NaN           NaN   NaN       NaN  \n",
       "\n",
       "[5 rows x 198 columns]"
      ]
     },
     "execution_count": 64,
     "metadata": {},
     "output_type": "execute_result"
    }
   ],
   "source": [
    "import pandas as pd\n",
    "#create empty matrix of user and product\n",
    "df = df.reindex(columns = brands)\n",
    "df['users'] =users\n",
    "df = df.set_index('users', drop=True)\n",
    "df.head()"
   ]
  },
  {
   "cell_type": "code",
   "execution_count": 83,
   "metadata": {},
   "outputs": [],
   "source": [
    "#filling user, product matrix\n",
    "for i in range(len(data)):\n",
    "    df.loc[data[i][0]][data[i][1]] = 1"
   ]
  },
  {
   "cell_type": "code",
   "execution_count": 84,
   "metadata": {},
   "outputs": [
    {
     "data": {
      "text/html": [
       "<div>\n",
       "<style scoped>\n",
       "    .dataframe tbody tr th:only-of-type {\n",
       "        vertical-align: middle;\n",
       "    }\n",
       "\n",
       "    .dataframe tbody tr th {\n",
       "        vertical-align: top;\n",
       "    }\n",
       "\n",
       "    .dataframe thead th {\n",
       "        text-align: right;\n",
       "    }\n",
       "</style>\n",
       "<table border=\"1\" class=\"dataframe\">\n",
       "  <thead>\n",
       "    <tr style=\"text-align: right;\">\n",
       "      <th></th>\n",
       "      <th>Target</th>\n",
       "      <th>Home Depot</th>\n",
       "      <th>Levi's</th>\n",
       "      <th>Puma</th>\n",
       "      <th>Cuisinart</th>\n",
       "      <th>Converse</th>\n",
       "      <th>DKNY</th>\n",
       "      <th>Express</th>\n",
       "      <th>Kohl's</th>\n",
       "      <th>Old Navy</th>\n",
       "      <th>...</th>\n",
       "      <th>Crazy 8</th>\n",
       "      <th>Zipcar</th>\n",
       "      <th>BCBG</th>\n",
       "      <th>Tory Burch</th>\n",
       "      <th>Stride Rite</th>\n",
       "      <th>Adidas</th>\n",
       "      <th>Grand</th>\n",
       "      <th>David Tutera</th>\n",
       "      <th>Tobi</th>\n",
       "      <th>Breville</th>\n",
       "    </tr>\n",
       "    <tr>\n",
       "      <th>users</th>\n",
       "      <th></th>\n",
       "      <th></th>\n",
       "      <th></th>\n",
       "      <th></th>\n",
       "      <th></th>\n",
       "      <th></th>\n",
       "      <th></th>\n",
       "      <th></th>\n",
       "      <th></th>\n",
       "      <th></th>\n",
       "      <th></th>\n",
       "      <th></th>\n",
       "      <th></th>\n",
       "      <th></th>\n",
       "      <th></th>\n",
       "      <th></th>\n",
       "      <th></th>\n",
       "      <th></th>\n",
       "      <th></th>\n",
       "      <th></th>\n",
       "      <th></th>\n",
       "    </tr>\n",
       "  </thead>\n",
       "  <tbody>\n",
       "    <tr>\n",
       "      <th>80002</th>\n",
       "      <td>1.0</td>\n",
       "      <td>1.0</td>\n",
       "      <td>NaN</td>\n",
       "      <td>NaN</td>\n",
       "      <td>NaN</td>\n",
       "      <td>NaN</td>\n",
       "      <td>NaN</td>\n",
       "      <td>NaN</td>\n",
       "      <td>NaN</td>\n",
       "      <td>NaN</td>\n",
       "      <td>...</td>\n",
       "      <td>NaN</td>\n",
       "      <td>NaN</td>\n",
       "      <td>NaN</td>\n",
       "      <td>NaN</td>\n",
       "      <td>NaN</td>\n",
       "      <td>NaN</td>\n",
       "      <td>NaN</td>\n",
       "      <td>NaN</td>\n",
       "      <td>NaN</td>\n",
       "      <td>NaN</td>\n",
       "    </tr>\n",
       "    <tr>\n",
       "      <th>80010</th>\n",
       "      <td>NaN</td>\n",
       "      <td>NaN</td>\n",
       "      <td>1.0</td>\n",
       "      <td>1.0</td>\n",
       "      <td>1.0</td>\n",
       "      <td>1.0</td>\n",
       "      <td>1.0</td>\n",
       "      <td>1.0</td>\n",
       "      <td>1.0</td>\n",
       "      <td>1.0</td>\n",
       "      <td>...</td>\n",
       "      <td>NaN</td>\n",
       "      <td>NaN</td>\n",
       "      <td>NaN</td>\n",
       "      <td>NaN</td>\n",
       "      <td>NaN</td>\n",
       "      <td>NaN</td>\n",
       "      <td>NaN</td>\n",
       "      <td>NaN</td>\n",
       "      <td>NaN</td>\n",
       "      <td>NaN</td>\n",
       "    </tr>\n",
       "    <tr>\n",
       "      <th>80011</th>\n",
       "      <td>1.0</td>\n",
       "      <td>NaN</td>\n",
       "      <td>NaN</td>\n",
       "      <td>NaN</td>\n",
       "      <td>NaN</td>\n",
       "      <td>NaN</td>\n",
       "      <td>NaN</td>\n",
       "      <td>NaN</td>\n",
       "      <td>NaN</td>\n",
       "      <td>NaN</td>\n",
       "      <td>...</td>\n",
       "      <td>NaN</td>\n",
       "      <td>NaN</td>\n",
       "      <td>NaN</td>\n",
       "      <td>NaN</td>\n",
       "      <td>NaN</td>\n",
       "      <td>NaN</td>\n",
       "      <td>NaN</td>\n",
       "      <td>NaN</td>\n",
       "      <td>NaN</td>\n",
       "      <td>NaN</td>\n",
       "    </tr>\n",
       "    <tr>\n",
       "      <th>80015</th>\n",
       "      <td>1.0</td>\n",
       "      <td>1.0</td>\n",
       "      <td>NaN</td>\n",
       "      <td>NaN</td>\n",
       "      <td>NaN</td>\n",
       "      <td>NaN</td>\n",
       "      <td>NaN</td>\n",
       "      <td>NaN</td>\n",
       "      <td>NaN</td>\n",
       "      <td>NaN</td>\n",
       "      <td>...</td>\n",
       "      <td>NaN</td>\n",
       "      <td>NaN</td>\n",
       "      <td>NaN</td>\n",
       "      <td>NaN</td>\n",
       "      <td>NaN</td>\n",
       "      <td>NaN</td>\n",
       "      <td>NaN</td>\n",
       "      <td>NaN</td>\n",
       "      <td>NaN</td>\n",
       "      <td>NaN</td>\n",
       "    </tr>\n",
       "    <tr>\n",
       "      <th>80020</th>\n",
       "      <td>NaN</td>\n",
       "      <td>NaN</td>\n",
       "      <td>NaN</td>\n",
       "      <td>NaN</td>\n",
       "      <td>NaN</td>\n",
       "      <td>NaN</td>\n",
       "      <td>NaN</td>\n",
       "      <td>NaN</td>\n",
       "      <td>NaN</td>\n",
       "      <td>NaN</td>\n",
       "      <td>...</td>\n",
       "      <td>NaN</td>\n",
       "      <td>NaN</td>\n",
       "      <td>NaN</td>\n",
       "      <td>NaN</td>\n",
       "      <td>NaN</td>\n",
       "      <td>NaN</td>\n",
       "      <td>NaN</td>\n",
       "      <td>NaN</td>\n",
       "      <td>NaN</td>\n",
       "      <td>NaN</td>\n",
       "    </tr>\n",
       "  </tbody>\n",
       "</table>\n",
       "<p>5 rows × 198 columns</p>\n",
       "</div>"
      ],
      "text/plain": [
       "       Target  Home Depot  Levi's  Puma  Cuisinart  Converse  DKNY  Express  \\\n",
       "users                                                                         \n",
       "80002     1.0         1.0     NaN   NaN        NaN       NaN   NaN      NaN   \n",
       "80010     NaN         NaN     1.0   1.0        1.0       1.0   1.0      1.0   \n",
       "80011     1.0         NaN     NaN   NaN        NaN       NaN   NaN      NaN   \n",
       "80015     1.0         1.0     NaN   NaN        NaN       NaN   NaN      NaN   \n",
       "80020     NaN         NaN     NaN   NaN        NaN       NaN   NaN      NaN   \n",
       "\n",
       "       Kohl's  Old Navy    ...     Crazy 8  Zipcar  BCBG  Tory Burch  \\\n",
       "users                      ...                                         \n",
       "80002     NaN       NaN    ...         NaN     NaN   NaN         NaN   \n",
       "80010     1.0       1.0    ...         NaN     NaN   NaN         NaN   \n",
       "80011     NaN       NaN    ...         NaN     NaN   NaN         NaN   \n",
       "80015     NaN       NaN    ...         NaN     NaN   NaN         NaN   \n",
       "80020     NaN       NaN    ...         NaN     NaN   NaN         NaN   \n",
       "\n",
       "       Stride Rite  Adidas  Grand  David Tutera  Tobi  Breville  \n",
       "users                                                            \n",
       "80002          NaN     NaN    NaN           NaN   NaN       NaN  \n",
       "80010          NaN     NaN    NaN           NaN   NaN       NaN  \n",
       "80011          NaN     NaN    NaN           NaN   NaN       NaN  \n",
       "80015          NaN     NaN    NaN           NaN   NaN       NaN  \n",
       "80020          NaN     NaN    NaN           NaN   NaN       NaN  \n",
       "\n",
       "[5 rows x 198 columns]"
      ]
     },
     "execution_count": 84,
     "metadata": {},
     "output_type": "execute_result"
    }
   ],
   "source": [
    "df.head()"
   ]
  },
  {
   "cell_type": "code",
   "execution_count": 9,
   "metadata": {
    "collapsed": true
   },
   "outputs": [],
   "source": [
    "users = []   # List of all users\n",
    "brands = []  # List of all brands\n",
    "\n",
    "# user_brands = {'48132': {'Target', 'H&M', 'Gap'}, '31341': {'Zipcar'}, ... }\n",
    "user_brands = {}\n",
    "\n",
    "# brand_users = {'Target': {'48132', '84172', '12353'}, 'Zipcar': {'31341'}, ... }\n",
    "brand_users = {}"
   ]
  },
  {
   "cell_type": "code",
   "execution_count": 222,
   "metadata": {},
   "outputs": [
    {
     "data": {
      "text/plain": [
       "Levi's             1.0\n",
       "Puma               1.0\n",
       "Cuisinart          1.0\n",
       "Converse           1.0\n",
       "DKNY               1.0\n",
       "Express            1.0\n",
       "Kohl's             1.0\n",
       "Old Navy           1.0\n",
       "Container Store    1.0\n",
       "Nordstrom          1.0\n",
       "Name: 80010, dtype: float64"
      ]
     },
     "execution_count": 222,
     "metadata": {},
     "output_type": "execute_result"
    }
   ],
   "source": [
    "df.iloc[1].dropna()"
   ]
  },
  {
   "cell_type": "code",
   "execution_count": 213,
   "metadata": {},
   "outputs": [
    {
     "ename": "TypeError",
     "evalue": "unhashable type: 'Index'",
     "output_type": "error",
     "traceback": [
      "\u001b[1;31m---------------------------------------------------------------------------\u001b[0m",
      "\u001b[1;31mTypeError\u001b[0m                                 Traceback (most recent call last)",
      "\u001b[1;32m<ipython-input-213-8417dc3b837c>\u001b[0m in \u001b[0;36m<module>\u001b[1;34m()\u001b[0m\n\u001b[1;32m----> 1\u001b[1;33m \u001b[0muser_brands\u001b[0m\u001b[1;33m[\u001b[0m\u001b[0mdf\u001b[0m\u001b[1;33m.\u001b[0m\u001b[0miloc\u001b[0m\u001b[1;33m[\u001b[0m\u001b[1;36m1\u001b[0m\u001b[1;33m]\u001b[0m\u001b[1;33m.\u001b[0m\u001b[0mindex\u001b[0m\u001b[1;33m]\u001b[0m\u001b[1;33m\u001b[0m\u001b[0m\n\u001b[0m",
      "\u001b[1;32mC:\\Users\\Samson\\AppData\\Local\\Continuum\\anaconda2\\lib\\site-packages\\pandas\\core\\indexes\\base.pyc\u001b[0m in \u001b[0;36m__hash__\u001b[1;34m(self)\u001b[0m\n\u001b[0;32m   1719\u001b[0m \u001b[1;33m\u001b[0m\u001b[0m\n\u001b[0;32m   1720\u001b[0m     \u001b[1;32mdef\u001b[0m \u001b[0m__hash__\u001b[0m\u001b[1;33m(\u001b[0m\u001b[0mself\u001b[0m\u001b[1;33m)\u001b[0m\u001b[1;33m:\u001b[0m\u001b[1;33m\u001b[0m\u001b[0m\n\u001b[1;32m-> 1721\u001b[1;33m         \u001b[1;32mraise\u001b[0m \u001b[0mTypeError\u001b[0m\u001b[1;33m(\u001b[0m\u001b[1;34m\"unhashable type: %r\"\u001b[0m \u001b[1;33m%\u001b[0m \u001b[0mtype\u001b[0m\u001b[1;33m(\u001b[0m\u001b[0mself\u001b[0m\u001b[1;33m)\u001b[0m\u001b[1;33m.\u001b[0m\u001b[0m__name__\u001b[0m\u001b[1;33m)\u001b[0m\u001b[1;33m\u001b[0m\u001b[0m\n\u001b[0m\u001b[0;32m   1722\u001b[0m \u001b[1;33m\u001b[0m\u001b[0m\n\u001b[0;32m   1723\u001b[0m     \u001b[1;32mdef\u001b[0m \u001b[0m__setitem__\u001b[0m\u001b[1;33m(\u001b[0m\u001b[0mself\u001b[0m\u001b[1;33m,\u001b[0m \u001b[0mkey\u001b[0m\u001b[1;33m,\u001b[0m \u001b[0mvalue\u001b[0m\u001b[1;33m)\u001b[0m\u001b[1;33m:\u001b[0m\u001b[1;33m\u001b[0m\u001b[0m\n",
      "\u001b[1;31mTypeError\u001b[0m: unhashable type: 'Index'"
     ]
    }
   ],
   "source": [
    "user_brands[df.iloc[1].index]"
   ]
  },
  {
   "cell_type": "markdown",
   "metadata": {},
   "source": [
    "1 - How many unique users are there?"
   ]
  },
  {
   "cell_type": "code",
   "execution_count": 85,
   "metadata": {},
   "outputs": [
    {
     "data": {
      "text/plain": [
       "3759"
      ]
     },
     "execution_count": 85,
     "metadata": {},
     "output_type": "execute_result"
    }
   ],
   "source": [
    "df.shape[0]"
   ]
  },
  {
   "cell_type": "markdown",
   "metadata": {},
   "source": [
    "2 - How many unique brands are there?"
   ]
  },
  {
   "cell_type": "code",
   "execution_count": 86,
   "metadata": {},
   "outputs": [
    {
     "data": {
      "text/plain": [
       "198"
      ]
     },
     "execution_count": 86,
     "metadata": {},
     "output_type": "execute_result"
    }
   ],
   "source": [
    "df.shape[1]"
   ]
  },
  {
   "cell_type": "markdown",
   "metadata": {},
   "source": [
    "3 - What is the distribution of the number of brands liked by users?\n",
    "\n",
    "_Hint:_ Make a list of ```likes_per_brand``` then plot a histogram! \n",
    "\n",
    "+ For example: ```plt.hist([1, 1, 1, 2, 2, 3], bins=3)```"
   ]
  },
  {
   "cell_type": "code",
   "execution_count": 10,
   "metadata": {
    "collapsed": true
   },
   "outputs": [],
   "source": [
    "likes_per_brand = []   # list of number of brand likes\n",
    "\n",
    "#plt.hist(likes_per_brand, bins=50);"
   ]
  },
  {
   "cell_type": "code",
   "execution_count": 89,
   "metadata": {},
   "outputs": [
    {
     "data": {
      "text/plain": [
       "<matplotlib.axes._subplots.AxesSubplot at 0xa8ffac8>"
      ]
     },
     "execution_count": 89,
     "metadata": {},
     "output_type": "execute_result"
    },
    {
     "data": {
      "image/png": "[encoded data removed]",
      "text/plain": [
       "<matplotlib.figure.Figure at 0xa8ffe80>"
      ]
     },
     "metadata": {},
     "output_type": "display_data"
    }
   ],
   "source": [
    "df.sum(axis=1).hist(bins=10)"
   ]
  },
  {
   "cell_type": "markdown",
   "metadata": {},
   "source": [
    "4 - What is the distribution of the number of users who like a brand?"
   ]
  },
  {
   "cell_type": "code",
   "execution_count": 11,
   "metadata": {
    "collapsed": true
   },
   "outputs": [],
   "source": [
    "likes_per_user = []   # list of number of brand likes\n",
    "\n",
    "#plt.hist(likes_per_user, bins=50);"
   ]
  },
  {
   "cell_type": "code",
   "execution_count": 90,
   "metadata": {},
   "outputs": [
    {
     "data": {
      "text/plain": [
       "<matplotlib.axes._subplots.AxesSubplot at 0xa5636d8>"
      ]
     },
     "execution_count": 90,
     "metadata": {},
     "output_type": "execute_result"
    },
    {
     "data": {
      "image/png": "[encoded data removed]",
      "text/plain": [
       "<matplotlib.figure.Figure at 0xa8ff940>"
      ]
     },
     "metadata": {},
     "output_type": "display_data"
    }
   ],
   "source": [
    "df.sum(axis=0).hist(bins=10)"
   ]
  },
  {
   "cell_type": "markdown",
   "metadata": {},
   "source": [
    "5 - How many people like **Target**?"
   ]
  },
  {
   "cell_type": "code",
   "execution_count": 91,
   "metadata": {},
   "outputs": [
    {
     "data": {
      "text/plain": [
       "1866.0"
      ]
     },
     "execution_count": 91,
     "metadata": {},
     "output_type": "execute_result"
    }
   ],
   "source": [
    "df.Target.sum()"
   ]
  },
  {
   "cell_type": "markdown",
   "metadata": {},
   "source": [
    "6 - How many people like **Banana Republic**?"
   ]
  },
  {
   "cell_type": "code",
   "execution_count": 92,
   "metadata": {},
   "outputs": [
    {
     "data": {
      "text/plain": [
       "932.0"
      ]
     },
     "execution_count": 92,
     "metadata": {},
     "output_type": "execute_result"
    }
   ],
   "source": [
    "df['Banana Republic'].sum()"
   ]
  },
  {
   "cell_type": "markdown",
   "metadata": {},
   "source": [
    "7 - What brands does **user 86184** like?"
   ]
  },
  {
   "cell_type": "code",
   "execution_count": 95,
   "metadata": {},
   "outputs": [
    {
     "data": {
      "text/plain": [
       "Target      1.0\n",
       "DKNY        1.0\n",
       "Express     1.0\n",
       "Kohl's      1.0\n",
       "Old Navy    1.0\n",
       "Guess       1.0\n",
       "Name: 86184, dtype: float64"
      ]
     },
     "execution_count": 95,
     "metadata": {},
     "output_type": "execute_result"
    }
   ],
   "source": [
    "df.loc['86184'].dropna()"
   ]
  },
  {
   "cell_type": "markdown",
   "metadata": {},
   "source": [
    "8 - What brands does **user 83126** like?"
   ]
  },
  {
   "cell_type": "code",
   "execution_count": 97,
   "metadata": {},
   "outputs": [
    {
     "data": {
      "text/plain": [
       "Container Store         1.0\n",
       "Restoration Hardware    1.0\n",
       "Serena and Lily         1.0\n",
       "CB2                     1.0\n",
       "Name: 83126, dtype: float64"
      ]
     },
     "execution_count": 97,
     "metadata": {},
     "output_type": "execute_result"
    }
   ],
   "source": [
    "df.loc['83126'].dropna()"
   ]
  },
  {
   "cell_type": "markdown",
   "metadata": {},
   "source": [
    "## Jaccard Distance Measure\n",
    "\n",
    "Given two sets of brands, e.g. user1 = {'Target', 'Starbucks', 'Gap'} and user2 = {'Starbucks', 'Old Navy'}, the Jaccard distance is:\n",
    "\n",
    "+ jaccard(u1, u2) = 1 - (# brands in common) / (# brands in total)."
   ]
  },
  {
   "cell_type": "code",
   "execution_count": 98,
   "metadata": {},
   "outputs": [],
   "source": [
    "def jaccard(set1, set2):\n",
    "    if len(set1) == 0 and len(set2) == 0:\n",
    "        return Inf\n",
    "    \n",
    "    return 0.0"
   ]
  },
  {
   "cell_type": "code",
   "execution_count": 284,
   "metadata": {},
   "outputs": [],
   "source": [
    "def jaccard(user1, user2):\n",
    "    list1 = list(df.iloc[user1].dropna().index)\n",
    "    list2 = list(df.iloc[user2].dropna().index)\n",
    "\n",
    "    total_brands = set(list1+list2)\n",
    "    common_brands = set(list1).intersection(list2)\n",
    "\n",
    "    dist = len(common_brands)/float(len(total_brands))\n",
    "    return 1-dist"
   ]
  },
  {
   "cell_type": "code",
   "execution_count": 290,
   "metadata": {},
   "outputs": [
    {
     "data": {
      "text/html": [
       "<div>\n",
       "<style scoped>\n",
       "    .dataframe tbody tr th:only-of-type {\n",
       "        vertical-align: middle;\n",
       "    }\n",
       "\n",
       "    .dataframe tbody tr th {\n",
       "        vertical-align: top;\n",
       "    }\n",
       "\n",
       "    .dataframe thead th {\n",
       "        text-align: right;\n",
       "    }\n",
       "</style>\n",
       "<table border=\"1\" class=\"dataframe\">\n",
       "  <thead>\n",
       "    <tr style=\"text-align: right;\">\n",
       "      <th></th>\n",
       "      <th>Target</th>\n",
       "      <th>Home Depot</th>\n",
       "      <th>Levi's</th>\n",
       "      <th>Puma</th>\n",
       "      <th>Cuisinart</th>\n",
       "      <th>Converse</th>\n",
       "      <th>DKNY</th>\n",
       "      <th>Express</th>\n",
       "      <th>Kohl's</th>\n",
       "      <th>Old Navy</th>\n",
       "      <th>...</th>\n",
       "      <th>Crazy 8</th>\n",
       "      <th>Zipcar</th>\n",
       "      <th>BCBG</th>\n",
       "      <th>Tory Burch</th>\n",
       "      <th>Stride Rite</th>\n",
       "      <th>Adidas</th>\n",
       "      <th>Grand</th>\n",
       "      <th>David Tutera</th>\n",
       "      <th>Tobi</th>\n",
       "      <th>Breville</th>\n",
       "    </tr>\n",
       "    <tr>\n",
       "      <th>users</th>\n",
       "      <th></th>\n",
       "      <th></th>\n",
       "      <th></th>\n",
       "      <th></th>\n",
       "      <th></th>\n",
       "      <th></th>\n",
       "      <th></th>\n",
       "      <th></th>\n",
       "      <th></th>\n",
       "      <th></th>\n",
       "      <th></th>\n",
       "      <th></th>\n",
       "      <th></th>\n",
       "      <th></th>\n",
       "      <th></th>\n",
       "      <th></th>\n",
       "      <th></th>\n",
       "      <th></th>\n",
       "      <th></th>\n",
       "      <th></th>\n",
       "      <th></th>\n",
       "    </tr>\n",
       "  </thead>\n",
       "  <tbody>\n",
       "    <tr>\n",
       "      <th>80002</th>\n",
       "      <td>1.0</td>\n",
       "      <td>1.0</td>\n",
       "      <td>NaN</td>\n",
       "      <td>NaN</td>\n",
       "      <td>NaN</td>\n",
       "      <td>NaN</td>\n",
       "      <td>NaN</td>\n",
       "      <td>NaN</td>\n",
       "      <td>NaN</td>\n",
       "      <td>NaN</td>\n",
       "      <td>...</td>\n",
       "      <td>NaN</td>\n",
       "      <td>NaN</td>\n",
       "      <td>NaN</td>\n",
       "      <td>NaN</td>\n",
       "      <td>NaN</td>\n",
       "      <td>NaN</td>\n",
       "      <td>NaN</td>\n",
       "      <td>NaN</td>\n",
       "      <td>NaN</td>\n",
       "      <td>NaN</td>\n",
       "    </tr>\n",
       "    <tr>\n",
       "      <th>80010</th>\n",
       "      <td>NaN</td>\n",
       "      <td>NaN</td>\n",
       "      <td>1.0</td>\n",
       "      <td>1.0</td>\n",
       "      <td>1.0</td>\n",
       "      <td>1.0</td>\n",
       "      <td>1.0</td>\n",
       "      <td>1.0</td>\n",
       "      <td>1.0</td>\n",
       "      <td>1.0</td>\n",
       "      <td>...</td>\n",
       "      <td>NaN</td>\n",
       "      <td>NaN</td>\n",
       "      <td>NaN</td>\n",
       "      <td>NaN</td>\n",
       "      <td>NaN</td>\n",
       "      <td>NaN</td>\n",
       "      <td>NaN</td>\n",
       "      <td>NaN</td>\n",
       "      <td>NaN</td>\n",
       "      <td>NaN</td>\n",
       "    </tr>\n",
       "    <tr>\n",
       "      <th>80011</th>\n",
       "      <td>1.0</td>\n",
       "      <td>NaN</td>\n",
       "      <td>NaN</td>\n",
       "      <td>NaN</td>\n",
       "      <td>NaN</td>\n",
       "      <td>NaN</td>\n",
       "      <td>NaN</td>\n",
       "      <td>NaN</td>\n",
       "      <td>NaN</td>\n",
       "      <td>NaN</td>\n",
       "      <td>...</td>\n",
       "      <td>NaN</td>\n",
       "      <td>NaN</td>\n",
       "      <td>NaN</td>\n",
       "      <td>NaN</td>\n",
       "      <td>NaN</td>\n",
       "      <td>NaN</td>\n",
       "      <td>NaN</td>\n",
       "      <td>NaN</td>\n",
       "      <td>NaN</td>\n",
       "      <td>NaN</td>\n",
       "    </tr>\n",
       "    <tr>\n",
       "      <th>80015</th>\n",
       "      <td>1.0</td>\n",
       "      <td>1.0</td>\n",
       "      <td>NaN</td>\n",
       "      <td>NaN</td>\n",
       "      <td>NaN</td>\n",
       "      <td>NaN</td>\n",
       "      <td>NaN</td>\n",
       "      <td>NaN</td>\n",
       "      <td>NaN</td>\n",
       "      <td>NaN</td>\n",
       "      <td>...</td>\n",
       "      <td>NaN</td>\n",
       "      <td>NaN</td>\n",
       "      <td>NaN</td>\n",
       "      <td>NaN</td>\n",
       "      <td>NaN</td>\n",
       "      <td>NaN</td>\n",
       "      <td>NaN</td>\n",
       "      <td>NaN</td>\n",
       "      <td>NaN</td>\n",
       "      <td>NaN</td>\n",
       "    </tr>\n",
       "    <tr>\n",
       "      <th>80020</th>\n",
       "      <td>NaN</td>\n",
       "      <td>NaN</td>\n",
       "      <td>NaN</td>\n",
       "      <td>NaN</td>\n",
       "      <td>NaN</td>\n",
       "      <td>NaN</td>\n",
       "      <td>NaN</td>\n",
       "      <td>NaN</td>\n",
       "      <td>NaN</td>\n",
       "      <td>NaN</td>\n",
       "      <td>...</td>\n",
       "      <td>NaN</td>\n",
       "      <td>NaN</td>\n",
       "      <td>NaN</td>\n",
       "      <td>NaN</td>\n",
       "      <td>NaN</td>\n",
       "      <td>NaN</td>\n",
       "      <td>NaN</td>\n",
       "      <td>NaN</td>\n",
       "      <td>NaN</td>\n",
       "      <td>NaN</td>\n",
       "    </tr>\n",
       "    <tr>\n",
       "      <th>80021</th>\n",
       "      <td>1.0</td>\n",
       "      <td>NaN</td>\n",
       "      <td>NaN</td>\n",
       "      <td>NaN</td>\n",
       "      <td>NaN</td>\n",
       "      <td>NaN</td>\n",
       "      <td>1.0</td>\n",
       "      <td>NaN</td>\n",
       "      <td>1.0</td>\n",
       "      <td>NaN</td>\n",
       "      <td>...</td>\n",
       "      <td>NaN</td>\n",
       "      <td>NaN</td>\n",
       "      <td>NaN</td>\n",
       "      <td>NaN</td>\n",
       "      <td>NaN</td>\n",
       "      <td>NaN</td>\n",
       "      <td>NaN</td>\n",
       "      <td>NaN</td>\n",
       "      <td>NaN</td>\n",
       "      <td>NaN</td>\n",
       "    </tr>\n",
       "  </tbody>\n",
       "</table>\n",
       "<p>6 rows × 198 columns</p>\n",
       "</div>"
      ],
      "text/plain": [
       "       Target  Home Depot  Levi's  Puma  Cuisinart  Converse  DKNY  Express  \\\n",
       "users                                                                         \n",
       "80002     1.0         1.0     NaN   NaN        NaN       NaN   NaN      NaN   \n",
       "80010     NaN         NaN     1.0   1.0        1.0       1.0   1.0      1.0   \n",
       "80011     1.0         NaN     NaN   NaN        NaN       NaN   NaN      NaN   \n",
       "80015     1.0         1.0     NaN   NaN        NaN       NaN   NaN      NaN   \n",
       "80020     NaN         NaN     NaN   NaN        NaN       NaN   NaN      NaN   \n",
       "80021     1.0         NaN     NaN   NaN        NaN       NaN   1.0      NaN   \n",
       "\n",
       "       Kohl's  Old Navy    ...     Crazy 8  Zipcar  BCBG  Tory Burch  \\\n",
       "users                      ...                                         \n",
       "80002     NaN       NaN    ...         NaN     NaN   NaN         NaN   \n",
       "80010     1.0       1.0    ...         NaN     NaN   NaN         NaN   \n",
       "80011     NaN       NaN    ...         NaN     NaN   NaN         NaN   \n",
       "80015     NaN       NaN    ...         NaN     NaN   NaN         NaN   \n",
       "80020     NaN       NaN    ...         NaN     NaN   NaN         NaN   \n",
       "80021     1.0       NaN    ...         NaN     NaN   NaN         NaN   \n",
       "\n",
       "       Stride Rite  Adidas  Grand  David Tutera  Tobi  Breville  \n",
       "users                                                            \n",
       "80002          NaN     NaN    NaN           NaN   NaN       NaN  \n",
       "80010          NaN     NaN    NaN           NaN   NaN       NaN  \n",
       "80011          NaN     NaN    NaN           NaN   NaN       NaN  \n",
       "80015          NaN     NaN    NaN           NaN   NaN       NaN  \n",
       "80020          NaN     NaN    NaN           NaN   NaN       NaN  \n",
       "80021          NaN     NaN    NaN           NaN   NaN       NaN  \n",
       "\n",
       "[6 rows x 198 columns]"
      ]
     },
     "execution_count": 290,
     "metadata": {},
     "output_type": "execute_result"
    }
   ],
   "source": [
    "df.head(6)"
   ]
  },
  {
   "cell_type": "code",
   "execution_count": 285,
   "metadata": {},
   "outputs": [
    {
     "data": {
      "text/plain": [
       "0.8888888888888888"
      ]
     },
     "execution_count": 285,
     "metadata": {},
     "output_type": "execute_result"
    }
   ],
   "source": [
    "jaccard(1,5)"
   ]
  },
  {
   "cell_type": "markdown",
   "metadata": {},
   "source": [
    "## Weighted Jaccard\n",
    "\n",
    "This metric does not fully capture our intution of distance between two users and the brands they like. For example, two users who have Target in common are less likely to be similar than users who have Autozone in common. So, let's add a weighting which emphasizes less frequent brands.\n",
    "\n",
    "+ Weight each brand by 1/(brand's total likes). This is a useful measure, since we want a large weight with only 2 likes and a much smaller weight with 100 likes.\n",
    "+ This weighting works because \"Target\" is liked by most users, so it is a less meaningful brand for similarity than \"Zipcar\"."
   ]
  },
  {
   "cell_type": "code",
   "execution_count": 15,
   "metadata": {
    "collapsed": true
   },
   "outputs": [],
   "source": [
    "# count how many times each brand appears in the entire dataset\n",
    "brand_freq = Counter()  # ???\n",
    "\n",
    "def weighted_jaccard(set1, set2):\n",
    "        return 0.0"
   ]
  },
  {
   "cell_type": "code",
   "execution_count": 16,
   "metadata": {
    "collapsed": true
   },
   "outputs": [],
   "source": [
    "# Make test sets by hand, for example using 'Target' and 'Banana Republic'.\n",
    "# Compute what the weighted jaccard score should be for your test set.\n",
    "# Does calling your function yield the same result?\n"
   ]
  },
  {
   "cell_type": "code",
   "execution_count": 286,
   "metadata": {},
   "outputs": [],
   "source": [
    "def weighted_jaccard(user1, user2):\n",
    "    list1 = list(df.iloc[user1].dropna().index)\n",
    "    list2 = list(df.iloc[user2].dropna().index)\n",
    "\n",
    "    total_brands = list(set(list1+list2))\n",
    "    common_brands = list(set(list1).intersection(list2))\n",
    "\n",
    "    w_dist = (1/df[common_brands].sum()).sum()/(1/df[total_brands].sum()).sum()\n",
    "    return 1-w_dist"
   ]
  },
  {
   "cell_type": "code",
   "execution_count": 287,
   "metadata": {},
   "outputs": [
    {
     "data": {
      "text/plain": [
       "0.9031277086669607"
      ]
     },
     "execution_count": 287,
     "metadata": {},
     "output_type": "execute_result"
    }
   ],
   "source": [
    "weighted_jaccard(1,5)"
   ]
  },
  {
   "cell_type": "markdown",
   "metadata": {},
   "source": [
    "## Recommendation Engine\n",
    "\n",
    "First, we'll define two already completed helper functions. \n",
    "\n",
    "```\n",
    "# Pretty-prints similar brands to Target\n",
    "similar_brands('Target')\n",
    "\n",
    "# Pretty-prints brands that user 86184 will like\n",
    "similar_users('86184') \n",
    "```\n",
    "\n"
   ]
  },
  {
   "cell_type": "code",
   "execution_count": 238,
   "metadata": {},
   "outputs": [],
   "source": [
    "def similar_brands(brand_name):\n",
    "    \"\"\"\n",
    "    Given a brand name **string**, returns a pretty-print string of \n",
    "        recommendations of more brands.\n",
    "    \"\"\"\n",
    "\n",
    "    # IMPORTANT: 'recommend_for_brands' expects a set of brand names.\n",
    "    #   Because 'brand_name' is a string, we convert the single name \n",
    "    #   to a set containing the brand name\n",
    "\n",
    "    recs = recommend_for_brands(set([brand_name]))\n",
    "\n",
    "    return \"For a user who likes {liked}, we recommend {recs}.\".format(\n",
    "        liked=brand_name,\n",
    "        recs=\", \".join(recs))\n",
    "\n",
    "def similar_users(user):\n",
    "    \"\"\"\n",
    "    Given a user name **string**, returns a pretty-print string \n",
    "      of recommendations for a user.\n",
    "    \"\"\"\n",
    "    recs = recommend_for_user(user)\n",
    "\n",
    "    return \"For user {user}, who likes {liked}, we recommend {recs}.\".format(\n",
    "        user=user,\n",
    "        liked=\", \".join(df.loc[str(user)].dropna().index),\n",
    "        recs=\", \".join(recs))"
   ]
  },
  {
   "cell_type": "code",
   "execution_count": 266,
   "metadata": {},
   "outputs": [
    {
     "data": {
      "text/plain": [
       "'For user 83126, who likes nothing, we recommend .'"
      ]
     },
     "execution_count": 266,
     "metadata": {},
     "output_type": "execute_result"
    }
   ],
   "source": [
    "similar_users(83126)"
   ]
  },
  {
   "cell_type": "code",
   "execution_count": 265,
   "metadata": {},
   "outputs": [],
   "source": [
    "def similar_brands(brand_name):\n",
    "    \"\"\"\n",
    "    Given a brand name **string**, returns a pretty-print string of \n",
    "        recommendations of more brands.\n",
    "    \"\"\"\n",
    "\n",
    "    # IMPORTANT: 'recommend_for_brands' expects a set of brand names.\n",
    "    #   Because 'brand_name' is a string, we convert the single name \n",
    "    #   to a set containing the brand name\n",
    "\n",
    "    recs = recommend_for_brands(set([brand_name]))\n",
    "\n",
    "    return \"For a user who likes {liked}, we recommend {recs}.\".format(\n",
    "        liked=brand_name,\n",
    "        recs=\", \".join(recs))\n",
    "\n",
    "\n",
    "def similar_users(user):\n",
    "    \"\"\"\n",
    "    Given a user name **string**, returns a pretty-print string \n",
    "      of recommendations for a user.\n",
    "    \"\"\"\n",
    "    recs = recommend_for_user(user)\n",
    "\n",
    "    return \"For user {user}, who likes {liked}, we recommend {recs}.\".format(\n",
    "        user=user,\n",
    "        liked=\", \".join(user_brands.get(user, [\"nothing\"])),\n",
    "        recs=\", \".join(recs))"
   ]
  },
  {
   "cell_type": "code",
   "execution_count": 248,
   "metadata": {},
   "outputs": [],
   "source": [
    "user_brands = {'48132': {'Target', 'H&M', 'Gap'}, '31341': {'Zipcar'}}"
   ]
  },
  {
   "cell_type": "code",
   "execution_count": 254,
   "metadata": {},
   "outputs": [
    {
     "data": {
      "text/plain": [
       "[]"
      ]
     },
     "execution_count": 254,
     "metadata": {},
     "output_type": "execute_result"
    }
   ],
   "source": [
    "recommend_for_user('48132')"
   ]
  },
  {
   "cell_type": "markdown",
   "metadata": {},
   "source": [
    "Next, we define how to recommend brands to users. Make sure you understand how it works -- we just ask for similar brands to the brands the user already likes. \n",
    "\n",
    "The below function is complete -- no additional code must be written!"
   ]
  },
  {
   "cell_type": "code",
   "execution_count": 267,
   "metadata": {},
   "outputs": [],
   "source": [
    "def recommend_for_user(user_string):\n",
    "    \"\"\"\n",
    "     Recommend items to a user that are similar \n",
    "       to the brands the user already likes\n",
    "    \"\"\"\n",
    "\n",
    "    return recommend_for_brands(user_brands.get(user_string, set()))\n",
    "\n",
    "    # NOTE: The second parameter to get() is the default\n",
    "    #   value to send if the user is not a key in 'user_brands'"
   ]
  },
  {
   "cell_type": "markdown",
   "metadata": {},
   "source": [
    "Finally, we implement recommending brands based on a list of brands. To do this, we will find the users closest to the brands set. Then, other brands that those users like will be recommended. \n",
    "\n",
    "Use the ```jaccard``` or ```jaccard_weighted``` as your distance function to rank users. Then, use your best judgement for how to collect the additional brands."
   ]
  },
  {
   "cell_type": "code",
   "execution_count": 255,
   "metadata": {},
   "outputs": [],
   "source": [
    "def recommend_for_brands(brands_set):\n",
    "    \"\"\"\n",
    "    Return top five recommended brands\n",
    "      based on the brands in 'brands_set'.\n",
    "    \"\"\"\n",
    "    \n",
    "    # The strategy is:\n",
    "    #   (1) Find the users most similar to the 'brands_set'.\n",
    "    #   (2) Get 5 brands those users also like\n",
    "    #   (3) OPTIONAL: Weight the 5 stores by most unique to least unique\n",
    "\n",
    "    return []"
   ]
  },
  {
   "cell_type": "code",
   "execution_count": 288,
   "metadata": {},
   "outputs": [
    {
     "data": {
      "text/plain": [
       "[u'Target', u'Home Depot']"
      ]
     },
     "execution_count": 288,
     "metadata": {},
     "output_type": "execute_result"
    }
   ],
   "source": [
    "list(set(df.iloc[0].dropna().index))"
   ]
  },
  {
   "cell_type": "code",
   "execution_count": 259,
   "metadata": {},
   "outputs": [
    {
     "data": {
      "text/plain": [
       "0.3815052814435109"
      ]
     },
     "execution_count": 259,
     "metadata": {},
     "output_type": "execute_result"
    }
   ],
   "source": [
    "weighted_jaccard(0,3)\n",
    "# list(set(df.iloc[0].dropna().index))"
   ]
  },
  {
   "cell_type": "markdown",
   "metadata": {},
   "source": [
    "## Testing"
   ]
  },
  {
   "cell_type": "code",
   "execution_count": 198,
   "metadata": {},
   "outputs": [
    {
     "name": "stdout",
     "output_type": "stream",
     "text": [
      "\n",
      "For a user who likes Target, we recommend .\n",
      "\n",
      "For a user who likes Banana Republic, we recommend .\n",
      "\n",
      "For user 86184, who likes T, a, r, g, e, t, we recommend .\n",
      "\n",
      "For user 83126, who likes S, e, r, e, n, a,  , a, n, d,  , L, i, l, y, we recommend .\n",
      "\n"
     ]
    }
   ],
   "source": [
    "# For testing, recommend brands similar to Target and Banana Republic\n",
    "print(\"\\n\" + similar_brands(\"Target\") + \"\\n\")\n",
    "print(similar_brands(\"Banana Republic\") + \"\\n\")\n",
    "\n",
    "# For testing, recommend brands for users 86184 and 83126\n",
    "#    NOTE: This is based on the brands each user likes\n",
    "print(similar_users(\"86184\") + \"\\n\")\n",
    "print(similar_users(\"83126\") + \"\\n\")"
   ]
  },
  {
   "cell_type": "markdown",
   "metadata": {},
   "source": [
    "## Recap\n",
    "\n",
    "You just implemented User-Item collaborative filtering, making recommendations as follows:\n",
    "+ **Step One:** Find users similar to the target user.\n",
    "+ **Step Two:** Recommend things that similar users like."
   ]
  },
  {
   "cell_type": "markdown",
   "metadata": {},
   "source": [
    "## Challenge: Item-Item Collaborative Filtering\n",
    "\n",
    "Now, let's try making an Item-Item recommendation system, as follows. Given a user, we will again recommend other brands the user may like. Instead of looking at other similar users, however, this time we will look at similar items to what the user likes:\n",
    "\n",
    "+ **Step One:** Determine similarity of brands to one another. \n",
    "    - Of all users who like brand X, what other brands do they most like?\n",
    "\n",
    "\n",
    "+ **Step Two:** Given a target user, recommend similar brands to the brands the user likes.\n",
    "\n",
    "Note there may be many valid ways of implementing both steps!"
   ]
  },
  {
   "cell_type": "code",
   "execution_count": 3,
   "metadata": {
    "collapsed": true
   },
   "outputs": [],
   "source": [
    "# Often, this is computed overnight for all brands and \n",
    "#     stored for making quick recommendations\n",
    "\n",
    "# For a given brand, returns the most similar other brands\n",
    "def get_most_similar_brands(brand, max_n=10):\n",
    "    most_similar_brand_names = []\n",
    "    \n",
    "    # 1. Of the users who like this brand, \n",
    "    #     count how many times they like other brands.\n",
    "    \n",
    "    \n",
    "    # 2. Weight the brands to eliminate common ones such as Target.\n",
    "    \n",
    "    \n",
    "    # 3. Sort the brands by largest score and return only the names\n",
    "    \n",
    "    return most_similar_brand_names[:max_n]"
   ]
  },
  {
   "cell_type": "code",
   "execution_count": null,
   "metadata": {
    "collapsed": true
   },
   "outputs": [],
   "source": [
    "import random\n",
    "\n",
    "def get_user_recommendations(user, max_n=10):\n",
    "    final_brand_names = []\n",
    "    \n",
    "    # 1. Given the brands the user likes, return the similar brands!\n",
    "    \n",
    "    return random.sample(final_brand_names, max_n)"
   ]
  }
 ],
 "metadata": {
  "kernelspec": {
   "display_name": "Python 2",
   "language": "python",
   "name": "python2"
  },
  "language_info": {
   "codemirror_mode": {
    "name": "ipython",
    "version": 2
   },
   "file_extension": ".py",
   "mimetype": "text/x-python",
   "name": "python",
   "nbconvert_exporter": "python",
   "pygments_lexer": "ipython2",
   "version": "2.7.14"
  },
  "toc": {
   "base_numbering": 1,
   "nav_menu": {},
   "number_sections": true,
   "sideBar": true,
   "skip_h1_title": false,
   "title_cell": "Table of Contents",
   "title_sidebar": "Contents",
   "toc_cell": false,
   "toc_position": {},
   "toc_section_display": true,
   "toc_window_display": false
  }
 },
 "nbformat": 4,
 "nbformat_minor": 1
}
